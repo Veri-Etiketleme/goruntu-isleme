{
 "cells": [
  {
   "cell_type": "markdown",
   "metadata": {
    "toc": true
   },
   "source": [
    "<h1>Table of Contents<span class=\"tocSkip\"></span></h1>\n",
    "<div class=\"toc\"><ul class=\"toc-item\"><li><span><a href=\"#JupyterNB-Preparation\" data-toc-modified-id=\"JupyterNB-Preparation-1\"><span class=\"toc-item-num\">1&nbsp;&nbsp;</span>JupyterNB Preparation</a></span></li><li><span><a href=\"#Oanda-API-setup\" data-toc-modified-id=\"Oanda-API-setup-2\"><span class=\"toc-item-num\">2&nbsp;&nbsp;</span>Oanda API setup</a></span></li><li><span><a href=\"#Input-for-download-data-from-Oanda-API\" data-toc-modified-id=\"Input-for-download-data-from-Oanda-API-3\"><span class=\"toc-item-num\">3&nbsp;&nbsp;</span>Input for download data from Oanda API</a></span></li><li><span><a href=\"#Download-data-from-Oanda\" data-toc-modified-id=\"Download-data-from-Oanda-4\"><span class=\"toc-item-num\">4&nbsp;&nbsp;</span>Download data from Oanda</a></span></li><li><span><a href=\"#Write-data-to-disk-in-HDF5\" data-toc-modified-id=\"Write-data-to-disk-in-HDF5-5\"><span class=\"toc-item-num\">5&nbsp;&nbsp;</span>Write data to disk in HDF5</a></span></li><li><span><a href=\"#Create-a-middle-for-each-candle\" data-toc-modified-id=\"Create-a-middle-for-each-candle-6\"><span class=\"toc-item-num\">6&nbsp;&nbsp;</span>Create a middle for each candle</a></span></li><li><span><a href=\"#Import-data-in-DataFrame-and-drop-irrelevant-columns\" data-toc-modified-id=\"Import-data-in-DataFrame-and-drop-irrelevant-columns-7\"><span class=\"toc-item-num\">7&nbsp;&nbsp;</span>Import data in DataFrame and drop irrelevant columns</a></span></li><li><span><a href=\"#Extract-the-date_time-features-in-separate-columns\" data-toc-modified-id=\"Extract-the-date_time-features-in-separate-columns-8\"><span class=\"toc-item-num\">8&nbsp;&nbsp;</span>Extract the date_time features in separate columns</a></span></li><li><span><a href=\"#Remove-columns-we-don't-need\" data-toc-modified-id=\"Remove-columns-we-don't-need-9\"><span class=\"toc-item-num\">9&nbsp;&nbsp;</span>Remove columns we don't need</a></span></li><li><span><a href=\"#Add-indicators-columns\" data-toc-modified-id=\"Add-indicators-columns-10\"><span class=\"toc-item-num\">10&nbsp;&nbsp;</span>Add indicators columns</a></span></li><li><span><a href=\"#Remove-the-first-records-for-which-we-don't-have-indicators\" data-toc-modified-id=\"Remove-the-first-records-for-which-we-don't-have-indicators-11\"><span class=\"toc-item-num\">11&nbsp;&nbsp;</span>Remove the first records for which we don't have indicators</a></span></li><li><span><a href=\"#Plot-data-at-set-interval-and-export-as-.png-in-the-relevant-folders\" data-toc-modified-id=\"Plot-data-at-set-interval-and-export-as-.png-in-the-relevant-folders-12\"><span class=\"toc-item-num\">12&nbsp;&nbsp;</span>Plot data at set interval and export as .png in the relevant folders</a></span></li><li><span><a href=\"#OPTIONAL---Move/copy-files-from-train-folder-to-valid-and-sample-folders\" data-toc-modified-id=\"OPTIONAL---Move/copy-files-from-train-folder-to-valid-and-sample-folders-13\"><span class=\"toc-item-num\">13&nbsp;&nbsp;</span>OPTIONAL - Move/copy files from train folder to valid and sample folders</a></span></li><li><span><a href=\"#Testing-cells\" data-toc-modified-id=\"Testing-cells-14\"><span class=\"toc-item-num\">14&nbsp;&nbsp;</span>Testing cells</a></span></li></ul></div>"
   ]
  },
  {
   "cell_type": "markdown",
   "metadata": {
    "heading_collapsed": true
   },
   "source": [
    "## JupyterNB Preparation"
   ]
  },
  {
   "cell_type": "code",
   "execution_count": null,
   "metadata": {
    "ExecuteTime": {
     "end_time": "2018-03-28T16:44:23.236396Z",
     "start_time": "2018-03-28T16:44:23.195656Z"
    },
    "collapsed": true,
    "hidden": true
   },
   "outputs": [],
   "source": [
    "import numpy as np\n",
    "import pandas as pd\n",
    "import oandapy as opy\n",
    "import csv\n",
    "import matplotlib.pyplot as plt\n",
    "\n",
    "from fastai.imports import *\n",
    "from fastai.transforms import *\n",
    "from fastai.conv_learner import *\n",
    "from fastai.model import *\n",
    "from fastai.dataset import *\n",
    "from fastai.sgdr import *\n",
    "from fastai.plots import *\n",
    "\n",
    "# JupyterNB dark theme plotting made visible\n",
    "plt.style.use(['dark_background'])\n",
    "\n",
    "%reload_ext autoreload\n",
    "%autoreload 2\n",
    "%matplotlib inline"
   ]
  },
  {
   "cell_type": "markdown",
   "metadata": {
    "heading_collapsed": true
   },
   "source": [
    "## Oanda API setup"
   ]
  },
  {
   "cell_type": "code",
   "execution_count": null,
   "metadata": {
    "ExecuteTime": {
     "end_time": "2018-03-28T16:44:25.308327Z",
     "start_time": "2018-03-28T16:44:25.279813Z"
    },
    "collapsed": true,
    "hidden": true
   },
   "outputs": [],
   "source": [
    "accountid=\"insert_your_id_here\"\n",
    "token=\"insert_your_token_here\"\n",
    "env=\"practice\"\n",
    "oanda = opy.API(environment=env, access_token=token)"
   ]
  },
  {
   "cell_type": "markdown",
   "metadata": {
    "heading_collapsed": true
   },
   "source": [
    "## Input for download data from Oanda API"
   ]
  },
  {
   "cell_type": "code",
   "execution_count": null,
   "metadata": {
    "ExecuteTime": {
     "end_time": "2018-03-28T16:44:27.136438Z",
     "start_time": "2018-03-28T16:44:27.109019Z"
    },
    "collapsed": true,
    "hidden": true
   },
   "outputs": [],
   "source": [
    "d1 = '2018-01-09'\n",
    "d2 = '2018-02-28'\n",
    "gr = 'M1'\n",
    "instrument = 'GBP_USD'"
   ]
  },
  {
   "cell_type": "markdown",
   "metadata": {
    "heading_collapsed": true
   },
   "source": [
    "## Download data from Oanda"
   ]
  },
  {
   "cell_type": "code",
   "execution_count": null,
   "metadata": {
    "ExecuteTime": {
     "end_time": "2018-03-28T12:26:19.714354Z",
     "start_time": "2018-03-28T11:49:02.235214Z"
    },
    "collapsed": true,
    "hidden": true
   },
   "outputs": [],
   "source": [
    "# Download data in chunks\n",
    "dates = pd.date_range(start=d1, end=d2, freq='B')\n",
    "df = pd.DataFrame()\n",
    " \n",
    "for i in range(0, len(dates) -1):\n",
    "    d1 = str(dates[i]).replace(' ', 'T')\n",
    "    d2 = str(dates[i+1]).replace(' ', 'T')\n",
    "    try:\n",
    "        data = oanda.get_history(instrument=instrument, start=d1, end=d2, granularity=gr)\n",
    "        df = df.append(pd.DataFrame(data['candles']))\n",
    "    except:\n",
    "        pass\n",
    " \n",
    "index = pd.DatetimeIndex(df['time'], tz='UTC')\n",
    "df.index = index\n",
    "df = df.drop(['time', 'complete'], axis=1)"
   ]
  },
  {
   "cell_type": "code",
   "execution_count": null,
   "metadata": {
    "ExecuteTime": {
     "end_time": "2018-03-28T12:27:26.154241Z",
     "start_time": "2018-03-28T12:27:26.106308Z"
    },
    "collapsed": true,
    "hidden": true
   },
   "outputs": [],
   "source": [
    "d1 = '2018-01-09'\n",
    "d2 = '2018-02-28'"
   ]
  },
  {
   "cell_type": "markdown",
   "metadata": {
    "heading_collapsed": true
   },
   "source": [
    "## Write data to disk in HDF5"
   ]
  },
  {
   "cell_type": "code",
   "execution_count": null,
   "metadata": {
    "ExecuteTime": {
     "end_time": "2018-03-28T12:26:20.439347Z",
     "start_time": "2018-03-28T12:26:20.028883Z"
    },
    "collapsed": true,
    "hidden": true
   },
   "outputs": [],
   "source": [
    "PATH = \"/home/alex/DL/AlgoTrading/\"\n",
    "os.chdir(PATH)\n",
    "h5s = pd.HDFStore(instrument + '_' + gr + '_' + d1[:10] + '_' + d2[:10] + '.h5s', 'w', format='table')\n",
    "h5s['data'] = df\n",
    "h5s.close()"
   ]
  },
  {
   "cell_type": "markdown",
   "metadata": {
    "heading_collapsed": true
   },
   "source": [
    "## Create a middle for each candle"
   ]
  },
  {
   "cell_type": "code",
   "execution_count": null,
   "metadata": {
    "ExecuteTime": {
     "end_time": "2018-03-28T12:27:18.189719Z",
     "start_time": "2018-03-28T12:27:18.096109Z"
    },
    "collapsed": true,
    "hidden": true
   },
   "outputs": [],
   "source": [
    "df['openMid'] = (df['openAsk'] + df['openBid'])/2\n",
    "df['closeMid'] = (df['closeAsk'] + df['closeBid'])/2"
   ]
  },
  {
   "cell_type": "markdown",
   "metadata": {},
   "source": [
    "## Import data in DataFrame and drop irrelevant columns"
   ]
  },
  {
   "cell_type": "code",
   "execution_count": null,
   "metadata": {
    "ExecuteTime": {
     "end_time": "2018-03-28T16:44:32.939645Z",
     "start_time": "2018-03-28T16:44:32.503666Z"
    },
    "collapsed": true
   },
   "outputs": [],
   "source": [
    "from copy import deepcopy\n",
    "\n",
    "PATH = \"/home/alex/DL/AlgoTrading/\"\n",
    "os.chdir(PATH)\n",
    "\n",
    "h5s = pd.HDFStore(instrument + '_' + gr + '_' + d1[:10] + '_' + d2[:10] + '.h5s', 'r')\n",
    "df = h5s['data']\n",
    "h5s.close()\n",
    "df['closeMid'] = (df['closeBid']+df['closeAsk'])/2\n",
    "data = df[['closeBid', 'closeAsk', 'closeMid']]\n"
   ]
  },
  {
   "cell_type": "code",
   "execution_count": null,
   "metadata": {
    "ExecuteTime": {
     "end_time": "2018-03-28T16:44:33.214108Z",
     "start_time": "2018-03-28T16:44:33.188427Z"
    }
   },
   "outputs": [],
   "source": [
    "# Size of DataFrame\n",
    "data.shape"
   ]
  },
  {
   "cell_type": "code",
   "execution_count": null,
   "metadata": {
    "ExecuteTime": {
     "end_time": "2018-03-28T16:44:33.972970Z",
     "start_time": "2018-03-28T16:44:33.864406Z"
    }
   },
   "outputs": [],
   "source": [
    "# Display all the data\n",
    "def display_all(df):\n",
    "    with pd.option_context(\"display.max_rows\", 1000, \"display.max_columns\", 1000): \n",
    "        display(df)\n",
    "display_all(data)"
   ]
  },
  {
   "cell_type": "markdown",
   "metadata": {},
   "source": [
    "## Extract the date_time features in separate columns"
   ]
  },
  {
   "cell_type": "code",
   "execution_count": null,
   "metadata": {
    "ExecuteTime": {
     "end_time": "2018-03-28T16:44:54.022635Z",
     "start_time": "2018-03-28T16:44:34.803422Z"
    }
   },
   "outputs": [],
   "source": [
    "data['date'] = data.index.astype(str).str[:10]\n",
    "data['hour'] = data.index.astype(str).str[-14:]\n",
    "data['hour'] = data['hour'].astype(str).str[:8]"
   ]
  },
  {
   "cell_type": "markdown",
   "metadata": {},
   "source": [
    "## Remove columns we don't need"
   ]
  },
  {
   "cell_type": "code",
   "execution_count": null,
   "metadata": {
    "ExecuteTime": {
     "end_time": "2018-03-28T16:44:54.455710Z",
     "start_time": "2018-03-28T16:44:54.101480Z"
    }
   },
   "outputs": [],
   "source": [
    "data.drop(['closeBid','closeAsk','date'], axis=1, inplace=True)"
   ]
  },
  {
   "cell_type": "markdown",
   "metadata": {},
   "source": [
    "## Add indicators columns"
   ]
  },
  {
   "cell_type": "code",
   "execution_count": null,
   "metadata": {
    "ExecuteTime": {
     "end_time": "2018-03-28T16:44:54.664696Z",
     "start_time": "2018-03-28T16:44:54.529332Z"
    },
    "collapsed": true
   },
   "outputs": [],
   "source": [
    "# MA50\n",
    "ma = 50\n",
    "data = data.reindex(columns = np.append(data.columns, ['MA50']))\n",
    "data['MA50'] = data[['closeMid']].rolling(ma).mean()"
   ]
  },
  {
   "cell_type": "code",
   "execution_count": null,
   "metadata": {
    "ExecuteTime": {
     "end_time": "2018-03-28T16:44:55.124696Z",
     "start_time": "2018-03-28T16:44:54.740424Z"
    },
    "collapsed": true
   },
   "outputs": [],
   "source": [
    "# Bollinger Bands\n",
    "maB = 20\n",
    "data['BB_20 ma'] = data[['closeMid']].rolling(maB).mean()\n",
    "data['BB_20 sd'] = data[['closeMid']].rolling(maB).std()\n",
    "data['BB_Upper Band'] = data['BB_20 ma'] + (data['BB_20 sd']*2)\n",
    "data['BB_Lower Band'] = data['BB_20 ma'] - (data['BB_20 sd']*2)\n",
    "data.drop(['BB_20 sd'], axis=1, inplace=True)"
   ]
  },
  {
   "cell_type": "markdown",
   "metadata": {},
   "source": [
    "## Remove the first records for which we don't have indicators"
   ]
  },
  {
   "cell_type": "code",
   "execution_count": null,
   "metadata": {
    "ExecuteTime": {
     "end_time": "2018-03-28T16:44:55.587974Z",
     "start_time": "2018-03-28T16:44:55.203592Z"
    },
    "collapsed": true
   },
   "outputs": [],
   "source": [
    "# Remove the first records which don't have MA calculation\n",
    "data.drop(data.index[:ma], inplace=True)"
   ]
  },
  {
   "cell_type": "markdown",
   "metadata": {},
   "source": [
    "## Plot data at set interval and export as .png in the relevant folders"
   ]
  },
  {
   "cell_type": "code",
   "execution_count": null,
   "metadata": {
    "ExecuteTime": {
     "end_time": "2018-03-28T17:15:34.801049Z",
     "start_time": "2018-03-28T16:44:55.764467Z"
    }
   },
   "outputs": [],
   "source": [
    "from ipywidgets import FloatProgress\n",
    "from IPython.display import display\n",
    "\n",
    "# Initialize the size of the ViewPort\n",
    "size_ViewPort = 60\n",
    "start_ViewPort = 0\n",
    "end_ViewPort = size_ViewPort\n",
    "\n",
    "# Progress bar\n",
    "f = FloatProgress(min=0, max=(len(data.index)/end_ViewPort))\n",
    "f.description = 'Progress'\n",
    "display(f)\n",
    "# go through the DataFrame and create ViewPorts of 30 records\n",
    "pic_counter = 0\n",
    "while end_ViewPort <= len(data.index):\n",
    "    if (round(data.iloc[end_ViewPort]['closeMid'], 4) - round(data.iloc[end_ViewPort+1]['closeMid'], 4)) > 0:\n",
    "        data.iloc[start_ViewPort:end_ViewPort].plot(\n",
    "            kind='line', grid=False, legend=False, figsize=(3, 3)).axis('off')\n",
    "        PATH = \"/home/alex/DL/AlgoTrading/data/ViewPorts/train/buy\"\n",
    "        os.chdir(PATH)\n",
    "        plt.savefig('buy.' + str(pic_counter) + '.png', dpi=100)\n",
    "        plt.close()\n",
    "        pic_counter += 1\n",
    "        start_ViewPort = end_ViewPort\n",
    "        end_ViewPort += size_ViewPort\n",
    "    elif (round(data.iloc[end_ViewPort]['closeMid'], 4) - round(data.iloc[end_ViewPort+1]['closeMid'], 4)) == 0:\n",
    "        data.iloc[start_ViewPort:end_ViewPort].plot(\n",
    "            kind='line', grid=False, legend=False, figsize=(3, 3)).axis('off')\n",
    "        PATH = \"/home/alex/DL/AlgoTrading/data/ViewPorts/train/hold\"\n",
    "        os.chdir(PATH)\n",
    "        plt.savefig('hold.' + str(pic_counter) + '.png', dpi=100)\n",
    "        plt.close()\n",
    "        pic_counter += 1\n",
    "        start_ViewPort = end_ViewPort\n",
    "        end_ViewPort += size_ViewPort\n",
    "    else:\n",
    "        data.iloc[start_ViewPort:end_ViewPort].plot(\n",
    "            kind='line', grid=False, legend=False, figsize=(3, 3)).axis('off')\n",
    "        PATH = \"/home/alex/DL/AlgoTrading/data/ViewPorts/train/sell\"\n",
    "        os.chdir(PATH)\n",
    "        plt.savefig('sell.' + str(pic_counter) + '.png', dpi=100)\n",
    "        plt.close()\n",
    "        pic_counter += 1\n",
    "        start_ViewPort = end_ViewPort\n",
    "        end_ViewPort += size_ViewPort\n",
    "    f.value += 1\n",
    "f.bar_style = 'success'"
   ]
  },
  {
   "cell_type": "code",
   "execution_count": null,
   "metadata": {
    "ExecuteTime": {
     "end_time": "2018-03-28T17:15:35.101947Z",
     "start_time": "2018-03-28T17:15:35.032610Z"
    }
   },
   "outputs": [],
   "source": [
    "# Clean up the folder of .ipynb_checkpoints to be able to run the fastai model\n",
    "\n",
    "PATH = \"/home/alex/DL/AlgoTrading/data/ViewPorts/train/buy\"\n",
    "os.chdir(PATH)\n",
    "!rm -rf .ipynb_checkpoints\n",
    "PATH = \"/home/alex/DL/AlgoTrading/data/ViewPorts/train/sell\"\n",
    "os.chdir(PATH)\n",
    "!rm -rf .ipynb_checkpoints\n",
    "PATH = \"/home/alex/DL/AlgoTrading/data/ViewPorts/train/hold\"\n",
    "os.chdir(PATH)\n",
    "!rm -rf .ipynb_checkpoints"
   ]
  }
 ],
 "metadata": {
  "kernelspec": {
   "display_name": "algot",
   "language": "python",
   "name": "algot"
  },
  "language_info": {
   "codemirror_mode": {
    "name": "ipython",
    "version": 3
   },
   "file_extension": ".py",
   "mimetype": "text/x-python",
   "name": "python",
   "nbconvert_exporter": "python",
   "pygments_lexer": "ipython3",
   "version": "3.6.4"
  },
  "notify_time": "10",
  "toc": {
   "nav_menu": {},
   "number_sections": true,
   "sideBar": true,
   "skip_h1_title": false,
   "title_cell": "Table of Contents",
   "title_sidebar": "Contents",
   "toc_cell": true,
   "toc_position": {},
   "toc_section_display": true,
   "toc_window_display": false
  },
  "varInspector": {
   "cols": {
    "lenName": 16,
    "lenType": 16,
    "lenVar": 40
   },
   "kernels_config": {
    "python": {
     "delete_cmd_postfix": "",
     "delete_cmd_prefix": "del ",
     "library": "var_list.py",
     "varRefreshCmd": "print(var_dic_list())"
    },
    "r": {
     "delete_cmd_postfix": ") ",
     "delete_cmd_prefix": "rm(",
     "library": "var_list.r",
     "varRefreshCmd": "cat(var_dic_list()) "
    }
   },
   "position": {
    "height": "656px",
    "left": "540px",
    "right": "20px",
    "top": "177px",
    "width": "488px"
   },
   "types_to_exclude": [
    "module",
    "function",
    "builtin_function_or_method",
    "instance",
    "_Feature"
   ],
   "window_display": false
  }
 },
 "nbformat": 4,
 "nbformat_minor": 2
}
