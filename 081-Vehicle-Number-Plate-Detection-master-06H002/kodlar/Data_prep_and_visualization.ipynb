{
  "cells": [
    {
      "cell_type": "code",
      "execution_count": null,
      "metadata": {
        "colab": {},
        "colab_type": "code",
        "id": "odNA4QeNLIZ1"
      },
      "outputs": [],
      "source": [
        "!unzip Data-Images.zip"
      ]
    },
    {
      "cell_type": "markdown",
      "metadata": {
        "colab_type": "text",
        "id": "cL3rXkEu8-cJ"
      },
      "source": [
        "# Imports"
      ]
    },
    {
      "cell_type": "code",
      "execution_count": null,
      "metadata": {
        "colab": {},
        "colab_type": "code",
        "id": "WYuZjnLS8-cK"
      },
      "outputs": [],
      "source": [
        "import requests\n",
        "import random\n",
        "import numpy as np # linear algebra\n",
        "import pandas as pd # data processing, CSV file I/O (e.g. pd.read_csv)\n",
        "from PIL import Image\n",
        "import matplotlib.pyplot as plt\n",
        "import urllib\n",
        "import cv2\n",
        "\n",
        "import json"
      ]
    },
    {
      "cell_type": "markdown",
      "metadata": {
        "colab_type": "text",
        "id": "MjQXdGWn8-cN"
      },
      "source": [
        "# Load the `.json` file containing the download paths of the images"
      ]
    },
    {
      "cell_type": "code",
      "execution_count": null,
      "metadata": {
        "colab": {
          "base_uri": "https://localhost:8080/",
          "height": 425
        },
        "colab_type": "code",
        "id": "1KaenEw48-cO",
        "outputId": "41590736-456e-4627-967b-708629a140ea"
      },
      "outputs": [
        {
          "data": {
            "text/html": [
              "<div>\n",
              "<style scoped>\n",
              "    .dataframe tbody tr th:only-of-type {\n",
              "        vertical-align: middle;\n",
              "    }\n",
              "\n",
              "    .dataframe tbody tr th {\n",
              "        vertical-align: top;\n",
              "    }\n",
              "\n",
              "    .dataframe thead th {\n",
              "        text-align: right;\n",
              "    }\n",
              "</style>\n",
              "<table border=\"1\" class=\"dataframe\">\n",
              "  <thead>\n",
              "    <tr style=\"text-align: right;\">\n",
              "      <th></th>\n",
              "      <th>annotation</th>\n",
              "      <th>content</th>\n",
              "    </tr>\n",
              "  </thead>\n",
              "  <tbody>\n",
              "    <tr>\n",
              "      <th>0</th>\n",
              "      <td>[{'label': ['number_plate'], 'notes': '', 'points': [{'x': 0.722084367245657, 'y': 0.5879828326180251}, {'x': 0.8684863523573201, 'y': 0.688841201716738}], 'imageWidth': 806, 'imageHeight': 466}]</td>\n",
              "      <td>http://com.dataturks.a96-i23.open.s3.amazonaws.com/2c9fafb0646e9cf9016473f1a561002a/77d1f81a-bee6-487c-aff2-0efa31a9925c____bd7f7862-d727-11e7-ad30-e18a56154311.jpg.jpeg</td>\n",
              "    </tr>\n",
              "    <tr>\n",
              "      <th>1</th>\n",
              "      <td>[{'label': ['number_plate'], 'notes': '', 'points': [{'x': 0.16194331983805602, 'y': 0.850779510022271}, {'x': 0.582995951417004, 'y': 1}], 'imageWidth': 494, 'imageHeight': 449}]</td>\n",
              "      <td>http://com.dataturks.a96-i23.open.s3.amazonaws.com/2c9fafb0646e9cf9016473f1a561002a/4eb236a3-6547-4103-b46f-3756d21128a9___06-Sanjay-Dutt.jpg.jpeg</td>\n",
              "    </tr>\n",
              "    <tr>\n",
              "      <th>2</th>\n",
              "      <td>[{'label': ['number_plate'], 'notes': '', 'points': [{'x': 0.082, 'y': 0.697452229299363}, {'x': 0.23, 'y': 0.8280254777070061}], 'imageWidth': 500, 'imageHeight': 314}]</td>\n",
              "      <td>http://com.dataturks.a96-i23.open.s3.amazonaws.com/2c9fafb0646e9cf9016473f1a561002a/84969111-2ec3-4914-b3bb-da5aaac701e7___1.jpg.jpeg</td>\n",
              "    </tr>\n",
              "    <tr>\n",
              "      <th>3</th>\n",
              "      <td>[{'label': ['number_plate'], 'notes': '', 'points': [{'x': 0.434, 'y': 0.667377398720682}, {'x': 0.718, 'y': 0.7654584221748401}], 'imageWidth': 500, 'imageHeight': 469}]</td>\n",
              "      <td>http://com.dataturks.a96-i23.open.s3.amazonaws.com/2c9fafb0646e9cf9016473f1a561002a/52b45060-9645-47c7-882d-b69a5bf07eff___1006372d1351343820-my-new-maruti-swift-zxi-21102012241.jpg.jpeg</td>\n",
              "    </tr>\n",
              "    <tr>\n",
              "      <th>4</th>\n",
              "      <td>[{'label': ['number_plate'], 'notes': '', 'points': [{'x': 0.20879120879120802, 'y': 0.39076376554174}, {'x': 0.865134865134865, 'y': 0.9840142095914741}], 'imageWidth': 1001, 'imageHeight': 563}]</td>\n",
              "      <td>http://com.dataturks.a96-i23.open.s3.amazonaws.com/2c9fafb0646e9cf9016473f1a561002a/5d08ee4a-d8e7-4fda-8959-21f263f62c25___100923d1368191518-custom-number-plates-embossedplates1.jpg.jpeg</td>\n",
              "    </tr>\n",
              "  </tbody>\n",
              "</table>\n",
              "</div>"
            ],
            "text/plain": [
              "                                                                                                                                                                                             annotation                                                                                                                                                                                     content\n",
              "0  [{'label': ['number_plate'], 'notes': '', 'points': [{'x': 0.722084367245657, 'y': 0.5879828326180251}, {'x': 0.8684863523573201, 'y': 0.688841201716738}], 'imageWidth': 806, 'imageHeight': 466}]   http://com.dataturks.a96-i23.open.s3.amazonaws.com/2c9fafb0646e9cf9016473f1a561002a/77d1f81a-bee6-487c-aff2-0efa31a9925c____bd7f7862-d727-11e7-ad30-e18a56154311.jpg.jpeg                 \n",
              "1  [{'label': ['number_plate'], 'notes': '', 'points': [{'x': 0.16194331983805602, 'y': 0.850779510022271}, {'x': 0.582995951417004, 'y': 1}], 'imageWidth': 494, 'imageHeight': 449}]                   http://com.dataturks.a96-i23.open.s3.amazonaws.com/2c9fafb0646e9cf9016473f1a561002a/4eb236a3-6547-4103-b46f-3756d21128a9___06-Sanjay-Dutt.jpg.jpeg                                        \n",
              "2  [{'label': ['number_plate'], 'notes': '', 'points': [{'x': 0.082, 'y': 0.697452229299363}, {'x': 0.23, 'y': 0.8280254777070061}], 'imageWidth': 500, 'imageHeight': 314}]                             http://com.dataturks.a96-i23.open.s3.amazonaws.com/2c9fafb0646e9cf9016473f1a561002a/84969111-2ec3-4914-b3bb-da5aaac701e7___1.jpg.jpeg                                                     \n",
              "3  [{'label': ['number_plate'], 'notes': '', 'points': [{'x': 0.434, 'y': 0.667377398720682}, {'x': 0.718, 'y': 0.7654584221748401}], 'imageWidth': 500, 'imageHeight': 469}]                            http://com.dataturks.a96-i23.open.s3.amazonaws.com/2c9fafb0646e9cf9016473f1a561002a/52b45060-9645-47c7-882d-b69a5bf07eff___1006372d1351343820-my-new-maruti-swift-zxi-21102012241.jpg.jpeg\n",
              "4  [{'label': ['number_plate'], 'notes': '', 'points': [{'x': 0.20879120879120802, 'y': 0.39076376554174}, {'x': 0.865134865134865, 'y': 0.9840142095914741}], 'imageWidth': 1001, 'imageHeight': 563}]  http://com.dataturks.a96-i23.open.s3.amazonaws.com/2c9fafb0646e9cf9016473f1a561002a/5d08ee4a-d8e7-4fda-8959-21f263f62c25___100923d1368191518-custom-number-plates-embossedplates1.jpg.jpeg"
            ]
          },
          "execution_count": 2,
          "metadata": {
            "tags": []
          },
          "output_type": "execute_result"
        }
      ],
      "source": [
        "# read the data\n",
        "data = pd.read_json('Indian_Number_plates.json',lines=True)\n",
        "pd.set_option('display.max_colwidth', -1)\n",
        "# delete the extras column\n",
        "del data['extras']\n",
        "# check the data dataframe\n",
        "data.head()"
      ]
    },
    {
      "cell_type": "code",
      "execution_count": null,
      "metadata": {
        "colab": {
          "base_uri": "https://localhost:8080/",
          "height": 425
        },
        "colab_type": "code",
        "id": "YmpU7vqX8-cS",
        "outputId": "53d12ab7-41a6-4014-c934-340c65b2c604"
      },
      "outputs": [
        {
          "data": {
            "text/html": [
              "<div>\n",
              "<style scoped>\n",
              "    .dataframe tbody tr th:only-of-type {\n",
              "        vertical-align: middle;\n",
              "    }\n",
              "\n",
              "    .dataframe tbody tr th {\n",
              "        vertical-align: top;\n",
              "    }\n",
              "\n",
              "    .dataframe thead th {\n",
              "        text-align: right;\n",
              "    }\n",
              "</style>\n",
              "<table border=\"1\" class=\"dataframe\">\n",
              "  <thead>\n",
              "    <tr style=\"text-align: right;\">\n",
              "      <th></th>\n",
              "      <th>content</th>\n",
              "      <th>points</th>\n",
              "      <th>height</th>\n",
              "      <th>width</th>\n",
              "    </tr>\n",
              "  </thead>\n",
              "  <tbody>\n",
              "    <tr>\n",
              "      <th>0</th>\n",
              "      <td>http://com.dataturks.a96-i23.open.s3.amazonaws.com/2c9fafb0646e9cf9016473f1a561002a/77d1f81a-bee6-487c-aff2-0efa31a9925c____bd7f7862-d727-11e7-ad30-e18a56154311.jpg.jpeg</td>\n",
              "      <td>[{'x': 0.722084367245657, 'y': 0.5879828326180251}, {'x': 0.8684863523573201, 'y': 0.688841201716738}]</td>\n",
              "      <td>466</td>\n",
              "      <td>806</td>\n",
              "    </tr>\n",
              "    <tr>\n",
              "      <th>1</th>\n",
              "      <td>http://com.dataturks.a96-i23.open.s3.amazonaws.com/2c9fafb0646e9cf9016473f1a561002a/4eb236a3-6547-4103-b46f-3756d21128a9___06-Sanjay-Dutt.jpg.jpeg</td>\n",
              "      <td>[{'x': 0.16194331983805602, 'y': 0.850779510022271}, {'x': 0.582995951417004, 'y': 1}]</td>\n",
              "      <td>449</td>\n",
              "      <td>494</td>\n",
              "    </tr>\n",
              "    <tr>\n",
              "      <th>2</th>\n",
              "      <td>http://com.dataturks.a96-i23.open.s3.amazonaws.com/2c9fafb0646e9cf9016473f1a561002a/84969111-2ec3-4914-b3bb-da5aaac701e7___1.jpg.jpeg</td>\n",
              "      <td>[{'x': 0.082, 'y': 0.697452229299363}, {'x': 0.23, 'y': 0.8280254777070061}]</td>\n",
              "      <td>314</td>\n",
              "      <td>500</td>\n",
              "    </tr>\n",
              "    <tr>\n",
              "      <th>3</th>\n",
              "      <td>http://com.dataturks.a96-i23.open.s3.amazonaws.com/2c9fafb0646e9cf9016473f1a561002a/52b45060-9645-47c7-882d-b69a5bf07eff___1006372d1351343820-my-new-maruti-swift-zxi-21102012241.jpg.jpeg</td>\n",
              "      <td>[{'x': 0.434, 'y': 0.667377398720682}, {'x': 0.718, 'y': 0.7654584221748401}]</td>\n",
              "      <td>469</td>\n",
              "      <td>500</td>\n",
              "    </tr>\n",
              "    <tr>\n",
              "      <th>4</th>\n",
              "      <td>http://com.dataturks.a96-i23.open.s3.amazonaws.com/2c9fafb0646e9cf9016473f1a561002a/5d08ee4a-d8e7-4fda-8959-21f263f62c25___100923d1368191518-custom-number-plates-embossedplates1.jpg.jpeg</td>\n",
              "      <td>[{'x': 0.20879120879120802, 'y': 0.39076376554174}, {'x': 0.865134865134865, 'y': 0.9840142095914741}]</td>\n",
              "      <td>563</td>\n",
              "      <td>1001</td>\n",
              "    </tr>\n",
              "  </tbody>\n",
              "</table>\n",
              "</div>"
            ],
            "text/plain": [
              "                                                                                                                                                                                      content  ... width\n",
              "0  http://com.dataturks.a96-i23.open.s3.amazonaws.com/2c9fafb0646e9cf9016473f1a561002a/77d1f81a-bee6-487c-aff2-0efa31a9925c____bd7f7862-d727-11e7-ad30-e18a56154311.jpg.jpeg                   ...  806 \n",
              "1  http://com.dataturks.a96-i23.open.s3.amazonaws.com/2c9fafb0646e9cf9016473f1a561002a/4eb236a3-6547-4103-b46f-3756d21128a9___06-Sanjay-Dutt.jpg.jpeg                                          ...  494 \n",
              "2  http://com.dataturks.a96-i23.open.s3.amazonaws.com/2c9fafb0646e9cf9016473f1a561002a/84969111-2ec3-4914-b3bb-da5aaac701e7___1.jpg.jpeg                                                       ...  500 \n",
              "3  http://com.dataturks.a96-i23.open.s3.amazonaws.com/2c9fafb0646e9cf9016473f1a561002a/52b45060-9645-47c7-882d-b69a5bf07eff___1006372d1351343820-my-new-maruti-swift-zxi-21102012241.jpg.jpeg  ...  500 \n",
              "4  http://com.dataturks.a96-i23.open.s3.amazonaws.com/2c9fafb0646e9cf9016473f1a561002a/5d08ee4a-d8e7-4fda-8959-21f263f62c25___100923d1368191518-custom-number-plates-embossedplates1.jpg.jpeg  ...  1001\n",
              "\n",
              "[5 rows x 4 columns]"
            ]
          },
          "execution_count": 3,
          "metadata": {
            "tags": []
          },
          "output_type": "execute_result"
        }
      ],
      "source": [
        "# Extract the points of the bounding boxes because thats what we want\n",
        "data['points'] = data.apply(lambda row: row['annotation'][0]['points'], axis=1)\n",
        "\n",
        "data['height'] = data.apply(lambda row: row['annotation'][0]['imageHeight'], axis=1)\n",
        "data['width'] = data.apply(lambda row: row['annotation'][0]['imageWidth'], axis=1)\n",
        "# And drop the rest of the annotation info\n",
        "del data['annotation']\n",
        "\n",
        "data.head()"
      ]
    },
    {
      "cell_type": "code",
      "execution_count": null,
      "metadata": {
        "colab": {},
        "colab_type": "code",
        "id": "wXgSwvpz8-cW"
      },
      "outputs": [],
      "source": [
        "Images = []\n",
        "Plates = []\n",
        "Points = []\n",
        "\n",
        "def downloadTraining(df):\n",
        "\n",
        "    for index, row in df.iterrows():\n",
        "\n",
        "        # Get the image from the URL\n",
        "        resp = urllib.request.urlopen(row[0])\n",
        "        im = np.array(Image.open(resp))  # This is a numpy 3D array \n",
        "        \n",
        "        # We append the image to the training input array\n",
        "        Images.append(im)\n",
        "\n",
        "        # Points of rectangle\n",
        "        x_point_top = row[1][0]['x']*im.shape[1]\n",
        "        y_point_top = row[1][0]['y']*im.shape[0]\n",
        "        x_point_bot = row[1][1]['x']*im.shape[1]\n",
        "        y_point_bot = row[1][1]['y']*im.shape[0]\n",
        "        Points.append([int(x_point_top), int(y_point_top),int(x_point_bot), int(y_point_bot)])\n",
        "        \n",
        "        # Cut the plate from the image and use it as output\n",
        "        carImage = Image.fromarray(im)\n",
        "        plateImage = carImage.crop((x_point_top, y_point_top, x_point_bot, y_point_bot))\n",
        "        Plates.append(np.array(plateImage))\n",
        "downloadTraining(data)"
      ]
    },
    {
      "cell_type": "code",
      "execution_count": null,
      "metadata": {
        "colab": {
          "base_uri": "https://localhost:8080/",
          "height": 34
        },
        "colab_type": "code",
        "id": "Mw_796_YCp__",
        "outputId": "57feb209-7b53-4eab-b379-35ad350521e4"
      },
      "outputs": [
        {
          "data": {
            "text/plain": [
              "237"
            ]
          },
          "execution_count": 6,
          "metadata": {
            "tags": []
          },
          "output_type": "execute_result"
        }
      ],
      "source": [
        "len(Points)"
      ]
    },
    {
      "cell_type": "markdown",
      "metadata": {
        "colab_type": "text",
        "id": "GKPgTJNK8-cY"
      },
      "source": [
        "# To check the x_min,y_min,x_max,y_max"
      ]
    },
    {
      "cell_type": "code",
      "execution_count": null,
      "metadata": {
        "colab": {
          "base_uri": "https://localhost:8080/",
          "height": 187
        },
        "colab_type": "code",
        "id": "IlctY5ac8-cZ",
        "outputId": "49cbd04a-3523-43c4-9502-05b2747abfe0"
      },
      "outputs": [
        {
          "data": {
            "text/plain": [
              "[[581, 273, 700, 320],\n",
              " [79, 381, 288, 449],\n",
              " [41, 219, 115, 259],\n",
              " [217, 312, 359, 359],\n",
              " [208, 219, 865, 553],\n",
              " [105, 279, 260, 335],\n",
              " [226, 240, 443, 314],\n",
              " [266, 247, 396, 320],\n",
              " [644, 507, 892, 578],\n",
              " [674, 364, 957, 572]]"
            ]
          },
          "execution_count": 7,
          "metadata": {
            "tags": []
          },
          "output_type": "execute_result"
        }
      ],
      "source": [
        "# This gives the format of the annotations\n",
        "Points[:10]"
      ]
    },
    {
      "cell_type": "markdown",
      "metadata": {
        "colab_type": "text",
        "id": "Cp99wvdMLLe7"
      },
      "source": [
        "# Dataframe construction"
      ]
    },
    {
      "cell_type": "code",
      "execution_count": null,
      "metadata": {
        "colab": {
          "base_uri": "https://localhost:8080/",
          "height": 204
        },
        "colab_type": "code",
        "id": "RmjOXw-yEO4F",
        "outputId": "361a25c6-ca98-4583-90ab-530e8a0c472b"
      },
      "outputs": [
        {
          "data": {
            "text/html": [
              "<div>\n",
              "<style scoped>\n",
              "    .dataframe tbody tr th:only-of-type {\n",
              "        vertical-align: middle;\n",
              "    }\n",
              "\n",
              "    .dataframe tbody tr th {\n",
              "        vertical-align: top;\n",
              "    }\n",
              "\n",
              "    .dataframe thead th {\n",
              "        text-align: right;\n",
              "    }\n",
              "</style>\n",
              "<table border=\"1\" class=\"dataframe\">\n",
              "  <thead>\n",
              "    <tr style=\"text-align: right;\">\n",
              "      <th></th>\n",
              "      <th>xmin</th>\n",
              "      <th>ymin</th>\n",
              "      <th>xmax</th>\n",
              "      <th>ymax</th>\n",
              "    </tr>\n",
              "  </thead>\n",
              "  <tbody>\n",
              "    <tr>\n",
              "      <th>0</th>\n",
              "      <td>581</td>\n",
              "      <td>273</td>\n",
              "      <td>700</td>\n",
              "      <td>320</td>\n",
              "    </tr>\n",
              "    <tr>\n",
              "      <th>1</th>\n",
              "      <td>79</td>\n",
              "      <td>381</td>\n",
              "      <td>288</td>\n",
              "      <td>449</td>\n",
              "    </tr>\n",
              "    <tr>\n",
              "      <th>2</th>\n",
              "      <td>41</td>\n",
              "      <td>219</td>\n",
              "      <td>115</td>\n",
              "      <td>259</td>\n",
              "    </tr>\n",
              "    <tr>\n",
              "      <th>3</th>\n",
              "      <td>217</td>\n",
              "      <td>312</td>\n",
              "      <td>359</td>\n",
              "      <td>359</td>\n",
              "    </tr>\n",
              "    <tr>\n",
              "      <th>4</th>\n",
              "      <td>208</td>\n",
              "      <td>219</td>\n",
              "      <td>865</td>\n",
              "      <td>553</td>\n",
              "    </tr>\n",
              "  </tbody>\n",
              "</table>\n",
              "</div>"
            ],
            "text/plain": [
              "   xmin  ymin  xmax  ymax\n",
              "0  581   273   700   320 \n",
              "1  79    381   288   449 \n",
              "2  41    219   115   259 \n",
              "3  217   312   359   359 \n",
              "4  208   219   865   553 "
            ]
          },
          "execution_count": 12,
          "metadata": {
            "tags": []
          },
          "output_type": "execute_result"
        }
      ],
      "source": [
        "main_df = pd.DataFrame([row for row in Points], columns=['xmin', 'ymin', 'xmax', 'ymax'])\n",
        "main_df.head()"
      ]
    },
    {
      "cell_type": "markdown",
      "metadata": {
        "colab_type": "text",
        "id": "NC7s4dqILQdp"
      },
      "source": [
        "# The great (not really) filename generation hack"
      ]
    },
    {
      "cell_type": "code",
      "execution_count": null,
      "metadata": {
        "colab": {
          "base_uri": "https://localhost:8080/",
          "height": 187
        },
        "colab_type": "code",
        "id": "vJeIRFoHF2Dl",
        "outputId": "a3dbbd5d-3ad0-422a-aa8b-6afcf0567801"
      },
      "outputs": [
        {
          "data": {
            "text/plain": [
              "['Data-Images/Cars/0.jpg',\n",
              " 'Data-Images/Cars/1.jpg',\n",
              " 'Data-Images/Cars/2.jpg',\n",
              " 'Data-Images/Cars/3.jpg',\n",
              " 'Data-Images/Cars/4.jpg',\n",
              " 'Data-Images/Cars/5.jpg',\n",
              " 'Data-Images/Cars/6.jpg',\n",
              " 'Data-Images/Cars/7.jpg',\n",
              " 'Data-Images/Cars/8.jpg',\n",
              " 'Data-Images/Cars/9.jpg']"
            ]
          },
          "execution_count": 16,
          "metadata": {
            "tags": []
          },
          "output_type": "execute_result"
        }
      ],
      "source": [
        "images_path = 'Data-Images/Cars/'\n",
        "give_me_236 = [images_path + str(i) + '.jpg' for i in list(range(0, 237))]\n",
        "give_me_236[:10]\n"
      ]
    },
    {
      "cell_type": "code",
      "execution_count": null,
      "metadata": {
        "colab": {
          "base_uri": "https://localhost:8080/",
          "height": 359
        },
        "colab_type": "code",
        "id": "NX5AGKc2GjVg",
        "outputId": "63c59689-2927-4cc3-917f-bc9cc362e39b"
      },
      "outputs": [
        {
          "data": {
            "text/html": [
              "<div>\n",
              "<style scoped>\n",
              "    .dataframe tbody tr th:only-of-type {\n",
              "        vertical-align: middle;\n",
              "    }\n",
              "\n",
              "    .dataframe tbody tr th {\n",
              "        vertical-align: top;\n",
              "    }\n",
              "\n",
              "    .dataframe thead th {\n",
              "        text-align: right;\n",
              "    }\n",
              "</style>\n",
              "<table border=\"1\" class=\"dataframe\">\n",
              "  <thead>\n",
              "    <tr style=\"text-align: right;\">\n",
              "      <th></th>\n",
              "      <th>xmin</th>\n",
              "      <th>ymin</th>\n",
              "      <th>xmax</th>\n",
              "      <th>ymax</th>\n",
              "      <th>filename</th>\n",
              "    </tr>\n",
              "  </thead>\n",
              "  <tbody>\n",
              "    <tr>\n",
              "      <th>0</th>\n",
              "      <td>581</td>\n",
              "      <td>273</td>\n",
              "      <td>700</td>\n",
              "      <td>320</td>\n",
              "      <td>Data-Images/Cars/0.jpg</td>\n",
              "    </tr>\n",
              "    <tr>\n",
              "      <th>1</th>\n",
              "      <td>79</td>\n",
              "      <td>381</td>\n",
              "      <td>288</td>\n",
              "      <td>449</td>\n",
              "      <td>Data-Images/Cars/1.jpg</td>\n",
              "    </tr>\n",
              "    <tr>\n",
              "      <th>2</th>\n",
              "      <td>41</td>\n",
              "      <td>219</td>\n",
              "      <td>115</td>\n",
              "      <td>259</td>\n",
              "      <td>Data-Images/Cars/2.jpg</td>\n",
              "    </tr>\n",
              "    <tr>\n",
              "      <th>3</th>\n",
              "      <td>217</td>\n",
              "      <td>312</td>\n",
              "      <td>359</td>\n",
              "      <td>359</td>\n",
              "      <td>Data-Images/Cars/3.jpg</td>\n",
              "    </tr>\n",
              "    <tr>\n",
              "      <th>4</th>\n",
              "      <td>208</td>\n",
              "      <td>219</td>\n",
              "      <td>865</td>\n",
              "      <td>553</td>\n",
              "      <td>Data-Images/Cars/4.jpg</td>\n",
              "    </tr>\n",
              "    <tr>\n",
              "      <th>5</th>\n",
              "      <td>105</td>\n",
              "      <td>279</td>\n",
              "      <td>260</td>\n",
              "      <td>335</td>\n",
              "      <td>Data-Images/Cars/5.jpg</td>\n",
              "    </tr>\n",
              "    <tr>\n",
              "      <th>6</th>\n",
              "      <td>226</td>\n",
              "      <td>240</td>\n",
              "      <td>443</td>\n",
              "      <td>314</td>\n",
              "      <td>Data-Images/Cars/6.jpg</td>\n",
              "    </tr>\n",
              "    <tr>\n",
              "      <th>7</th>\n",
              "      <td>266</td>\n",
              "      <td>247</td>\n",
              "      <td>396</td>\n",
              "      <td>320</td>\n",
              "      <td>Data-Images/Cars/7.jpg</td>\n",
              "    </tr>\n",
              "    <tr>\n",
              "      <th>8</th>\n",
              "      <td>644</td>\n",
              "      <td>507</td>\n",
              "      <td>892</td>\n",
              "      <td>578</td>\n",
              "      <td>Data-Images/Cars/8.jpg</td>\n",
              "    </tr>\n",
              "    <tr>\n",
              "      <th>9</th>\n",
              "      <td>674</td>\n",
              "      <td>364</td>\n",
              "      <td>957</td>\n",
              "      <td>572</td>\n",
              "      <td>Data-Images/Cars/9.jpg</td>\n",
              "    </tr>\n",
              "  </tbody>\n",
              "</table>\n",
              "</div>"
            ],
            "text/plain": [
              "   xmin  ymin  xmax  ymax                filename\n",
              "0  581   273   700   320   Data-Images/Cars/0.jpg\n",
              "1  79    381   288   449   Data-Images/Cars/1.jpg\n",
              "2  41    219   115   259   Data-Images/Cars/2.jpg\n",
              "3  217   312   359   359   Data-Images/Cars/3.jpg\n",
              "4  208   219   865   553   Data-Images/Cars/4.jpg\n",
              "5  105   279   260   335   Data-Images/Cars/5.jpg\n",
              "6  226   240   443   314   Data-Images/Cars/6.jpg\n",
              "7  266   247   396   320   Data-Images/Cars/7.jpg\n",
              "8  644   507   892   578   Data-Images/Cars/8.jpg\n",
              "9  674   364   957   572   Data-Images/Cars/9.jpg"
            ]
          },
          "execution_count": 17,
          "metadata": {
            "tags": []
          },
          "output_type": "execute_result"
        }
      ],
      "source": [
        "main_df['filename'] = give_me_236\n",
        "main_df.head(10)"
      ]
    },
    {
      "cell_type": "code",
      "execution_count": null,
      "metadata": {
        "colab": {
          "base_uri": "https://localhost:8080/",
          "height": 204
        },
        "colab_type": "code",
        "id": "ntPjwW7gGtX6",
        "outputId": "20325701-93e7-4e8c-d7d5-608e0da32ca4"
      },
      "outputs": [
        {
          "data": {
            "text/html": [
              "<div>\n",
              "<style scoped>\n",
              "    .dataframe tbody tr th:only-of-type {\n",
              "        vertical-align: middle;\n",
              "    }\n",
              "\n",
              "    .dataframe tbody tr th {\n",
              "        vertical-align: top;\n",
              "    }\n",
              "\n",
              "    .dataframe thead th {\n",
              "        text-align: right;\n",
              "    }\n",
              "</style>\n",
              "<table border=\"1\" class=\"dataframe\">\n",
              "  <thead>\n",
              "    <tr style=\"text-align: right;\">\n",
              "      <th></th>\n",
              "      <th>xmin</th>\n",
              "      <th>ymin</th>\n",
              "      <th>xmax</th>\n",
              "      <th>ymax</th>\n",
              "      <th>filename</th>\n",
              "      <th>width</th>\n",
              "      <th>height</th>\n",
              "    </tr>\n",
              "  </thead>\n",
              "  <tbody>\n",
              "    <tr>\n",
              "      <th>0</th>\n",
              "      <td>581</td>\n",
              "      <td>273</td>\n",
              "      <td>700</td>\n",
              "      <td>320</td>\n",
              "      <td>Data-Images/Cars/0.jpg</td>\n",
              "      <td>119</td>\n",
              "      <td>47</td>\n",
              "    </tr>\n",
              "    <tr>\n",
              "      <th>1</th>\n",
              "      <td>79</td>\n",
              "      <td>381</td>\n",
              "      <td>288</td>\n",
              "      <td>449</td>\n",
              "      <td>Data-Images/Cars/1.jpg</td>\n",
              "      <td>209</td>\n",
              "      <td>68</td>\n",
              "    </tr>\n",
              "    <tr>\n",
              "      <th>2</th>\n",
              "      <td>41</td>\n",
              "      <td>219</td>\n",
              "      <td>115</td>\n",
              "      <td>259</td>\n",
              "      <td>Data-Images/Cars/2.jpg</td>\n",
              "      <td>74</td>\n",
              "      <td>40</td>\n",
              "    </tr>\n",
              "    <tr>\n",
              "      <th>3</th>\n",
              "      <td>217</td>\n",
              "      <td>312</td>\n",
              "      <td>359</td>\n",
              "      <td>359</td>\n",
              "      <td>Data-Images/Cars/3.jpg</td>\n",
              "      <td>142</td>\n",
              "      <td>47</td>\n",
              "    </tr>\n",
              "    <tr>\n",
              "      <th>4</th>\n",
              "      <td>208</td>\n",
              "      <td>219</td>\n",
              "      <td>865</td>\n",
              "      <td>553</td>\n",
              "      <td>Data-Images/Cars/4.jpg</td>\n",
              "      <td>657</td>\n",
              "      <td>334</td>\n",
              "    </tr>\n",
              "  </tbody>\n",
              "</table>\n",
              "</div>"
            ],
            "text/plain": [
              "   xmin  ymin  xmax  ymax                filename  width  height\n",
              "0  581   273   700   320   Data-Images/Cars/0.jpg  119    47    \n",
              "1  79    381   288   449   Data-Images/Cars/1.jpg  209    68    \n",
              "2  41    219   115   259   Data-Images/Cars/2.jpg  74     40    \n",
              "3  217   312   359   359   Data-Images/Cars/3.jpg  142    47    \n",
              "4  208   219   865   553   Data-Images/Cars/4.jpg  657    334   "
            ]
          },
          "execution_count": 18,
          "metadata": {
            "tags": []
          },
          "output_type": "execute_result"
        }
      ],
      "source": [
        "main_df['width'] = main_df['xmax'] - main_df['xmin']\n",
        "main_df['height'] = main_df['ymax'] - main_df['ymin']\n",
        "\n",
        "main_df.head()"
      ]
    },
    {
      "cell_type": "code",
      "execution_count": null,
      "metadata": {
        "colab": {
          "base_uri": "https://localhost:8080/",
          "height": 204
        },
        "colab_type": "code",
        "id": "PfrihGPvHejR",
        "outputId": "b16a65ac-ceaf-4925-86e4-652671211350"
      },
      "outputs": [
        {
          "data": {
            "text/html": [
              "<div>\n",
              "<style scoped>\n",
              "    .dataframe tbody tr th:only-of-type {\n",
              "        vertical-align: middle;\n",
              "    }\n",
              "\n",
              "    .dataframe tbody tr th {\n",
              "        vertical-align: top;\n",
              "    }\n",
              "\n",
              "    .dataframe thead th {\n",
              "        text-align: right;\n",
              "    }\n",
              "</style>\n",
              "<table border=\"1\" class=\"dataframe\">\n",
              "  <thead>\n",
              "    <tr style=\"text-align: right;\">\n",
              "      <th></th>\n",
              "      <th>filename</th>\n",
              "      <th>width</th>\n",
              "      <th>height</th>\n",
              "      <th>class</th>\n",
              "      <th>xmin</th>\n",
              "      <th>ymin</th>\n",
              "      <th>xmax</th>\n",
              "      <th>ymax</th>\n",
              "    </tr>\n",
              "  </thead>\n",
              "  <tbody>\n",
              "    <tr>\n",
              "      <th>0</th>\n",
              "      <td>Data-Images/Cars/0.jpg</td>\n",
              "      <td>119</td>\n",
              "      <td>47</td>\n",
              "      <td>license_plate</td>\n",
              "      <td>581</td>\n",
              "      <td>273</td>\n",
              "      <td>700</td>\n",
              "      <td>320</td>\n",
              "    </tr>\n",
              "    <tr>\n",
              "      <th>1</th>\n",
              "      <td>Data-Images/Cars/1.jpg</td>\n",
              "      <td>209</td>\n",
              "      <td>68</td>\n",
              "      <td>license_plate</td>\n",
              "      <td>79</td>\n",
              "      <td>381</td>\n",
              "      <td>288</td>\n",
              "      <td>449</td>\n",
              "    </tr>\n",
              "    <tr>\n",
              "      <th>2</th>\n",
              "      <td>Data-Images/Cars/2.jpg</td>\n",
              "      <td>74</td>\n",
              "      <td>40</td>\n",
              "      <td>license_plate</td>\n",
              "      <td>41</td>\n",
              "      <td>219</td>\n",
              "      <td>115</td>\n",
              "      <td>259</td>\n",
              "    </tr>\n",
              "    <tr>\n",
              "      <th>3</th>\n",
              "      <td>Data-Images/Cars/3.jpg</td>\n",
              "      <td>142</td>\n",
              "      <td>47</td>\n",
              "      <td>license_plate</td>\n",
              "      <td>217</td>\n",
              "      <td>312</td>\n",
              "      <td>359</td>\n",
              "      <td>359</td>\n",
              "    </tr>\n",
              "    <tr>\n",
              "      <th>4</th>\n",
              "      <td>Data-Images/Cars/4.jpg</td>\n",
              "      <td>657</td>\n",
              "      <td>334</td>\n",
              "      <td>license_plate</td>\n",
              "      <td>208</td>\n",
              "      <td>219</td>\n",
              "      <td>865</td>\n",
              "      <td>553</td>\n",
              "    </tr>\n",
              "  </tbody>\n",
              "</table>\n",
              "</div>"
            ],
            "text/plain": [
              "                 filename  width  height          class  xmin  ymin  xmax  ymax\n",
              "0  Data-Images/Cars/0.jpg  119    47      license_plate  581   273   700   320 \n",
              "1  Data-Images/Cars/1.jpg  209    68      license_plate  79    381   288   449 \n",
              "2  Data-Images/Cars/2.jpg  74     40      license_plate  41    219   115   259 \n",
              "3  Data-Images/Cars/3.jpg  142    47      license_plate  217   312   359   359 \n",
              "4  Data-Images/Cars/4.jpg  657    334     license_plate  208   219   865   553 "
            ]
          },
          "execution_count": 21,
          "metadata": {
            "tags": []
          },
          "output_type": "execute_result"
        }
      ],
      "source": [
        "modified_df = pd.DataFrame()\n",
        "modified_df['filename'] = main_df['filename']\n",
        "modified_df['width'] = main_df['width']\n",
        "modified_df['height'] = main_df['height']\n",
        "modified_df['class'] = 'license_plate'\n",
        "modified_df['xmin'] = main_df['xmin']\n",
        "modified_df['ymin'] = main_df['ymin']\n",
        "modified_df['xmax'] = main_df['xmax']\n",
        "modified_df['ymax'] = main_df['ymax']\n",
        "\n",
        "modified_df.head()"
      ]
    },
    {
      "cell_type": "markdown",
      "metadata": {
        "colab_type": "text",
        "id": "bGTewHBILWXf"
      },
      "source": [
        "Booh yeah! We have the data in the right format (for TensorFlow Object Detection API). "
      ]
    },
    {
      "cell_type": "markdown",
      "metadata": {
        "colab_type": "text",
        "id": "ko-OkesnLcYQ"
      },
      "source": [
        "# Splits"
      ]
    },
    {
      "cell_type": "code",
      "execution_count": null,
      "metadata": {
        "colab": {},
        "colab_type": "code",
        "id": "QnxTRPPzIfUN"
      },
      "outputs": [],
      "source": [
        "# 95% for train\n",
        "train_labels = modified_df.sample(frac=0.95)\n",
        "modified_df.drop(train_labels.index, axis=0, inplace=True)\n",
        "\n",
        "# 5% for test\n",
        "test_labels = modified_df"
      ]
    },
    {
      "cell_type": "code",
      "execution_count": null,
      "metadata": {
        "colab": {
          "base_uri": "https://localhost:8080/",
          "height": 204
        },
        "colab_type": "code",
        "id": "dk1ZD7T9JJZT",
        "outputId": "1b0c53c4-d16d-4437-c0dc-d0efaae49ab7"
      },
      "outputs": [
        {
          "data": {
            "text/html": [
              "<div>\n",
              "<style scoped>\n",
              "    .dataframe tbody tr th:only-of-type {\n",
              "        vertical-align: middle;\n",
              "    }\n",
              "\n",
              "    .dataframe tbody tr th {\n",
              "        vertical-align: top;\n",
              "    }\n",
              "\n",
              "    .dataframe thead th {\n",
              "        text-align: right;\n",
              "    }\n",
              "</style>\n",
              "<table border=\"1\" class=\"dataframe\">\n",
              "  <thead>\n",
              "    <tr style=\"text-align: right;\">\n",
              "      <th></th>\n",
              "      <th>filename</th>\n",
              "      <th>width</th>\n",
              "      <th>height</th>\n",
              "      <th>class</th>\n",
              "      <th>xmin</th>\n",
              "      <th>ymin</th>\n",
              "      <th>xmax</th>\n",
              "      <th>ymax</th>\n",
              "    </tr>\n",
              "  </thead>\n",
              "  <tbody>\n",
              "    <tr>\n",
              "      <th>105</th>\n",
              "      <td>Data-Images/Cars/105.jpg</td>\n",
              "      <td>684</td>\n",
              "      <td>293</td>\n",
              "      <td>license_plate</td>\n",
              "      <td>12</td>\n",
              "      <td>106</td>\n",
              "      <td>696</td>\n",
              "      <td>399</td>\n",
              "    </tr>\n",
              "    <tr>\n",
              "      <th>38</th>\n",
              "      <td>Data-Images/Cars/38.jpg</td>\n",
              "      <td>118</td>\n",
              "      <td>39</td>\n",
              "      <td>license_plate</td>\n",
              "      <td>794</td>\n",
              "      <td>485</td>\n",
              "      <td>912</td>\n",
              "      <td>524</td>\n",
              "    </tr>\n",
              "    <tr>\n",
              "      <th>136</th>\n",
              "      <td>Data-Images/Cars/136.jpg</td>\n",
              "      <td>173</td>\n",
              "      <td>74</td>\n",
              "      <td>license_plate</td>\n",
              "      <td>155</td>\n",
              "      <td>200</td>\n",
              "      <td>328</td>\n",
              "      <td>274</td>\n",
              "    </tr>\n",
              "    <tr>\n",
              "      <th>127</th>\n",
              "      <td>Data-Images/Cars/127.jpg</td>\n",
              "      <td>416</td>\n",
              "      <td>154</td>\n",
              "      <td>license_plate</td>\n",
              "      <td>191</td>\n",
              "      <td>54</td>\n",
              "      <td>607</td>\n",
              "      <td>208</td>\n",
              "    </tr>\n",
              "    <tr>\n",
              "      <th>21</th>\n",
              "      <td>Data-Images/Cars/21.jpg</td>\n",
              "      <td>238</td>\n",
              "      <td>63</td>\n",
              "      <td>license_plate</td>\n",
              "      <td>272</td>\n",
              "      <td>2</td>\n",
              "      <td>510</td>\n",
              "      <td>65</td>\n",
              "    </tr>\n",
              "  </tbody>\n",
              "</table>\n",
              "</div>"
            ],
            "text/plain": [
              "                     filename  width  height  ... ymin  xmax  ymax\n",
              "105  Data-Images/Cars/105.jpg  684    293     ...  106  696   399 \n",
              "38   Data-Images/Cars/38.jpg   118    39      ...  485  912   524 \n",
              "136  Data-Images/Cars/136.jpg  173    74      ...  200  328   274 \n",
              "127  Data-Images/Cars/127.jpg  416    154     ...  54   607   208 \n",
              "21   Data-Images/Cars/21.jpg   238    63      ...  2    510   65  \n",
              "\n",
              "[5 rows x 8 columns]"
            ]
          },
          "execution_count": 24,
          "metadata": {
            "tags": []
          },
          "output_type": "execute_result"
        }
      ],
      "source": [
        "train_labels.head()"
      ]
    },
    {
      "cell_type": "code",
      "execution_count": null,
      "metadata": {
        "colab": {
          "base_uri": "https://localhost:8080/",
          "height": 204
        },
        "colab_type": "code",
        "id": "c93xQWkSJQig",
        "outputId": "d570be4b-6442-40e5-9f3a-25605feef92d"
      },
      "outputs": [
        {
          "data": {
            "text/html": [
              "<div>\n",
              "<style scoped>\n",
              "    .dataframe tbody tr th:only-of-type {\n",
              "        vertical-align: middle;\n",
              "    }\n",
              "\n",
              "    .dataframe tbody tr th {\n",
              "        vertical-align: top;\n",
              "    }\n",
              "\n",
              "    .dataframe thead th {\n",
              "        text-align: right;\n",
              "    }\n",
              "</style>\n",
              "<table border=\"1\" class=\"dataframe\">\n",
              "  <thead>\n",
              "    <tr style=\"text-align: right;\">\n",
              "      <th></th>\n",
              "      <th>filename</th>\n",
              "      <th>width</th>\n",
              "      <th>height</th>\n",
              "      <th>class</th>\n",
              "      <th>xmin</th>\n",
              "      <th>ymin</th>\n",
              "      <th>xmax</th>\n",
              "      <th>ymax</th>\n",
              "    </tr>\n",
              "  </thead>\n",
              "  <tbody>\n",
              "    <tr>\n",
              "      <th>5</th>\n",
              "      <td>Data-Images/Cars/5.jpg</td>\n",
              "      <td>155</td>\n",
              "      <td>56</td>\n",
              "      <td>license_plate</td>\n",
              "      <td>105</td>\n",
              "      <td>279</td>\n",
              "      <td>260</td>\n",
              "      <td>335</td>\n",
              "    </tr>\n",
              "    <tr>\n",
              "      <th>23</th>\n",
              "      <td>Data-Images/Cars/23.jpg</td>\n",
              "      <td>283</td>\n",
              "      <td>73</td>\n",
              "      <td>license_plate</td>\n",
              "      <td>288</td>\n",
              "      <td>423</td>\n",
              "      <td>571</td>\n",
              "      <td>496</td>\n",
              "    </tr>\n",
              "    <tr>\n",
              "      <th>30</th>\n",
              "      <td>Data-Images/Cars/30.jpg</td>\n",
              "      <td>1158</td>\n",
              "      <td>509</td>\n",
              "      <td>license_plate</td>\n",
              "      <td>284</td>\n",
              "      <td>176</td>\n",
              "      <td>1442</td>\n",
              "      <td>685</td>\n",
              "    </tr>\n",
              "    <tr>\n",
              "      <th>53</th>\n",
              "      <td>Data-Images/Cars/53.jpg</td>\n",
              "      <td>147</td>\n",
              "      <td>39</td>\n",
              "      <td>license_plate</td>\n",
              "      <td>208</td>\n",
              "      <td>155</td>\n",
              "      <td>355</td>\n",
              "      <td>194</td>\n",
              "    </tr>\n",
              "    <tr>\n",
              "      <th>59</th>\n",
              "      <td>Data-Images/Cars/59.jpg</td>\n",
              "      <td>210</td>\n",
              "      <td>89</td>\n",
              "      <td>license_plate</td>\n",
              "      <td>147</td>\n",
              "      <td>234</td>\n",
              "      <td>357</td>\n",
              "      <td>323</td>\n",
              "    </tr>\n",
              "  </tbody>\n",
              "</table>\n",
              "</div>"
            ],
            "text/plain": [
              "                   filename  width  height  ... ymin  xmax  ymax\n",
              "5   Data-Images/Cars/5.jpg   155    56      ...  279  260   335 \n",
              "23  Data-Images/Cars/23.jpg  283    73      ...  423  571   496 \n",
              "30  Data-Images/Cars/30.jpg  1158   509     ...  176  1442  685 \n",
              "53  Data-Images/Cars/53.jpg  147    39      ...  155  355   194 \n",
              "59  Data-Images/Cars/59.jpg  210    89      ...  234  357   323 \n",
              "\n",
              "[5 rows x 8 columns]"
            ]
          },
          "execution_count": 25,
          "metadata": {
            "tags": []
          },
          "output_type": "execute_result"
        }
      ],
      "source": [
        "test_labels.head()"
      ]
    },
    {
      "cell_type": "code",
      "execution_count": null,
      "metadata": {
        "colab": {
          "base_uri": "https://localhost:8080/",
          "height": 34
        },
        "colab_type": "code",
        "id": "dADIiZhZJUs7",
        "outputId": "24fad47f-e9c7-492e-d385-16a6c23d17a3"
      },
      "outputs": [
        {
          "data": {
            "text/plain": [
              "(225, 8)"
            ]
          },
          "execution_count": 26,
          "metadata": {
            "tags": []
          },
          "output_type": "execute_result"
        }
      ],
      "source": [
        "train_labels.shape"
      ]
    },
    {
      "cell_type": "code",
      "execution_count": null,
      "metadata": {
        "colab": {
          "base_uri": "https://localhost:8080/",
          "height": 34
        },
        "colab_type": "code",
        "id": "GxefIS_8JYsJ",
        "outputId": "691b42e9-aeb7-4c2b-b3f3-55c4ab6acd10"
      },
      "outputs": [
        {
          "data": {
            "text/plain": [
              "(12, 8)"
            ]
          },
          "execution_count": 27,
          "metadata": {
            "tags": []
          },
          "output_type": "execute_result"
        }
      ],
      "source": [
        "test_labels.shape"
      ]
    },
    {
      "cell_type": "markdown",
      "metadata": {
        "colab_type": "text",
        "id": "V45vOFb_LfRI"
      },
      "source": [
        "# Manual inspection of the bounding boxes"
      ]
    },
    {
      "cell_type": "code",
      "execution_count": null,
      "metadata": {
        "colab": {},
        "colab_type": "code",
        "id": "1kuthQb-JjxJ"
      },
      "outputs": [],
      "source": [
        "image_1 = cv2.imread('Data-Images/Cars/136.jpg')\n",
        "image_1 = cv2.cvtColor(image_1,cv2.COLOR_BGR2RGB)"
      ]
    },
    {
      "cell_type": "code",
      "execution_count": null,
      "metadata": {
        "colab": {
          "base_uri": "https://localhost:8080/",
          "height": 34
        },
        "colab_type": "code",
        "id": "2eUEg46WJyut",
        "outputId": "0696af1e-5585-4df3-b9fa-87ec5f9d5676"
      },
      "outputs": [
        {
          "data": {
            "text/plain": [
              "True"
            ]
          },
          "execution_count": 33,
          "metadata": {
            "tags": []
          },
          "output_type": "execute_result"
        }
      ],
      "source": [
        "# 155\t200\t328\t274\n",
        "cv2.rectangle(image_1, (155, 200), (328, 274), (255,0,0), 2)\n",
        "cv2.imwrite('rectangle.png', image_1)"
      ]
    },
    {
      "cell_type": "code",
      "execution_count": null,
      "metadata": {
        "colab": {
          "base_uri": "https://localhost:8080/",
          "height": 269
        },
        "colab_type": "code",
        "id": "lRop8P86KH8f",
        "outputId": "179b6d74-05c3-4a07-a5b1-4f6021ae03f7"
      },
      "outputs": [
        {
          "data": {
            "image/png": "[encoded data removed]",
            "text/plain": [
              "<Figure size 432x288 with 1 Axes>"
            ]
          },
          "metadata": {
            "tags": []
          },
          "output_type": "display_data"
        }
      ],
      "source": [
        "image = plt.imread('rectangle.png')\n",
        "plt.imshow(image)\n",
        "plt.show()"
      ]
    },
    {
      "cell_type": "markdown",
      "metadata": {
        "colab_type": "text",
        "id": "xOGZToutLiTn"
      },
      "source": [
        "# Serialize the dataframes"
      ]
    },
    {
      "cell_type": "code",
      "execution_count": null,
      "metadata": {
        "colab": {},
        "colab_type": "code",
        "id": "YEYA_2kdDe_T"
      },
      "outputs": [],
      "source": [
        "train_labels.to_csv('train_labels.csv', index=False)\n",
        "test_labels.to_csv('test_labels.csv', index=False)"
      ]
    }
  ],
  "metadata": {
    "colab": {
      "collapsed_sections": [],
      "name": "Data prep and visualization.ipynb",
      "provenance": [],
      "version": "0.3.2"
    },
    "kernelspec": {
      "display_name": "Python 3",
      "language": "python",
      "name": "python3"
    },
    "language_info": {
      "codemirror_mode": {
        "name": "ipython",
        "version": 3
      },
      "file_extension": ".py",
      "mimetype": "text/x-python",
      "name": "python",
      "nbconvert_exporter": "python",
      "pygments_lexer": "ipython3",
      "version": "3.7.4"
    }
  },
  "nbformat": 4,
  "nbformat_minor": 0
}
