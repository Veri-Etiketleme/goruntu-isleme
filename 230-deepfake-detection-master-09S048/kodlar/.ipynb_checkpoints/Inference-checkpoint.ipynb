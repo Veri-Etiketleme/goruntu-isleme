{
 "cells": [
  {
   "cell_type": "markdown",
   "metadata": {},
   "source": [
    "# DeepFake Detector"
   ]
  },
  {
   "cell_type": "code",
   "execution_count": 1,
   "metadata": {},
   "outputs": [],
   "source": [
    "from fastai.data.all import *\n",
    "from fastai.vision.all import *\n",
    "import os\n",
    "import face_recognition\n",
    "import cv2\n",
    "import numpy as np\n",
    "from PIL import Image, ImageDraw\n",
    "pad = 100\n",
    "from fastai.vision.widgets import *\n"
   ]
  },
  {
   "cell_type": "code",
   "execution_count": 2,
   "metadata": {},
   "outputs": [],
   "source": [
    "# docs(load_learner)\n",
    "# !pwd"
   ]
  },
  {
   "cell_type": "code",
   "execution_count": 3,
   "metadata": {},
   "outputs": [],
   "source": [
    "path = Path()\n",
    "learn_inf = load_learner(path/'export.pkl')"
   ]
  },
  {
   "cell_type": "code",
   "execution_count": 4,
   "metadata": {},
   "outputs": [],
   "source": [
    "def crop_image(pil_image):\n",
    "#     img = cv2.imread(img_path)\n",
    "    open_cv_image = np.array(pil_image)\n",
    "    open_cv_image = open_cv_image[:, :, ::-1].copy() \n",
    "    face_locations = face_recognition.face_locations(open_cv_image)\n",
    "    for face_location in face_locations: \n",
    "        top, right, bottom, left = face_location\n",
    "        face_image = open_cv_image[top-pad:bottom+pad, left-pad:right+pad]\n",
    "    return face_image\n",
    "\n",
    "\n",
    "def draw_landmark(image):\n",
    "    face_landmarks_list = face_recognition.face_landmarks(image)\n",
    "    pil_image = Image.fromarray(image)\n",
    "    d = ImageDraw.Draw(pil_image)\n",
    "    for face_landmarks in face_landmarks_list:\n",
    "        for facial_feature in face_landmarks.keys():\n",
    "            d.line(face_landmarks[facial_feature], width = 3)\n",
    "    open_cv_image = np.array(pil_image)\n",
    "    return open_cv_image\n",
    "\n",
    "\n",
    "\n",
    "def display_image(img):\n",
    "    fig, ax = plt.subplots(1,1, figsize=(5, 5))\n",
    "    plt.grid(False)\n",
    "    ax.xaxis.set_visible(False)\n",
    "    ax.yaxis.set_visible(False)\n",
    "    ax.imshow(img)"
   ]
  },
  {
   "cell_type": "code",
   "execution_count": 5,
   "metadata": {},
   "outputs": [],
   "source": [
    "def on_click_classify(change): \n",
    "    image = PILImage.create(upload_button.data[-1])\n",
    "#     image = image.resize((224,224))\n",
    "    image_display.clear_output()\n",
    "    image = crop_image(image)\n",
    "    image = draw_landmark(image)\n",
    "    disp_image = Image.fromarray(image, 'RGB')\n",
    "    with image_display: display(disp_image.to_thumb(128,128))\n",
    "    pred, pred_index, prob = learn_inf.predict(image)\n",
    "    label_display.value = f'Prediction: {pred}; Probaility: {prob[pred_index]:.04f}'\n",
    "    upload_button.value.clear()\n",
    "    upload_button._counter = 0"
   ]
  },
  {
   "cell_type": "code",
   "execution_count": 10,
   "metadata": {},
   "outputs": [],
   "source": [
    "upload_button = widgets.FileUpload()\n",
    "image_display = widgets.Output()\n",
    "label_display = widgets.Label('Please choose an image')\n",
    "classify_button = widgets.Button(description='Classify')\n",
    "classify_button.on_click(on_click_classify)"
   ]
  },
  {
   "cell_type": "code",
   "execution_count": 11,
   "metadata": {},
   "outputs": [],
   "source": [
    "box_layout = widgets.Layout(display='flex',\n",
    "                flex_flow='column',\n",
    "                align_items='center',\n",
    "                width='100%')"
   ]
  },
  {
   "cell_type": "code",
   "execution_count": 12,
   "metadata": {},
   "outputs": [
    {
     "data": {
      "application/vnd.jupyter.widget-view+json": {
       "model_id": "06f577e808ff4673bbc879d488430d63",
       "version_major": 2,
       "version_minor": 0
      },
      "text/plain": [
       "VBox(children=(FileUpload(value={}, description='Upload'), Output(), Label(value='Please choose an image'), Bu…"
      ]
     },
     "metadata": {},
     "output_type": "display_data"
    }
   ],
   "source": [
    "VBox([upload_button, image_display, label_display, classify_button])"
   ]
  },
  {
   "cell_type": "code",
   "execution_count": 9,
   "metadata": {},
   "outputs": [],
   "source": [
    "# !pip install voila \n",
    "# !jupyter serverextension enable voila —sys-prefix\n",
    "# !jupyter serverextension enable --sys-prefix voila "
   ]
  },
  {
   "cell_type": "code",
   "execution_count": null,
   "metadata": {},
   "outputs": [],
   "source": [
    "# upload_button"
   ]
  },
  {
   "cell_type": "code",
   "execution_count": null,
   "metadata": {},
   "outputs": [],
   "source": [
    "# upload_button."
   ]
  }
 ],
 "metadata": {
  "kernelspec": {
   "display_name": "Python 3",
   "language": "python",
   "name": "python3"
  },
  "language_info": {
   "codemirror_mode": {
    "name": "ipython",
    "version": 3
   },
   "file_extension": ".py",
   "mimetype": "text/x-python",
   "name": "python",
   "nbconvert_exporter": "python",
   "pygments_lexer": "ipython3",
   "version": "3.8.5"
  }
 },
 "nbformat": 4,
 "nbformat_minor": 4
}
