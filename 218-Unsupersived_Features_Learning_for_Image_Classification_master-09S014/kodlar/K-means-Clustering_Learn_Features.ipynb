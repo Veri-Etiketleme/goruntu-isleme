{
 "cells": [
  {
   "cell_type": "code",
   "execution_count": 1,
   "metadata": {
    "collapsed": true
   },
   "outputs": [],
   "source": [
    "from numpy import *\n",
    "import numpy as np\n",
    "import cPickle\n",
    "import scipy.io as io\n",
    "from random import randrange \n",
    "from matplotlib import pyplot as plt\n",
    "from os.path import join\n",
    "from sklearn.cluster import KMeans\n",
    "from sklearn import metrics\n",
    "import cPickle as pickle\n",
    "import matplotlib\n",
    "from sklearn.feature_extraction import image\n",
    "from ipywidgets import FloatProgress\n",
    "from IPython.display import display"
   ]
  },
  {
   "cell_type": "markdown",
   "metadata": {},
   "source": [
    "## Unsupervised feature learning"
   ]
  },
  {
   "cell_type": "code",
   "execution_count": 2,
   "metadata": {
    "collapsed": true
   },
   "outputs": [],
   "source": [
    "def normalization(patches):\n",
    "    means_patches = mean(patches, axis=0)\n",
    "    std_patches = std(patches, axis=0)\n",
    "    patches = (patches - means_patches[np.newaxis,:])/(std_patches[np.newaxis,:])\n",
    "    return patches\n",
    "\n",
    "def whitening(patches):\n",
    "    eig_values, eig_vec = np.linalg.eig(np.cov(patches.T))\n",
    "    zca = eig_vec.dot(np.diag((eig_values+0.01)**-0.5).dot(eig_vec.T))\n",
    "    patches = np.dot(patches, zca)\n",
    "    return patches"
   ]
  },
  {
   "cell_type": "code",
   "execution_count": null,
   "metadata": {
    "collapsed": false
   },
   "outputs": [],
   "source": [
    "# READ THE DATA\n",
    "with open(join('cifar-10-batches-py','data_batch_1'),'rb') as f:\n",
    "    data = pickle.load(f)\n",
    "    \n",
    "images = data['data'].reshape((-1,3,32,32)).astype('float64')\n",
    "images = np.rollaxis(images, 1, 4)"
   ]
  },
  {
   "cell_type": "code",
   "execution_count": 4,
   "metadata": {
    "collapsed": true
   },
   "outputs": [],
   "source": [
    "# EXTRACT RANDOM PATCHES\n",
    "rng = np.random.RandomState(0)\n",
    "NBPATCH = 16\n",
    "patches = np.zeros((NBPATCH*10000,6,6,3))\n",
    "indice =0\n",
    "for i in range(10000):\n",
    "    patches[indice:indice+NBPATCH] = image.extract_patches_2d(images[i], (6,6), NBPATCH, random_state=rng)\n",
    "    indice+=NBPATCH\n",
    "\n",
    "patches = patches.reshape(NBPATCH*10000,108)\n"
   ]
  },
  {
   "cell_type": "code",
   "execution_count": 5,
   "metadata": {
    "collapsed": true
   },
   "outputs": [],
   "source": [
    "patches = normalization(patches)\n",
    "patches = whitening(patches)"
   ]
  },
  {
   "cell_type": "code",
   "execution_count": 6,
   "metadata": {
    "collapsed": false
   },
   "outputs": [
    {
     "name": "stdout",
     "output_type": "stream",
     "text": [
      "Initialization complete\n",
      "Iteration  0, inertia 8826650.968\n",
      "Iteration  1, inertia 8215325.480\n",
      "Iteration  2, inertia 8067719.961\n",
      "Iteration  3, inertia 8004069.770\n",
      "Iteration  4, inertia 7970058.544\n",
      "Iteration  5, inertia 7946554.325\n",
      "Iteration  6, inertia 7926754.545\n",
      "Iteration  7, inertia 7911865.533\n",
      "Iteration  8, inertia 7901392.475\n",
      "Iteration  9, inertia 7893543.972\n",
      "Iteration 10, inertia 7887505.209\n",
      "Iteration 11, inertia 7882763.716\n",
      "Iteration 12, inertia 7878864.410\n",
      "Iteration 13, inertia 7875426.448\n",
      "Iteration 14, inertia 7872519.959\n",
      "Iteration 15, inertia 7869800.366\n",
      "Iteration 16, inertia 7867355.577\n",
      "Iteration 17, inertia 7865069.052\n",
      "Iteration 18, inertia 7862912.291\n",
      "Iteration 19, inertia 7861102.683\n",
      "Iteration 20, inertia 7859578.374\n",
      "Iteration 21, inertia 7858156.717\n",
      "Iteration 22, inertia 7856814.314\n",
      "Iteration 23, inertia 7855508.741\n",
      "Iteration 24, inertia 7854182.266\n",
      "Iteration 25, inertia 7852834.895\n",
      "Iteration 26, inertia 7851435.723\n",
      "Iteration 27, inertia 7850016.236\n",
      "Iteration 28, inertia 7848762.703\n",
      "Iteration 29, inertia 7847723.890\n",
      "Iteration 30, inertia 7846873.008\n",
      "Iteration 31, inertia 7846103.140\n",
      "Iteration 32, inertia 7845429.843\n",
      "Iteration 33, inertia 7844867.147\n",
      "Iteration 34, inertia 7844404.888\n",
      "Iteration 35, inertia 7843976.653\n",
      "Iteration 36, inertia 7843583.279\n",
      "Iteration 37, inertia 7843235.714\n",
      "Iteration 38, inertia 7842917.662\n",
      "Iteration 39, inertia 7842630.084\n",
      "Iteration 40, inertia 7842388.209\n",
      "Iteration 41, inertia 7842164.491\n",
      "Iteration 42, inertia 7841973.387\n",
      "Iteration 43, inertia 7841806.508\n",
      "Iteration 44, inertia 7841656.676\n",
      "Iteration 45, inertia 7841500.403\n",
      "Iteration 46, inertia 7841343.910\n",
      "Iteration 47, inertia 7841183.745\n",
      "Iteration 48, inertia 7841033.064\n",
      "Iteration 49, inertia 7840892.093\n",
      "Iteration 50, inertia 7840750.778\n",
      "Iteration 51, inertia 7840623.947\n",
      "Iteration 52, inertia 7840515.011\n",
      "Iteration 53, inertia 7840397.212\n",
      "Iteration 54, inertia 7840285.970\n",
      "Iteration 55, inertia 7840176.437\n",
      "Iteration 56, inertia 7840071.766\n",
      "Iteration 57, inertia 7839969.135\n",
      "Iteration 58, inertia 7839875.873\n",
      "Iteration 59, inertia 7839794.174\n",
      "Iteration 60, inertia 7839716.580\n",
      "Iteration 61, inertia 7839644.742\n",
      "Iteration 62, inertia 7839573.695\n",
      "Iteration 63, inertia 7839492.741\n",
      "Iteration 64, inertia 7839414.968\n",
      "Iteration 65, inertia 7839334.636\n",
      "Iteration 66, inertia 7839256.005\n",
      "Iteration 67, inertia 7839165.777\n",
      "Iteration 68, inertia 7839066.729\n",
      "Iteration 69, inertia 7838969.710\n",
      "Iteration 70, inertia 7838868.829\n",
      "Iteration 71, inertia 7838782.429\n",
      "Iteration 72, inertia 7838708.600\n",
      "Iteration 73, inertia 7838634.613\n",
      "Iteration 74, inertia 7838561.186\n",
      "Iteration 75, inertia 7838489.108\n",
      "Iteration 76, inertia 7838406.409\n",
      "Iteration 77, inertia 7838321.296\n",
      "Iteration 78, inertia 7838230.273\n",
      "Iteration 79, inertia 7838135.404\n",
      "Iteration 80, inertia 7838043.248\n",
      "Iteration 81, inertia 7837951.888\n",
      "Iteration 82, inertia 7837891.120\n",
      "Iteration 83, inertia 7837845.562\n",
      "Iteration 84, inertia 7837803.280\n",
      "Iteration 85, inertia 7837754.279\n",
      "Iteration 86, inertia 7837715.014\n",
      "Iteration 87, inertia 7837671.005\n",
      "Iteration 88, inertia 7837634.202\n",
      "Iteration 89, inertia 7837596.268\n",
      "Iteration 90, inertia 7837554.588\n",
      "Iteration 91, inertia 7837516.362\n",
      "Iteration 92, inertia 7837479.190\n",
      "Iteration 93, inertia 7837444.763\n",
      "Iteration 94, inertia 7837408.592\n",
      "Iteration 95, inertia 7837371.225\n",
      "Iteration 96, inertia 7837336.385\n",
      "Iteration 97, inertia 7837301.960\n",
      "Iteration 98, inertia 7837277.851\n",
      "Iteration 99, inertia 7837258.113\n",
      "Iteration 100, inertia 7837232.545\n",
      "Iteration 101, inertia 7837216.773\n",
      "Iteration 102, inertia 7837201.871\n",
      "Iteration 103, inertia 7837188.871\n",
      "Iteration 104, inertia 7837177.253\n",
      "Iteration 105, inertia 7837167.478\n",
      "Iteration 106, inertia 7837157.252\n",
      "Iteration 107, inertia 7837146.751\n",
      "Iteration 108, inertia 7837135.674\n",
      "Iteration 109, inertia 7837126.079\n",
      "Iteration 110, inertia 7837116.460\n",
      "Iteration 111, inertia 7837106.990\n",
      "Iteration 112, inertia 7837096.545\n",
      "Iteration 113, inertia 7837085.541\n",
      "Iteration 114, inertia 7837075.379\n",
      "Iteration 115, inertia 7837064.399\n",
      "Iteration 116, inertia 7837051.690\n",
      "Iteration 117, inertia 7837037.926\n",
      "Iteration 118, inertia 7837022.133\n",
      "Iteration 119, inertia 7837006.439\n",
      "Iteration 120, inertia 7836992.128\n",
      "Iteration 121, inertia 7836978.311\n",
      "Iteration 122, inertia 7836964.032\n",
      "Iteration 123, inertia 7836950.493\n",
      "Iteration 124, inertia 7836938.408\n",
      "Iteration 125, inertia 7836928.979\n",
      "Iteration 126, inertia 7836918.721\n",
      "Iteration 127, inertia 7836908.419\n",
      "Iteration 128, inertia 7836901.271\n",
      "Iteration 129, inertia 7836892.971\n",
      "Iteration 130, inertia 7836883.664\n",
      "Iteration 131, inertia 7836873.973\n",
      "Iteration 132, inertia 7836867.607\n",
      "Iteration 133, inertia 7836863.513\n",
      "Iteration 134, inertia 7836861.068\n",
      "Iteration 135, inertia 7836858.606\n",
      "Iteration 136, inertia 7836856.635\n",
      "Iteration 137, inertia 7836854.630\n",
      "Iteration 138, inertia 7836851.727\n",
      "Iteration 139, inertia 7836848.661\n",
      "Iteration 140, inertia 7836845.785\n",
      "Iteration 141, inertia 7836841.562\n",
      "Iteration 142, inertia 7836836.385\n",
      "Iteration 143, inertia 7836829.371\n",
      "Iteration 144, inertia 7836821.733\n",
      "Iteration 145, inertia 7836814.756\n",
      "Iteration 146, inertia 7836808.178\n",
      "Iteration 147, inertia 7836802.596\n",
      "Iteration 148, inertia 7836797.013\n",
      "Iteration 149, inertia 7836790.534\n",
      "Iteration 150, inertia 7836784.173\n",
      "Iteration 151, inertia 7836776.751\n",
      "Iteration 152, inertia 7836772.102\n",
      "Iteration 153, inertia 7836768.646\n",
      "Iteration 154, inertia 7836766.381\n",
      "Iteration 155, inertia 7836764.102\n",
      "Iteration 156, inertia 7836761.392\n",
      "Iteration 157, inertia 7836758.617\n",
      "Iteration 158, inertia 7836756.209\n",
      "Iteration 159, inertia 7836753.774\n",
      "Iteration 160, inertia 7836752.379\n",
      "Iteration 161, inertia 7836751.270\n",
      "Iteration 162, inertia 7836750.073\n",
      "Iteration 163, inertia 7836749.090\n",
      "Iteration 164, inertia 7836748.357\n",
      "Iteration 165, inertia 7836747.253\n",
      "Iteration 166, inertia 7836745.538\n",
      "Iteration 167, inertia 7836743.798\n",
      "Iteration 168, inertia 7836742.908\n",
      "Iteration 169, inertia 7836742.400\n",
      "Iteration 170, inertia 7836741.829\n",
      "Iteration 171, inertia 7836741.563\n",
      "Iteration 172, inertia 7836741.228\n",
      "Iteration 173, inertia 7836740.674\n",
      "Iteration 174, inertia 7836740.356\n",
      "Converged at iteration 174\n"
     ]
    }
   ],
   "source": [
    "# RUN K-MEANS\n",
    "NUM_CLUSTERS= 50\n",
    "km = KMeans(n_clusters=NUM_CLUSTERS, n_jobs=1, random_state=0, n_init=1, verbose=True)\n",
    "km.fit_predict(patches)\n",
    "centroids = km.cluster_centers_.reshape((NUM_CLUSTERS,6,6,3))"
   ]
  },
  {
   "cell_type": "markdown",
   "metadata": {},
   "source": [
    "## Learn feature"
   ]
  },
  {
   "cell_type": "code",
   "execution_count": 7,
   "metadata": {
    "collapsed": true
   },
   "outputs": [],
   "source": [
    "# READ THE DATA / YOU CAN READ EITHER THE SAME BATCH OR AN OTHER\n",
    "np.set_printoptions(threshold=np.nan)\n",
    "\n",
    "with open(join('cifar-10-batches-py','test_batch'),'rb') as f:\n",
    "    data_2 = pickle.load(f)\n",
    "\n",
    "data2 = data['data'].reshape((-1,3,32,32)).astype('float32')\n",
    "data2 = np.rollaxis(images, 1, 4)\n",
    "labels2 = data_2['labels']"
   ]
  },
  {
   "cell_type": "code",
   "execution_count": 8,
   "metadata": {
    "collapsed": true
   },
   "outputs": [],
   "source": [
    "#EXTRACT DETERMINIST PATCHES With STRIDE\n",
    "patch_size = 6\n",
    "s =1\n",
    "loss = 32-(patch_size+1)*(32/(patch_size+s))\n",
    "nb_patches = (32/(patch_size+s))\n",
    "patches = np.zeros((0,patch_size,patch_size,3))\n",
    "for x in range(0,32-loss,patch_size+s):\n",
    "    for y in range(0,32-loss,patch_size+s):\n",
    "        patches = np.concatenate((patches, images[:,x:x+patch_size,y:y+patch_size,:]), axis=0)\n",
    "\n",
    "patches = patches.reshape((patches.shape[0],-1))\n"
   ]
  },
  {
   "cell_type": "code",
   "execution_count": 9,
   "metadata": {
    "collapsed": true
   },
   "outputs": [],
   "source": [
    "# REAPPLY THE SAME NORMALIZATION AND WHITENING\n",
    "patches = normalization(patches)\n",
    "patches = whitening(patches)"
   ]
  },
  {
   "cell_type": "code",
   "execution_count": 10,
   "metadata": {
    "collapsed": false
   },
   "outputs": [],
   "source": [
    "# GET THE CLUSTER ASSIEGNMENT FOR EACH PATCH\n",
    "newCls = km.predict(patches)"
   ]
  },
  {
   "cell_type": "code",
   "execution_count": 11,
   "metadata": {
    "collapsed": true
   },
   "outputs": [],
   "source": [
    "# TRANSFORM THE PATCH TO BINARY VECTOR\n",
    "Kpatches=np.zeros((160000,NUM_CLUSTERS))\n",
    "for x in range(160000):\n",
    "    Kpatches[x][newCls[x]]=1"
   ]
  },
  {
   "cell_type": "code",
   "execution_count": 12,
   "metadata": {
    "collapsed": true
   },
   "outputs": [],
   "source": [
    "# CONSTRUCT THE REPRESENTATION OF THE IMAGES USING THE BINARY VECTORS\n",
    "cls_images =np.zeros((10000,nb_patches, nb_patches,NUM_CLUSTERS))\n",
    "indices =0\n",
    "a,b =nb_patches,nb_patches\n",
    "for img in range(10000):\n",
    "    for i in range(nb_patches):\n",
    "        for j in range(nb_patches):\n",
    "            cls_images[img][i][j] = Kpatches[indices]\n",
    "            indices += 1"
   ]
  },
  {
   "cell_type": "code",
   "execution_count": 13,
   "metadata": {
    "collapsed": false
   },
   "outputs": [],
   "source": [
    "# CREATE THE FEATURES VECTORS THAT WILL BE USED IN NAIVE BAYES\n",
    "# WE WILL CLASSIFY THE FEATURES(REPRESENTATION OF THE IMAFE) NOT THE IMAGES \n",
    "\n",
    "nb_features = 4*NUM_CLUSTERS\n",
    "features = np.zeros((10000,nb_features))\n",
    "half = nb_patches/2\n",
    "\n",
    "for i in range(10000):\n",
    "    im = cls_images[i]\n",
    "    indice =0\n",
    "    for k in range(NUM_CLUSTERS):\n",
    "        features[i][indice]= sum(im[0:half,0:half,k])\n",
    "        features[i][indice+1]= sum(im[0:half,half:,k])\n",
    "        features[i][indice+2]= sum(im[half:,0:half,k])\n",
    "        features[i][indice+3]= sum(im[half:,half:,k])\n",
    "        indice+=4\n",
    "#Save the features to be used in Naive Bayes        \n",
    "pickle.dump(features, open(\"features/hard-k-150/raw-data/projecteatures-hard-300-16.obj\", \"wb\"))"
   ]
  }
 ],
 "metadata": {
  "anaconda-cloud": {},
  "kernelspec": {
   "display_name": "Python [Root]",
   "language": "python",
   "name": "Python [Root]"
  },
  "language_info": {
   "codemirror_mode": {
    "name": "ipython",
    "version": 2
   },
   "file_extension": ".py",
   "mimetype": "text/x-python",
   "name": "python",
   "nbconvert_exporter": "python",
   "pygments_lexer": "ipython2",
   "version": "2.7.12"
  }
 },
 "nbformat": 4,
 "nbformat_minor": 1
}
