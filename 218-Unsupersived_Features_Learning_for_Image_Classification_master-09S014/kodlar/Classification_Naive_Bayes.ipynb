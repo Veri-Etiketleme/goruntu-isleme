{
 "cells": [
  {
   "cell_type": "code",
   "execution_count": 1,
   "metadata": {
    "collapsed": true
   },
   "outputs": [],
   "source": [
    "from numpy import *\n",
    "import numpy as np\n",
    "import cPickle\n",
    "import scipy.io as io\n",
    "from random import randrange\n",
    "from scipy.cluster.vq import whiten  # this package allows us to apply whitenning  \n",
    "from matplotlib import pyplot as plt\n",
    "from os.path import join\n",
    "from sklearn.cluster import KMeans\n",
    "from sklearn import metrics\n",
    "import cPickle as pickle\n",
    "from os.path import join\n",
    "import matplotlib\n",
    "from sklearn.feature_extraction import image\n",
    "from sklearn import preprocessing\n",
    "from ipywidgets import FloatProgress\n",
    "from IPython.display import display"
   ]
  },
  {
   "cell_type": "markdown",
   "metadata": {},
   "source": [
    "### Naive Bayes"
   ]
  },
  {
   "cell_type": "code",
   "execution_count": 10,
   "metadata": {
    "collapsed": true
   },
   "outputs": [],
   "source": [
    "class NaiveBayes:\n",
    "    def __init__(self, NLABELS, training_set,\n",
    "                 testing_set, training_labels, test_labels):\n",
    "            self.NLABELS = NLABELS\n",
    "            self.train_set = training_set\n",
    "            self.test_set = testing_set\n",
    "            self.train_labels = training_labels\n",
    "            self.test_labels = test_labels\n",
    "    \n",
    "    def compute_means_var(self):\n",
    "        means = {}\n",
    "        variances = {}\n",
    "        for lbl in range(self.NLABELS):\n",
    "            subtrain = self.train_set[self.train_labels==lbl]\n",
    "            mean = subtrain.mean(axis=0)   \n",
    "            means[lbl]=mean                 \n",
    "            var = sum((subtrain[n] - mean)**2 \n",
    "                      for n in range(subtrain.shape[0]))/subtrain.shape[0]\n",
    "            variances[lbl]=var\n",
    "        return means, variances\n",
    "        \n",
    "    def compute_priors(self):\n",
    "        priors = {}\n",
    "        priors = np.zeros([self.NLABELS,1])\n",
    "        for lbl in range(self.NLABELS):\n",
    "            priors[lbl]=self.train_labels[self.train_labels==lbl].shape[0]\n",
    "        priors = priors/priors.sum()\n",
    "        return priors\n",
    "    \n",
    "    def computePosteriors(self, image, m, v, p):\n",
    "        posteriors = np.zeros([self.NLABELS,1])\n",
    "        for lbl in range(self.NLABELS):\n",
    "                mean = m[lbl]\n",
    "                sigma2 = v[lbl]\n",
    "                non_null = sigma2!=0\n",
    "                scale = 0.5*np.log(2*sigma2[non_null]*math.pi)\n",
    "                expterm = -0.5*np.divide(np.square(image[non_null]-mean[non_null])\n",
    "                                         ,sigma2[non_null])\n",
    "                llh = (expterm-scale).sum()\n",
    "                post = llh + np.log(p[lbl]) \n",
    "                posteriors[lbl]=post\n",
    "        return posteriors\n",
    "    \n",
    "    def run_naive_bayes(self):\n",
    "        f = FloatProgress(min=0, max=NLABELS)\n",
    "        display(f)\n",
    "\n",
    "        means, variances = self.compute_means_var()\n",
    "        priors =self.compute_priors()\n",
    "        total=0.0\n",
    "        correct=0.0\n",
    "        confusion = np.zeros([self.NLABELS,self.NLABELS])\n",
    "        dataset= self.test_set\n",
    "        dataset_label = self.test_labels\n",
    "        for i in range(len(dataset)):\n",
    "            f.value+=1\n",
    "            posts = self.computePosteriors( dataset[i],  means, variances,priors )\n",
    "            hyp=np.argmax(posts)  \n",
    "            ref=dataset_label[i]\n",
    "            if hyp==ref:\n",
    "                correct+=1\n",
    "            confusion[hyp][ref]+=1\n",
    "            total+=1\n",
    "        print \"Correctly classified images : \"+str(correct)+\" / \"+str(total)+ \" -> \"+ str(correct*100/total) \n",
    "    "
   ]
  },
  {
   "cell_type": "code",
   "execution_count": 11,
   "metadata": {
    "collapsed": false
   },
   "outputs": [],
   "source": [
    "\n",
    "NUM_CLUSTERS =50\n",
    "NLABELS = 10\n",
    "# Get labels\n",
    "with open(join('cifar-10-batches-py','test_batch'),'rb') as f:\n",
    "    data_2 = pickle.load(f)\n",
    "labels2 = data_2['labels']\n",
    "\n",
    "# Load features\n",
    "features = pickle.load(open(\"features/hard-k-150/raw-data/projecteatures-hard-300-16.obj\", \"rb\"))"
   ]
  },
  {
   "cell_type": "code",
   "execution_count": 12,
   "metadata": {
    "collapsed": false
   },
   "outputs": [
    {
     "name": "stdout",
     "output_type": "stream",
     "text": [
      "Correctly classified images : 315.0 / 3000.0 -> 10.5\n"
     ]
    }
   ],
   "source": [
    "# Run Naive Bayes\n",
    "train_set = empty((7000, 4*NUM_CLUSTERS))\n",
    "test_set = empty((3000, 4*NUM_CLUSTERS))\n",
    "train_labels = empty((7000,))\n",
    "test_labels = empty((3000,))\n",
    "\n",
    "train_set[0:7000,:] = features[0:7000,:]\n",
    "test_set[0:3000,:] = features[7000:10000,:]\n",
    "train_labels=np.array(labels2[:7000])\n",
    "test_labels =np.array(labels2[7000:])\n",
    "naive_bayes = NaiveBayes(NLABELS,train_set,test_set,train_labels,test_labels )\n",
    "naive_bayes.run_naive_bayes()"
   ]
  },
  {
   "cell_type": "code",
   "execution_count": null,
   "metadata": {
    "collapsed": true
   },
   "outputs": [],
   "source": []
  },
  {
   "cell_type": "code",
   "execution_count": null,
   "metadata": {
    "collapsed": true
   },
   "outputs": [],
   "source": []
  }
 ],
 "metadata": {
  "anaconda-cloud": {},
  "kernelspec": {
   "display_name": "Python [Root]",
   "language": "python",
   "name": "Python [Root]"
  },
  "language_info": {
   "codemirror_mode": {
    "name": "ipython",
    "version": 2
   },
   "file_extension": ".py",
   "mimetype": "text/x-python",
   "name": "python",
   "nbconvert_exporter": "python",
   "pygments_lexer": "ipython2",
   "version": "2.7.12"
  },
  "widgets": {
   "state": {
    "80953a83f3ba40a985f5a4497d7c59e9": {
     "views": [
      {
       "cell_index": 4
      }
     ]
    }
   },
   "version": "1.2.0"
  }
 },
 "nbformat": 4,
 "nbformat_minor": 1
}
