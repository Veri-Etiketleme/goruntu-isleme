{
  "nbformat": 4,
  "nbformat_minor": 0,
  "metadata": {
    "colab": {
      "name": "Without seg examples",
      "provenance": [],
      "collapsed_sections": []
    },
    "kernelspec": {
      "name": "python3",
      "display_name": "Python 3"
    },
    "accelerator": "GPU"
  },
  "cells": [
    {
      "cell_type": "markdown",
      "metadata": {
        "id": "0Uld1IQgwKIL"
      },
      "source": [
        "Note\n",
        "- [Colab Only] Means the associated cell is required only if you are running the model on Google Colaboratory"
      ]
    },
    {
      "cell_type": "markdown",
      "metadata": {
        "id": "m-oHUemNtm59"
      },
      "source": [
        "## Mount Drive [Colab Only]\n",
        "Mount the google drive to access the dataset stored on drive."
      ]
    },
    {
      "cell_type": "code",
      "metadata": {
        "id": "zYkOcDYNtf-e",
        "colab": {
          "base_uri": "https://localhost:8080/",
          "height": 34
        },
        "outputId": "9b4d252d-3b61-4157-c2b3-3b1772386b90"
      },
      "source": [
        "from google.colab import drive\n",
        "drive.mount('/gdrive')"
      ],
      "execution_count": null,
      "outputs": [
        {
          "output_type": "stream",
          "text": [
            "Drive already mounted at /gdrive; to attempt to forcibly remount, call drive.mount(\"/gdrive\", force_remount=True).\n"
          ],
          "name": "stdout"
        }
      ]
    },
    {
      "cell_type": "code",
      "metadata": {
        "id": "uCfvhqaI3sQR"
      },
      "source": [
        "%load_ext tensorboard\n"
      ],
      "execution_count": null,
      "outputs": []
    },
    {
      "cell_type": "markdown",
      "metadata": {
        "id": "Psq2s15_wlfJ"
      },
      "source": [
        "## Extract the Dataset"
      ]
    },
    {
      "cell_type": "code",
      "metadata": {
        "id": "DuUurNXQtmXT"
      },
      "source": [
        "import zipfile  # For faster extraction\n",
        "dataset_path = \"/gdrive/My Drive/BRATS2018/MICCAI_BraTS_2018_Data_Training.zip\"  # Replace with your dataset path\n",
        "zfile = zipfile.ZipFile(dataset_path)\n",
        "zfile.extractall()"
      ],
      "execution_count": null,
      "outputs": []
    },
    {
      "cell_type": "markdown",
      "metadata": {
        "id": "4NA9UG5zw938"
      },
      "source": [
        "## Get required packages\n",
        "- **SimpleITK**: For loading the dataset\n",
        "- **[model.py](https://github.com/IAmSuyogJadhav/3d-mri-brain-tumor-segmentation-using-autoencoder-regularization/)**: The model from BRATS2018 winning paper"
      ]
    },
    {
      "cell_type": "code",
      "metadata": {
        "id": "SqMFpmc6uCjQ",
        "colab": {
          "base_uri": "https://localhost:8080/",
          "height": 306
        },
        "outputId": "2957f252-2368-40ff-e41f-990c3c54814a"
      },
      "source": [
        "!pip install simpleitk\n",
        "!wget https://github.com/IAmSuyogJadhav/3d-mri-brain-tumor-segmentation-using-autoencoder-regularization/raw/master/model.py"
      ],
      "execution_count": null,
      "outputs": [
        {
          "output_type": "stream",
          "text": [
            "Requirement already satisfied: simpleitk in /usr/local/lib/python3.6/dist-packages (1.2.4)\n",
            "--2020-01-31 14:53:22--  https://github.com/IAmSuyogJadhav/3d-mri-brain-tumor-segmentation-using-autoencoder-regularization/raw/master/model.py\n",
            "Resolving github.com (github.com)... 192.30.255.112\n",
            "Connecting to github.com (github.com)|192.30.255.112|:443... connected.\n",
            "HTTP request sent, awaiting response... 302 Found\n",
            "Location: https://raw.githubusercontent.com/IAmSuyogJadhav/3d-mri-brain-tumor-segmentation-using-autoencoder-regularization/master/model.py [following]\n",
            "--2020-01-31 14:53:22--  https://raw.githubusercontent.com/IAmSuyogJadhav/3d-mri-brain-tumor-segmentation-using-autoencoder-regularization/master/model.py\n",
            "Resolving raw.githubusercontent.com (raw.githubusercontent.com)... 151.101.0.133, 151.101.64.133, 151.101.128.133, ...\n",
            "Connecting to raw.githubusercontent.com (raw.githubusercontent.com)|151.101.0.133|:443... connected.\n",
            "HTTP request sent, awaiting response... 200 OK\n",
            "Length: 16490 (16K) [text/plain]\n",
            "Saving to: ‘model.py.1’\n",
            "\n",
            "model.py.1          100%[===================>]  16.10K  --.-KB/s    in 0.007s  \n",
            "\n",
            "2020-01-31 14:53:22 (2.34 MB/s) - ‘model.py.1’ saved [16490/16490]\n",
            "\n"
          ],
          "name": "stdout"
        }
      ]
    },
    {
      "cell_type": "markdown",
      "metadata": {
        "id": "09ARH9U4D2Wy"
      },
      "source": [
        "## Imports and helper functions"
      ]
    },
    {
      "cell_type": "code",
      "metadata": {
        "id": "4uAsBShgB3v_"
      },
      "source": [
        "import SimpleITK as sitk  # For loading the dataset\n",
        "import numpy as np  # For data manipulation\n",
        "from model import build_model  # For creating the model\n",
        "import glob  # For populating the list of files\n",
        "from scipy.ndimage import zoom  # For resizing\n",
        "import re  # For parsing the filenames (to know their modality)"
      ],
      "execution_count": null,
      "outputs": []
    },
    {
      "cell_type": "code",
      "metadata": {
        "id": "nNNtloQ9B3sA"
      },
      "source": [
        "def read_img(img_path):\n",
        "    \"\"\"\n",
        "    Reads a .nii.gz image and returns as a numpy array.\n",
        "    \"\"\"\n",
        "    return sitk.GetArrayFromImage(sitk.ReadImage(img_path))"
      ],
      "execution_count": null,
      "outputs": []
    },
    {
      "cell_type": "code",
      "metadata": {
        "id": "fEIRGXpdfssT"
      },
      "source": [
        "def resize(img, shape, mode='constant', orig_shape=(155, 240, 240)):\n",
        "    \"\"\"\n",
        "    Wrapper for scipy.ndimage.zoom suited for MRI images.\n",
        "    \"\"\"\n",
        "    assert len(shape) == 3, \"Can not have more than 3 dimensions\"\n",
        "    factors = (\n",
        "        shape[0]/orig_shape[0],\n",
        "        shape[1]/orig_shape[1], \n",
        "        shape[2]/orig_shape[2]\n",
        "    )\n",
        "    \n",
        "    # Resize to the given shape\n",
        "    return zoom(img, factors, mode=mode)\n",
        "\n",
        "\n",
        "def preprocess(img, out_shape=None):\n",
        "    \"\"\"\n",
        "    Preprocess the image.\n",
        "    Just an example, you can add more preprocessing steps if you wish to.\n",
        "    \"\"\"\n",
        "    if out_shape is not None:\n",
        "        img = resize(img, out_shape, mode='constant')\n",
        "    \n",
        "    # Normalize the image\n",
        "    mean = img.mean()\n",
        "    std = img.std()\n",
        "    return (img - mean) / std\n",
        "\n",
        "\n",
        "def preprocess_label(img, out_shape=None, mode='nearest'):\n",
        "    \"\"\"\n",
        "    Separates out the 3 labels from the segmentation provided, namely:\n",
        "    GD-enhancing tumor (ET — label 4), the peritumoral edema (ED — label 2))\n",
        "    and the necrotic and non-enhancing tumor core (NCR/NET — label 1)\n",
        "    \"\"\"\n",
        "    ncr = img == 1  # Necrotic and Non-Enhancing Tumor (NCR/NET)\n",
        "    ed = img == 2  # Peritumoral Edema (ED)\n",
        "    et = img == 4  # GD-enhancing Tumor (ET)\n",
        "    \n",
        "    if out_shape is not None:\n",
        "        ncr = resize(ncr, out_shape, mode=mode)\n",
        "        ed = resize(ed, out_shape, mode=mode)\n",
        "        et = resize(et, out_shape, mode=mode)\n",
        "\n",
        "    return np.array([ncr, ed, et], dtype=np.uint8)\n",
        "    "
      ],
      "execution_count": null,
      "outputs": []
    },
    {
      "cell_type": "markdown",
      "metadata": {
        "id": "piRsc9rYYRzl"
      },
      "source": [
        "## Loading Data\n"
      ]
    },
    {
      "cell_type": "code",
      "metadata": {
        "id": "7adjWzdCuECK"
      },
      "source": [
        "# Get a list of files for all modalities individually\n",
        "t1 = glob.glob('*GG/*/*t1.nii.gz')\n",
        "t2 = glob.glob('*GG/*/*t2.nii.gz')\n",
        "flair = glob.glob('*GG/*/*flair.nii.gz')\n",
        "t1ce = glob.glob('*GG/*/*t1ce.nii.gz')\n",
        "seg = glob.glob('*GG/*/*seg.nii.gz')  # Ground Truth"
      ],
      "execution_count": null,
      "outputs": []
    },
    {
      "cell_type": "code",
      "metadata": {
        "id": "4Nqs7umNcWKm",
        "colab": {
          "base_uri": "https://localhost:8080/",
          "height": 1000
        },
        "outputId": "d8711868-5a00-4792-bc97-6ade46736e5f"
      },
      "source": [
        "seg"
      ],
      "execution_count": null,
      "outputs": [
        {
          "output_type": "execute_result",
          "data": {
            "text/plain": [
              "['HGG/Brats18_TCIA02_370_1/Brats18_TCIA02_370_1_seg.nii.gz',\n",
              " 'HGG/Brats18_CBICA_ABY_1/Brats18_CBICA_ABY_1_seg.nii.gz',\n",
              " 'HGG/Brats18_TCIA02_473_1/Brats18_TCIA02_473_1_seg.nii.gz',\n",
              " 'HGG/Brats18_CBICA_AAB_1/Brats18_CBICA_AAB_1_seg.nii.gz',\n",
              " 'HGG/Brats18_CBICA_AMH_1/Brats18_CBICA_AMH_1_seg.nii.gz',\n",
              " 'HGG/Brats18_CBICA_BHB_1/Brats18_CBICA_BHB_1_seg.nii.gz',\n",
              " 'HGG/Brats18_CBICA_AOD_1/Brats18_CBICA_AOD_1_seg.nii.gz',\n",
              " 'HGG/Brats18_TCIA03_121_1/Brats18_TCIA03_121_1_seg.nii.gz',\n",
              " 'HGG/Brats18_TCIA05_444_1/Brats18_TCIA05_444_1_seg.nii.gz',\n",
              " 'HGG/Brats18_TCIA02_117_1/Brats18_TCIA02_117_1_seg.nii.gz',\n",
              " 'HGG/Brats18_TCIA01_378_1/Brats18_TCIA01_378_1_seg.nii.gz',\n",
              " 'HGG/Brats18_CBICA_AXM_1/Brats18_CBICA_AXM_1_seg.nii.gz',\n",
              " 'HGG/Brats18_CBICA_AXQ_1/Brats18_CBICA_AXQ_1_seg.nii.gz',\n",
              " 'HGG/Brats18_CBICA_AQZ_1/Brats18_CBICA_AQZ_1_seg.nii.gz',\n",
              " 'HGG/Brats18_TCIA03_265_1/Brats18_TCIA03_265_1_seg.nii.gz',\n",
              " 'HGG/Brats18_CBICA_ABM_1/Brats18_CBICA_ABM_1_seg.nii.gz',\n",
              " 'HGG/Brats18_TCIA02_314_1/Brats18_TCIA02_314_1_seg.nii.gz',\n",
              " 'HGG/Brats18_TCIA01_150_1/Brats18_TCIA01_150_1_seg.nii.gz',\n",
              " 'HGG/Brats18_2013_13_1/Brats18_2013_13_1_seg.nii.gz',\n",
              " 'HGG/Brats18_2013_23_1/Brats18_2013_23_1_seg.nii.gz',\n",
              " 'HGG/Brats18_TCIA08_319_1/Brats18_TCIA08_319_1_seg.nii.gz',\n",
              " 'HGG/Brats18_TCIA04_149_1/Brats18_TCIA04_149_1_seg.nii.gz',\n",
              " 'HGG/Brats18_TCIA06_409_1/Brats18_TCIA06_409_1_seg.nii.gz',\n",
              " 'HGG/Brats18_TCIA03_257_1/Brats18_TCIA03_257_1_seg.nii.gz',\n",
              " 'HGG/Brats18_TCIA02_321_1/Brats18_TCIA02_321_1_seg.nii.gz',\n",
              " 'HGG/Brats18_TCIA08_469_1/Brats18_TCIA08_469_1_seg.nii.gz',\n",
              " 'HGG/Brats18_TCIA03_498_1/Brats18_TCIA03_498_1_seg.nii.gz',\n",
              " 'HGG/Brats18_TCIA01_221_1/Brats18_TCIA01_221_1_seg.nii.gz',\n",
              " 'HGG/Brats18_CBICA_ASK_1/Brats18_CBICA_ASK_1_seg.nii.gz',\n",
              " 'HGG/Brats18_CBICA_AXL_1/Brats18_CBICA_AXL_1_seg.nii.gz',\n",
              " 'HGG/Brats18_CBICA_AZD_1/Brats18_CBICA_AZD_1_seg.nii.gz',\n",
              " 'HGG/Brats18_TCIA02_198_1/Brats18_TCIA02_198_1_seg.nii.gz',\n",
              " 'HGG/Brats18_TCIA06_247_1/Brats18_TCIA06_247_1_seg.nii.gz',\n",
              " 'HGG/Brats18_TCIA08_162_1/Brats18_TCIA08_162_1_seg.nii.gz',\n",
              " 'HGG/Brats18_TCIA01_401_1/Brats18_TCIA01_401_1_seg.nii.gz',\n",
              " 'HGG/Brats18_CBICA_ATD_1/Brats18_CBICA_ATD_1_seg.nii.gz',\n",
              " 'HGG/Brats18_CBICA_ASE_1/Brats18_CBICA_ASE_1_seg.nii.gz',\n",
              " 'HGG/Brats18_TCIA01_190_1/Brats18_TCIA01_190_1_seg.nii.gz',\n",
              " 'HGG/Brats18_TCIA01_201_1/Brats18_TCIA01_201_1_seg.nii.gz',\n",
              " 'HGG/Brats18_TCIA01_390_1/Brats18_TCIA01_390_1_seg.nii.gz',\n",
              " 'HGG/Brats18_TCIA06_184_1/Brats18_TCIA06_184_1_seg.nii.gz',\n",
              " 'HGG/Brats18_2013_2_1/Brats18_2013_2_1_seg.nii.gz',\n",
              " 'HGG/Brats18_TCIA03_375_1/Brats18_TCIA03_375_1_seg.nii.gz',\n",
              " 'HGG/Brats18_TCIA02_368_1/Brats18_TCIA02_368_1_seg.nii.gz',\n",
              " 'HGG/Brats18_CBICA_ASA_1/Brats18_CBICA_ASA_1_seg.nii.gz',\n",
              " 'HGG/Brats18_2013_5_1/Brats18_2013_5_1_seg.nii.gz',\n",
              " 'HGG/Brats18_CBICA_AXN_1/Brats18_CBICA_AXN_1_seg.nii.gz',\n",
              " 'HGG/Brats18_CBICA_BFB_1/Brats18_CBICA_BFB_1_seg.nii.gz',\n",
              " 'HGG/Brats18_TCIA06_211_1/Brats18_TCIA06_211_1_seg.nii.gz',\n",
              " 'HGG/Brats18_TCIA03_296_1/Brats18_TCIA03_296_1_seg.nii.gz',\n",
              " 'HGG/Brats18_CBICA_AQV_1/Brats18_CBICA_AQV_1_seg.nii.gz',\n",
              " 'HGG/Brats18_TCIA01_412_1/Brats18_TCIA01_412_1_seg.nii.gz',\n",
              " 'HGG/Brats18_TCIA04_343_1/Brats18_TCIA04_343_1_seg.nii.gz',\n",
              " 'HGG/Brats18_2013_12_1/Brats18_2013_12_1_seg.nii.gz',\n",
              " 'HGG/Brats18_TCIA02_394_1/Brats18_TCIA02_394_1_seg.nii.gz',\n",
              " 'HGG/Brats18_CBICA_ASV_1/Brats18_CBICA_ASV_1_seg.nii.gz',\n",
              " 'HGG/Brats18_TCIA01_203_1/Brats18_TCIA01_203_1_seg.nii.gz',\n",
              " 'HGG/Brats18_2013_11_1/Brats18_2013_11_1_seg.nii.gz',\n",
              " 'HGG/Brats18_TCIA02_151_1/Brats18_TCIA02_151_1_seg.nii.gz',\n",
              " 'HGG/Brats18_CBICA_AYU_1/Brats18_CBICA_AYU_1_seg.nii.gz',\n",
              " 'HGG/Brats18_CBICA_BHK_1/Brats18_CBICA_BHK_1_seg.nii.gz',\n",
              " 'HGG/Brats18_CBICA_ARW_1/Brats18_CBICA_ARW_1_seg.nii.gz',\n",
              " 'HGG/Brats18_TCIA04_361_1/Brats18_TCIA04_361_1_seg.nii.gz',\n",
              " 'HGG/Brats18_TCIA08_105_1/Brats18_TCIA08_105_1_seg.nii.gz',\n",
              " 'HGG/Brats18_CBICA_BHM_1/Brats18_CBICA_BHM_1_seg.nii.gz',\n",
              " 'HGG/Brats18_TCIA02_471_1/Brats18_TCIA02_471_1_seg.nii.gz',\n",
              " 'HGG/Brats18_TCIA01_499_1/Brats18_TCIA01_499_1_seg.nii.gz',\n",
              " 'HGG/Brats18_CBICA_ANI_1/Brats18_CBICA_ANI_1_seg.nii.gz',\n",
              " 'HGG/Brats18_CBICA_AUN_1/Brats18_CBICA_AUN_1_seg.nii.gz',\n",
              " 'HGG/Brats18_CBICA_ABN_1/Brats18_CBICA_ABN_1_seg.nii.gz',\n",
              " 'HGG/Brats18_CBICA_APY_1/Brats18_CBICA_APY_1_seg.nii.gz',\n",
              " 'HGG/Brats18_CBICA_ATX_1/Brats18_CBICA_ATX_1_seg.nii.gz',\n",
              " 'HGG/Brats18_CBICA_ASW_1/Brats18_CBICA_ASW_1_seg.nii.gz',\n",
              " 'HGG/Brats18_CBICA_AXW_1/Brats18_CBICA_AXW_1_seg.nii.gz',\n",
              " 'HGG/Brats18_CBICA_AXJ_1/Brats18_CBICA_AXJ_1_seg.nii.gz',\n",
              " 'HGG/Brats18_TCIA02_168_1/Brats18_TCIA02_168_1_seg.nii.gz',\n",
              " 'HGG/Brats18_CBICA_AWH_1/Brats18_CBICA_AWH_1_seg.nii.gz',\n",
              " 'HGG/Brats18_TCIA02_208_1/Brats18_TCIA02_208_1_seg.nii.gz',\n",
              " 'HGG/Brats18_CBICA_ALN_1/Brats18_CBICA_ALN_1_seg.nii.gz',\n",
              " 'HGG/Brats18_CBICA_APZ_1/Brats18_CBICA_APZ_1_seg.nii.gz',\n",
              " 'HGG/Brats18_CBICA_ABO_1/Brats18_CBICA_ABO_1_seg.nii.gz',\n",
              " 'HGG/Brats18_CBICA_ATB_1/Brats18_CBICA_ATB_1_seg.nii.gz',\n",
              " 'HGG/Brats18_CBICA_AQA_1/Brats18_CBICA_AQA_1_seg.nii.gz',\n",
              " 'HGG/Brats18_TCIA02_300_1/Brats18_TCIA02_300_1_seg.nii.gz',\n",
              " 'HGG/Brats18_CBICA_AQT_1/Brats18_CBICA_AQT_1_seg.nii.gz',\n",
              " 'HGG/Brats18_CBICA_AQP_1/Brats18_CBICA_AQP_1_seg.nii.gz',\n",
              " 'HGG/Brats18_TCIA05_396_1/Brats18_TCIA05_396_1_seg.nii.gz',\n",
              " 'HGG/Brats18_CBICA_AZH_1/Brats18_CBICA_AZH_1_seg.nii.gz',\n",
              " 'HGG/Brats18_CBICA_AYI_1/Brats18_CBICA_AYI_1_seg.nii.gz',\n",
              " 'HGG/Brats18_TCIA03_138_1/Brats18_TCIA03_138_1_seg.nii.gz',\n",
              " 'HGG/Brats18_TCIA01_460_1/Brats18_TCIA01_460_1_seg.nii.gz',\n",
              " 'HGG/Brats18_CBICA_ATF_1/Brats18_CBICA_ATF_1_seg.nii.gz',\n",
              " 'HGG/Brats18_CBICA_AQD_1/Brats18_CBICA_AQD_1_seg.nii.gz',\n",
              " 'HGG/Brats18_TCIA04_328_1/Brats18_TCIA04_328_1_seg.nii.gz',\n",
              " 'HGG/Brats18_TCIA02_322_1/Brats18_TCIA02_322_1_seg.nii.gz',\n",
              " 'HGG/Brats18_TCIA02_455_1/Brats18_TCIA02_455_1_seg.nii.gz',\n",
              " 'HGG/Brats18_2013_27_1/Brats18_2013_27_1_seg.nii.gz',\n",
              " 'HGG/Brats18_TCIA01_235_1/Brats18_TCIA01_235_1_seg.nii.gz',\n",
              " 'HGG/Brats18_CBICA_AUQ_1/Brats18_CBICA_AUQ_1_seg.nii.gz',\n",
              " 'HGG/Brats18_TCIA01_131_1/Brats18_TCIA01_131_1_seg.nii.gz',\n",
              " 'HGG/Brats18_CBICA_ARZ_1/Brats18_CBICA_ARZ_1_seg.nii.gz',\n",
              " 'HGG/Brats18_CBICA_AQJ_1/Brats18_CBICA_AQJ_1_seg.nii.gz',\n",
              " 'HGG/Brats18_2013_7_1/Brats18_2013_7_1_seg.nii.gz',\n",
              " 'HGG/Brats18_CBICA_AQG_1/Brats18_CBICA_AQG_1_seg.nii.gz',\n",
              " 'HGG/Brats18_2013_17_1/Brats18_2013_17_1_seg.nii.gz',\n",
              " 'HGG/Brats18_TCIA02_222_1/Brats18_TCIA02_222_1_seg.nii.gz',\n",
              " 'HGG/Brats18_CBICA_ASO_1/Brats18_CBICA_ASO_1_seg.nii.gz',\n",
              " 'HGG/Brats18_TCIA04_479_1/Brats18_TCIA04_479_1_seg.nii.gz',\n",
              " 'HGG/Brats18_CBICA_AUR_1/Brats18_CBICA_AUR_1_seg.nii.gz',\n",
              " 'HGG/Brats18_TCIA06_603_1/Brats18_TCIA06_603_1_seg.nii.gz',\n",
              " 'HGG/Brats18_CBICA_ABB_1/Brats18_CBICA_ABB_1_seg.nii.gz',\n",
              " 'HGG/Brats18_TCIA02_226_1/Brats18_TCIA02_226_1_seg.nii.gz',\n",
              " 'HGG/Brats18_TCIA04_437_1/Brats18_TCIA04_437_1_seg.nii.gz',\n",
              " 'HGG/Brats18_CBICA_ASN_1/Brats18_CBICA_ASN_1_seg.nii.gz',\n",
              " 'HGG/Brats18_2013_4_1/Brats18_2013_4_1_seg.nii.gz',\n",
              " 'HGG/Brats18_CBICA_AQY_1/Brats18_CBICA_AQY_1_seg.nii.gz',\n",
              " 'HGG/Brats18_CBICA_AVJ_1/Brats18_CBICA_AVJ_1_seg.nii.gz',\n",
              " 'HGG/Brats18_TCIA06_165_1/Brats18_TCIA06_165_1_seg.nii.gz',\n",
              " 'HGG/Brats18_CBICA_AXO_1/Brats18_CBICA_AXO_1_seg.nii.gz',\n",
              " 'HGG/Brats18_CBICA_ATV_1/Brats18_CBICA_ATV_1_seg.nii.gz',\n",
              " 'HGG/Brats18_TCIA02_491_1/Brats18_TCIA02_491_1_seg.nii.gz',\n",
              " 'HGG/Brats18_CBICA_AQN_1/Brats18_CBICA_AQN_1_seg.nii.gz',\n",
              " 'HGG/Brats18_TCIA01_411_1/Brats18_TCIA01_411_1_seg.nii.gz',\n",
              " 'HGG/Brats18_CBICA_ANG_1/Brats18_CBICA_ANG_1_seg.nii.gz',\n",
              " 'HGG/Brats18_CBICA_APR_1/Brats18_CBICA_APR_1_seg.nii.gz',\n",
              " 'HGG/Brats18_CBICA_AAL_1/Brats18_CBICA_AAL_1_seg.nii.gz',\n",
              " 'HGG/Brats18_TCIA02_309_1/Brats18_TCIA02_309_1_seg.nii.gz',\n",
              " 'HGG/Brats18_CBICA_AAG_1/Brats18_CBICA_AAG_1_seg.nii.gz',\n",
              " 'HGG/Brats18_CBICA_ASY_1/Brats18_CBICA_ASY_1_seg.nii.gz',\n",
              " 'HGG/Brats18_2013_20_1/Brats18_2013_20_1_seg.nii.gz',\n",
              " 'HGG/Brats18_TCIA02_607_1/Brats18_TCIA02_607_1_seg.nii.gz',\n",
              " 'HGG/Brats18_TCIA03_474_1/Brats18_TCIA03_474_1_seg.nii.gz',\n",
              " 'HGG/Brats18_2013_19_1/Brats18_2013_19_1_seg.nii.gz',\n",
              " 'HGG/Brats18_CBICA_AQQ_1/Brats18_CBICA_AQQ_1_seg.nii.gz',\n",
              " 'HGG/Brats18_CBICA_AWI_1/Brats18_CBICA_AWI_1_seg.nii.gz',\n",
              " 'HGG/Brats18_TCIA08_113_1/Brats18_TCIA08_113_1_seg.nii.gz',\n",
              " 'HGG/Brats18_2013_22_1/Brats18_2013_22_1_seg.nii.gz',\n",
              " 'HGG/Brats18_CBICA_ASH_1/Brats18_CBICA_ASH_1_seg.nii.gz',\n",
              " 'HGG/Brats18_TCIA01_335_1/Brats18_TCIA01_335_1_seg.nii.gz',\n",
              " 'HGG/Brats18_CBICA_AWG_1/Brats18_CBICA_AWG_1_seg.nii.gz',\n",
              " 'HGG/Brats18_TCIA02_283_1/Brats18_TCIA02_283_1_seg.nii.gz',\n",
              " 'HGG/Brats18_TCIA05_478_1/Brats18_TCIA05_478_1_seg.nii.gz',\n",
              " 'HGG/Brats18_TCIA02_135_1/Brats18_TCIA02_135_1_seg.nii.gz',\n",
              " 'HGG/Brats18_CBICA_ANZ_1/Brats18_CBICA_ANZ_1_seg.nii.gz',\n",
              " 'HGG/Brats18_CBICA_AQO_1/Brats18_CBICA_AQO_1_seg.nii.gz',\n",
              " 'HGG/Brats18_CBICA_BFP_1/Brats18_CBICA_BFP_1_seg.nii.gz',\n",
              " 'HGG/Brats18_TCIA02_179_1/Brats18_TCIA02_179_1_seg.nii.gz',\n",
              " 'HGG/Brats18_2013_3_1/Brats18_2013_3_1_seg.nii.gz',\n",
              " 'HGG/Brats18_TCIA03_338_1/Brats18_TCIA03_338_1_seg.nii.gz',\n",
              " 'HGG/Brats18_TCIA01_448_1/Brats18_TCIA01_448_1_seg.nii.gz',\n",
              " 'HGG/Brats18_CBICA_AME_1/Brats18_CBICA_AME_1_seg.nii.gz',\n",
              " 'HGG/Brats18_CBICA_ASG_1/Brats18_CBICA_ASG_1_seg.nii.gz',\n",
              " 'HGG/Brats18_TCIA03_133_1/Brats18_TCIA03_133_1_seg.nii.gz',\n",
              " 'HGG/Brats18_TCIA08_167_1/Brats18_TCIA08_167_1_seg.nii.gz',\n",
              " 'HGG/Brats18_TCIA08_242_1/Brats18_TCIA08_242_1_seg.nii.gz',\n",
              " 'HGG/Brats18_CBICA_ALU_1/Brats18_CBICA_ALU_1_seg.nii.gz',\n",
              " 'HGG/Brats18_CBICA_ARF_1/Brats18_CBICA_ARF_1_seg.nii.gz',\n",
              " 'HGG/Brats18_TCIA08_436_1/Brats18_TCIA08_436_1_seg.nii.gz',\n",
              " 'HGG/Brats18_TCIA06_372_1/Brats18_TCIA06_372_1_seg.nii.gz',\n",
              " 'HGG/Brats18_TCIA04_192_1/Brats18_TCIA04_192_1_seg.nii.gz',\n",
              " 'HGG/Brats18_CBICA_AQU_1/Brats18_CBICA_AQU_1_seg.nii.gz',\n",
              " 'HGG/Brats18_CBICA_AOZ_1/Brats18_CBICA_AOZ_1_seg.nii.gz',\n",
              " 'HGG/Brats18_TCIA08_278_1/Brats18_TCIA08_278_1_seg.nii.gz',\n",
              " 'HGG/Brats18_2013_21_1/Brats18_2013_21_1_seg.nii.gz',\n",
              " 'HGG/Brats18_CBICA_ATP_1/Brats18_CBICA_ATP_1_seg.nii.gz',\n",
              " 'HGG/Brats18_CBICA_AOO_1/Brats18_CBICA_AOO_1_seg.nii.gz',\n",
              " 'HGG/Brats18_TCIA04_111_1/Brats18_TCIA04_111_1_seg.nii.gz',\n",
              " 'HGG/Brats18_TCIA01_425_1/Brats18_TCIA01_425_1_seg.nii.gz',\n",
              " 'HGG/Brats18_TCIA02_374_1/Brats18_TCIA02_374_1_seg.nii.gz',\n",
              " 'HGG/Brats18_2013_25_1/Brats18_2013_25_1_seg.nii.gz',\n",
              " 'HGG/Brats18_2013_10_1/Brats18_2013_10_1_seg.nii.gz',\n",
              " 'HGG/Brats18_TCIA01_186_1/Brats18_TCIA01_186_1_seg.nii.gz',\n",
              " 'HGG/Brats18_2013_26_1/Brats18_2013_26_1_seg.nii.gz',\n",
              " 'HGG/Brats18_CBICA_ASU_1/Brats18_CBICA_ASU_1_seg.nii.gz',\n",
              " 'HGG/Brats18_TCIA02_606_1/Brats18_TCIA02_606_1_seg.nii.gz',\n",
              " 'HGG/Brats18_CBICA_ALX_1/Brats18_CBICA_ALX_1_seg.nii.gz',\n",
              " 'HGG/Brats18_TCIA02_118_1/Brats18_TCIA02_118_1_seg.nii.gz',\n",
              " 'HGG/Brats18_CBICA_AYW_1/Brats18_CBICA_AYW_1_seg.nii.gz',\n",
              " 'HGG/Brats18_CBICA_AVV_1/Brats18_CBICA_AVV_1_seg.nii.gz',\n",
              " 'HGG/Brats18_CBICA_ABE_1/Brats18_CBICA_ABE_1_seg.nii.gz',\n",
              " 'HGG/Brats18_TCIA01_429_1/Brats18_TCIA01_429_1_seg.nii.gz',\n",
              " 'HGG/Brats18_TCIA05_277_1/Brats18_TCIA05_277_1_seg.nii.gz',\n",
              " 'HGG/Brats18_TCIA02_377_1/Brats18_TCIA02_377_1_seg.nii.gz',\n",
              " 'HGG/Brats18_TCIA02_430_1/Brats18_TCIA02_430_1_seg.nii.gz',\n",
              " 'HGG/Brats18_CBICA_AAP_1/Brats18_CBICA_AAP_1_seg.nii.gz',\n",
              " 'HGG/Brats18_TCIA01_231_1/Brats18_TCIA01_231_1_seg.nii.gz',\n",
              " 'HGG/Brats18_TCIA02_331_1/Brats18_TCIA02_331_1_seg.nii.gz',\n",
              " 'HGG/Brats18_CBICA_AOH_1/Brats18_CBICA_AOH_1_seg.nii.gz',\n",
              " 'HGG/Brats18_CBICA_AOP_1/Brats18_CBICA_AOP_1_seg.nii.gz',\n",
              " 'HGG/Brats18_TCIA02_605_1/Brats18_TCIA02_605_1_seg.nii.gz',\n",
              " 'HGG/Brats18_TCIA06_332_1/Brats18_TCIA06_332_1_seg.nii.gz',\n",
              " 'HGG/Brats18_TCIA08_218_1/Brats18_TCIA08_218_1_seg.nii.gz',\n",
              " 'HGG/Brats18_TCIA08_205_1/Brats18_TCIA08_205_1_seg.nii.gz',\n",
              " 'HGG/Brats18_TCIA08_406_1/Brats18_TCIA08_406_1_seg.nii.gz',\n",
              " 'HGG/Brats18_CBICA_AQR_1/Brats18_CBICA_AQR_1_seg.nii.gz',\n",
              " 'HGG/Brats18_TCIA03_199_1/Brats18_TCIA03_199_1_seg.nii.gz',\n",
              " 'HGG/Brats18_2013_14_1/Brats18_2013_14_1_seg.nii.gz',\n",
              " 'HGG/Brats18_TCIA08_280_1/Brats18_TCIA08_280_1_seg.nii.gz',\n",
              " 'HGG/Brats18_CBICA_ANP_1/Brats18_CBICA_ANP_1_seg.nii.gz',\n",
              " 'HGG/Brats18_CBICA_AVG_1/Brats18_CBICA_AVG_1_seg.nii.gz',\n",
              " 'HGG/Brats18_TCIA02_608_1/Brats18_TCIA02_608_1_seg.nii.gz',\n",
              " 'HGG/Brats18_TCIA03_419_1/Brats18_TCIA03_419_1_seg.nii.gz',\n",
              " 'HGG/Brats18_TCIA02_290_1/Brats18_TCIA02_290_1_seg.nii.gz',\n",
              " 'HGG/Brats18_TCIA08_234_1/Brats18_TCIA08_234_1_seg.nii.gz',\n",
              " 'HGG/Brats18_CBICA_AYA_1/Brats18_CBICA_AYA_1_seg.nii.gz',\n",
              " 'HGG/Brats18_TCIA02_171_1/Brats18_TCIA02_171_1_seg.nii.gz',\n",
              " 'HGG/Brats18_TCIA01_147_1/Brats18_TCIA01_147_1_seg.nii.gz',\n",
              " 'HGG/Brats18_TCIA02_274_1/Brats18_TCIA02_274_1_seg.nii.gz',\n",
              " 'HGG/Brats18_TCIA01_180_1/Brats18_TCIA01_180_1_seg.nii.gz',\n",
              " 'HGG/Brats18_2013_18_1/Brats18_2013_18_1_seg.nii.gz',\n",
              " 'LGG/Brats18_TCIA10_266_1/Brats18_TCIA10_266_1_seg.nii.gz',\n",
              " 'LGG/Brats18_TCIA13_624_1/Brats18_TCIA13_624_1_seg.nii.gz',\n",
              " 'LGG/Brats18_TCIA10_410_1/Brats18_TCIA10_410_1_seg.nii.gz',\n",
              " 'LGG/Brats18_TCIA09_493_1/Brats18_TCIA09_493_1_seg.nii.gz',\n",
              " 'LGG/Brats18_TCIA10_282_1/Brats18_TCIA10_282_1_seg.nii.gz',\n",
              " 'LGG/Brats18_TCIA13_630_1/Brats18_TCIA13_630_1_seg.nii.gz',\n",
              " 'LGG/Brats18_TCIA10_202_1/Brats18_TCIA10_202_1_seg.nii.gz',\n",
              " 'LGG/Brats18_2013_1_1/Brats18_2013_1_1_seg.nii.gz',\n",
              " 'LGG/Brats18_TCIA13_653_1/Brats18_TCIA13_653_1_seg.nii.gz',\n",
              " 'LGG/Brats18_TCIA09_402_1/Brats18_TCIA09_402_1_seg.nii.gz',\n",
              " 'LGG/Brats18_2013_0_1/Brats18_2013_0_1_seg.nii.gz',\n",
              " 'LGG/Brats18_2013_8_1/Brats18_2013_8_1_seg.nii.gz',\n",
              " 'LGG/Brats18_TCIA13_615_1/Brats18_TCIA13_615_1_seg.nii.gz',\n",
              " 'LGG/Brats18_TCIA09_312_1/Brats18_TCIA09_312_1_seg.nii.gz',\n",
              " 'LGG/Brats18_TCIA10_639_1/Brats18_TCIA10_639_1_seg.nii.gz',\n",
              " 'LGG/Brats18_TCIA09_428_1/Brats18_TCIA09_428_1_seg.nii.gz',\n",
              " 'LGG/Brats18_TCIA10_261_1/Brats18_TCIA10_261_1_seg.nii.gz',\n",
              " 'LGG/Brats18_2013_9_1/Brats18_2013_9_1_seg.nii.gz',\n",
              " 'LGG/Brats18_TCIA09_451_1/Brats18_TCIA09_451_1_seg.nii.gz',\n",
              " 'LGG/Brats18_TCIA10_644_1/Brats18_TCIA10_644_1_seg.nii.gz',\n",
              " 'LGG/Brats18_TCIA10_241_1/Brats18_TCIA10_241_1_seg.nii.gz',\n",
              " 'LGG/Brats18_TCIA10_413_1/Brats18_TCIA10_413_1_seg.nii.gz',\n",
              " 'LGG/Brats18_TCIA10_152_1/Brats18_TCIA10_152_1_seg.nii.gz',\n",
              " 'LGG/Brats18_TCIA10_420_1/Brats18_TCIA10_420_1_seg.nii.gz',\n",
              " 'LGG/Brats18_TCIA09_141_1/Brats18_TCIA09_141_1_seg.nii.gz',\n",
              " 'LGG/Brats18_TCIA10_346_1/Brats18_TCIA10_346_1_seg.nii.gz',\n",
              " 'LGG/Brats18_TCIA10_449_1/Brats18_TCIA10_449_1_seg.nii.gz',\n",
              " 'LGG/Brats18_2013_16_1/Brats18_2013_16_1_seg.nii.gz',\n",
              " 'LGG/Brats18_TCIA10_640_1/Brats18_TCIA10_640_1_seg.nii.gz',\n",
              " 'LGG/Brats18_TCIA13_618_1/Brats18_TCIA13_618_1_seg.nii.gz',\n",
              " 'LGG/Brats18_TCIA10_130_1/Brats18_TCIA10_130_1_seg.nii.gz',\n",
              " 'LGG/Brats18_TCIA13_650_1/Brats18_TCIA13_650_1_seg.nii.gz',\n",
              " 'LGG/Brats18_TCIA10_109_1/Brats18_TCIA10_109_1_seg.nii.gz',\n",
              " 'LGG/Brats18_TCIA10_632_1/Brats18_TCIA10_632_1_seg.nii.gz',\n",
              " 'LGG/Brats18_TCIA13_634_1/Brats18_TCIA13_634_1_seg.nii.gz',\n",
              " 'LGG/Brats18_TCIA13_645_1/Brats18_TCIA13_645_1_seg.nii.gz',\n",
              " 'LGG/Brats18_TCIA10_490_1/Brats18_TCIA10_490_1_seg.nii.gz',\n",
              " 'LGG/Brats18_TCIA12_298_1/Brats18_TCIA12_298_1_seg.nii.gz',\n",
              " 'LGG/Brats18_TCIA13_633_1/Brats18_TCIA13_633_1_seg.nii.gz',\n",
              " 'LGG/Brats18_TCIA12_101_1/Brats18_TCIA12_101_1_seg.nii.gz',\n",
              " 'LGG/Brats18_TCIA09_255_1/Brats18_TCIA09_255_1_seg.nii.gz',\n",
              " 'LGG/Brats18_TCIA10_175_1/Brats18_TCIA10_175_1_seg.nii.gz',\n",
              " 'LGG/Brats18_TCIA10_393_1/Brats18_TCIA10_393_1_seg.nii.gz',\n",
              " 'LGG/Brats18_2013_15_1/Brats18_2013_15_1_seg.nii.gz',\n",
              " 'LGG/Brats18_TCIA09_254_1/Brats18_TCIA09_254_1_seg.nii.gz',\n",
              " 'LGG/Brats18_TCIA10_637_1/Brats18_TCIA10_637_1_seg.nii.gz',\n",
              " 'LGG/Brats18_TCIA13_621_1/Brats18_TCIA13_621_1_seg.nii.gz',\n",
              " 'LGG/Brats18_TCIA13_623_1/Brats18_TCIA13_623_1_seg.nii.gz',\n",
              " 'LGG/Brats18_2013_29_1/Brats18_2013_29_1_seg.nii.gz',\n",
              " 'LGG/Brats18_TCIA10_629_1/Brats18_TCIA10_629_1_seg.nii.gz',\n",
              " 'LGG/Brats18_TCIA10_330_1/Brats18_TCIA10_330_1_seg.nii.gz',\n",
              " 'LGG/Brats18_2013_24_1/Brats18_2013_24_1_seg.nii.gz',\n",
              " 'LGG/Brats18_TCIA10_299_1/Brats18_TCIA10_299_1_seg.nii.gz',\n",
              " 'LGG/Brats18_TCIA10_625_1/Brats18_TCIA10_625_1_seg.nii.gz',\n",
              " 'LGG/Brats18_2013_28_1/Brats18_2013_28_1_seg.nii.gz',\n",
              " 'LGG/Brats18_TCIA10_307_1/Brats18_TCIA10_307_1_seg.nii.gz',\n",
              " 'LGG/Brats18_2013_6_1/Brats18_2013_6_1_seg.nii.gz',\n",
              " 'LGG/Brats18_TCIA10_351_1/Brats18_TCIA10_351_1_seg.nii.gz',\n",
              " 'LGG/Brats18_TCIA12_470_1/Brats18_TCIA12_470_1_seg.nii.gz',\n",
              " 'LGG/Brats18_TCIA13_642_1/Brats18_TCIA13_642_1_seg.nii.gz',\n",
              " 'LGG/Brats18_TCIA12_249_1/Brats18_TCIA12_249_1_seg.nii.gz',\n",
              " 'LGG/Brats18_TCIA13_654_1/Brats18_TCIA13_654_1_seg.nii.gz',\n",
              " 'LGG/Brats18_TCIA12_480_1/Brats18_TCIA12_480_1_seg.nii.gz',\n",
              " 'LGG/Brats18_TCIA09_177_1/Brats18_TCIA09_177_1_seg.nii.gz',\n",
              " 'LGG/Brats18_TCIA10_325_1/Brats18_TCIA10_325_1_seg.nii.gz',\n",
              " 'LGG/Brats18_TCIA12_466_1/Brats18_TCIA12_466_1_seg.nii.gz',\n",
              " 'LGG/Brats18_TCIA09_620_1/Brats18_TCIA09_620_1_seg.nii.gz',\n",
              " 'LGG/Brats18_TCIA10_628_1/Brats18_TCIA10_628_1_seg.nii.gz',\n",
              " 'LGG/Brats18_TCIA10_408_1/Brats18_TCIA10_408_1_seg.nii.gz',\n",
              " 'LGG/Brats18_TCIA10_103_1/Brats18_TCIA10_103_1_seg.nii.gz',\n",
              " 'LGG/Brats18_TCIA10_387_1/Brats18_TCIA10_387_1_seg.nii.gz',\n",
              " 'LGG/Brats18_TCIA10_276_1/Brats18_TCIA10_276_1_seg.nii.gz',\n",
              " 'LGG/Brats18_TCIA10_442_1/Brats18_TCIA10_442_1_seg.nii.gz',\n",
              " 'LGG/Brats18_TCIA10_310_1/Brats18_TCIA10_310_1_seg.nii.gz',\n",
              " 'LGG/Brats18_TCIA09_462_1/Brats18_TCIA09_462_1_seg.nii.gz']"
            ]
          },
          "metadata": {
            "tags": []
          },
          "execution_count": 28
        }
      ]
    },
    {
      "cell_type": "code",
      "metadata": {
        "id": "yt_IT7A8sKrz"
      },
      "source": [
        "#seg = glob.glob('HGG/*/*seg.nii.gz')  # Ground Truth"
      ],
      "execution_count": null,
      "outputs": []
    },
    {
      "cell_type": "code",
      "metadata": {
        "id": "9Un68-HEsZ5Y",
        "colab": {
          "base_uri": "https://localhost:8080/",
          "height": 34
        },
        "outputId": "1c799e61-061d-4a21-e580-bd684c13163e"
      },
      "source": [
        "len(seg)"
      ],
      "execution_count": null,
      "outputs": [
        {
          "output_type": "execute_result",
          "data": {
            "text/plain": [
              "285"
            ]
          },
          "metadata": {
            "tags": []
          },
          "execution_count": 30
        }
      ]
    },
    {
      "cell_type": "code",
      "metadata": {
        "id": "nFFlBBLKFJzN",
        "colab": {
          "base_uri": "https://localhost:8080/",
          "height": 1000
        },
        "outputId": "127d097e-9f26-4773-d31e-3b3be01c4e5d"
      },
      "source": [
        "seg"
      ],
      "execution_count": null,
      "outputs": [
        {
          "output_type": "execute_result",
          "data": {
            "text/plain": [
              "['HGG/Brats18_TCIA02_370_1/Brats18_TCIA02_370_1_seg.nii.gz',\n",
              " 'HGG/Brats18_CBICA_ABY_1/Brats18_CBICA_ABY_1_seg.nii.gz',\n",
              " 'HGG/Brats18_TCIA02_473_1/Brats18_TCIA02_473_1_seg.nii.gz',\n",
              " 'HGG/Brats18_CBICA_AAB_1/Brats18_CBICA_AAB_1_seg.nii.gz',\n",
              " 'HGG/Brats18_CBICA_AMH_1/Brats18_CBICA_AMH_1_seg.nii.gz',\n",
              " 'HGG/Brats18_CBICA_BHB_1/Brats18_CBICA_BHB_1_seg.nii.gz',\n",
              " 'HGG/Brats18_CBICA_AOD_1/Brats18_CBICA_AOD_1_seg.nii.gz',\n",
              " 'HGG/Brats18_TCIA03_121_1/Brats18_TCIA03_121_1_seg.nii.gz',\n",
              " 'HGG/Brats18_TCIA05_444_1/Brats18_TCIA05_444_1_seg.nii.gz',\n",
              " 'HGG/Brats18_TCIA02_117_1/Brats18_TCIA02_117_1_seg.nii.gz',\n",
              " 'HGG/Brats18_TCIA01_378_1/Brats18_TCIA01_378_1_seg.nii.gz',\n",
              " 'HGG/Brats18_CBICA_AXM_1/Brats18_CBICA_AXM_1_seg.nii.gz',\n",
              " 'HGG/Brats18_CBICA_AXQ_1/Brats18_CBICA_AXQ_1_seg.nii.gz',\n",
              " 'HGG/Brats18_CBICA_AQZ_1/Brats18_CBICA_AQZ_1_seg.nii.gz',\n",
              " 'HGG/Brats18_TCIA03_265_1/Brats18_TCIA03_265_1_seg.nii.gz',\n",
              " 'HGG/Brats18_CBICA_ABM_1/Brats18_CBICA_ABM_1_seg.nii.gz',\n",
              " 'HGG/Brats18_TCIA02_314_1/Brats18_TCIA02_314_1_seg.nii.gz',\n",
              " 'HGG/Brats18_TCIA01_150_1/Brats18_TCIA01_150_1_seg.nii.gz',\n",
              " 'HGG/Brats18_2013_13_1/Brats18_2013_13_1_seg.nii.gz',\n",
              " 'HGG/Brats18_2013_23_1/Brats18_2013_23_1_seg.nii.gz',\n",
              " 'HGG/Brats18_TCIA08_319_1/Brats18_TCIA08_319_1_seg.nii.gz',\n",
              " 'HGG/Brats18_TCIA04_149_1/Brats18_TCIA04_149_1_seg.nii.gz',\n",
              " 'HGG/Brats18_TCIA06_409_1/Brats18_TCIA06_409_1_seg.nii.gz',\n",
              " 'HGG/Brats18_TCIA03_257_1/Brats18_TCIA03_257_1_seg.nii.gz',\n",
              " 'HGG/Brats18_TCIA02_321_1/Brats18_TCIA02_321_1_seg.nii.gz',\n",
              " 'HGG/Brats18_TCIA08_469_1/Brats18_TCIA08_469_1_seg.nii.gz',\n",
              " 'HGG/Brats18_TCIA03_498_1/Brats18_TCIA03_498_1_seg.nii.gz',\n",
              " 'HGG/Brats18_TCIA01_221_1/Brats18_TCIA01_221_1_seg.nii.gz',\n",
              " 'HGG/Brats18_CBICA_ASK_1/Brats18_CBICA_ASK_1_seg.nii.gz',\n",
              " 'HGG/Brats18_CBICA_AXL_1/Brats18_CBICA_AXL_1_seg.nii.gz',\n",
              " 'HGG/Brats18_CBICA_AZD_1/Brats18_CBICA_AZD_1_seg.nii.gz',\n",
              " 'HGG/Brats18_TCIA02_198_1/Brats18_TCIA02_198_1_seg.nii.gz',\n",
              " 'HGG/Brats18_TCIA06_247_1/Brats18_TCIA06_247_1_seg.nii.gz',\n",
              " 'HGG/Brats18_TCIA08_162_1/Brats18_TCIA08_162_1_seg.nii.gz',\n",
              " 'HGG/Brats18_TCIA01_401_1/Brats18_TCIA01_401_1_seg.nii.gz',\n",
              " 'HGG/Brats18_CBICA_ATD_1/Brats18_CBICA_ATD_1_seg.nii.gz',\n",
              " 'HGG/Brats18_CBICA_ASE_1/Brats18_CBICA_ASE_1_seg.nii.gz',\n",
              " 'HGG/Brats18_TCIA01_190_1/Brats18_TCIA01_190_1_seg.nii.gz',\n",
              " 'HGG/Brats18_TCIA01_201_1/Brats18_TCIA01_201_1_seg.nii.gz',\n",
              " 'HGG/Brats18_TCIA01_390_1/Brats18_TCIA01_390_1_seg.nii.gz',\n",
              " 'HGG/Brats18_TCIA06_184_1/Brats18_TCIA06_184_1_seg.nii.gz',\n",
              " 'HGG/Brats18_2013_2_1/Brats18_2013_2_1_seg.nii.gz',\n",
              " 'HGG/Brats18_TCIA03_375_1/Brats18_TCIA03_375_1_seg.nii.gz',\n",
              " 'HGG/Brats18_TCIA02_368_1/Brats18_TCIA02_368_1_seg.nii.gz',\n",
              " 'HGG/Brats18_CBICA_ASA_1/Brats18_CBICA_ASA_1_seg.nii.gz',\n",
              " 'HGG/Brats18_2013_5_1/Brats18_2013_5_1_seg.nii.gz',\n",
              " 'HGG/Brats18_CBICA_AXN_1/Brats18_CBICA_AXN_1_seg.nii.gz',\n",
              " 'HGG/Brats18_CBICA_BFB_1/Brats18_CBICA_BFB_1_seg.nii.gz',\n",
              " 'HGG/Brats18_TCIA06_211_1/Brats18_TCIA06_211_1_seg.nii.gz',\n",
              " 'HGG/Brats18_TCIA03_296_1/Brats18_TCIA03_296_1_seg.nii.gz',\n",
              " 'HGG/Brats18_CBICA_AQV_1/Brats18_CBICA_AQV_1_seg.nii.gz',\n",
              " 'HGG/Brats18_TCIA01_412_1/Brats18_TCIA01_412_1_seg.nii.gz',\n",
              " 'HGG/Brats18_TCIA04_343_1/Brats18_TCIA04_343_1_seg.nii.gz',\n",
              " 'HGG/Brats18_2013_12_1/Brats18_2013_12_1_seg.nii.gz',\n",
              " 'HGG/Brats18_TCIA02_394_1/Brats18_TCIA02_394_1_seg.nii.gz',\n",
              " 'HGG/Brats18_CBICA_ASV_1/Brats18_CBICA_ASV_1_seg.nii.gz',\n",
              " 'HGG/Brats18_TCIA01_203_1/Brats18_TCIA01_203_1_seg.nii.gz',\n",
              " 'HGG/Brats18_2013_11_1/Brats18_2013_11_1_seg.nii.gz',\n",
              " 'HGG/Brats18_TCIA02_151_1/Brats18_TCIA02_151_1_seg.nii.gz',\n",
              " 'HGG/Brats18_CBICA_AYU_1/Brats18_CBICA_AYU_1_seg.nii.gz',\n",
              " 'HGG/Brats18_CBICA_BHK_1/Brats18_CBICA_BHK_1_seg.nii.gz',\n",
              " 'HGG/Brats18_CBICA_ARW_1/Brats18_CBICA_ARW_1_seg.nii.gz',\n",
              " 'HGG/Brats18_TCIA04_361_1/Brats18_TCIA04_361_1_seg.nii.gz',\n",
              " 'HGG/Brats18_TCIA08_105_1/Brats18_TCIA08_105_1_seg.nii.gz',\n",
              " 'HGG/Brats18_CBICA_BHM_1/Brats18_CBICA_BHM_1_seg.nii.gz',\n",
              " 'HGG/Brats18_TCIA02_471_1/Brats18_TCIA02_471_1_seg.nii.gz',\n",
              " 'HGG/Brats18_TCIA01_499_1/Brats18_TCIA01_499_1_seg.nii.gz',\n",
              " 'HGG/Brats18_CBICA_ANI_1/Brats18_CBICA_ANI_1_seg.nii.gz',\n",
              " 'HGG/Brats18_CBICA_AUN_1/Brats18_CBICA_AUN_1_seg.nii.gz',\n",
              " 'HGG/Brats18_CBICA_ABN_1/Brats18_CBICA_ABN_1_seg.nii.gz',\n",
              " 'HGG/Brats18_CBICA_APY_1/Brats18_CBICA_APY_1_seg.nii.gz',\n",
              " 'HGG/Brats18_CBICA_ATX_1/Brats18_CBICA_ATX_1_seg.nii.gz',\n",
              " 'HGG/Brats18_CBICA_ASW_1/Brats18_CBICA_ASW_1_seg.nii.gz',\n",
              " 'HGG/Brats18_CBICA_AXW_1/Brats18_CBICA_AXW_1_seg.nii.gz',\n",
              " 'HGG/Brats18_CBICA_AXJ_1/Brats18_CBICA_AXJ_1_seg.nii.gz',\n",
              " 'HGG/Brats18_TCIA02_168_1/Brats18_TCIA02_168_1_seg.nii.gz',\n",
              " 'HGG/Brats18_CBICA_AWH_1/Brats18_CBICA_AWH_1_seg.nii.gz',\n",
              " 'HGG/Brats18_TCIA02_208_1/Brats18_TCIA02_208_1_seg.nii.gz',\n",
              " 'HGG/Brats18_CBICA_ALN_1/Brats18_CBICA_ALN_1_seg.nii.gz',\n",
              " 'HGG/Brats18_CBICA_APZ_1/Brats18_CBICA_APZ_1_seg.nii.gz',\n",
              " 'HGG/Brats18_CBICA_ABO_1/Brats18_CBICA_ABO_1_seg.nii.gz',\n",
              " 'HGG/Brats18_CBICA_ATB_1/Brats18_CBICA_ATB_1_seg.nii.gz',\n",
              " 'HGG/Brats18_CBICA_AQA_1/Brats18_CBICA_AQA_1_seg.nii.gz',\n",
              " 'HGG/Brats18_TCIA02_300_1/Brats18_TCIA02_300_1_seg.nii.gz',\n",
              " 'HGG/Brats18_CBICA_AQT_1/Brats18_CBICA_AQT_1_seg.nii.gz',\n",
              " 'HGG/Brats18_CBICA_AQP_1/Brats18_CBICA_AQP_1_seg.nii.gz',\n",
              " 'HGG/Brats18_TCIA05_396_1/Brats18_TCIA05_396_1_seg.nii.gz',\n",
              " 'HGG/Brats18_CBICA_AZH_1/Brats18_CBICA_AZH_1_seg.nii.gz',\n",
              " 'HGG/Brats18_CBICA_AYI_1/Brats18_CBICA_AYI_1_seg.nii.gz',\n",
              " 'HGG/Brats18_TCIA03_138_1/Brats18_TCIA03_138_1_seg.nii.gz',\n",
              " 'HGG/Brats18_TCIA01_460_1/Brats18_TCIA01_460_1_seg.nii.gz',\n",
              " 'HGG/Brats18_CBICA_ATF_1/Brats18_CBICA_ATF_1_seg.nii.gz',\n",
              " 'HGG/Brats18_CBICA_AQD_1/Brats18_CBICA_AQD_1_seg.nii.gz',\n",
              " 'HGG/Brats18_TCIA04_328_1/Brats18_TCIA04_328_1_seg.nii.gz',\n",
              " 'HGG/Brats18_TCIA02_322_1/Brats18_TCIA02_322_1_seg.nii.gz',\n",
              " 'HGG/Brats18_TCIA02_455_1/Brats18_TCIA02_455_1_seg.nii.gz',\n",
              " 'HGG/Brats18_2013_27_1/Brats18_2013_27_1_seg.nii.gz',\n",
              " 'HGG/Brats18_TCIA01_235_1/Brats18_TCIA01_235_1_seg.nii.gz',\n",
              " 'HGG/Brats18_CBICA_AUQ_1/Brats18_CBICA_AUQ_1_seg.nii.gz',\n",
              " 'HGG/Brats18_TCIA01_131_1/Brats18_TCIA01_131_1_seg.nii.gz',\n",
              " 'HGG/Brats18_CBICA_ARZ_1/Brats18_CBICA_ARZ_1_seg.nii.gz',\n",
              " 'HGG/Brats18_CBICA_AQJ_1/Brats18_CBICA_AQJ_1_seg.nii.gz',\n",
              " 'HGG/Brats18_2013_7_1/Brats18_2013_7_1_seg.nii.gz',\n",
              " 'HGG/Brats18_CBICA_AQG_1/Brats18_CBICA_AQG_1_seg.nii.gz',\n",
              " 'HGG/Brats18_2013_17_1/Brats18_2013_17_1_seg.nii.gz',\n",
              " 'HGG/Brats18_TCIA02_222_1/Brats18_TCIA02_222_1_seg.nii.gz',\n",
              " 'HGG/Brats18_CBICA_ASO_1/Brats18_CBICA_ASO_1_seg.nii.gz',\n",
              " 'HGG/Brats18_TCIA04_479_1/Brats18_TCIA04_479_1_seg.nii.gz',\n",
              " 'HGG/Brats18_CBICA_AUR_1/Brats18_CBICA_AUR_1_seg.nii.gz',\n",
              " 'HGG/Brats18_TCIA06_603_1/Brats18_TCIA06_603_1_seg.nii.gz',\n",
              " 'HGG/Brats18_CBICA_ABB_1/Brats18_CBICA_ABB_1_seg.nii.gz',\n",
              " 'HGG/Brats18_TCIA02_226_1/Brats18_TCIA02_226_1_seg.nii.gz',\n",
              " 'HGG/Brats18_TCIA04_437_1/Brats18_TCIA04_437_1_seg.nii.gz',\n",
              " 'HGG/Brats18_CBICA_ASN_1/Brats18_CBICA_ASN_1_seg.nii.gz',\n",
              " 'HGG/Brats18_2013_4_1/Brats18_2013_4_1_seg.nii.gz',\n",
              " 'HGG/Brats18_CBICA_AQY_1/Brats18_CBICA_AQY_1_seg.nii.gz',\n",
              " 'HGG/Brats18_CBICA_AVJ_1/Brats18_CBICA_AVJ_1_seg.nii.gz',\n",
              " 'HGG/Brats18_TCIA06_165_1/Brats18_TCIA06_165_1_seg.nii.gz',\n",
              " 'HGG/Brats18_CBICA_AXO_1/Brats18_CBICA_AXO_1_seg.nii.gz',\n",
              " 'HGG/Brats18_CBICA_ATV_1/Brats18_CBICA_ATV_1_seg.nii.gz',\n",
              " 'HGG/Brats18_TCIA02_491_1/Brats18_TCIA02_491_1_seg.nii.gz',\n",
              " 'HGG/Brats18_CBICA_AQN_1/Brats18_CBICA_AQN_1_seg.nii.gz',\n",
              " 'HGG/Brats18_TCIA01_411_1/Brats18_TCIA01_411_1_seg.nii.gz',\n",
              " 'HGG/Brats18_CBICA_ANG_1/Brats18_CBICA_ANG_1_seg.nii.gz',\n",
              " 'HGG/Brats18_CBICA_APR_1/Brats18_CBICA_APR_1_seg.nii.gz',\n",
              " 'HGG/Brats18_CBICA_AAL_1/Brats18_CBICA_AAL_1_seg.nii.gz',\n",
              " 'HGG/Brats18_TCIA02_309_1/Brats18_TCIA02_309_1_seg.nii.gz',\n",
              " 'HGG/Brats18_CBICA_AAG_1/Brats18_CBICA_AAG_1_seg.nii.gz',\n",
              " 'HGG/Brats18_CBICA_ASY_1/Brats18_CBICA_ASY_1_seg.nii.gz',\n",
              " 'HGG/Brats18_2013_20_1/Brats18_2013_20_1_seg.nii.gz',\n",
              " 'HGG/Brats18_TCIA02_607_1/Brats18_TCIA02_607_1_seg.nii.gz',\n",
              " 'HGG/Brats18_TCIA03_474_1/Brats18_TCIA03_474_1_seg.nii.gz',\n",
              " 'HGG/Brats18_2013_19_1/Brats18_2013_19_1_seg.nii.gz',\n",
              " 'HGG/Brats18_CBICA_AQQ_1/Brats18_CBICA_AQQ_1_seg.nii.gz',\n",
              " 'HGG/Brats18_CBICA_AWI_1/Brats18_CBICA_AWI_1_seg.nii.gz',\n",
              " 'HGG/Brats18_TCIA08_113_1/Brats18_TCIA08_113_1_seg.nii.gz',\n",
              " 'HGG/Brats18_2013_22_1/Brats18_2013_22_1_seg.nii.gz',\n",
              " 'HGG/Brats18_CBICA_ASH_1/Brats18_CBICA_ASH_1_seg.nii.gz',\n",
              " 'HGG/Brats18_TCIA01_335_1/Brats18_TCIA01_335_1_seg.nii.gz',\n",
              " 'HGG/Brats18_CBICA_AWG_1/Brats18_CBICA_AWG_1_seg.nii.gz',\n",
              " 'HGG/Brats18_TCIA02_283_1/Brats18_TCIA02_283_1_seg.nii.gz',\n",
              " 'HGG/Brats18_TCIA05_478_1/Brats18_TCIA05_478_1_seg.nii.gz',\n",
              " 'HGG/Brats18_TCIA02_135_1/Brats18_TCIA02_135_1_seg.nii.gz',\n",
              " 'HGG/Brats18_CBICA_ANZ_1/Brats18_CBICA_ANZ_1_seg.nii.gz',\n",
              " 'HGG/Brats18_CBICA_AQO_1/Brats18_CBICA_AQO_1_seg.nii.gz',\n",
              " 'HGG/Brats18_CBICA_BFP_1/Brats18_CBICA_BFP_1_seg.nii.gz',\n",
              " 'HGG/Brats18_TCIA02_179_1/Brats18_TCIA02_179_1_seg.nii.gz',\n",
              " 'HGG/Brats18_2013_3_1/Brats18_2013_3_1_seg.nii.gz',\n",
              " 'HGG/Brats18_TCIA03_338_1/Brats18_TCIA03_338_1_seg.nii.gz',\n",
              " 'HGG/Brats18_TCIA01_448_1/Brats18_TCIA01_448_1_seg.nii.gz',\n",
              " 'HGG/Brats18_CBICA_AME_1/Brats18_CBICA_AME_1_seg.nii.gz',\n",
              " 'HGG/Brats18_CBICA_ASG_1/Brats18_CBICA_ASG_1_seg.nii.gz',\n",
              " 'HGG/Brats18_TCIA03_133_1/Brats18_TCIA03_133_1_seg.nii.gz',\n",
              " 'HGG/Brats18_TCIA08_167_1/Brats18_TCIA08_167_1_seg.nii.gz',\n",
              " 'HGG/Brats18_TCIA08_242_1/Brats18_TCIA08_242_1_seg.nii.gz',\n",
              " 'HGG/Brats18_CBICA_ALU_1/Brats18_CBICA_ALU_1_seg.nii.gz',\n",
              " 'HGG/Brats18_CBICA_ARF_1/Brats18_CBICA_ARF_1_seg.nii.gz',\n",
              " 'HGG/Brats18_TCIA08_436_1/Brats18_TCIA08_436_1_seg.nii.gz',\n",
              " 'HGG/Brats18_TCIA06_372_1/Brats18_TCIA06_372_1_seg.nii.gz',\n",
              " 'HGG/Brats18_TCIA04_192_1/Brats18_TCIA04_192_1_seg.nii.gz',\n",
              " 'HGG/Brats18_CBICA_AQU_1/Brats18_CBICA_AQU_1_seg.nii.gz',\n",
              " 'HGG/Brats18_CBICA_AOZ_1/Brats18_CBICA_AOZ_1_seg.nii.gz',\n",
              " 'HGG/Brats18_TCIA08_278_1/Brats18_TCIA08_278_1_seg.nii.gz',\n",
              " 'HGG/Brats18_2013_21_1/Brats18_2013_21_1_seg.nii.gz',\n",
              " 'HGG/Brats18_CBICA_ATP_1/Brats18_CBICA_ATP_1_seg.nii.gz',\n",
              " 'HGG/Brats18_CBICA_AOO_1/Brats18_CBICA_AOO_1_seg.nii.gz',\n",
              " 'HGG/Brats18_TCIA04_111_1/Brats18_TCIA04_111_1_seg.nii.gz',\n",
              " 'HGG/Brats18_TCIA01_425_1/Brats18_TCIA01_425_1_seg.nii.gz',\n",
              " 'HGG/Brats18_TCIA02_374_1/Brats18_TCIA02_374_1_seg.nii.gz',\n",
              " 'HGG/Brats18_2013_25_1/Brats18_2013_25_1_seg.nii.gz',\n",
              " 'HGG/Brats18_2013_10_1/Brats18_2013_10_1_seg.nii.gz',\n",
              " 'HGG/Brats18_TCIA01_186_1/Brats18_TCIA01_186_1_seg.nii.gz',\n",
              " 'HGG/Brats18_2013_26_1/Brats18_2013_26_1_seg.nii.gz',\n",
              " 'HGG/Brats18_CBICA_ASU_1/Brats18_CBICA_ASU_1_seg.nii.gz',\n",
              " 'HGG/Brats18_TCIA02_606_1/Brats18_TCIA02_606_1_seg.nii.gz',\n",
              " 'HGG/Brats18_CBICA_ALX_1/Brats18_CBICA_ALX_1_seg.nii.gz',\n",
              " 'HGG/Brats18_TCIA02_118_1/Brats18_TCIA02_118_1_seg.nii.gz',\n",
              " 'HGG/Brats18_CBICA_AYW_1/Brats18_CBICA_AYW_1_seg.nii.gz',\n",
              " 'HGG/Brats18_CBICA_AVV_1/Brats18_CBICA_AVV_1_seg.nii.gz',\n",
              " 'HGG/Brats18_CBICA_ABE_1/Brats18_CBICA_ABE_1_seg.nii.gz',\n",
              " 'HGG/Brats18_TCIA01_429_1/Brats18_TCIA01_429_1_seg.nii.gz',\n",
              " 'HGG/Brats18_TCIA05_277_1/Brats18_TCIA05_277_1_seg.nii.gz',\n",
              " 'HGG/Brats18_TCIA02_377_1/Brats18_TCIA02_377_1_seg.nii.gz',\n",
              " 'HGG/Brats18_TCIA02_430_1/Brats18_TCIA02_430_1_seg.nii.gz',\n",
              " 'HGG/Brats18_CBICA_AAP_1/Brats18_CBICA_AAP_1_seg.nii.gz',\n",
              " 'HGG/Brats18_TCIA01_231_1/Brats18_TCIA01_231_1_seg.nii.gz',\n",
              " 'HGG/Brats18_TCIA02_331_1/Brats18_TCIA02_331_1_seg.nii.gz',\n",
              " 'HGG/Brats18_CBICA_AOH_1/Brats18_CBICA_AOH_1_seg.nii.gz',\n",
              " 'HGG/Brats18_CBICA_AOP_1/Brats18_CBICA_AOP_1_seg.nii.gz',\n",
              " 'HGG/Brats18_TCIA02_605_1/Brats18_TCIA02_605_1_seg.nii.gz',\n",
              " 'HGG/Brats18_TCIA06_332_1/Brats18_TCIA06_332_1_seg.nii.gz',\n",
              " 'HGG/Brats18_TCIA08_218_1/Brats18_TCIA08_218_1_seg.nii.gz',\n",
              " 'HGG/Brats18_TCIA08_205_1/Brats18_TCIA08_205_1_seg.nii.gz',\n",
              " 'HGG/Brats18_TCIA08_406_1/Brats18_TCIA08_406_1_seg.nii.gz',\n",
              " 'HGG/Brats18_CBICA_AQR_1/Brats18_CBICA_AQR_1_seg.nii.gz',\n",
              " 'HGG/Brats18_TCIA03_199_1/Brats18_TCIA03_199_1_seg.nii.gz',\n",
              " 'HGG/Brats18_2013_14_1/Brats18_2013_14_1_seg.nii.gz',\n",
              " 'HGG/Brats18_TCIA08_280_1/Brats18_TCIA08_280_1_seg.nii.gz',\n",
              " 'HGG/Brats18_CBICA_ANP_1/Brats18_CBICA_ANP_1_seg.nii.gz',\n",
              " 'HGG/Brats18_CBICA_AVG_1/Brats18_CBICA_AVG_1_seg.nii.gz',\n",
              " 'HGG/Brats18_TCIA02_608_1/Brats18_TCIA02_608_1_seg.nii.gz',\n",
              " 'HGG/Brats18_TCIA03_419_1/Brats18_TCIA03_419_1_seg.nii.gz',\n",
              " 'HGG/Brats18_TCIA02_290_1/Brats18_TCIA02_290_1_seg.nii.gz',\n",
              " 'HGG/Brats18_TCIA08_234_1/Brats18_TCIA08_234_1_seg.nii.gz',\n",
              " 'HGG/Brats18_CBICA_AYA_1/Brats18_CBICA_AYA_1_seg.nii.gz',\n",
              " 'HGG/Brats18_TCIA02_171_1/Brats18_TCIA02_171_1_seg.nii.gz',\n",
              " 'HGG/Brats18_TCIA01_147_1/Brats18_TCIA01_147_1_seg.nii.gz',\n",
              " 'HGG/Brats18_TCIA02_274_1/Brats18_TCIA02_274_1_seg.nii.gz',\n",
              " 'HGG/Brats18_TCIA01_180_1/Brats18_TCIA01_180_1_seg.nii.gz',\n",
              " 'HGG/Brats18_2013_18_1/Brats18_2013_18_1_seg.nii.gz',\n",
              " 'LGG/Brats18_TCIA10_266_1/Brats18_TCIA10_266_1_seg.nii.gz',\n",
              " 'LGG/Brats18_TCIA13_624_1/Brats18_TCIA13_624_1_seg.nii.gz',\n",
              " 'LGG/Brats18_TCIA10_410_1/Brats18_TCIA10_410_1_seg.nii.gz',\n",
              " 'LGG/Brats18_TCIA09_493_1/Brats18_TCIA09_493_1_seg.nii.gz',\n",
              " 'LGG/Brats18_TCIA10_282_1/Brats18_TCIA10_282_1_seg.nii.gz',\n",
              " 'LGG/Brats18_TCIA13_630_1/Brats18_TCIA13_630_1_seg.nii.gz',\n",
              " 'LGG/Brats18_TCIA10_202_1/Brats18_TCIA10_202_1_seg.nii.gz',\n",
              " 'LGG/Brats18_2013_1_1/Brats18_2013_1_1_seg.nii.gz',\n",
              " 'LGG/Brats18_TCIA13_653_1/Brats18_TCIA13_653_1_seg.nii.gz',\n",
              " 'LGG/Brats18_TCIA09_402_1/Brats18_TCIA09_402_1_seg.nii.gz',\n",
              " 'LGG/Brats18_2013_0_1/Brats18_2013_0_1_seg.nii.gz',\n",
              " 'LGG/Brats18_2013_8_1/Brats18_2013_8_1_seg.nii.gz',\n",
              " 'LGG/Brats18_TCIA13_615_1/Brats18_TCIA13_615_1_seg.nii.gz',\n",
              " 'LGG/Brats18_TCIA09_312_1/Brats18_TCIA09_312_1_seg.nii.gz',\n",
              " 'LGG/Brats18_TCIA10_639_1/Brats18_TCIA10_639_1_seg.nii.gz',\n",
              " 'LGG/Brats18_TCIA09_428_1/Brats18_TCIA09_428_1_seg.nii.gz',\n",
              " 'LGG/Brats18_TCIA10_261_1/Brats18_TCIA10_261_1_seg.nii.gz',\n",
              " 'LGG/Brats18_2013_9_1/Brats18_2013_9_1_seg.nii.gz',\n",
              " 'LGG/Brats18_TCIA09_451_1/Brats18_TCIA09_451_1_seg.nii.gz',\n",
              " 'LGG/Brats18_TCIA10_644_1/Brats18_TCIA10_644_1_seg.nii.gz',\n",
              " 'LGG/Brats18_TCIA10_241_1/Brats18_TCIA10_241_1_seg.nii.gz',\n",
              " 'LGG/Brats18_TCIA10_413_1/Brats18_TCIA10_413_1_seg.nii.gz',\n",
              " 'LGG/Brats18_TCIA10_152_1/Brats18_TCIA10_152_1_seg.nii.gz',\n",
              " 'LGG/Brats18_TCIA10_420_1/Brats18_TCIA10_420_1_seg.nii.gz',\n",
              " 'LGG/Brats18_TCIA09_141_1/Brats18_TCIA09_141_1_seg.nii.gz',\n",
              " 'LGG/Brats18_TCIA10_346_1/Brats18_TCIA10_346_1_seg.nii.gz',\n",
              " 'LGG/Brats18_TCIA10_449_1/Brats18_TCIA10_449_1_seg.nii.gz',\n",
              " 'LGG/Brats18_2013_16_1/Brats18_2013_16_1_seg.nii.gz',\n",
              " 'LGG/Brats18_TCIA10_640_1/Brats18_TCIA10_640_1_seg.nii.gz',\n",
              " 'LGG/Brats18_TCIA13_618_1/Brats18_TCIA13_618_1_seg.nii.gz',\n",
              " 'LGG/Brats18_TCIA10_130_1/Brats18_TCIA10_130_1_seg.nii.gz',\n",
              " 'LGG/Brats18_TCIA13_650_1/Brats18_TCIA13_650_1_seg.nii.gz',\n",
              " 'LGG/Brats18_TCIA10_109_1/Brats18_TCIA10_109_1_seg.nii.gz',\n",
              " 'LGG/Brats18_TCIA10_632_1/Brats18_TCIA10_632_1_seg.nii.gz',\n",
              " 'LGG/Brats18_TCIA13_634_1/Brats18_TCIA13_634_1_seg.nii.gz',\n",
              " 'LGG/Brats18_TCIA13_645_1/Brats18_TCIA13_645_1_seg.nii.gz',\n",
              " 'LGG/Brats18_TCIA10_490_1/Brats18_TCIA10_490_1_seg.nii.gz',\n",
              " 'LGG/Brats18_TCIA12_298_1/Brats18_TCIA12_298_1_seg.nii.gz',\n",
              " 'LGG/Brats18_TCIA13_633_1/Brats18_TCIA13_633_1_seg.nii.gz',\n",
              " 'LGG/Brats18_TCIA12_101_1/Brats18_TCIA12_101_1_seg.nii.gz',\n",
              " 'LGG/Brats18_TCIA09_255_1/Brats18_TCIA09_255_1_seg.nii.gz',\n",
              " 'LGG/Brats18_TCIA10_175_1/Brats18_TCIA10_175_1_seg.nii.gz',\n",
              " 'LGG/Brats18_TCIA10_393_1/Brats18_TCIA10_393_1_seg.nii.gz',\n",
              " 'LGG/Brats18_2013_15_1/Brats18_2013_15_1_seg.nii.gz',\n",
              " 'LGG/Brats18_TCIA09_254_1/Brats18_TCIA09_254_1_seg.nii.gz',\n",
              " 'LGG/Brats18_TCIA10_637_1/Brats18_TCIA10_637_1_seg.nii.gz',\n",
              " 'LGG/Brats18_TCIA13_621_1/Brats18_TCIA13_621_1_seg.nii.gz',\n",
              " 'LGG/Brats18_TCIA13_623_1/Brats18_TCIA13_623_1_seg.nii.gz',\n",
              " 'LGG/Brats18_2013_29_1/Brats18_2013_29_1_seg.nii.gz',\n",
              " 'LGG/Brats18_TCIA10_629_1/Brats18_TCIA10_629_1_seg.nii.gz',\n",
              " 'LGG/Brats18_TCIA10_330_1/Brats18_TCIA10_330_1_seg.nii.gz',\n",
              " 'LGG/Brats18_2013_24_1/Brats18_2013_24_1_seg.nii.gz',\n",
              " 'LGG/Brats18_TCIA10_299_1/Brats18_TCIA10_299_1_seg.nii.gz',\n",
              " 'LGG/Brats18_TCIA10_625_1/Brats18_TCIA10_625_1_seg.nii.gz',\n",
              " 'LGG/Brats18_2013_28_1/Brats18_2013_28_1_seg.nii.gz',\n",
              " 'LGG/Brats18_TCIA10_307_1/Brats18_TCIA10_307_1_seg.nii.gz',\n",
              " 'LGG/Brats18_2013_6_1/Brats18_2013_6_1_seg.nii.gz',\n",
              " 'LGG/Brats18_TCIA10_351_1/Brats18_TCIA10_351_1_seg.nii.gz',\n",
              " 'LGG/Brats18_TCIA12_470_1/Brats18_TCIA12_470_1_seg.nii.gz',\n",
              " 'LGG/Brats18_TCIA13_642_1/Brats18_TCIA13_642_1_seg.nii.gz',\n",
              " 'LGG/Brats18_TCIA12_249_1/Brats18_TCIA12_249_1_seg.nii.gz',\n",
              " 'LGG/Brats18_TCIA13_654_1/Brats18_TCIA13_654_1_seg.nii.gz',\n",
              " 'LGG/Brats18_TCIA12_480_1/Brats18_TCIA12_480_1_seg.nii.gz',\n",
              " 'LGG/Brats18_TCIA09_177_1/Brats18_TCIA09_177_1_seg.nii.gz',\n",
              " 'LGG/Brats18_TCIA10_325_1/Brats18_TCIA10_325_1_seg.nii.gz',\n",
              " 'LGG/Brats18_TCIA12_466_1/Brats18_TCIA12_466_1_seg.nii.gz',\n",
              " 'LGG/Brats18_TCIA09_620_1/Brats18_TCIA09_620_1_seg.nii.gz',\n",
              " 'LGG/Brats18_TCIA10_628_1/Brats18_TCIA10_628_1_seg.nii.gz',\n",
              " 'LGG/Brats18_TCIA10_408_1/Brats18_TCIA10_408_1_seg.nii.gz',\n",
              " 'LGG/Brats18_TCIA10_103_1/Brats18_TCIA10_103_1_seg.nii.gz',\n",
              " 'LGG/Brats18_TCIA10_387_1/Brats18_TCIA10_387_1_seg.nii.gz',\n",
              " 'LGG/Brats18_TCIA10_276_1/Brats18_TCIA10_276_1_seg.nii.gz',\n",
              " 'LGG/Brats18_TCIA10_442_1/Brats18_TCIA10_442_1_seg.nii.gz',\n",
              " 'LGG/Brats18_TCIA10_310_1/Brats18_TCIA10_310_1_seg.nii.gz',\n",
              " 'LGG/Brats18_TCIA09_462_1/Brats18_TCIA09_462_1_seg.nii.gz']"
            ]
          },
          "metadata": {
            "tags": []
          },
          "execution_count": 31
        }
      ]
    },
    {
      "cell_type": "markdown",
      "metadata": {
        "id": "x_WhT40dzlHO"
      },
      "source": [
        "Parse all the filenames and create a dictionary for each patient with structure:\n",
        "\n",
        "{<br />\n",
        "    &nbsp;&nbsp;&nbsp;&nbsp;'t1': _<path to t1 MRI file&gt;_,<br />\n",
        "    &nbsp;&nbsp;&nbsp;&nbsp;'t2': _<path to t2 MRI&gt;_,<br />\n",
        "    &nbsp;&nbsp;&nbsp;&nbsp;'flair': _<path to FLAIR MRI file&gt;_,<br />\n",
        "    &nbsp;&nbsp;&nbsp;&nbsp;'t1ce': _<path to t1ce MRI file&gt;_,<br />\n",
        "    &nbsp;&nbsp;&nbsp;&nbsp;'seg': _<path to Ground Truth file&gt;_,<br />\n",
        "}<br />"
      ]
    },
    {
      "cell_type": "code",
      "metadata": {
        "id": "4dssK9Nmwojp"
      },
      "source": [
        "pat = re.compile('.*_(\\w*)\\.nii\\.gz')\n",
        "\n",
        "data_paths = [{\n",
        "    pat.findall(item)[0]:item\n",
        "    for item in items\n",
        "}\n",
        "for items in list(zip(t1, t2, t1ce, flair, seg))]"
      ],
      "execution_count": null,
      "outputs": []
    },
    {
      "cell_type": "code",
      "metadata": {
        "id": "hBdDQuMhcqfY",
        "colab": {
          "base_uri": "https://localhost:8080/",
          "height": 1000
        },
        "outputId": "7af72ff3-73c6-4bf3-e201-3010441be5f7"
      },
      "source": [
        "data_paths"
      ],
      "execution_count": null,
      "outputs": [
        {
          "output_type": "execute_result",
          "data": {
            "text/plain": [
              "[{'flair': 'HGG/Brats18_TCIA02_370_1/Brats18_TCIA02_370_1_flair.nii.gz',\n",
              "  'seg': 'HGG/Brats18_TCIA02_370_1/Brats18_TCIA02_370_1_seg.nii.gz',\n",
              "  't1': 'HGG/Brats18_TCIA02_370_1/Brats18_TCIA02_370_1_t1.nii.gz',\n",
              "  't1ce': 'HGG/Brats18_TCIA02_370_1/Brats18_TCIA02_370_1_t1ce.nii.gz',\n",
              "  't2': 'HGG/Brats18_TCIA02_370_1/Brats18_TCIA02_370_1_t2.nii.gz'},\n",
              " {'flair': 'HGG/Brats18_CBICA_ABY_1/Brats18_CBICA_ABY_1_flair.nii.gz',\n",
              "  'seg': 'HGG/Brats18_CBICA_ABY_1/Brats18_CBICA_ABY_1_seg.nii.gz',\n",
              "  't1': 'HGG/Brats18_CBICA_ABY_1/Brats18_CBICA_ABY_1_t1.nii.gz',\n",
              "  't1ce': 'HGG/Brats18_CBICA_ABY_1/Brats18_CBICA_ABY_1_t1ce.nii.gz',\n",
              "  't2': 'HGG/Brats18_CBICA_ABY_1/Brats18_CBICA_ABY_1_t2.nii.gz'},\n",
              " {'flair': 'HGG/Brats18_TCIA02_473_1/Brats18_TCIA02_473_1_flair.nii.gz',\n",
              "  'seg': 'HGG/Brats18_TCIA02_473_1/Brats18_TCIA02_473_1_seg.nii.gz',\n",
              "  't1': 'HGG/Brats18_TCIA02_473_1/Brats18_TCIA02_473_1_t1.nii.gz',\n",
              "  't1ce': 'HGG/Brats18_TCIA02_473_1/Brats18_TCIA02_473_1_t1ce.nii.gz',\n",
              "  't2': 'HGG/Brats18_TCIA02_473_1/Brats18_TCIA02_473_1_t2.nii.gz'},\n",
              " {'flair': 'HGG/Brats18_CBICA_AAB_1/Brats18_CBICA_AAB_1_flair.nii.gz',\n",
              "  'seg': 'HGG/Brats18_CBICA_AAB_1/Brats18_CBICA_AAB_1_seg.nii.gz',\n",
              "  't1': 'HGG/Brats18_CBICA_AAB_1/Brats18_CBICA_AAB_1_t1.nii.gz',\n",
              "  't1ce': 'HGG/Brats18_CBICA_AAB_1/Brats18_CBICA_AAB_1_t1ce.nii.gz',\n",
              "  't2': 'HGG/Brats18_CBICA_AAB_1/Brats18_CBICA_AAB_1_t2.nii.gz'},\n",
              " {'flair': 'HGG/Brats18_CBICA_AMH_1/Brats18_CBICA_AMH_1_flair.nii.gz',\n",
              "  'seg': 'HGG/Brats18_CBICA_AMH_1/Brats18_CBICA_AMH_1_seg.nii.gz',\n",
              "  't1': 'HGG/Brats18_CBICA_AMH_1/Brats18_CBICA_AMH_1_t1.nii.gz',\n",
              "  't1ce': 'HGG/Brats18_CBICA_AMH_1/Brats18_CBICA_AMH_1_t1ce.nii.gz',\n",
              "  't2': 'HGG/Brats18_CBICA_AMH_1/Brats18_CBICA_AMH_1_t2.nii.gz'},\n",
              " {'flair': 'HGG/Brats18_CBICA_BHB_1/Brats18_CBICA_BHB_1_flair.nii.gz',\n",
              "  'seg': 'HGG/Brats18_CBICA_BHB_1/Brats18_CBICA_BHB_1_seg.nii.gz',\n",
              "  't1': 'HGG/Brats18_CBICA_BHB_1/Brats18_CBICA_BHB_1_t1.nii.gz',\n",
              "  't1ce': 'HGG/Brats18_CBICA_BHB_1/Brats18_CBICA_BHB_1_t1ce.nii.gz',\n",
              "  't2': 'HGG/Brats18_CBICA_BHB_1/Brats18_CBICA_BHB_1_t2.nii.gz'},\n",
              " {'flair': 'HGG/Brats18_CBICA_AOD_1/Brats18_CBICA_AOD_1_flair.nii.gz',\n",
              "  'seg': 'HGG/Brats18_CBICA_AOD_1/Brats18_CBICA_AOD_1_seg.nii.gz',\n",
              "  't1': 'HGG/Brats18_CBICA_AOD_1/Brats18_CBICA_AOD_1_t1.nii.gz',\n",
              "  't1ce': 'HGG/Brats18_CBICA_AOD_1/Brats18_CBICA_AOD_1_t1ce.nii.gz',\n",
              "  't2': 'HGG/Brats18_CBICA_AOD_1/Brats18_CBICA_AOD_1_t2.nii.gz'},\n",
              " {'flair': 'HGG/Brats18_TCIA03_121_1/Brats18_TCIA03_121_1_flair.nii.gz',\n",
              "  'seg': 'HGG/Brats18_TCIA03_121_1/Brats18_TCIA03_121_1_seg.nii.gz',\n",
              "  't1': 'HGG/Brats18_TCIA03_121_1/Brats18_TCIA03_121_1_t1.nii.gz',\n",
              "  't1ce': 'HGG/Brats18_TCIA03_121_1/Brats18_TCIA03_121_1_t1ce.nii.gz',\n",
              "  't2': 'HGG/Brats18_TCIA03_121_1/Brats18_TCIA03_121_1_t2.nii.gz'},\n",
              " {'flair': 'HGG/Brats18_TCIA05_444_1/Brats18_TCIA05_444_1_flair.nii.gz',\n",
              "  'seg': 'HGG/Brats18_TCIA05_444_1/Brats18_TCIA05_444_1_seg.nii.gz',\n",
              "  't1': 'HGG/Brats18_TCIA05_444_1/Brats18_TCIA05_444_1_t1.nii.gz',\n",
              "  't1ce': 'HGG/Brats18_TCIA05_444_1/Brats18_TCIA05_444_1_t1ce.nii.gz',\n",
              "  't2': 'HGG/Brats18_TCIA05_444_1/Brats18_TCIA05_444_1_t2.nii.gz'},\n",
              " {'flair': 'HGG/Brats18_TCIA02_117_1/Brats18_TCIA02_117_1_flair.nii.gz',\n",
              "  'seg': 'HGG/Brats18_TCIA02_117_1/Brats18_TCIA02_117_1_seg.nii.gz',\n",
              "  't1': 'HGG/Brats18_TCIA02_117_1/Brats18_TCIA02_117_1_t1.nii.gz',\n",
              "  't1ce': 'HGG/Brats18_TCIA02_117_1/Brats18_TCIA02_117_1_t1ce.nii.gz',\n",
              "  't2': 'HGG/Brats18_TCIA02_117_1/Brats18_TCIA02_117_1_t2.nii.gz'},\n",
              " {'flair': 'HGG/Brats18_TCIA01_378_1/Brats18_TCIA01_378_1_flair.nii.gz',\n",
              "  'seg': 'HGG/Brats18_TCIA01_378_1/Brats18_TCIA01_378_1_seg.nii.gz',\n",
              "  't1': 'HGG/Brats18_TCIA01_378_1/Brats18_TCIA01_378_1_t1.nii.gz',\n",
              "  't1ce': 'HGG/Brats18_TCIA01_378_1/Brats18_TCIA01_378_1_t1ce.nii.gz',\n",
              "  't2': 'HGG/Brats18_TCIA01_378_1/Brats18_TCIA01_378_1_t2.nii.gz'},\n",
              " {'flair': 'HGG/Brats18_CBICA_AXM_1/Brats18_CBICA_AXM_1_flair.nii.gz',\n",
              "  'seg': 'HGG/Brats18_CBICA_AXM_1/Brats18_CBICA_AXM_1_seg.nii.gz',\n",
              "  't1': 'HGG/Brats18_CBICA_AXM_1/Brats18_CBICA_AXM_1_t1.nii.gz',\n",
              "  't1ce': 'HGG/Brats18_CBICA_AXM_1/Brats18_CBICA_AXM_1_t1ce.nii.gz',\n",
              "  't2': 'HGG/Brats18_CBICA_AXM_1/Brats18_CBICA_AXM_1_t2.nii.gz'},\n",
              " {'flair': 'HGG/Brats18_CBICA_AXQ_1/Brats18_CBICA_AXQ_1_flair.nii.gz',\n",
              "  'seg': 'HGG/Brats18_CBICA_AXQ_1/Brats18_CBICA_AXQ_1_seg.nii.gz',\n",
              "  't1': 'HGG/Brats18_CBICA_AXQ_1/Brats18_CBICA_AXQ_1_t1.nii.gz',\n",
              "  't1ce': 'HGG/Brats18_CBICA_AXQ_1/Brats18_CBICA_AXQ_1_t1ce.nii.gz',\n",
              "  't2': 'HGG/Brats18_CBICA_AXQ_1/Brats18_CBICA_AXQ_1_t2.nii.gz'},\n",
              " {'flair': 'HGG/Brats18_CBICA_AQZ_1/Brats18_CBICA_AQZ_1_flair.nii.gz',\n",
              "  'seg': 'HGG/Brats18_CBICA_AQZ_1/Brats18_CBICA_AQZ_1_seg.nii.gz',\n",
              "  't1': 'HGG/Brats18_CBICA_AQZ_1/Brats18_CBICA_AQZ_1_t1.nii.gz',\n",
              "  't1ce': 'HGG/Brats18_CBICA_AQZ_1/Brats18_CBICA_AQZ_1_t1ce.nii.gz',\n",
              "  't2': 'HGG/Brats18_CBICA_AQZ_1/Brats18_CBICA_AQZ_1_t2.nii.gz'},\n",
              " {'flair': 'HGG/Brats18_TCIA03_265_1/Brats18_TCIA03_265_1_flair.nii.gz',\n",
              "  'seg': 'HGG/Brats18_TCIA03_265_1/Brats18_TCIA03_265_1_seg.nii.gz',\n",
              "  't1': 'HGG/Brats18_TCIA03_265_1/Brats18_TCIA03_265_1_t1.nii.gz',\n",
              "  't1ce': 'HGG/Brats18_TCIA03_265_1/Brats18_TCIA03_265_1_t1ce.nii.gz',\n",
              "  't2': 'HGG/Brats18_TCIA03_265_1/Brats18_TCIA03_265_1_t2.nii.gz'},\n",
              " {'flair': 'HGG/Brats18_CBICA_ABM_1/Brats18_CBICA_ABM_1_flair.nii.gz',\n",
              "  'seg': 'HGG/Brats18_CBICA_ABM_1/Brats18_CBICA_ABM_1_seg.nii.gz',\n",
              "  't1': 'HGG/Brats18_CBICA_ABM_1/Brats18_CBICA_ABM_1_t1.nii.gz',\n",
              "  't1ce': 'HGG/Brats18_CBICA_ABM_1/Brats18_CBICA_ABM_1_t1ce.nii.gz',\n",
              "  't2': 'HGG/Brats18_CBICA_ABM_1/Brats18_CBICA_ABM_1_t2.nii.gz'},\n",
              " {'flair': 'HGG/Brats18_TCIA02_314_1/Brats18_TCIA02_314_1_flair.nii.gz',\n",
              "  'seg': 'HGG/Brats18_TCIA02_314_1/Brats18_TCIA02_314_1_seg.nii.gz',\n",
              "  't1': 'HGG/Brats18_TCIA02_314_1/Brats18_TCIA02_314_1_t1.nii.gz',\n",
              "  't1ce': 'HGG/Brats18_TCIA02_314_1/Brats18_TCIA02_314_1_t1ce.nii.gz',\n",
              "  't2': 'HGG/Brats18_TCIA02_314_1/Brats18_TCIA02_314_1_t2.nii.gz'},\n",
              " {'flair': 'HGG/Brats18_TCIA01_150_1/Brats18_TCIA01_150_1_flair.nii.gz',\n",
              "  'seg': 'HGG/Brats18_TCIA01_150_1/Brats18_TCIA01_150_1_seg.nii.gz',\n",
              "  't1': 'HGG/Brats18_TCIA01_150_1/Brats18_TCIA01_150_1_t1.nii.gz',\n",
              "  't1ce': 'HGG/Brats18_TCIA01_150_1/Brats18_TCIA01_150_1_t1ce.nii.gz',\n",
              "  't2': 'HGG/Brats18_TCIA01_150_1/Brats18_TCIA01_150_1_t2.nii.gz'},\n",
              " {'flair': 'HGG/Brats18_2013_13_1/Brats18_2013_13_1_flair.nii.gz',\n",
              "  'seg': 'HGG/Brats18_2013_13_1/Brats18_2013_13_1_seg.nii.gz',\n",
              "  't1': 'HGG/Brats18_2013_13_1/Brats18_2013_13_1_t1.nii.gz',\n",
              "  't1ce': 'HGG/Brats18_2013_13_1/Brats18_2013_13_1_t1ce.nii.gz',\n",
              "  't2': 'HGG/Brats18_2013_13_1/Brats18_2013_13_1_t2.nii.gz'},\n",
              " {'flair': 'HGG/Brats18_2013_23_1/Brats18_2013_23_1_flair.nii.gz',\n",
              "  'seg': 'HGG/Brats18_2013_23_1/Brats18_2013_23_1_seg.nii.gz',\n",
              "  't1': 'HGG/Brats18_2013_23_1/Brats18_2013_23_1_t1.nii.gz',\n",
              "  't1ce': 'HGG/Brats18_2013_23_1/Brats18_2013_23_1_t1ce.nii.gz',\n",
              "  't2': 'HGG/Brats18_2013_23_1/Brats18_2013_23_1_t2.nii.gz'},\n",
              " {'flair': 'HGG/Brats18_TCIA08_319_1/Brats18_TCIA08_319_1_flair.nii.gz',\n",
              "  'seg': 'HGG/Brats18_TCIA08_319_1/Brats18_TCIA08_319_1_seg.nii.gz',\n",
              "  't1': 'HGG/Brats18_TCIA08_319_1/Brats18_TCIA08_319_1_t1.nii.gz',\n",
              "  't1ce': 'HGG/Brats18_TCIA08_319_1/Brats18_TCIA08_319_1_t1ce.nii.gz',\n",
              "  't2': 'HGG/Brats18_TCIA08_319_1/Brats18_TCIA08_319_1_t2.nii.gz'},\n",
              " {'flair': 'HGG/Brats18_TCIA04_149_1/Brats18_TCIA04_149_1_flair.nii.gz',\n",
              "  'seg': 'HGG/Brats18_TCIA04_149_1/Brats18_TCIA04_149_1_seg.nii.gz',\n",
              "  't1': 'HGG/Brats18_TCIA04_149_1/Brats18_TCIA04_149_1_t1.nii.gz',\n",
              "  't1ce': 'HGG/Brats18_TCIA04_149_1/Brats18_TCIA04_149_1_t1ce.nii.gz',\n",
              "  't2': 'HGG/Brats18_TCIA04_149_1/Brats18_TCIA04_149_1_t2.nii.gz'},\n",
              " {'flair': 'HGG/Brats18_TCIA06_409_1/Brats18_TCIA06_409_1_flair.nii.gz',\n",
              "  'seg': 'HGG/Brats18_TCIA06_409_1/Brats18_TCIA06_409_1_seg.nii.gz',\n",
              "  't1': 'HGG/Brats18_TCIA06_409_1/Brats18_TCIA06_409_1_t1.nii.gz',\n",
              "  't1ce': 'HGG/Brats18_TCIA06_409_1/Brats18_TCIA06_409_1_t1ce.nii.gz',\n",
              "  't2': 'HGG/Brats18_TCIA06_409_1/Brats18_TCIA06_409_1_t2.nii.gz'},\n",
              " {'flair': 'HGG/Brats18_TCIA03_257_1/Brats18_TCIA03_257_1_flair.nii.gz',\n",
              "  'seg': 'HGG/Brats18_TCIA03_257_1/Brats18_TCIA03_257_1_seg.nii.gz',\n",
              "  't1': 'HGG/Brats18_TCIA03_257_1/Brats18_TCIA03_257_1_t1.nii.gz',\n",
              "  't1ce': 'HGG/Brats18_TCIA03_257_1/Brats18_TCIA03_257_1_t1ce.nii.gz',\n",
              "  't2': 'HGG/Brats18_TCIA03_257_1/Brats18_TCIA03_257_1_t2.nii.gz'},\n",
              " {'flair': 'HGG/Brats18_TCIA02_321_1/Brats18_TCIA02_321_1_flair.nii.gz',\n",
              "  'seg': 'HGG/Brats18_TCIA02_321_1/Brats18_TCIA02_321_1_seg.nii.gz',\n",
              "  't1': 'HGG/Brats18_TCIA02_321_1/Brats18_TCIA02_321_1_t1.nii.gz',\n",
              "  't1ce': 'HGG/Brats18_TCIA02_321_1/Brats18_TCIA02_321_1_t1ce.nii.gz',\n",
              "  't2': 'HGG/Brats18_TCIA02_321_1/Brats18_TCIA02_321_1_t2.nii.gz'},\n",
              " {'flair': 'HGG/Brats18_TCIA08_469_1/Brats18_TCIA08_469_1_flair.nii.gz',\n",
              "  'seg': 'HGG/Brats18_TCIA08_469_1/Brats18_TCIA08_469_1_seg.nii.gz',\n",
              "  't1': 'HGG/Brats18_TCIA08_469_1/Brats18_TCIA08_469_1_t1.nii.gz',\n",
              "  't1ce': 'HGG/Brats18_TCIA08_469_1/Brats18_TCIA08_469_1_t1ce.nii.gz',\n",
              "  't2': 'HGG/Brats18_TCIA08_469_1/Brats18_TCIA08_469_1_t2.nii.gz'},\n",
              " {'flair': 'HGG/Brats18_TCIA03_498_1/Brats18_TCIA03_498_1_flair.nii.gz',\n",
              "  'seg': 'HGG/Brats18_TCIA03_498_1/Brats18_TCIA03_498_1_seg.nii.gz',\n",
              "  't1': 'HGG/Brats18_TCIA03_498_1/Brats18_TCIA03_498_1_t1.nii.gz',\n",
              "  't1ce': 'HGG/Brats18_TCIA03_498_1/Brats18_TCIA03_498_1_t1ce.nii.gz',\n",
              "  't2': 'HGG/Brats18_TCIA03_498_1/Brats18_TCIA03_498_1_t2.nii.gz'},\n",
              " {'flair': 'HGG/Brats18_TCIA01_221_1/Brats18_TCIA01_221_1_flair.nii.gz',\n",
              "  'seg': 'HGG/Brats18_TCIA01_221_1/Brats18_TCIA01_221_1_seg.nii.gz',\n",
              "  't1': 'HGG/Brats18_TCIA01_221_1/Brats18_TCIA01_221_1_t1.nii.gz',\n",
              "  't1ce': 'HGG/Brats18_TCIA01_221_1/Brats18_TCIA01_221_1_t1ce.nii.gz',\n",
              "  't2': 'HGG/Brats18_TCIA01_221_1/Brats18_TCIA01_221_1_t2.nii.gz'},\n",
              " {'flair': 'HGG/Brats18_CBICA_ASK_1/Brats18_CBICA_ASK_1_flair.nii.gz',\n",
              "  'seg': 'HGG/Brats18_CBICA_ASK_1/Brats18_CBICA_ASK_1_seg.nii.gz',\n",
              "  't1': 'HGG/Brats18_CBICA_ASK_1/Brats18_CBICA_ASK_1_t1.nii.gz',\n",
              "  't1ce': 'HGG/Brats18_CBICA_ASK_1/Brats18_CBICA_ASK_1_t1ce.nii.gz',\n",
              "  't2': 'HGG/Brats18_CBICA_ASK_1/Brats18_CBICA_ASK_1_t2.nii.gz'},\n",
              " {'flair': 'HGG/Brats18_CBICA_AXL_1/Brats18_CBICA_AXL_1_flair.nii.gz',\n",
              "  'seg': 'HGG/Brats18_CBICA_AXL_1/Brats18_CBICA_AXL_1_seg.nii.gz',\n",
              "  't1': 'HGG/Brats18_CBICA_AXL_1/Brats18_CBICA_AXL_1_t1.nii.gz',\n",
              "  't1ce': 'HGG/Brats18_CBICA_AXL_1/Brats18_CBICA_AXL_1_t1ce.nii.gz',\n",
              "  't2': 'HGG/Brats18_CBICA_AXL_1/Brats18_CBICA_AXL_1_t2.nii.gz'},\n",
              " {'flair': 'HGG/Brats18_CBICA_AZD_1/Brats18_CBICA_AZD_1_flair.nii.gz',\n",
              "  'seg': 'HGG/Brats18_CBICA_AZD_1/Brats18_CBICA_AZD_1_seg.nii.gz',\n",
              "  't1': 'HGG/Brats18_CBICA_AZD_1/Brats18_CBICA_AZD_1_t1.nii.gz',\n",
              "  't1ce': 'HGG/Brats18_CBICA_AZD_1/Brats18_CBICA_AZD_1_t1ce.nii.gz',\n",
              "  't2': 'HGG/Brats18_CBICA_AZD_1/Brats18_CBICA_AZD_1_t2.nii.gz'},\n",
              " {'flair': 'HGG/Brats18_TCIA02_198_1/Brats18_TCIA02_198_1_flair.nii.gz',\n",
              "  'seg': 'HGG/Brats18_TCIA02_198_1/Brats18_TCIA02_198_1_seg.nii.gz',\n",
              "  't1': 'HGG/Brats18_TCIA02_198_1/Brats18_TCIA02_198_1_t1.nii.gz',\n",
              "  't1ce': 'HGG/Brats18_TCIA02_198_1/Brats18_TCIA02_198_1_t1ce.nii.gz',\n",
              "  't2': 'HGG/Brats18_TCIA02_198_1/Brats18_TCIA02_198_1_t2.nii.gz'},\n",
              " {'flair': 'HGG/Brats18_TCIA06_247_1/Brats18_TCIA06_247_1_flair.nii.gz',\n",
              "  'seg': 'HGG/Brats18_TCIA06_247_1/Brats18_TCIA06_247_1_seg.nii.gz',\n",
              "  't1': 'HGG/Brats18_TCIA06_247_1/Brats18_TCIA06_247_1_t1.nii.gz',\n",
              "  't1ce': 'HGG/Brats18_TCIA06_247_1/Brats18_TCIA06_247_1_t1ce.nii.gz',\n",
              "  't2': 'HGG/Brats18_TCIA06_247_1/Brats18_TCIA06_247_1_t2.nii.gz'},\n",
              " {'flair': 'HGG/Brats18_TCIA08_162_1/Brats18_TCIA08_162_1_flair.nii.gz',\n",
              "  'seg': 'HGG/Brats18_TCIA08_162_1/Brats18_TCIA08_162_1_seg.nii.gz',\n",
              "  't1': 'HGG/Brats18_TCIA08_162_1/Brats18_TCIA08_162_1_t1.nii.gz',\n",
              "  't1ce': 'HGG/Brats18_TCIA08_162_1/Brats18_TCIA08_162_1_t1ce.nii.gz',\n",
              "  't2': 'HGG/Brats18_TCIA08_162_1/Brats18_TCIA08_162_1_t2.nii.gz'},\n",
              " {'flair': 'HGG/Brats18_TCIA01_401_1/Brats18_TCIA01_401_1_flair.nii.gz',\n",
              "  'seg': 'HGG/Brats18_TCIA01_401_1/Brats18_TCIA01_401_1_seg.nii.gz',\n",
              "  't1': 'HGG/Brats18_TCIA01_401_1/Brats18_TCIA01_401_1_t1.nii.gz',\n",
              "  't1ce': 'HGG/Brats18_TCIA01_401_1/Brats18_TCIA01_401_1_t1ce.nii.gz',\n",
              "  't2': 'HGG/Brats18_TCIA01_401_1/Brats18_TCIA01_401_1_t2.nii.gz'},\n",
              " {'flair': 'HGG/Brats18_CBICA_ATD_1/Brats18_CBICA_ATD_1_flair.nii.gz',\n",
              "  'seg': 'HGG/Brats18_CBICA_ATD_1/Brats18_CBICA_ATD_1_seg.nii.gz',\n",
              "  't1': 'HGG/Brats18_CBICA_ATD_1/Brats18_CBICA_ATD_1_t1.nii.gz',\n",
              "  't1ce': 'HGG/Brats18_CBICA_ATD_1/Brats18_CBICA_ATD_1_t1ce.nii.gz',\n",
              "  't2': 'HGG/Brats18_CBICA_ATD_1/Brats18_CBICA_ATD_1_t2.nii.gz'},\n",
              " {'flair': 'HGG/Brats18_CBICA_ASE_1/Brats18_CBICA_ASE_1_flair.nii.gz',\n",
              "  'seg': 'HGG/Brats18_CBICA_ASE_1/Brats18_CBICA_ASE_1_seg.nii.gz',\n",
              "  't1': 'HGG/Brats18_CBICA_ASE_1/Brats18_CBICA_ASE_1_t1.nii.gz',\n",
              "  't1ce': 'HGG/Brats18_CBICA_ASE_1/Brats18_CBICA_ASE_1_t1ce.nii.gz',\n",
              "  't2': 'HGG/Brats18_CBICA_ASE_1/Brats18_CBICA_ASE_1_t2.nii.gz'},\n",
              " {'flair': 'HGG/Brats18_TCIA01_190_1/Brats18_TCIA01_190_1_flair.nii.gz',\n",
              "  'seg': 'HGG/Brats18_TCIA01_190_1/Brats18_TCIA01_190_1_seg.nii.gz',\n",
              "  't1': 'HGG/Brats18_TCIA01_190_1/Brats18_TCIA01_190_1_t1.nii.gz',\n",
              "  't1ce': 'HGG/Brats18_TCIA01_190_1/Brats18_TCIA01_190_1_t1ce.nii.gz',\n",
              "  't2': 'HGG/Brats18_TCIA01_190_1/Brats18_TCIA01_190_1_t2.nii.gz'},\n",
              " {'flair': 'HGG/Brats18_TCIA01_201_1/Brats18_TCIA01_201_1_flair.nii.gz',\n",
              "  'seg': 'HGG/Brats18_TCIA01_201_1/Brats18_TCIA01_201_1_seg.nii.gz',\n",
              "  't1': 'HGG/Brats18_TCIA01_201_1/Brats18_TCIA01_201_1_t1.nii.gz',\n",
              "  't1ce': 'HGG/Brats18_TCIA01_201_1/Brats18_TCIA01_201_1_t1ce.nii.gz',\n",
              "  't2': 'HGG/Brats18_TCIA01_201_1/Brats18_TCIA01_201_1_t2.nii.gz'},\n",
              " {'flair': 'HGG/Brats18_TCIA01_390_1/Brats18_TCIA01_390_1_flair.nii.gz',\n",
              "  'seg': 'HGG/Brats18_TCIA01_390_1/Brats18_TCIA01_390_1_seg.nii.gz',\n",
              "  't1': 'HGG/Brats18_TCIA01_390_1/Brats18_TCIA01_390_1_t1.nii.gz',\n",
              "  't1ce': 'HGG/Brats18_TCIA01_390_1/Brats18_TCIA01_390_1_t1ce.nii.gz',\n",
              "  't2': 'HGG/Brats18_TCIA01_390_1/Brats18_TCIA01_390_1_t2.nii.gz'},\n",
              " {'flair': 'HGG/Brats18_TCIA06_184_1/Brats18_TCIA06_184_1_flair.nii.gz',\n",
              "  'seg': 'HGG/Brats18_TCIA06_184_1/Brats18_TCIA06_184_1_seg.nii.gz',\n",
              "  't1': 'HGG/Brats18_TCIA06_184_1/Brats18_TCIA06_184_1_t1.nii.gz',\n",
              "  't1ce': 'HGG/Brats18_TCIA06_184_1/Brats18_TCIA06_184_1_t1ce.nii.gz',\n",
              "  't2': 'HGG/Brats18_TCIA06_184_1/Brats18_TCIA06_184_1_t2.nii.gz'},\n",
              " {'flair': 'HGG/Brats18_2013_2_1/Brats18_2013_2_1_flair.nii.gz',\n",
              "  'seg': 'HGG/Brats18_2013_2_1/Brats18_2013_2_1_seg.nii.gz',\n",
              "  't1': 'HGG/Brats18_2013_2_1/Brats18_2013_2_1_t1.nii.gz',\n",
              "  't1ce': 'HGG/Brats18_2013_2_1/Brats18_2013_2_1_t1ce.nii.gz',\n",
              "  't2': 'HGG/Brats18_2013_2_1/Brats18_2013_2_1_t2.nii.gz'},\n",
              " {'flair': 'HGG/Brats18_TCIA03_375_1/Brats18_TCIA03_375_1_flair.nii.gz',\n",
              "  'seg': 'HGG/Brats18_TCIA03_375_1/Brats18_TCIA03_375_1_seg.nii.gz',\n",
              "  't1': 'HGG/Brats18_TCIA03_375_1/Brats18_TCIA03_375_1_t1.nii.gz',\n",
              "  't1ce': 'HGG/Brats18_TCIA03_375_1/Brats18_TCIA03_375_1_t1ce.nii.gz',\n",
              "  't2': 'HGG/Brats18_TCIA03_375_1/Brats18_TCIA03_375_1_t2.nii.gz'},\n",
              " {'flair': 'HGG/Brats18_TCIA02_368_1/Brats18_TCIA02_368_1_flair.nii.gz',\n",
              "  'seg': 'HGG/Brats18_TCIA02_368_1/Brats18_TCIA02_368_1_seg.nii.gz',\n",
              "  't1': 'HGG/Brats18_TCIA02_368_1/Brats18_TCIA02_368_1_t1.nii.gz',\n",
              "  't1ce': 'HGG/Brats18_TCIA02_368_1/Brats18_TCIA02_368_1_t1ce.nii.gz',\n",
              "  't2': 'HGG/Brats18_TCIA02_368_1/Brats18_TCIA02_368_1_t2.nii.gz'},\n",
              " {'flair': 'HGG/Brats18_CBICA_ASA_1/Brats18_CBICA_ASA_1_flair.nii.gz',\n",
              "  'seg': 'HGG/Brats18_CBICA_ASA_1/Brats18_CBICA_ASA_1_seg.nii.gz',\n",
              "  't1': 'HGG/Brats18_CBICA_ASA_1/Brats18_CBICA_ASA_1_t1.nii.gz',\n",
              "  't1ce': 'HGG/Brats18_CBICA_ASA_1/Brats18_CBICA_ASA_1_t1ce.nii.gz',\n",
              "  't2': 'HGG/Brats18_CBICA_ASA_1/Brats18_CBICA_ASA_1_t2.nii.gz'},\n",
              " {'flair': 'HGG/Brats18_2013_5_1/Brats18_2013_5_1_flair.nii.gz',\n",
              "  'seg': 'HGG/Brats18_2013_5_1/Brats18_2013_5_1_seg.nii.gz',\n",
              "  't1': 'HGG/Brats18_2013_5_1/Brats18_2013_5_1_t1.nii.gz',\n",
              "  't1ce': 'HGG/Brats18_2013_5_1/Brats18_2013_5_1_t1ce.nii.gz',\n",
              "  't2': 'HGG/Brats18_2013_5_1/Brats18_2013_5_1_t2.nii.gz'},\n",
              " {'flair': 'HGG/Brats18_CBICA_AXN_1/Brats18_CBICA_AXN_1_flair.nii.gz',\n",
              "  'seg': 'HGG/Brats18_CBICA_AXN_1/Brats18_CBICA_AXN_1_seg.nii.gz',\n",
              "  't1': 'HGG/Brats18_CBICA_AXN_1/Brats18_CBICA_AXN_1_t1.nii.gz',\n",
              "  't1ce': 'HGG/Brats18_CBICA_AXN_1/Brats18_CBICA_AXN_1_t1ce.nii.gz',\n",
              "  't2': 'HGG/Brats18_CBICA_AXN_1/Brats18_CBICA_AXN_1_t2.nii.gz'},\n",
              " {'flair': 'HGG/Brats18_CBICA_BFB_1/Brats18_CBICA_BFB_1_flair.nii.gz',\n",
              "  'seg': 'HGG/Brats18_CBICA_BFB_1/Brats18_CBICA_BFB_1_seg.nii.gz',\n",
              "  't1': 'HGG/Brats18_CBICA_BFB_1/Brats18_CBICA_BFB_1_t1.nii.gz',\n",
              "  't1ce': 'HGG/Brats18_CBICA_BFB_1/Brats18_CBICA_BFB_1_t1ce.nii.gz',\n",
              "  't2': 'HGG/Brats18_CBICA_BFB_1/Brats18_CBICA_BFB_1_t2.nii.gz'},\n",
              " {'flair': 'HGG/Brats18_TCIA06_211_1/Brats18_TCIA06_211_1_flair.nii.gz',\n",
              "  'seg': 'HGG/Brats18_TCIA06_211_1/Brats18_TCIA06_211_1_seg.nii.gz',\n",
              "  't1': 'HGG/Brats18_TCIA06_211_1/Brats18_TCIA06_211_1_t1.nii.gz',\n",
              "  't1ce': 'HGG/Brats18_TCIA06_211_1/Brats18_TCIA06_211_1_t1ce.nii.gz',\n",
              "  't2': 'HGG/Brats18_TCIA06_211_1/Brats18_TCIA06_211_1_t2.nii.gz'},\n",
              " {'flair': 'HGG/Brats18_TCIA03_296_1/Brats18_TCIA03_296_1_flair.nii.gz',\n",
              "  'seg': 'HGG/Brats18_TCIA03_296_1/Brats18_TCIA03_296_1_seg.nii.gz',\n",
              "  't1': 'HGG/Brats18_TCIA03_296_1/Brats18_TCIA03_296_1_t1.nii.gz',\n",
              "  't1ce': 'HGG/Brats18_TCIA03_296_1/Brats18_TCIA03_296_1_t1ce.nii.gz',\n",
              "  't2': 'HGG/Brats18_TCIA03_296_1/Brats18_TCIA03_296_1_t2.nii.gz'},\n",
              " {'flair': 'HGG/Brats18_CBICA_AQV_1/Brats18_CBICA_AQV_1_flair.nii.gz',\n",
              "  'seg': 'HGG/Brats18_CBICA_AQV_1/Brats18_CBICA_AQV_1_seg.nii.gz',\n",
              "  't1': 'HGG/Brats18_CBICA_AQV_1/Brats18_CBICA_AQV_1_t1.nii.gz',\n",
              "  't1ce': 'HGG/Brats18_CBICA_AQV_1/Brats18_CBICA_AQV_1_t1ce.nii.gz',\n",
              "  't2': 'HGG/Brats18_CBICA_AQV_1/Brats18_CBICA_AQV_1_t2.nii.gz'},\n",
              " {'flair': 'HGG/Brats18_TCIA01_412_1/Brats18_TCIA01_412_1_flair.nii.gz',\n",
              "  'seg': 'HGG/Brats18_TCIA01_412_1/Brats18_TCIA01_412_1_seg.nii.gz',\n",
              "  't1': 'HGG/Brats18_TCIA01_412_1/Brats18_TCIA01_412_1_t1.nii.gz',\n",
              "  't1ce': 'HGG/Brats18_TCIA01_412_1/Brats18_TCIA01_412_1_t1ce.nii.gz',\n",
              "  't2': 'HGG/Brats18_TCIA01_412_1/Brats18_TCIA01_412_1_t2.nii.gz'},\n",
              " {'flair': 'HGG/Brats18_TCIA04_343_1/Brats18_TCIA04_343_1_flair.nii.gz',\n",
              "  'seg': 'HGG/Brats18_TCIA04_343_1/Brats18_TCIA04_343_1_seg.nii.gz',\n",
              "  't1': 'HGG/Brats18_TCIA04_343_1/Brats18_TCIA04_343_1_t1.nii.gz',\n",
              "  't1ce': 'HGG/Brats18_TCIA04_343_1/Brats18_TCIA04_343_1_t1ce.nii.gz',\n",
              "  't2': 'HGG/Brats18_TCIA04_343_1/Brats18_TCIA04_343_1_t2.nii.gz'},\n",
              " {'flair': 'HGG/Brats18_2013_12_1/Brats18_2013_12_1_flair.nii.gz',\n",
              "  'seg': 'HGG/Brats18_2013_12_1/Brats18_2013_12_1_seg.nii.gz',\n",
              "  't1': 'HGG/Brats18_2013_12_1/Brats18_2013_12_1_t1.nii.gz',\n",
              "  't1ce': 'HGG/Brats18_2013_12_1/Brats18_2013_12_1_t1ce.nii.gz',\n",
              "  't2': 'HGG/Brats18_2013_12_1/Brats18_2013_12_1_t2.nii.gz'},\n",
              " {'flair': 'HGG/Brats18_TCIA02_394_1/Brats18_TCIA02_394_1_flair.nii.gz',\n",
              "  'seg': 'HGG/Brats18_TCIA02_394_1/Brats18_TCIA02_394_1_seg.nii.gz',\n",
              "  't1': 'HGG/Brats18_TCIA02_394_1/Brats18_TCIA02_394_1_t1.nii.gz',\n",
              "  't1ce': 'HGG/Brats18_TCIA02_394_1/Brats18_TCIA02_394_1_t1ce.nii.gz',\n",
              "  't2': 'HGG/Brats18_TCIA02_394_1/Brats18_TCIA02_394_1_t2.nii.gz'},\n",
              " {'flair': 'HGG/Brats18_CBICA_ASV_1/Brats18_CBICA_ASV_1_flair.nii.gz',\n",
              "  'seg': 'HGG/Brats18_CBICA_ASV_1/Brats18_CBICA_ASV_1_seg.nii.gz',\n",
              "  't1': 'HGG/Brats18_CBICA_ASV_1/Brats18_CBICA_ASV_1_t1.nii.gz',\n",
              "  't1ce': 'HGG/Brats18_CBICA_ASV_1/Brats18_CBICA_ASV_1_t1ce.nii.gz',\n",
              "  't2': 'HGG/Brats18_CBICA_ASV_1/Brats18_CBICA_ASV_1_t2.nii.gz'},\n",
              " {'flair': 'HGG/Brats18_TCIA01_203_1/Brats18_TCIA01_203_1_flair.nii.gz',\n",
              "  'seg': 'HGG/Brats18_TCIA01_203_1/Brats18_TCIA01_203_1_seg.nii.gz',\n",
              "  't1': 'HGG/Brats18_TCIA01_203_1/Brats18_TCIA01_203_1_t1.nii.gz',\n",
              "  't1ce': 'HGG/Brats18_TCIA01_203_1/Brats18_TCIA01_203_1_t1ce.nii.gz',\n",
              "  't2': 'HGG/Brats18_TCIA01_203_1/Brats18_TCIA01_203_1_t2.nii.gz'},\n",
              " {'flair': 'HGG/Brats18_2013_11_1/Brats18_2013_11_1_flair.nii.gz',\n",
              "  'seg': 'HGG/Brats18_2013_11_1/Brats18_2013_11_1_seg.nii.gz',\n",
              "  't1': 'HGG/Brats18_2013_11_1/Brats18_2013_11_1_t1.nii.gz',\n",
              "  't1ce': 'HGG/Brats18_2013_11_1/Brats18_2013_11_1_t1ce.nii.gz',\n",
              "  't2': 'HGG/Brats18_2013_11_1/Brats18_2013_11_1_t2.nii.gz'},\n",
              " {'flair': 'HGG/Brats18_TCIA02_151_1/Brats18_TCIA02_151_1_flair.nii.gz',\n",
              "  'seg': 'HGG/Brats18_TCIA02_151_1/Brats18_TCIA02_151_1_seg.nii.gz',\n",
              "  't1': 'HGG/Brats18_TCIA02_151_1/Brats18_TCIA02_151_1_t1.nii.gz',\n",
              "  't1ce': 'HGG/Brats18_TCIA02_151_1/Brats18_TCIA02_151_1_t1ce.nii.gz',\n",
              "  't2': 'HGG/Brats18_TCIA02_151_1/Brats18_TCIA02_151_1_t2.nii.gz'},\n",
              " {'flair': 'HGG/Brats18_CBICA_AYU_1/Brats18_CBICA_AYU_1_flair.nii.gz',\n",
              "  'seg': 'HGG/Brats18_CBICA_AYU_1/Brats18_CBICA_AYU_1_seg.nii.gz',\n",
              "  't1': 'HGG/Brats18_CBICA_AYU_1/Brats18_CBICA_AYU_1_t1.nii.gz',\n",
              "  't1ce': 'HGG/Brats18_CBICA_AYU_1/Brats18_CBICA_AYU_1_t1ce.nii.gz',\n",
              "  't2': 'HGG/Brats18_CBICA_AYU_1/Brats18_CBICA_AYU_1_t2.nii.gz'},\n",
              " {'flair': 'HGG/Brats18_CBICA_BHK_1/Brats18_CBICA_BHK_1_flair.nii.gz',\n",
              "  'seg': 'HGG/Brats18_CBICA_BHK_1/Brats18_CBICA_BHK_1_seg.nii.gz',\n",
              "  't1': 'HGG/Brats18_CBICA_BHK_1/Brats18_CBICA_BHK_1_t1.nii.gz',\n",
              "  't1ce': 'HGG/Brats18_CBICA_BHK_1/Brats18_CBICA_BHK_1_t1ce.nii.gz',\n",
              "  't2': 'HGG/Brats18_CBICA_BHK_1/Brats18_CBICA_BHK_1_t2.nii.gz'},\n",
              " {'flair': 'HGG/Brats18_CBICA_ARW_1/Brats18_CBICA_ARW_1_flair.nii.gz',\n",
              "  'seg': 'HGG/Brats18_CBICA_ARW_1/Brats18_CBICA_ARW_1_seg.nii.gz',\n",
              "  't1': 'HGG/Brats18_CBICA_ARW_1/Brats18_CBICA_ARW_1_t1.nii.gz',\n",
              "  't1ce': 'HGG/Brats18_CBICA_ARW_1/Brats18_CBICA_ARW_1_t1ce.nii.gz',\n",
              "  't2': 'HGG/Brats18_CBICA_ARW_1/Brats18_CBICA_ARW_1_t2.nii.gz'},\n",
              " {'flair': 'HGG/Brats18_TCIA04_361_1/Brats18_TCIA04_361_1_flair.nii.gz',\n",
              "  'seg': 'HGG/Brats18_TCIA04_361_1/Brats18_TCIA04_361_1_seg.nii.gz',\n",
              "  't1': 'HGG/Brats18_TCIA04_361_1/Brats18_TCIA04_361_1_t1.nii.gz',\n",
              "  't1ce': 'HGG/Brats18_TCIA04_361_1/Brats18_TCIA04_361_1_t1ce.nii.gz',\n",
              "  't2': 'HGG/Brats18_TCIA04_361_1/Brats18_TCIA04_361_1_t2.nii.gz'},\n",
              " {'flair': 'HGG/Brats18_TCIA08_105_1/Brats18_TCIA08_105_1_flair.nii.gz',\n",
              "  'seg': 'HGG/Brats18_TCIA08_105_1/Brats18_TCIA08_105_1_seg.nii.gz',\n",
              "  't1': 'HGG/Brats18_TCIA08_105_1/Brats18_TCIA08_105_1_t1.nii.gz',\n",
              "  't1ce': 'HGG/Brats18_TCIA08_105_1/Brats18_TCIA08_105_1_t1ce.nii.gz',\n",
              "  't2': 'HGG/Brats18_TCIA08_105_1/Brats18_TCIA08_105_1_t2.nii.gz'},\n",
              " {'flair': 'HGG/Brats18_CBICA_BHM_1/Brats18_CBICA_BHM_1_flair.nii.gz',\n",
              "  'seg': 'HGG/Brats18_CBICA_BHM_1/Brats18_CBICA_BHM_1_seg.nii.gz',\n",
              "  't1': 'HGG/Brats18_CBICA_BHM_1/Brats18_CBICA_BHM_1_t1.nii.gz',\n",
              "  't1ce': 'HGG/Brats18_CBICA_BHM_1/Brats18_CBICA_BHM_1_t1ce.nii.gz',\n",
              "  't2': 'HGG/Brats18_CBICA_BHM_1/Brats18_CBICA_BHM_1_t2.nii.gz'},\n",
              " {'flair': 'HGG/Brats18_TCIA02_471_1/Brats18_TCIA02_471_1_flair.nii.gz',\n",
              "  'seg': 'HGG/Brats18_TCIA02_471_1/Brats18_TCIA02_471_1_seg.nii.gz',\n",
              "  't1': 'HGG/Brats18_TCIA02_471_1/Brats18_TCIA02_471_1_t1.nii.gz',\n",
              "  't1ce': 'HGG/Brats18_TCIA02_471_1/Brats18_TCIA02_471_1_t1ce.nii.gz',\n",
              "  't2': 'HGG/Brats18_TCIA02_471_1/Brats18_TCIA02_471_1_t2.nii.gz'},\n",
              " {'flair': 'HGG/Brats18_TCIA01_499_1/Brats18_TCIA01_499_1_flair.nii.gz',\n",
              "  'seg': 'HGG/Brats18_TCIA01_499_1/Brats18_TCIA01_499_1_seg.nii.gz',\n",
              "  't1': 'HGG/Brats18_TCIA01_499_1/Brats18_TCIA01_499_1_t1.nii.gz',\n",
              "  't1ce': 'HGG/Brats18_TCIA01_499_1/Brats18_TCIA01_499_1_t1ce.nii.gz',\n",
              "  't2': 'HGG/Brats18_TCIA01_499_1/Brats18_TCIA01_499_1_t2.nii.gz'},\n",
              " {'flair': 'HGG/Brats18_CBICA_ANI_1/Brats18_CBICA_ANI_1_flair.nii.gz',\n",
              "  'seg': 'HGG/Brats18_CBICA_ANI_1/Brats18_CBICA_ANI_1_seg.nii.gz',\n",
              "  't1': 'HGG/Brats18_CBICA_ANI_1/Brats18_CBICA_ANI_1_t1.nii.gz',\n",
              "  't1ce': 'HGG/Brats18_CBICA_ANI_1/Brats18_CBICA_ANI_1_t1ce.nii.gz',\n",
              "  't2': 'HGG/Brats18_CBICA_ANI_1/Brats18_CBICA_ANI_1_t2.nii.gz'},\n",
              " {'flair': 'HGG/Brats18_CBICA_AUN_1/Brats18_CBICA_AUN_1_flair.nii.gz',\n",
              "  'seg': 'HGG/Brats18_CBICA_AUN_1/Brats18_CBICA_AUN_1_seg.nii.gz',\n",
              "  't1': 'HGG/Brats18_CBICA_AUN_1/Brats18_CBICA_AUN_1_t1.nii.gz',\n",
              "  't1ce': 'HGG/Brats18_CBICA_AUN_1/Brats18_CBICA_AUN_1_t1ce.nii.gz',\n",
              "  't2': 'HGG/Brats18_CBICA_AUN_1/Brats18_CBICA_AUN_1_t2.nii.gz'},\n",
              " {'flair': 'HGG/Brats18_CBICA_ABN_1/Brats18_CBICA_ABN_1_flair.nii.gz',\n",
              "  'seg': 'HGG/Brats18_CBICA_ABN_1/Brats18_CBICA_ABN_1_seg.nii.gz',\n",
              "  't1': 'HGG/Brats18_CBICA_ABN_1/Brats18_CBICA_ABN_1_t1.nii.gz',\n",
              "  't1ce': 'HGG/Brats18_CBICA_ABN_1/Brats18_CBICA_ABN_1_t1ce.nii.gz',\n",
              "  't2': 'HGG/Brats18_CBICA_ABN_1/Brats18_CBICA_ABN_1_t2.nii.gz'},\n",
              " {'flair': 'HGG/Brats18_CBICA_APY_1/Brats18_CBICA_APY_1_flair.nii.gz',\n",
              "  'seg': 'HGG/Brats18_CBICA_APY_1/Brats18_CBICA_APY_1_seg.nii.gz',\n",
              "  't1': 'HGG/Brats18_CBICA_APY_1/Brats18_CBICA_APY_1_t1.nii.gz',\n",
              "  't1ce': 'HGG/Brats18_CBICA_APY_1/Brats18_CBICA_APY_1_t1ce.nii.gz',\n",
              "  't2': 'HGG/Brats18_CBICA_APY_1/Brats18_CBICA_APY_1_t2.nii.gz'},\n",
              " {'flair': 'HGG/Brats18_CBICA_ATX_1/Brats18_CBICA_ATX_1_flair.nii.gz',\n",
              "  'seg': 'HGG/Brats18_CBICA_ATX_1/Brats18_CBICA_ATX_1_seg.nii.gz',\n",
              "  't1': 'HGG/Brats18_CBICA_ATX_1/Brats18_CBICA_ATX_1_t1.nii.gz',\n",
              "  't1ce': 'HGG/Brats18_CBICA_ATX_1/Brats18_CBICA_ATX_1_t1ce.nii.gz',\n",
              "  't2': 'HGG/Brats18_CBICA_ATX_1/Brats18_CBICA_ATX_1_t2.nii.gz'},\n",
              " {'flair': 'HGG/Brats18_CBICA_ASW_1/Brats18_CBICA_ASW_1_flair.nii.gz',\n",
              "  'seg': 'HGG/Brats18_CBICA_ASW_1/Brats18_CBICA_ASW_1_seg.nii.gz',\n",
              "  't1': 'HGG/Brats18_CBICA_ASW_1/Brats18_CBICA_ASW_1_t1.nii.gz',\n",
              "  't1ce': 'HGG/Brats18_CBICA_ASW_1/Brats18_CBICA_ASW_1_t1ce.nii.gz',\n",
              "  't2': 'HGG/Brats18_CBICA_ASW_1/Brats18_CBICA_ASW_1_t2.nii.gz'},\n",
              " {'flair': 'HGG/Brats18_CBICA_AXW_1/Brats18_CBICA_AXW_1_flair.nii.gz',\n",
              "  'seg': 'HGG/Brats18_CBICA_AXW_1/Brats18_CBICA_AXW_1_seg.nii.gz',\n",
              "  't1': 'HGG/Brats18_CBICA_AXW_1/Brats18_CBICA_AXW_1_t1.nii.gz',\n",
              "  't1ce': 'HGG/Brats18_CBICA_AXW_1/Brats18_CBICA_AXW_1_t1ce.nii.gz',\n",
              "  't2': 'HGG/Brats18_CBICA_AXW_1/Brats18_CBICA_AXW_1_t2.nii.gz'},\n",
              " {'flair': 'HGG/Brats18_CBICA_AXJ_1/Brats18_CBICA_AXJ_1_flair.nii.gz',\n",
              "  'seg': 'HGG/Brats18_CBICA_AXJ_1/Brats18_CBICA_AXJ_1_seg.nii.gz',\n",
              "  't1': 'HGG/Brats18_CBICA_AXJ_1/Brats18_CBICA_AXJ_1_t1.nii.gz',\n",
              "  't1ce': 'HGG/Brats18_CBICA_AXJ_1/Brats18_CBICA_AXJ_1_t1ce.nii.gz',\n",
              "  't2': 'HGG/Brats18_CBICA_AXJ_1/Brats18_CBICA_AXJ_1_t2.nii.gz'},\n",
              " {'flair': 'HGG/Brats18_TCIA02_168_1/Brats18_TCIA02_168_1_flair.nii.gz',\n",
              "  'seg': 'HGG/Brats18_TCIA02_168_1/Brats18_TCIA02_168_1_seg.nii.gz',\n",
              "  't1': 'HGG/Brats18_TCIA02_168_1/Brats18_TCIA02_168_1_t1.nii.gz',\n",
              "  't1ce': 'HGG/Brats18_TCIA02_168_1/Brats18_TCIA02_168_1_t1ce.nii.gz',\n",
              "  't2': 'HGG/Brats18_TCIA02_168_1/Brats18_TCIA02_168_1_t2.nii.gz'},\n",
              " {'flair': 'HGG/Brats18_CBICA_AWH_1/Brats18_CBICA_AWH_1_flair.nii.gz',\n",
              "  'seg': 'HGG/Brats18_CBICA_AWH_1/Brats18_CBICA_AWH_1_seg.nii.gz',\n",
              "  't1': 'HGG/Brats18_CBICA_AWH_1/Brats18_CBICA_AWH_1_t1.nii.gz',\n",
              "  't1ce': 'HGG/Brats18_CBICA_AWH_1/Brats18_CBICA_AWH_1_t1ce.nii.gz',\n",
              "  't2': 'HGG/Brats18_CBICA_AWH_1/Brats18_CBICA_AWH_1_t2.nii.gz'},\n",
              " {'flair': 'HGG/Brats18_TCIA02_208_1/Brats18_TCIA02_208_1_flair.nii.gz',\n",
              "  'seg': 'HGG/Brats18_TCIA02_208_1/Brats18_TCIA02_208_1_seg.nii.gz',\n",
              "  't1': 'HGG/Brats18_TCIA02_208_1/Brats18_TCIA02_208_1_t1.nii.gz',\n",
              "  't1ce': 'HGG/Brats18_TCIA02_208_1/Brats18_TCIA02_208_1_t1ce.nii.gz',\n",
              "  't2': 'HGG/Brats18_TCIA02_208_1/Brats18_TCIA02_208_1_t2.nii.gz'},\n",
              " {'flair': 'HGG/Brats18_CBICA_ALN_1/Brats18_CBICA_ALN_1_flair.nii.gz',\n",
              "  'seg': 'HGG/Brats18_CBICA_ALN_1/Brats18_CBICA_ALN_1_seg.nii.gz',\n",
              "  't1': 'HGG/Brats18_CBICA_ALN_1/Brats18_CBICA_ALN_1_t1.nii.gz',\n",
              "  't1ce': 'HGG/Brats18_CBICA_ALN_1/Brats18_CBICA_ALN_1_t1ce.nii.gz',\n",
              "  't2': 'HGG/Brats18_CBICA_ALN_1/Brats18_CBICA_ALN_1_t2.nii.gz'},\n",
              " {'flair': 'HGG/Brats18_CBICA_APZ_1/Brats18_CBICA_APZ_1_flair.nii.gz',\n",
              "  'seg': 'HGG/Brats18_CBICA_APZ_1/Brats18_CBICA_APZ_1_seg.nii.gz',\n",
              "  't1': 'HGG/Brats18_CBICA_APZ_1/Brats18_CBICA_APZ_1_t1.nii.gz',\n",
              "  't1ce': 'HGG/Brats18_CBICA_APZ_1/Brats18_CBICA_APZ_1_t1ce.nii.gz',\n",
              "  't2': 'HGG/Brats18_CBICA_APZ_1/Brats18_CBICA_APZ_1_t2.nii.gz'},\n",
              " {'flair': 'HGG/Brats18_CBICA_ABO_1/Brats18_CBICA_ABO_1_flair.nii.gz',\n",
              "  'seg': 'HGG/Brats18_CBICA_ABO_1/Brats18_CBICA_ABO_1_seg.nii.gz',\n",
              "  't1': 'HGG/Brats18_CBICA_ABO_1/Brats18_CBICA_ABO_1_t1.nii.gz',\n",
              "  't1ce': 'HGG/Brats18_CBICA_ABO_1/Brats18_CBICA_ABO_1_t1ce.nii.gz',\n",
              "  't2': 'HGG/Brats18_CBICA_ABO_1/Brats18_CBICA_ABO_1_t2.nii.gz'},\n",
              " {'flair': 'HGG/Brats18_CBICA_ATB_1/Brats18_CBICA_ATB_1_flair.nii.gz',\n",
              "  'seg': 'HGG/Brats18_CBICA_ATB_1/Brats18_CBICA_ATB_1_seg.nii.gz',\n",
              "  't1': 'HGG/Brats18_CBICA_ATB_1/Brats18_CBICA_ATB_1_t1.nii.gz',\n",
              "  't1ce': 'HGG/Brats18_CBICA_ATB_1/Brats18_CBICA_ATB_1_t1ce.nii.gz',\n",
              "  't2': 'HGG/Brats18_CBICA_ATB_1/Brats18_CBICA_ATB_1_t2.nii.gz'},\n",
              " {'flair': 'HGG/Brats18_CBICA_AQA_1/Brats18_CBICA_AQA_1_flair.nii.gz',\n",
              "  'seg': 'HGG/Brats18_CBICA_AQA_1/Brats18_CBICA_AQA_1_seg.nii.gz',\n",
              "  't1': 'HGG/Brats18_CBICA_AQA_1/Brats18_CBICA_AQA_1_t1.nii.gz',\n",
              "  't1ce': 'HGG/Brats18_CBICA_AQA_1/Brats18_CBICA_AQA_1_t1ce.nii.gz',\n",
              "  't2': 'HGG/Brats18_CBICA_AQA_1/Brats18_CBICA_AQA_1_t2.nii.gz'},\n",
              " {'flair': 'HGG/Brats18_TCIA02_300_1/Brats18_TCIA02_300_1_flair.nii.gz',\n",
              "  'seg': 'HGG/Brats18_TCIA02_300_1/Brats18_TCIA02_300_1_seg.nii.gz',\n",
              "  't1': 'HGG/Brats18_TCIA02_300_1/Brats18_TCIA02_300_1_t1.nii.gz',\n",
              "  't1ce': 'HGG/Brats18_TCIA02_300_1/Brats18_TCIA02_300_1_t1ce.nii.gz',\n",
              "  't2': 'HGG/Brats18_TCIA02_300_1/Brats18_TCIA02_300_1_t2.nii.gz'},\n",
              " {'flair': 'HGG/Brats18_CBICA_AQT_1/Brats18_CBICA_AQT_1_flair.nii.gz',\n",
              "  'seg': 'HGG/Brats18_CBICA_AQT_1/Brats18_CBICA_AQT_1_seg.nii.gz',\n",
              "  't1': 'HGG/Brats18_CBICA_AQT_1/Brats18_CBICA_AQT_1_t1.nii.gz',\n",
              "  't1ce': 'HGG/Brats18_CBICA_AQT_1/Brats18_CBICA_AQT_1_t1ce.nii.gz',\n",
              "  't2': 'HGG/Brats18_CBICA_AQT_1/Brats18_CBICA_AQT_1_t2.nii.gz'},\n",
              " {'flair': 'HGG/Brats18_CBICA_AQP_1/Brats18_CBICA_AQP_1_flair.nii.gz',\n",
              "  'seg': 'HGG/Brats18_CBICA_AQP_1/Brats18_CBICA_AQP_1_seg.nii.gz',\n",
              "  't1': 'HGG/Brats18_CBICA_AQP_1/Brats18_CBICA_AQP_1_t1.nii.gz',\n",
              "  't1ce': 'HGG/Brats18_CBICA_AQP_1/Brats18_CBICA_AQP_1_t1ce.nii.gz',\n",
              "  't2': 'HGG/Brats18_CBICA_AQP_1/Brats18_CBICA_AQP_1_t2.nii.gz'},\n",
              " {'flair': 'HGG/Brats18_TCIA05_396_1/Brats18_TCIA05_396_1_flair.nii.gz',\n",
              "  'seg': 'HGG/Brats18_TCIA05_396_1/Brats18_TCIA05_396_1_seg.nii.gz',\n",
              "  't1': 'HGG/Brats18_TCIA05_396_1/Brats18_TCIA05_396_1_t1.nii.gz',\n",
              "  't1ce': 'HGG/Brats18_TCIA05_396_1/Brats18_TCIA05_396_1_t1ce.nii.gz',\n",
              "  't2': 'HGG/Brats18_TCIA05_396_1/Brats18_TCIA05_396_1_t2.nii.gz'},\n",
              " {'flair': 'HGG/Brats18_CBICA_AZH_1/Brats18_CBICA_AZH_1_flair.nii.gz',\n",
              "  'seg': 'HGG/Brats18_CBICA_AZH_1/Brats18_CBICA_AZH_1_seg.nii.gz',\n",
              "  't1': 'HGG/Brats18_CBICA_AZH_1/Brats18_CBICA_AZH_1_t1.nii.gz',\n",
              "  't1ce': 'HGG/Brats18_CBICA_AZH_1/Brats18_CBICA_AZH_1_t1ce.nii.gz',\n",
              "  't2': 'HGG/Brats18_CBICA_AZH_1/Brats18_CBICA_AZH_1_t2.nii.gz'},\n",
              " {'flair': 'HGG/Brats18_CBICA_AYI_1/Brats18_CBICA_AYI_1_flair.nii.gz',\n",
              "  'seg': 'HGG/Brats18_CBICA_AYI_1/Brats18_CBICA_AYI_1_seg.nii.gz',\n",
              "  't1': 'HGG/Brats18_CBICA_AYI_1/Brats18_CBICA_AYI_1_t1.nii.gz',\n",
              "  't1ce': 'HGG/Brats18_CBICA_AYI_1/Brats18_CBICA_AYI_1_t1ce.nii.gz',\n",
              "  't2': 'HGG/Brats18_CBICA_AYI_1/Brats18_CBICA_AYI_1_t2.nii.gz'},\n",
              " {'flair': 'HGG/Brats18_TCIA03_138_1/Brats18_TCIA03_138_1_flair.nii.gz',\n",
              "  'seg': 'HGG/Brats18_TCIA03_138_1/Brats18_TCIA03_138_1_seg.nii.gz',\n",
              "  't1': 'HGG/Brats18_TCIA03_138_1/Brats18_TCIA03_138_1_t1.nii.gz',\n",
              "  't1ce': 'HGG/Brats18_TCIA03_138_1/Brats18_TCIA03_138_1_t1ce.nii.gz',\n",
              "  't2': 'HGG/Brats18_TCIA03_138_1/Brats18_TCIA03_138_1_t2.nii.gz'},\n",
              " {'flair': 'HGG/Brats18_TCIA01_460_1/Brats18_TCIA01_460_1_flair.nii.gz',\n",
              "  'seg': 'HGG/Brats18_TCIA01_460_1/Brats18_TCIA01_460_1_seg.nii.gz',\n",
              "  't1': 'HGG/Brats18_TCIA01_460_1/Brats18_TCIA01_460_1_t1.nii.gz',\n",
              "  't1ce': 'HGG/Brats18_TCIA01_460_1/Brats18_TCIA01_460_1_t1ce.nii.gz',\n",
              "  't2': 'HGG/Brats18_TCIA01_460_1/Brats18_TCIA01_460_1_t2.nii.gz'},\n",
              " {'flair': 'HGG/Brats18_CBICA_ATF_1/Brats18_CBICA_ATF_1_flair.nii.gz',\n",
              "  'seg': 'HGG/Brats18_CBICA_ATF_1/Brats18_CBICA_ATF_1_seg.nii.gz',\n",
              "  't1': 'HGG/Brats18_CBICA_ATF_1/Brats18_CBICA_ATF_1_t1.nii.gz',\n",
              "  't1ce': 'HGG/Brats18_CBICA_ATF_1/Brats18_CBICA_ATF_1_t1ce.nii.gz',\n",
              "  't2': 'HGG/Brats18_CBICA_ATF_1/Brats18_CBICA_ATF_1_t2.nii.gz'},\n",
              " {'flair': 'HGG/Brats18_CBICA_AQD_1/Brats18_CBICA_AQD_1_flair.nii.gz',\n",
              "  'seg': 'HGG/Brats18_CBICA_AQD_1/Brats18_CBICA_AQD_1_seg.nii.gz',\n",
              "  't1': 'HGG/Brats18_CBICA_AQD_1/Brats18_CBICA_AQD_1_t1.nii.gz',\n",
              "  't1ce': 'HGG/Brats18_CBICA_AQD_1/Brats18_CBICA_AQD_1_t1ce.nii.gz',\n",
              "  't2': 'HGG/Brats18_CBICA_AQD_1/Brats18_CBICA_AQD_1_t2.nii.gz'},\n",
              " {'flair': 'HGG/Brats18_TCIA04_328_1/Brats18_TCIA04_328_1_flair.nii.gz',\n",
              "  'seg': 'HGG/Brats18_TCIA04_328_1/Brats18_TCIA04_328_1_seg.nii.gz',\n",
              "  't1': 'HGG/Brats18_TCIA04_328_1/Brats18_TCIA04_328_1_t1.nii.gz',\n",
              "  't1ce': 'HGG/Brats18_TCIA04_328_1/Brats18_TCIA04_328_1_t1ce.nii.gz',\n",
              "  't2': 'HGG/Brats18_TCIA04_328_1/Brats18_TCIA04_328_1_t2.nii.gz'},\n",
              " {'flair': 'HGG/Brats18_TCIA02_322_1/Brats18_TCIA02_322_1_flair.nii.gz',\n",
              "  'seg': 'HGG/Brats18_TCIA02_322_1/Brats18_TCIA02_322_1_seg.nii.gz',\n",
              "  't1': 'HGG/Brats18_TCIA02_322_1/Brats18_TCIA02_322_1_t1.nii.gz',\n",
              "  't1ce': 'HGG/Brats18_TCIA02_322_1/Brats18_TCIA02_322_1_t1ce.nii.gz',\n",
              "  't2': 'HGG/Brats18_TCIA02_322_1/Brats18_TCIA02_322_1_t2.nii.gz'},\n",
              " {'flair': 'HGG/Brats18_TCIA02_455_1/Brats18_TCIA02_455_1_flair.nii.gz',\n",
              "  'seg': 'HGG/Brats18_TCIA02_455_1/Brats18_TCIA02_455_1_seg.nii.gz',\n",
              "  't1': 'HGG/Brats18_TCIA02_455_1/Brats18_TCIA02_455_1_t1.nii.gz',\n",
              "  't1ce': 'HGG/Brats18_TCIA02_455_1/Brats18_TCIA02_455_1_t1ce.nii.gz',\n",
              "  't2': 'HGG/Brats18_TCIA02_455_1/Brats18_TCIA02_455_1_t2.nii.gz'},\n",
              " {'flair': 'HGG/Brats18_2013_27_1/Brats18_2013_27_1_flair.nii.gz',\n",
              "  'seg': 'HGG/Brats18_2013_27_1/Brats18_2013_27_1_seg.nii.gz',\n",
              "  't1': 'HGG/Brats18_2013_27_1/Brats18_2013_27_1_t1.nii.gz',\n",
              "  't1ce': 'HGG/Brats18_2013_27_1/Brats18_2013_27_1_t1ce.nii.gz',\n",
              "  't2': 'HGG/Brats18_2013_27_1/Brats18_2013_27_1_t2.nii.gz'},\n",
              " {'flair': 'HGG/Brats18_TCIA01_235_1/Brats18_TCIA01_235_1_flair.nii.gz',\n",
              "  'seg': 'HGG/Brats18_TCIA01_235_1/Brats18_TCIA01_235_1_seg.nii.gz',\n",
              "  't1': 'HGG/Brats18_TCIA01_235_1/Brats18_TCIA01_235_1_t1.nii.gz',\n",
              "  't1ce': 'HGG/Brats18_TCIA01_235_1/Brats18_TCIA01_235_1_t1ce.nii.gz',\n",
              "  't2': 'HGG/Brats18_TCIA01_235_1/Brats18_TCIA01_235_1_t2.nii.gz'},\n",
              " {'flair': 'HGG/Brats18_CBICA_AUQ_1/Brats18_CBICA_AUQ_1_flair.nii.gz',\n",
              "  'seg': 'HGG/Brats18_CBICA_AUQ_1/Brats18_CBICA_AUQ_1_seg.nii.gz',\n",
              "  't1': 'HGG/Brats18_CBICA_AUQ_1/Brats18_CBICA_AUQ_1_t1.nii.gz',\n",
              "  't1ce': 'HGG/Brats18_CBICA_AUQ_1/Brats18_CBICA_AUQ_1_t1ce.nii.gz',\n",
              "  't2': 'HGG/Brats18_CBICA_AUQ_1/Brats18_CBICA_AUQ_1_t2.nii.gz'},\n",
              " {'flair': 'HGG/Brats18_TCIA01_131_1/Brats18_TCIA01_131_1_flair.nii.gz',\n",
              "  'seg': 'HGG/Brats18_TCIA01_131_1/Brats18_TCIA01_131_1_seg.nii.gz',\n",
              "  't1': 'HGG/Brats18_TCIA01_131_1/Brats18_TCIA01_131_1_t1.nii.gz',\n",
              "  't1ce': 'HGG/Brats18_TCIA01_131_1/Brats18_TCIA01_131_1_t1ce.nii.gz',\n",
              "  't2': 'HGG/Brats18_TCIA01_131_1/Brats18_TCIA01_131_1_t2.nii.gz'},\n",
              " {'flair': 'HGG/Brats18_CBICA_ARZ_1/Brats18_CBICA_ARZ_1_flair.nii.gz',\n",
              "  'seg': 'HGG/Brats18_CBICA_ARZ_1/Brats18_CBICA_ARZ_1_seg.nii.gz',\n",
              "  't1': 'HGG/Brats18_CBICA_ARZ_1/Brats18_CBICA_ARZ_1_t1.nii.gz',\n",
              "  't1ce': 'HGG/Brats18_CBICA_ARZ_1/Brats18_CBICA_ARZ_1_t1ce.nii.gz',\n",
              "  't2': 'HGG/Brats18_CBICA_ARZ_1/Brats18_CBICA_ARZ_1_t2.nii.gz'},\n",
              " {'flair': 'HGG/Brats18_CBICA_AQJ_1/Brats18_CBICA_AQJ_1_flair.nii.gz',\n",
              "  'seg': 'HGG/Brats18_CBICA_AQJ_1/Brats18_CBICA_AQJ_1_seg.nii.gz',\n",
              "  't1': 'HGG/Brats18_CBICA_AQJ_1/Brats18_CBICA_AQJ_1_t1.nii.gz',\n",
              "  't1ce': 'HGG/Brats18_CBICA_AQJ_1/Brats18_CBICA_AQJ_1_t1ce.nii.gz',\n",
              "  't2': 'HGG/Brats18_CBICA_AQJ_1/Brats18_CBICA_AQJ_1_t2.nii.gz'},\n",
              " {'flair': 'HGG/Brats18_2013_7_1/Brats18_2013_7_1_flair.nii.gz',\n",
              "  'seg': 'HGG/Brats18_2013_7_1/Brats18_2013_7_1_seg.nii.gz',\n",
              "  't1': 'HGG/Brats18_2013_7_1/Brats18_2013_7_1_t1.nii.gz',\n",
              "  't1ce': 'HGG/Brats18_2013_7_1/Brats18_2013_7_1_t1ce.nii.gz',\n",
              "  't2': 'HGG/Brats18_2013_7_1/Brats18_2013_7_1_t2.nii.gz'},\n",
              " {'flair': 'HGG/Brats18_CBICA_AQG_1/Brats18_CBICA_AQG_1_flair.nii.gz',\n",
              "  'seg': 'HGG/Brats18_CBICA_AQG_1/Brats18_CBICA_AQG_1_seg.nii.gz',\n",
              "  't1': 'HGG/Brats18_CBICA_AQG_1/Brats18_CBICA_AQG_1_t1.nii.gz',\n",
              "  't1ce': 'HGG/Brats18_CBICA_AQG_1/Brats18_CBICA_AQG_1_t1ce.nii.gz',\n",
              "  't2': 'HGG/Brats18_CBICA_AQG_1/Brats18_CBICA_AQG_1_t2.nii.gz'},\n",
              " {'flair': 'HGG/Brats18_2013_17_1/Brats18_2013_17_1_flair.nii.gz',\n",
              "  'seg': 'HGG/Brats18_2013_17_1/Brats18_2013_17_1_seg.nii.gz',\n",
              "  't1': 'HGG/Brats18_2013_17_1/Brats18_2013_17_1_t1.nii.gz',\n",
              "  't1ce': 'HGG/Brats18_2013_17_1/Brats18_2013_17_1_t1ce.nii.gz',\n",
              "  't2': 'HGG/Brats18_2013_17_1/Brats18_2013_17_1_t2.nii.gz'},\n",
              " {'flair': 'HGG/Brats18_TCIA02_222_1/Brats18_TCIA02_222_1_flair.nii.gz',\n",
              "  'seg': 'HGG/Brats18_TCIA02_222_1/Brats18_TCIA02_222_1_seg.nii.gz',\n",
              "  't1': 'HGG/Brats18_TCIA02_222_1/Brats18_TCIA02_222_1_t1.nii.gz',\n",
              "  't1ce': 'HGG/Brats18_TCIA02_222_1/Brats18_TCIA02_222_1_t1ce.nii.gz',\n",
              "  't2': 'HGG/Brats18_TCIA02_222_1/Brats18_TCIA02_222_1_t2.nii.gz'},\n",
              " {'flair': 'HGG/Brats18_CBICA_ASO_1/Brats18_CBICA_ASO_1_flair.nii.gz',\n",
              "  'seg': 'HGG/Brats18_CBICA_ASO_1/Brats18_CBICA_ASO_1_seg.nii.gz',\n",
              "  't1': 'HGG/Brats18_CBICA_ASO_1/Brats18_CBICA_ASO_1_t1.nii.gz',\n",
              "  't1ce': 'HGG/Brats18_CBICA_ASO_1/Brats18_CBICA_ASO_1_t1ce.nii.gz',\n",
              "  't2': 'HGG/Brats18_CBICA_ASO_1/Brats18_CBICA_ASO_1_t2.nii.gz'},\n",
              " {'flair': 'HGG/Brats18_TCIA04_479_1/Brats18_TCIA04_479_1_flair.nii.gz',\n",
              "  'seg': 'HGG/Brats18_TCIA04_479_1/Brats18_TCIA04_479_1_seg.nii.gz',\n",
              "  't1': 'HGG/Brats18_TCIA04_479_1/Brats18_TCIA04_479_1_t1.nii.gz',\n",
              "  't1ce': 'HGG/Brats18_TCIA04_479_1/Brats18_TCIA04_479_1_t1ce.nii.gz',\n",
              "  't2': 'HGG/Brats18_TCIA04_479_1/Brats18_TCIA04_479_1_t2.nii.gz'},\n",
              " {'flair': 'HGG/Brats18_CBICA_AUR_1/Brats18_CBICA_AUR_1_flair.nii.gz',\n",
              "  'seg': 'HGG/Brats18_CBICA_AUR_1/Brats18_CBICA_AUR_1_seg.nii.gz',\n",
              "  't1': 'HGG/Brats18_CBICA_AUR_1/Brats18_CBICA_AUR_1_t1.nii.gz',\n",
              "  't1ce': 'HGG/Brats18_CBICA_AUR_1/Brats18_CBICA_AUR_1_t1ce.nii.gz',\n",
              "  't2': 'HGG/Brats18_CBICA_AUR_1/Brats18_CBICA_AUR_1_t2.nii.gz'},\n",
              " {'flair': 'HGG/Brats18_TCIA06_603_1/Brats18_TCIA06_603_1_flair.nii.gz',\n",
              "  'seg': 'HGG/Brats18_TCIA06_603_1/Brats18_TCIA06_603_1_seg.nii.gz',\n",
              "  't1': 'HGG/Brats18_TCIA06_603_1/Brats18_TCIA06_603_1_t1.nii.gz',\n",
              "  't1ce': 'HGG/Brats18_TCIA06_603_1/Brats18_TCIA06_603_1_t1ce.nii.gz',\n",
              "  't2': 'HGG/Brats18_TCIA06_603_1/Brats18_TCIA06_603_1_t2.nii.gz'},\n",
              " {'flair': 'HGG/Brats18_CBICA_ABB_1/Brats18_CBICA_ABB_1_flair.nii.gz',\n",
              "  'seg': 'HGG/Brats18_CBICA_ABB_1/Brats18_CBICA_ABB_1_seg.nii.gz',\n",
              "  't1': 'HGG/Brats18_CBICA_ABB_1/Brats18_CBICA_ABB_1_t1.nii.gz',\n",
              "  't1ce': 'HGG/Brats18_CBICA_ABB_1/Brats18_CBICA_ABB_1_t1ce.nii.gz',\n",
              "  't2': 'HGG/Brats18_CBICA_ABB_1/Brats18_CBICA_ABB_1_t2.nii.gz'},\n",
              " {'flair': 'HGG/Brats18_TCIA02_226_1/Brats18_TCIA02_226_1_flair.nii.gz',\n",
              "  'seg': 'HGG/Brats18_TCIA02_226_1/Brats18_TCIA02_226_1_seg.nii.gz',\n",
              "  't1': 'HGG/Brats18_TCIA02_226_1/Brats18_TCIA02_226_1_t1.nii.gz',\n",
              "  't1ce': 'HGG/Brats18_TCIA02_226_1/Brats18_TCIA02_226_1_t1ce.nii.gz',\n",
              "  't2': 'HGG/Brats18_TCIA02_226_1/Brats18_TCIA02_226_1_t2.nii.gz'},\n",
              " {'flair': 'HGG/Brats18_TCIA04_437_1/Brats18_TCIA04_437_1_flair.nii.gz',\n",
              "  'seg': 'HGG/Brats18_TCIA04_437_1/Brats18_TCIA04_437_1_seg.nii.gz',\n",
              "  't1': 'HGG/Brats18_TCIA04_437_1/Brats18_TCIA04_437_1_t1.nii.gz',\n",
              "  't1ce': 'HGG/Brats18_TCIA04_437_1/Brats18_TCIA04_437_1_t1ce.nii.gz',\n",
              "  't2': 'HGG/Brats18_TCIA04_437_1/Brats18_TCIA04_437_1_t2.nii.gz'},\n",
              " {'flair': 'HGG/Brats18_CBICA_ASN_1/Brats18_CBICA_ASN_1_flair.nii.gz',\n",
              "  'seg': 'HGG/Brats18_CBICA_ASN_1/Brats18_CBICA_ASN_1_seg.nii.gz',\n",
              "  't1': 'HGG/Brats18_CBICA_ASN_1/Brats18_CBICA_ASN_1_t1.nii.gz',\n",
              "  't1ce': 'HGG/Brats18_CBICA_ASN_1/Brats18_CBICA_ASN_1_t1ce.nii.gz',\n",
              "  't2': 'HGG/Brats18_CBICA_ASN_1/Brats18_CBICA_ASN_1_t2.nii.gz'},\n",
              " {'flair': 'HGG/Brats18_2013_4_1/Brats18_2013_4_1_flair.nii.gz',\n",
              "  'seg': 'HGG/Brats18_2013_4_1/Brats18_2013_4_1_seg.nii.gz',\n",
              "  't1': 'HGG/Brats18_2013_4_1/Brats18_2013_4_1_t1.nii.gz',\n",
              "  't1ce': 'HGG/Brats18_2013_4_1/Brats18_2013_4_1_t1ce.nii.gz',\n",
              "  't2': 'HGG/Brats18_2013_4_1/Brats18_2013_4_1_t2.nii.gz'},\n",
              " {'flair': 'HGG/Brats18_CBICA_AQY_1/Brats18_CBICA_AQY_1_flair.nii.gz',\n",
              "  'seg': 'HGG/Brats18_CBICA_AQY_1/Brats18_CBICA_AQY_1_seg.nii.gz',\n",
              "  't1': 'HGG/Brats18_CBICA_AQY_1/Brats18_CBICA_AQY_1_t1.nii.gz',\n",
              "  't1ce': 'HGG/Brats18_CBICA_AQY_1/Brats18_CBICA_AQY_1_t1ce.nii.gz',\n",
              "  't2': 'HGG/Brats18_CBICA_AQY_1/Brats18_CBICA_AQY_1_t2.nii.gz'},\n",
              " {'flair': 'HGG/Brats18_CBICA_AVJ_1/Brats18_CBICA_AVJ_1_flair.nii.gz',\n",
              "  'seg': 'HGG/Brats18_CBICA_AVJ_1/Brats18_CBICA_AVJ_1_seg.nii.gz',\n",
              "  't1': 'HGG/Brats18_CBICA_AVJ_1/Brats18_CBICA_AVJ_1_t1.nii.gz',\n",
              "  't1ce': 'HGG/Brats18_CBICA_AVJ_1/Brats18_CBICA_AVJ_1_t1ce.nii.gz',\n",
              "  't2': 'HGG/Brats18_CBICA_AVJ_1/Brats18_CBICA_AVJ_1_t2.nii.gz'},\n",
              " {'flair': 'HGG/Brats18_TCIA06_165_1/Brats18_TCIA06_165_1_flair.nii.gz',\n",
              "  'seg': 'HGG/Brats18_TCIA06_165_1/Brats18_TCIA06_165_1_seg.nii.gz',\n",
              "  't1': 'HGG/Brats18_TCIA06_165_1/Brats18_TCIA06_165_1_t1.nii.gz',\n",
              "  't1ce': 'HGG/Brats18_TCIA06_165_1/Brats18_TCIA06_165_1_t1ce.nii.gz',\n",
              "  't2': 'HGG/Brats18_TCIA06_165_1/Brats18_TCIA06_165_1_t2.nii.gz'},\n",
              " {'flair': 'HGG/Brats18_CBICA_AXO_1/Brats18_CBICA_AXO_1_flair.nii.gz',\n",
              "  'seg': 'HGG/Brats18_CBICA_AXO_1/Brats18_CBICA_AXO_1_seg.nii.gz',\n",
              "  't1': 'HGG/Brats18_CBICA_AXO_1/Brats18_CBICA_AXO_1_t1.nii.gz',\n",
              "  't1ce': 'HGG/Brats18_CBICA_AXO_1/Brats18_CBICA_AXO_1_t1ce.nii.gz',\n",
              "  't2': 'HGG/Brats18_CBICA_AXO_1/Brats18_CBICA_AXO_1_t2.nii.gz'},\n",
              " {'flair': 'HGG/Brats18_CBICA_ATV_1/Brats18_CBICA_ATV_1_flair.nii.gz',\n",
              "  'seg': 'HGG/Brats18_CBICA_ATV_1/Brats18_CBICA_ATV_1_seg.nii.gz',\n",
              "  't1': 'HGG/Brats18_CBICA_ATV_1/Brats18_CBICA_ATV_1_t1.nii.gz',\n",
              "  't1ce': 'HGG/Brats18_CBICA_ATV_1/Brats18_CBICA_ATV_1_t1ce.nii.gz',\n",
              "  't2': 'HGG/Brats18_CBICA_ATV_1/Brats18_CBICA_ATV_1_t2.nii.gz'},\n",
              " {'flair': 'HGG/Brats18_TCIA02_491_1/Brats18_TCIA02_491_1_flair.nii.gz',\n",
              "  'seg': 'HGG/Brats18_TCIA02_491_1/Brats18_TCIA02_491_1_seg.nii.gz',\n",
              "  't1': 'HGG/Brats18_TCIA02_491_1/Brats18_TCIA02_491_1_t1.nii.gz',\n",
              "  't1ce': 'HGG/Brats18_TCIA02_491_1/Brats18_TCIA02_491_1_t1ce.nii.gz',\n",
              "  't2': 'HGG/Brats18_TCIA02_491_1/Brats18_TCIA02_491_1_t2.nii.gz'},\n",
              " {'flair': 'HGG/Brats18_CBICA_AQN_1/Brats18_CBICA_AQN_1_flair.nii.gz',\n",
              "  'seg': 'HGG/Brats18_CBICA_AQN_1/Brats18_CBICA_AQN_1_seg.nii.gz',\n",
              "  't1': 'HGG/Brats18_CBICA_AQN_1/Brats18_CBICA_AQN_1_t1.nii.gz',\n",
              "  't1ce': 'HGG/Brats18_CBICA_AQN_1/Brats18_CBICA_AQN_1_t1ce.nii.gz',\n",
              "  't2': 'HGG/Brats18_CBICA_AQN_1/Brats18_CBICA_AQN_1_t2.nii.gz'},\n",
              " {'flair': 'HGG/Brats18_TCIA01_411_1/Brats18_TCIA01_411_1_flair.nii.gz',\n",
              "  'seg': 'HGG/Brats18_TCIA01_411_1/Brats18_TCIA01_411_1_seg.nii.gz',\n",
              "  't1': 'HGG/Brats18_TCIA01_411_1/Brats18_TCIA01_411_1_t1.nii.gz',\n",
              "  't1ce': 'HGG/Brats18_TCIA01_411_1/Brats18_TCIA01_411_1_t1ce.nii.gz',\n",
              "  't2': 'HGG/Brats18_TCIA01_411_1/Brats18_TCIA01_411_1_t2.nii.gz'},\n",
              " {'flair': 'HGG/Brats18_CBICA_ANG_1/Brats18_CBICA_ANG_1_flair.nii.gz',\n",
              "  'seg': 'HGG/Brats18_CBICA_ANG_1/Brats18_CBICA_ANG_1_seg.nii.gz',\n",
              "  't1': 'HGG/Brats18_CBICA_ANG_1/Brats18_CBICA_ANG_1_t1.nii.gz',\n",
              "  't1ce': 'HGG/Brats18_CBICA_ANG_1/Brats18_CBICA_ANG_1_t1ce.nii.gz',\n",
              "  't2': 'HGG/Brats18_CBICA_ANG_1/Brats18_CBICA_ANG_1_t2.nii.gz'},\n",
              " {'flair': 'HGG/Brats18_CBICA_APR_1/Brats18_CBICA_APR_1_flair.nii.gz',\n",
              "  'seg': 'HGG/Brats18_CBICA_APR_1/Brats18_CBICA_APR_1_seg.nii.gz',\n",
              "  't1': 'HGG/Brats18_CBICA_APR_1/Brats18_CBICA_APR_1_t1.nii.gz',\n",
              "  't1ce': 'HGG/Brats18_CBICA_APR_1/Brats18_CBICA_APR_1_t1ce.nii.gz',\n",
              "  't2': 'HGG/Brats18_CBICA_APR_1/Brats18_CBICA_APR_1_t2.nii.gz'},\n",
              " {'flair': 'HGG/Brats18_CBICA_AAL_1/Brats18_CBICA_AAL_1_flair.nii.gz',\n",
              "  'seg': 'HGG/Brats18_CBICA_AAL_1/Brats18_CBICA_AAL_1_seg.nii.gz',\n",
              "  't1': 'HGG/Brats18_CBICA_AAL_1/Brats18_CBICA_AAL_1_t1.nii.gz',\n",
              "  't1ce': 'HGG/Brats18_CBICA_AAL_1/Brats18_CBICA_AAL_1_t1ce.nii.gz',\n",
              "  't2': 'HGG/Brats18_CBICA_AAL_1/Brats18_CBICA_AAL_1_t2.nii.gz'},\n",
              " {'flair': 'HGG/Brats18_TCIA02_309_1/Brats18_TCIA02_309_1_flair.nii.gz',\n",
              "  'seg': 'HGG/Brats18_TCIA02_309_1/Brats18_TCIA02_309_1_seg.nii.gz',\n",
              "  't1': 'HGG/Brats18_TCIA02_309_1/Brats18_TCIA02_309_1_t1.nii.gz',\n",
              "  't1ce': 'HGG/Brats18_TCIA02_309_1/Brats18_TCIA02_309_1_t1ce.nii.gz',\n",
              "  't2': 'HGG/Brats18_TCIA02_309_1/Brats18_TCIA02_309_1_t2.nii.gz'},\n",
              " {'flair': 'HGG/Brats18_CBICA_AAG_1/Brats18_CBICA_AAG_1_flair.nii.gz',\n",
              "  'seg': 'HGG/Brats18_CBICA_AAG_1/Brats18_CBICA_AAG_1_seg.nii.gz',\n",
              "  't1': 'HGG/Brats18_CBICA_AAG_1/Brats18_CBICA_AAG_1_t1.nii.gz',\n",
              "  't1ce': 'HGG/Brats18_CBICA_AAG_1/Brats18_CBICA_AAG_1_t1ce.nii.gz',\n",
              "  't2': 'HGG/Brats18_CBICA_AAG_1/Brats18_CBICA_AAG_1_t2.nii.gz'},\n",
              " {'flair': 'HGG/Brats18_CBICA_ASY_1/Brats18_CBICA_ASY_1_flair.nii.gz',\n",
              "  'seg': 'HGG/Brats18_CBICA_ASY_1/Brats18_CBICA_ASY_1_seg.nii.gz',\n",
              "  't1': 'HGG/Brats18_CBICA_ASY_1/Brats18_CBICA_ASY_1_t1.nii.gz',\n",
              "  't1ce': 'HGG/Brats18_CBICA_ASY_1/Brats18_CBICA_ASY_1_t1ce.nii.gz',\n",
              "  't2': 'HGG/Brats18_CBICA_ASY_1/Brats18_CBICA_ASY_1_t2.nii.gz'},\n",
              " {'flair': 'HGG/Brats18_2013_20_1/Brats18_2013_20_1_flair.nii.gz',\n",
              "  'seg': 'HGG/Brats18_2013_20_1/Brats18_2013_20_1_seg.nii.gz',\n",
              "  't1': 'HGG/Brats18_2013_20_1/Brats18_2013_20_1_t1.nii.gz',\n",
              "  't1ce': 'HGG/Brats18_2013_20_1/Brats18_2013_20_1_t1ce.nii.gz',\n",
              "  't2': 'HGG/Brats18_2013_20_1/Brats18_2013_20_1_t2.nii.gz'},\n",
              " {'flair': 'HGG/Brats18_TCIA02_607_1/Brats18_TCIA02_607_1_flair.nii.gz',\n",
              "  'seg': 'HGG/Brats18_TCIA02_607_1/Brats18_TCIA02_607_1_seg.nii.gz',\n",
              "  't1': 'HGG/Brats18_TCIA02_607_1/Brats18_TCIA02_607_1_t1.nii.gz',\n",
              "  't1ce': 'HGG/Brats18_TCIA02_607_1/Brats18_TCIA02_607_1_t1ce.nii.gz',\n",
              "  't2': 'HGG/Brats18_TCIA02_607_1/Brats18_TCIA02_607_1_t2.nii.gz'},\n",
              " {'flair': 'HGG/Brats18_TCIA03_474_1/Brats18_TCIA03_474_1_flair.nii.gz',\n",
              "  'seg': 'HGG/Brats18_TCIA03_474_1/Brats18_TCIA03_474_1_seg.nii.gz',\n",
              "  't1': 'HGG/Brats18_TCIA03_474_1/Brats18_TCIA03_474_1_t1.nii.gz',\n",
              "  't1ce': 'HGG/Brats18_TCIA03_474_1/Brats18_TCIA03_474_1_t1ce.nii.gz',\n",
              "  't2': 'HGG/Brats18_TCIA03_474_1/Brats18_TCIA03_474_1_t2.nii.gz'},\n",
              " {'flair': 'HGG/Brats18_2013_19_1/Brats18_2013_19_1_flair.nii.gz',\n",
              "  'seg': 'HGG/Brats18_2013_19_1/Brats18_2013_19_1_seg.nii.gz',\n",
              "  't1': 'HGG/Brats18_2013_19_1/Brats18_2013_19_1_t1.nii.gz',\n",
              "  't1ce': 'HGG/Brats18_2013_19_1/Brats18_2013_19_1_t1ce.nii.gz',\n",
              "  't2': 'HGG/Brats18_2013_19_1/Brats18_2013_19_1_t2.nii.gz'},\n",
              " {'flair': 'HGG/Brats18_CBICA_AQQ_1/Brats18_CBICA_AQQ_1_flair.nii.gz',\n",
              "  'seg': 'HGG/Brats18_CBICA_AQQ_1/Brats18_CBICA_AQQ_1_seg.nii.gz',\n",
              "  't1': 'HGG/Brats18_CBICA_AQQ_1/Brats18_CBICA_AQQ_1_t1.nii.gz',\n",
              "  't1ce': 'HGG/Brats18_CBICA_AQQ_1/Brats18_CBICA_AQQ_1_t1ce.nii.gz',\n",
              "  't2': 'HGG/Brats18_CBICA_AQQ_1/Brats18_CBICA_AQQ_1_t2.nii.gz'},\n",
              " {'flair': 'HGG/Brats18_CBICA_AWI_1/Brats18_CBICA_AWI_1_flair.nii.gz',\n",
              "  'seg': 'HGG/Brats18_CBICA_AWI_1/Brats18_CBICA_AWI_1_seg.nii.gz',\n",
              "  't1': 'HGG/Brats18_CBICA_AWI_1/Brats18_CBICA_AWI_1_t1.nii.gz',\n",
              "  't1ce': 'HGG/Brats18_CBICA_AWI_1/Brats18_CBICA_AWI_1_t1ce.nii.gz',\n",
              "  't2': 'HGG/Brats18_CBICA_AWI_1/Brats18_CBICA_AWI_1_t2.nii.gz'},\n",
              " {'flair': 'HGG/Brats18_TCIA08_113_1/Brats18_TCIA08_113_1_flair.nii.gz',\n",
              "  'seg': 'HGG/Brats18_TCIA08_113_1/Brats18_TCIA08_113_1_seg.nii.gz',\n",
              "  't1': 'HGG/Brats18_TCIA08_113_1/Brats18_TCIA08_113_1_t1.nii.gz',\n",
              "  't1ce': 'HGG/Brats18_TCIA08_113_1/Brats18_TCIA08_113_1_t1ce.nii.gz',\n",
              "  't2': 'HGG/Brats18_TCIA08_113_1/Brats18_TCIA08_113_1_t2.nii.gz'},\n",
              " {'flair': 'HGG/Brats18_2013_22_1/Brats18_2013_22_1_flair.nii.gz',\n",
              "  'seg': 'HGG/Brats18_2013_22_1/Brats18_2013_22_1_seg.nii.gz',\n",
              "  't1': 'HGG/Brats18_2013_22_1/Brats18_2013_22_1_t1.nii.gz',\n",
              "  't1ce': 'HGG/Brats18_2013_22_1/Brats18_2013_22_1_t1ce.nii.gz',\n",
              "  't2': 'HGG/Brats18_2013_22_1/Brats18_2013_22_1_t2.nii.gz'},\n",
              " {'flair': 'HGG/Brats18_CBICA_ASH_1/Brats18_CBICA_ASH_1_flair.nii.gz',\n",
              "  'seg': 'HGG/Brats18_CBICA_ASH_1/Brats18_CBICA_ASH_1_seg.nii.gz',\n",
              "  't1': 'HGG/Brats18_CBICA_ASH_1/Brats18_CBICA_ASH_1_t1.nii.gz',\n",
              "  't1ce': 'HGG/Brats18_CBICA_ASH_1/Brats18_CBICA_ASH_1_t1ce.nii.gz',\n",
              "  't2': 'HGG/Brats18_CBICA_ASH_1/Brats18_CBICA_ASH_1_t2.nii.gz'},\n",
              " {'flair': 'HGG/Brats18_TCIA01_335_1/Brats18_TCIA01_335_1_flair.nii.gz',\n",
              "  'seg': 'HGG/Brats18_TCIA01_335_1/Brats18_TCIA01_335_1_seg.nii.gz',\n",
              "  't1': 'HGG/Brats18_TCIA01_335_1/Brats18_TCIA01_335_1_t1.nii.gz',\n",
              "  't1ce': 'HGG/Brats18_TCIA01_335_1/Brats18_TCIA01_335_1_t1ce.nii.gz',\n",
              "  't2': 'HGG/Brats18_TCIA01_335_1/Brats18_TCIA01_335_1_t2.nii.gz'},\n",
              " {'flair': 'HGG/Brats18_CBICA_AWG_1/Brats18_CBICA_AWG_1_flair.nii.gz',\n",
              "  'seg': 'HGG/Brats18_CBICA_AWG_1/Brats18_CBICA_AWG_1_seg.nii.gz',\n",
              "  't1': 'HGG/Brats18_CBICA_AWG_1/Brats18_CBICA_AWG_1_t1.nii.gz',\n",
              "  't1ce': 'HGG/Brats18_CBICA_AWG_1/Brats18_CBICA_AWG_1_t1ce.nii.gz',\n",
              "  't2': 'HGG/Brats18_CBICA_AWG_1/Brats18_CBICA_AWG_1_t2.nii.gz'},\n",
              " {'flair': 'HGG/Brats18_TCIA02_283_1/Brats18_TCIA02_283_1_flair.nii.gz',\n",
              "  'seg': 'HGG/Brats18_TCIA02_283_1/Brats18_TCIA02_283_1_seg.nii.gz',\n",
              "  't1': 'HGG/Brats18_TCIA02_283_1/Brats18_TCIA02_283_1_t1.nii.gz',\n",
              "  't1ce': 'HGG/Brats18_TCIA02_283_1/Brats18_TCIA02_283_1_t1ce.nii.gz',\n",
              "  't2': 'HGG/Brats18_TCIA02_283_1/Brats18_TCIA02_283_1_t2.nii.gz'},\n",
              " {'flair': 'HGG/Brats18_TCIA05_478_1/Brats18_TCIA05_478_1_flair.nii.gz',\n",
              "  'seg': 'HGG/Brats18_TCIA05_478_1/Brats18_TCIA05_478_1_seg.nii.gz',\n",
              "  't1': 'HGG/Brats18_TCIA05_478_1/Brats18_TCIA05_478_1_t1.nii.gz',\n",
              "  't1ce': 'HGG/Brats18_TCIA05_478_1/Brats18_TCIA05_478_1_t1ce.nii.gz',\n",
              "  't2': 'HGG/Brats18_TCIA05_478_1/Brats18_TCIA05_478_1_t2.nii.gz'},\n",
              " {'flair': 'HGG/Brats18_TCIA02_135_1/Brats18_TCIA02_135_1_flair.nii.gz',\n",
              "  'seg': 'HGG/Brats18_TCIA02_135_1/Brats18_TCIA02_135_1_seg.nii.gz',\n",
              "  't1': 'HGG/Brats18_TCIA02_135_1/Brats18_TCIA02_135_1_t1.nii.gz',\n",
              "  't1ce': 'HGG/Brats18_TCIA02_135_1/Brats18_TCIA02_135_1_t1ce.nii.gz',\n",
              "  't2': 'HGG/Brats18_TCIA02_135_1/Brats18_TCIA02_135_1_t2.nii.gz'},\n",
              " {'flair': 'HGG/Brats18_CBICA_ANZ_1/Brats18_CBICA_ANZ_1_flair.nii.gz',\n",
              "  'seg': 'HGG/Brats18_CBICA_ANZ_1/Brats18_CBICA_ANZ_1_seg.nii.gz',\n",
              "  't1': 'HGG/Brats18_CBICA_ANZ_1/Brats18_CBICA_ANZ_1_t1.nii.gz',\n",
              "  't1ce': 'HGG/Brats18_CBICA_ANZ_1/Brats18_CBICA_ANZ_1_t1ce.nii.gz',\n",
              "  't2': 'HGG/Brats18_CBICA_ANZ_1/Brats18_CBICA_ANZ_1_t2.nii.gz'},\n",
              " {'flair': 'HGG/Brats18_CBICA_AQO_1/Brats18_CBICA_AQO_1_flair.nii.gz',\n",
              "  'seg': 'HGG/Brats18_CBICA_AQO_1/Brats18_CBICA_AQO_1_seg.nii.gz',\n",
              "  't1': 'HGG/Brats18_CBICA_AQO_1/Brats18_CBICA_AQO_1_t1.nii.gz',\n",
              "  't1ce': 'HGG/Brats18_CBICA_AQO_1/Brats18_CBICA_AQO_1_t1ce.nii.gz',\n",
              "  't2': 'HGG/Brats18_CBICA_AQO_1/Brats18_CBICA_AQO_1_t2.nii.gz'},\n",
              " {'flair': 'HGG/Brats18_CBICA_BFP_1/Brats18_CBICA_BFP_1_flair.nii.gz',\n",
              "  'seg': 'HGG/Brats18_CBICA_BFP_1/Brats18_CBICA_BFP_1_seg.nii.gz',\n",
              "  't1': 'HGG/Brats18_CBICA_BFP_1/Brats18_CBICA_BFP_1_t1.nii.gz',\n",
              "  't1ce': 'HGG/Brats18_CBICA_BFP_1/Brats18_CBICA_BFP_1_t1ce.nii.gz',\n",
              "  't2': 'HGG/Brats18_CBICA_BFP_1/Brats18_CBICA_BFP_1_t2.nii.gz'},\n",
              " {'flair': 'HGG/Brats18_TCIA02_179_1/Brats18_TCIA02_179_1_flair.nii.gz',\n",
              "  'seg': 'HGG/Brats18_TCIA02_179_1/Brats18_TCIA02_179_1_seg.nii.gz',\n",
              "  't1': 'HGG/Brats18_TCIA02_179_1/Brats18_TCIA02_179_1_t1.nii.gz',\n",
              "  't1ce': 'HGG/Brats18_TCIA02_179_1/Brats18_TCIA02_179_1_t1ce.nii.gz',\n",
              "  't2': 'HGG/Brats18_TCIA02_179_1/Brats18_TCIA02_179_1_t2.nii.gz'},\n",
              " {'flair': 'HGG/Brats18_2013_3_1/Brats18_2013_3_1_flair.nii.gz',\n",
              "  'seg': 'HGG/Brats18_2013_3_1/Brats18_2013_3_1_seg.nii.gz',\n",
              "  't1': 'HGG/Brats18_2013_3_1/Brats18_2013_3_1_t1.nii.gz',\n",
              "  't1ce': 'HGG/Brats18_2013_3_1/Brats18_2013_3_1_t1ce.nii.gz',\n",
              "  't2': 'HGG/Brats18_2013_3_1/Brats18_2013_3_1_t2.nii.gz'},\n",
              " {'flair': 'HGG/Brats18_TCIA03_338_1/Brats18_TCIA03_338_1_flair.nii.gz',\n",
              "  'seg': 'HGG/Brats18_TCIA03_338_1/Brats18_TCIA03_338_1_seg.nii.gz',\n",
              "  't1': 'HGG/Brats18_TCIA03_338_1/Brats18_TCIA03_338_1_t1.nii.gz',\n",
              "  't1ce': 'HGG/Brats18_TCIA03_338_1/Brats18_TCIA03_338_1_t1ce.nii.gz',\n",
              "  't2': 'HGG/Brats18_TCIA03_338_1/Brats18_TCIA03_338_1_t2.nii.gz'},\n",
              " {'flair': 'HGG/Brats18_TCIA01_448_1/Brats18_TCIA01_448_1_flair.nii.gz',\n",
              "  'seg': 'HGG/Brats18_TCIA01_448_1/Brats18_TCIA01_448_1_seg.nii.gz',\n",
              "  't1': 'HGG/Brats18_TCIA01_448_1/Brats18_TCIA01_448_1_t1.nii.gz',\n",
              "  't1ce': 'HGG/Brats18_TCIA01_448_1/Brats18_TCIA01_448_1_t1ce.nii.gz',\n",
              "  't2': 'HGG/Brats18_TCIA01_448_1/Brats18_TCIA01_448_1_t2.nii.gz'},\n",
              " {'flair': 'HGG/Brats18_CBICA_AME_1/Brats18_CBICA_AME_1_flair.nii.gz',\n",
              "  'seg': 'HGG/Brats18_CBICA_AME_1/Brats18_CBICA_AME_1_seg.nii.gz',\n",
              "  't1': 'HGG/Brats18_CBICA_AME_1/Brats18_CBICA_AME_1_t1.nii.gz',\n",
              "  't1ce': 'HGG/Brats18_CBICA_AME_1/Brats18_CBICA_AME_1_t1ce.nii.gz',\n",
              "  't2': 'HGG/Brats18_CBICA_AME_1/Brats18_CBICA_AME_1_t2.nii.gz'},\n",
              " {'flair': 'HGG/Brats18_CBICA_ASG_1/Brats18_CBICA_ASG_1_flair.nii.gz',\n",
              "  'seg': 'HGG/Brats18_CBICA_ASG_1/Brats18_CBICA_ASG_1_seg.nii.gz',\n",
              "  't1': 'HGG/Brats18_CBICA_ASG_1/Brats18_CBICA_ASG_1_t1.nii.gz',\n",
              "  't1ce': 'HGG/Brats18_CBICA_ASG_1/Brats18_CBICA_ASG_1_t1ce.nii.gz',\n",
              "  't2': 'HGG/Brats18_CBICA_ASG_1/Brats18_CBICA_ASG_1_t2.nii.gz'},\n",
              " {'flair': 'HGG/Brats18_TCIA03_133_1/Brats18_TCIA03_133_1_flair.nii.gz',\n",
              "  'seg': 'HGG/Brats18_TCIA03_133_1/Brats18_TCIA03_133_1_seg.nii.gz',\n",
              "  't1': 'HGG/Brats18_TCIA03_133_1/Brats18_TCIA03_133_1_t1.nii.gz',\n",
              "  't1ce': 'HGG/Brats18_TCIA03_133_1/Brats18_TCIA03_133_1_t1ce.nii.gz',\n",
              "  't2': 'HGG/Brats18_TCIA03_133_1/Brats18_TCIA03_133_1_t2.nii.gz'},\n",
              " {'flair': 'HGG/Brats18_TCIA08_167_1/Brats18_TCIA08_167_1_flair.nii.gz',\n",
              "  'seg': 'HGG/Brats18_TCIA08_167_1/Brats18_TCIA08_167_1_seg.nii.gz',\n",
              "  't1': 'HGG/Brats18_TCIA08_167_1/Brats18_TCIA08_167_1_t1.nii.gz',\n",
              "  't1ce': 'HGG/Brats18_TCIA08_167_1/Brats18_TCIA08_167_1_t1ce.nii.gz',\n",
              "  't2': 'HGG/Brats18_TCIA08_167_1/Brats18_TCIA08_167_1_t2.nii.gz'},\n",
              " {'flair': 'HGG/Brats18_TCIA08_242_1/Brats18_TCIA08_242_1_flair.nii.gz',\n",
              "  'seg': 'HGG/Brats18_TCIA08_242_1/Brats18_TCIA08_242_1_seg.nii.gz',\n",
              "  't1': 'HGG/Brats18_TCIA08_242_1/Brats18_TCIA08_242_1_t1.nii.gz',\n",
              "  't1ce': 'HGG/Brats18_TCIA08_242_1/Brats18_TCIA08_242_1_t1ce.nii.gz',\n",
              "  't2': 'HGG/Brats18_TCIA08_242_1/Brats18_TCIA08_242_1_t2.nii.gz'},\n",
              " {'flair': 'HGG/Brats18_CBICA_ALU_1/Brats18_CBICA_ALU_1_flair.nii.gz',\n",
              "  'seg': 'HGG/Brats18_CBICA_ALU_1/Brats18_CBICA_ALU_1_seg.nii.gz',\n",
              "  't1': 'HGG/Brats18_CBICA_ALU_1/Brats18_CBICA_ALU_1_t1.nii.gz',\n",
              "  't1ce': 'HGG/Brats18_CBICA_ALU_1/Brats18_CBICA_ALU_1_t1ce.nii.gz',\n",
              "  't2': 'HGG/Brats18_CBICA_ALU_1/Brats18_CBICA_ALU_1_t2.nii.gz'},\n",
              " {'flair': 'HGG/Brats18_CBICA_ARF_1/Brats18_CBICA_ARF_1_flair.nii.gz',\n",
              "  'seg': 'HGG/Brats18_CBICA_ARF_1/Brats18_CBICA_ARF_1_seg.nii.gz',\n",
              "  't1': 'HGG/Brats18_CBICA_ARF_1/Brats18_CBICA_ARF_1_t1.nii.gz',\n",
              "  't1ce': 'HGG/Brats18_CBICA_ARF_1/Brats18_CBICA_ARF_1_t1ce.nii.gz',\n",
              "  't2': 'HGG/Brats18_CBICA_ARF_1/Brats18_CBICA_ARF_1_t2.nii.gz'},\n",
              " {'flair': 'HGG/Brats18_TCIA08_436_1/Brats18_TCIA08_436_1_flair.nii.gz',\n",
              "  'seg': 'HGG/Brats18_TCIA08_436_1/Brats18_TCIA08_436_1_seg.nii.gz',\n",
              "  't1': 'HGG/Brats18_TCIA08_436_1/Brats18_TCIA08_436_1_t1.nii.gz',\n",
              "  't1ce': 'HGG/Brats18_TCIA08_436_1/Brats18_TCIA08_436_1_t1ce.nii.gz',\n",
              "  't2': 'HGG/Brats18_TCIA08_436_1/Brats18_TCIA08_436_1_t2.nii.gz'},\n",
              " {'flair': 'HGG/Brats18_TCIA06_372_1/Brats18_TCIA06_372_1_flair.nii.gz',\n",
              "  'seg': 'HGG/Brats18_TCIA06_372_1/Brats18_TCIA06_372_1_seg.nii.gz',\n",
              "  't1': 'HGG/Brats18_TCIA06_372_1/Brats18_TCIA06_372_1_t1.nii.gz',\n",
              "  't1ce': 'HGG/Brats18_TCIA06_372_1/Brats18_TCIA06_372_1_t1ce.nii.gz',\n",
              "  't2': 'HGG/Brats18_TCIA06_372_1/Brats18_TCIA06_372_1_t2.nii.gz'},\n",
              " {'flair': 'HGG/Brats18_TCIA04_192_1/Brats18_TCIA04_192_1_flair.nii.gz',\n",
              "  'seg': 'HGG/Brats18_TCIA04_192_1/Brats18_TCIA04_192_1_seg.nii.gz',\n",
              "  't1': 'HGG/Brats18_TCIA04_192_1/Brats18_TCIA04_192_1_t1.nii.gz',\n",
              "  't1ce': 'HGG/Brats18_TCIA04_192_1/Brats18_TCIA04_192_1_t1ce.nii.gz',\n",
              "  't2': 'HGG/Brats18_TCIA04_192_1/Brats18_TCIA04_192_1_t2.nii.gz'},\n",
              " {'flair': 'HGG/Brats18_CBICA_AQU_1/Brats18_CBICA_AQU_1_flair.nii.gz',\n",
              "  'seg': 'HGG/Brats18_CBICA_AQU_1/Brats18_CBICA_AQU_1_seg.nii.gz',\n",
              "  't1': 'HGG/Brats18_CBICA_AQU_1/Brats18_CBICA_AQU_1_t1.nii.gz',\n",
              "  't1ce': 'HGG/Brats18_CBICA_AQU_1/Brats18_CBICA_AQU_1_t1ce.nii.gz',\n",
              "  't2': 'HGG/Brats18_CBICA_AQU_1/Brats18_CBICA_AQU_1_t2.nii.gz'},\n",
              " {'flair': 'HGG/Brats18_CBICA_AOZ_1/Brats18_CBICA_AOZ_1_flair.nii.gz',\n",
              "  'seg': 'HGG/Brats18_CBICA_AOZ_1/Brats18_CBICA_AOZ_1_seg.nii.gz',\n",
              "  't1': 'HGG/Brats18_CBICA_AOZ_1/Brats18_CBICA_AOZ_1_t1.nii.gz',\n",
              "  't1ce': 'HGG/Brats18_CBICA_AOZ_1/Brats18_CBICA_AOZ_1_t1ce.nii.gz',\n",
              "  't2': 'HGG/Brats18_CBICA_AOZ_1/Brats18_CBICA_AOZ_1_t2.nii.gz'},\n",
              " {'flair': 'HGG/Brats18_TCIA08_278_1/Brats18_TCIA08_278_1_flair.nii.gz',\n",
              "  'seg': 'HGG/Brats18_TCIA08_278_1/Brats18_TCIA08_278_1_seg.nii.gz',\n",
              "  't1': 'HGG/Brats18_TCIA08_278_1/Brats18_TCIA08_278_1_t1.nii.gz',\n",
              "  't1ce': 'HGG/Brats18_TCIA08_278_1/Brats18_TCIA08_278_1_t1ce.nii.gz',\n",
              "  't2': 'HGG/Brats18_TCIA08_278_1/Brats18_TCIA08_278_1_t2.nii.gz'},\n",
              " {'flair': 'HGG/Brats18_2013_21_1/Brats18_2013_21_1_flair.nii.gz',\n",
              "  'seg': 'HGG/Brats18_2013_21_1/Brats18_2013_21_1_seg.nii.gz',\n",
              "  't1': 'HGG/Brats18_2013_21_1/Brats18_2013_21_1_t1.nii.gz',\n",
              "  't1ce': 'HGG/Brats18_2013_21_1/Brats18_2013_21_1_t1ce.nii.gz',\n",
              "  't2': 'HGG/Brats18_2013_21_1/Brats18_2013_21_1_t2.nii.gz'},\n",
              " {'flair': 'HGG/Brats18_CBICA_ATP_1/Brats18_CBICA_ATP_1_flair.nii.gz',\n",
              "  'seg': 'HGG/Brats18_CBICA_ATP_1/Brats18_CBICA_ATP_1_seg.nii.gz',\n",
              "  't1': 'HGG/Brats18_CBICA_ATP_1/Brats18_CBICA_ATP_1_t1.nii.gz',\n",
              "  't1ce': 'HGG/Brats18_CBICA_ATP_1/Brats18_CBICA_ATP_1_t1ce.nii.gz',\n",
              "  't2': 'HGG/Brats18_CBICA_ATP_1/Brats18_CBICA_ATP_1_t2.nii.gz'},\n",
              " {'flair': 'HGG/Brats18_CBICA_AOO_1/Brats18_CBICA_AOO_1_flair.nii.gz',\n",
              "  'seg': 'HGG/Brats18_CBICA_AOO_1/Brats18_CBICA_AOO_1_seg.nii.gz',\n",
              "  't1': 'HGG/Brats18_CBICA_AOO_1/Brats18_CBICA_AOO_1_t1.nii.gz',\n",
              "  't1ce': 'HGG/Brats18_CBICA_AOO_1/Brats18_CBICA_AOO_1_t1ce.nii.gz',\n",
              "  't2': 'HGG/Brats18_CBICA_AOO_1/Brats18_CBICA_AOO_1_t2.nii.gz'},\n",
              " {'flair': 'HGG/Brats18_TCIA04_111_1/Brats18_TCIA04_111_1_flair.nii.gz',\n",
              "  'seg': 'HGG/Brats18_TCIA04_111_1/Brats18_TCIA04_111_1_seg.nii.gz',\n",
              "  't1': 'HGG/Brats18_TCIA04_111_1/Brats18_TCIA04_111_1_t1.nii.gz',\n",
              "  't1ce': 'HGG/Brats18_TCIA04_111_1/Brats18_TCIA04_111_1_t1ce.nii.gz',\n",
              "  't2': 'HGG/Brats18_TCIA04_111_1/Brats18_TCIA04_111_1_t2.nii.gz'},\n",
              " {'flair': 'HGG/Brats18_TCIA01_425_1/Brats18_TCIA01_425_1_flair.nii.gz',\n",
              "  'seg': 'HGG/Brats18_TCIA01_425_1/Brats18_TCIA01_425_1_seg.nii.gz',\n",
              "  't1': 'HGG/Brats18_TCIA01_425_1/Brats18_TCIA01_425_1_t1.nii.gz',\n",
              "  't1ce': 'HGG/Brats18_TCIA01_425_1/Brats18_TCIA01_425_1_t1ce.nii.gz',\n",
              "  't2': 'HGG/Brats18_TCIA01_425_1/Brats18_TCIA01_425_1_t2.nii.gz'},\n",
              " {'flair': 'HGG/Brats18_TCIA02_374_1/Brats18_TCIA02_374_1_flair.nii.gz',\n",
              "  'seg': 'HGG/Brats18_TCIA02_374_1/Brats18_TCIA02_374_1_seg.nii.gz',\n",
              "  't1': 'HGG/Brats18_TCIA02_374_1/Brats18_TCIA02_374_1_t1.nii.gz',\n",
              "  't1ce': 'HGG/Brats18_TCIA02_374_1/Brats18_TCIA02_374_1_t1ce.nii.gz',\n",
              "  't2': 'HGG/Brats18_TCIA02_374_1/Brats18_TCIA02_374_1_t2.nii.gz'},\n",
              " {'flair': 'HGG/Brats18_2013_25_1/Brats18_2013_25_1_flair.nii.gz',\n",
              "  'seg': 'HGG/Brats18_2013_25_1/Brats18_2013_25_1_seg.nii.gz',\n",
              "  't1': 'HGG/Brats18_2013_25_1/Brats18_2013_25_1_t1.nii.gz',\n",
              "  't1ce': 'HGG/Brats18_2013_25_1/Brats18_2013_25_1_t1ce.nii.gz',\n",
              "  't2': 'HGG/Brats18_2013_25_1/Brats18_2013_25_1_t2.nii.gz'},\n",
              " {'flair': 'HGG/Brats18_2013_10_1/Brats18_2013_10_1_flair.nii.gz',\n",
              "  'seg': 'HGG/Brats18_2013_10_1/Brats18_2013_10_1_seg.nii.gz',\n",
              "  't1': 'HGG/Brats18_2013_10_1/Brats18_2013_10_1_t1.nii.gz',\n",
              "  't1ce': 'HGG/Brats18_2013_10_1/Brats18_2013_10_1_t1ce.nii.gz',\n",
              "  't2': 'HGG/Brats18_2013_10_1/Brats18_2013_10_1_t2.nii.gz'},\n",
              " {'flair': 'HGG/Brats18_TCIA01_186_1/Brats18_TCIA01_186_1_flair.nii.gz',\n",
              "  'seg': 'HGG/Brats18_TCIA01_186_1/Brats18_TCIA01_186_1_seg.nii.gz',\n",
              "  't1': 'HGG/Brats18_TCIA01_186_1/Brats18_TCIA01_186_1_t1.nii.gz',\n",
              "  't1ce': 'HGG/Brats18_TCIA01_186_1/Brats18_TCIA01_186_1_t1ce.nii.gz',\n",
              "  't2': 'HGG/Brats18_TCIA01_186_1/Brats18_TCIA01_186_1_t2.nii.gz'},\n",
              " {'flair': 'HGG/Brats18_2013_26_1/Brats18_2013_26_1_flair.nii.gz',\n",
              "  'seg': 'HGG/Brats18_2013_26_1/Brats18_2013_26_1_seg.nii.gz',\n",
              "  't1': 'HGG/Brats18_2013_26_1/Brats18_2013_26_1_t1.nii.gz',\n",
              "  't1ce': 'HGG/Brats18_2013_26_1/Brats18_2013_26_1_t1ce.nii.gz',\n",
              "  't2': 'HGG/Brats18_2013_26_1/Brats18_2013_26_1_t2.nii.gz'},\n",
              " {'flair': 'HGG/Brats18_CBICA_ASU_1/Brats18_CBICA_ASU_1_flair.nii.gz',\n",
              "  'seg': 'HGG/Brats18_CBICA_ASU_1/Brats18_CBICA_ASU_1_seg.nii.gz',\n",
              "  't1': 'HGG/Brats18_CBICA_ASU_1/Brats18_CBICA_ASU_1_t1.nii.gz',\n",
              "  't1ce': 'HGG/Brats18_CBICA_ASU_1/Brats18_CBICA_ASU_1_t1ce.nii.gz',\n",
              "  't2': 'HGG/Brats18_CBICA_ASU_1/Brats18_CBICA_ASU_1_t2.nii.gz'},\n",
              " {'flair': 'HGG/Brats18_TCIA02_606_1/Brats18_TCIA02_606_1_flair.nii.gz',\n",
              "  'seg': 'HGG/Brats18_TCIA02_606_1/Brats18_TCIA02_606_1_seg.nii.gz',\n",
              "  't1': 'HGG/Brats18_TCIA02_606_1/Brats18_TCIA02_606_1_t1.nii.gz',\n",
              "  't1ce': 'HGG/Brats18_TCIA02_606_1/Brats18_TCIA02_606_1_t1ce.nii.gz',\n",
              "  't2': 'HGG/Brats18_TCIA02_606_1/Brats18_TCIA02_606_1_t2.nii.gz'},\n",
              " {'flair': 'HGG/Brats18_CBICA_ALX_1/Brats18_CBICA_ALX_1_flair.nii.gz',\n",
              "  'seg': 'HGG/Brats18_CBICA_ALX_1/Brats18_CBICA_ALX_1_seg.nii.gz',\n",
              "  't1': 'HGG/Brats18_CBICA_ALX_1/Brats18_CBICA_ALX_1_t1.nii.gz',\n",
              "  't1ce': 'HGG/Brats18_CBICA_ALX_1/Brats18_CBICA_ALX_1_t1ce.nii.gz',\n",
              "  't2': 'HGG/Brats18_CBICA_ALX_1/Brats18_CBICA_ALX_1_t2.nii.gz'},\n",
              " {'flair': 'HGG/Brats18_TCIA02_118_1/Brats18_TCIA02_118_1_flair.nii.gz',\n",
              "  'seg': 'HGG/Brats18_TCIA02_118_1/Brats18_TCIA02_118_1_seg.nii.gz',\n",
              "  't1': 'HGG/Brats18_TCIA02_118_1/Brats18_TCIA02_118_1_t1.nii.gz',\n",
              "  't1ce': 'HGG/Brats18_TCIA02_118_1/Brats18_TCIA02_118_1_t1ce.nii.gz',\n",
              "  't2': 'HGG/Brats18_TCIA02_118_1/Brats18_TCIA02_118_1_t2.nii.gz'},\n",
              " {'flair': 'HGG/Brats18_CBICA_AYW_1/Brats18_CBICA_AYW_1_flair.nii.gz',\n",
              "  'seg': 'HGG/Brats18_CBICA_AYW_1/Brats18_CBICA_AYW_1_seg.nii.gz',\n",
              "  't1': 'HGG/Brats18_CBICA_AYW_1/Brats18_CBICA_AYW_1_t1.nii.gz',\n",
              "  't1ce': 'HGG/Brats18_CBICA_AYW_1/Brats18_CBICA_AYW_1_t1ce.nii.gz',\n",
              "  't2': 'HGG/Brats18_CBICA_AYW_1/Brats18_CBICA_AYW_1_t2.nii.gz'},\n",
              " {'flair': 'HGG/Brats18_CBICA_AVV_1/Brats18_CBICA_AVV_1_flair.nii.gz',\n",
              "  'seg': 'HGG/Brats18_CBICA_AVV_1/Brats18_CBICA_AVV_1_seg.nii.gz',\n",
              "  't1': 'HGG/Brats18_CBICA_AVV_1/Brats18_CBICA_AVV_1_t1.nii.gz',\n",
              "  't1ce': 'HGG/Brats18_CBICA_AVV_1/Brats18_CBICA_AVV_1_t1ce.nii.gz',\n",
              "  't2': 'HGG/Brats18_CBICA_AVV_1/Brats18_CBICA_AVV_1_t2.nii.gz'},\n",
              " {'flair': 'HGG/Brats18_CBICA_ABE_1/Brats18_CBICA_ABE_1_flair.nii.gz',\n",
              "  'seg': 'HGG/Brats18_CBICA_ABE_1/Brats18_CBICA_ABE_1_seg.nii.gz',\n",
              "  't1': 'HGG/Brats18_CBICA_ABE_1/Brats18_CBICA_ABE_1_t1.nii.gz',\n",
              "  't1ce': 'HGG/Brats18_CBICA_ABE_1/Brats18_CBICA_ABE_1_t1ce.nii.gz',\n",
              "  't2': 'HGG/Brats18_CBICA_ABE_1/Brats18_CBICA_ABE_1_t2.nii.gz'},\n",
              " {'flair': 'HGG/Brats18_TCIA01_429_1/Brats18_TCIA01_429_1_flair.nii.gz',\n",
              "  'seg': 'HGG/Brats18_TCIA01_429_1/Brats18_TCIA01_429_1_seg.nii.gz',\n",
              "  't1': 'HGG/Brats18_TCIA01_429_1/Brats18_TCIA01_429_1_t1.nii.gz',\n",
              "  't1ce': 'HGG/Brats18_TCIA01_429_1/Brats18_TCIA01_429_1_t1ce.nii.gz',\n",
              "  't2': 'HGG/Brats18_TCIA01_429_1/Brats18_TCIA01_429_1_t2.nii.gz'},\n",
              " {'flair': 'HGG/Brats18_TCIA05_277_1/Brats18_TCIA05_277_1_flair.nii.gz',\n",
              "  'seg': 'HGG/Brats18_TCIA05_277_1/Brats18_TCIA05_277_1_seg.nii.gz',\n",
              "  't1': 'HGG/Brats18_TCIA05_277_1/Brats18_TCIA05_277_1_t1.nii.gz',\n",
              "  't1ce': 'HGG/Brats18_TCIA05_277_1/Brats18_TCIA05_277_1_t1ce.nii.gz',\n",
              "  't2': 'HGG/Brats18_TCIA05_277_1/Brats18_TCIA05_277_1_t2.nii.gz'},\n",
              " {'flair': 'HGG/Brats18_TCIA02_377_1/Brats18_TCIA02_377_1_flair.nii.gz',\n",
              "  'seg': 'HGG/Brats18_TCIA02_377_1/Brats18_TCIA02_377_1_seg.nii.gz',\n",
              "  't1': 'HGG/Brats18_TCIA02_377_1/Brats18_TCIA02_377_1_t1.nii.gz',\n",
              "  't1ce': 'HGG/Brats18_TCIA02_377_1/Brats18_TCIA02_377_1_t1ce.nii.gz',\n",
              "  't2': 'HGG/Brats18_TCIA02_377_1/Brats18_TCIA02_377_1_t2.nii.gz'},\n",
              " {'flair': 'HGG/Brats18_TCIA02_430_1/Brats18_TCIA02_430_1_flair.nii.gz',\n",
              "  'seg': 'HGG/Brats18_TCIA02_430_1/Brats18_TCIA02_430_1_seg.nii.gz',\n",
              "  't1': 'HGG/Brats18_TCIA02_430_1/Brats18_TCIA02_430_1_t1.nii.gz',\n",
              "  't1ce': 'HGG/Brats18_TCIA02_430_1/Brats18_TCIA02_430_1_t1ce.nii.gz',\n",
              "  't2': 'HGG/Brats18_TCIA02_430_1/Brats18_TCIA02_430_1_t2.nii.gz'},\n",
              " {'flair': 'HGG/Brats18_CBICA_AAP_1/Brats18_CBICA_AAP_1_flair.nii.gz',\n",
              "  'seg': 'HGG/Brats18_CBICA_AAP_1/Brats18_CBICA_AAP_1_seg.nii.gz',\n",
              "  't1': 'HGG/Brats18_CBICA_AAP_1/Brats18_CBICA_AAP_1_t1.nii.gz',\n",
              "  't1ce': 'HGG/Brats18_CBICA_AAP_1/Brats18_CBICA_AAP_1_t1ce.nii.gz',\n",
              "  't2': 'HGG/Brats18_CBICA_AAP_1/Brats18_CBICA_AAP_1_t2.nii.gz'},\n",
              " {'flair': 'HGG/Brats18_TCIA01_231_1/Brats18_TCIA01_231_1_flair.nii.gz',\n",
              "  'seg': 'HGG/Brats18_TCIA01_231_1/Brats18_TCIA01_231_1_seg.nii.gz',\n",
              "  't1': 'HGG/Brats18_TCIA01_231_1/Brats18_TCIA01_231_1_t1.nii.gz',\n",
              "  't1ce': 'HGG/Brats18_TCIA01_231_1/Brats18_TCIA01_231_1_t1ce.nii.gz',\n",
              "  't2': 'HGG/Brats18_TCIA01_231_1/Brats18_TCIA01_231_1_t2.nii.gz'},\n",
              " {'flair': 'HGG/Brats18_TCIA02_331_1/Brats18_TCIA02_331_1_flair.nii.gz',\n",
              "  'seg': 'HGG/Brats18_TCIA02_331_1/Brats18_TCIA02_331_1_seg.nii.gz',\n",
              "  't1': 'HGG/Brats18_TCIA02_331_1/Brats18_TCIA02_331_1_t1.nii.gz',\n",
              "  't1ce': 'HGG/Brats18_TCIA02_331_1/Brats18_TCIA02_331_1_t1ce.nii.gz',\n",
              "  't2': 'HGG/Brats18_TCIA02_331_1/Brats18_TCIA02_331_1_t2.nii.gz'},\n",
              " {'flair': 'HGG/Brats18_CBICA_AOH_1/Brats18_CBICA_AOH_1_flair.nii.gz',\n",
              "  'seg': 'HGG/Brats18_CBICA_AOH_1/Brats18_CBICA_AOH_1_seg.nii.gz',\n",
              "  't1': 'HGG/Brats18_CBICA_AOH_1/Brats18_CBICA_AOH_1_t1.nii.gz',\n",
              "  't1ce': 'HGG/Brats18_CBICA_AOH_1/Brats18_CBICA_AOH_1_t1ce.nii.gz',\n",
              "  't2': 'HGG/Brats18_CBICA_AOH_1/Brats18_CBICA_AOH_1_t2.nii.gz'},\n",
              " {'flair': 'HGG/Brats18_CBICA_AOP_1/Brats18_CBICA_AOP_1_flair.nii.gz',\n",
              "  'seg': 'HGG/Brats18_CBICA_AOP_1/Brats18_CBICA_AOP_1_seg.nii.gz',\n",
              "  't1': 'HGG/Brats18_CBICA_AOP_1/Brats18_CBICA_AOP_1_t1.nii.gz',\n",
              "  't1ce': 'HGG/Brats18_CBICA_AOP_1/Brats18_CBICA_AOP_1_t1ce.nii.gz',\n",
              "  't2': 'HGG/Brats18_CBICA_AOP_1/Brats18_CBICA_AOP_1_t2.nii.gz'},\n",
              " {'flair': 'HGG/Brats18_TCIA02_605_1/Brats18_TCIA02_605_1_flair.nii.gz',\n",
              "  'seg': 'HGG/Brats18_TCIA02_605_1/Brats18_TCIA02_605_1_seg.nii.gz',\n",
              "  't1': 'HGG/Brats18_TCIA02_605_1/Brats18_TCIA02_605_1_t1.nii.gz',\n",
              "  't1ce': 'HGG/Brats18_TCIA02_605_1/Brats18_TCIA02_605_1_t1ce.nii.gz',\n",
              "  't2': 'HGG/Brats18_TCIA02_605_1/Brats18_TCIA02_605_1_t2.nii.gz'},\n",
              " {'flair': 'HGG/Brats18_TCIA06_332_1/Brats18_TCIA06_332_1_flair.nii.gz',\n",
              "  'seg': 'HGG/Brats18_TCIA06_332_1/Brats18_TCIA06_332_1_seg.nii.gz',\n",
              "  't1': 'HGG/Brats18_TCIA06_332_1/Brats18_TCIA06_332_1_t1.nii.gz',\n",
              "  't1ce': 'HGG/Brats18_TCIA06_332_1/Brats18_TCIA06_332_1_t1ce.nii.gz',\n",
              "  't2': 'HGG/Brats18_TCIA06_332_1/Brats18_TCIA06_332_1_t2.nii.gz'},\n",
              " {'flair': 'HGG/Brats18_TCIA08_218_1/Brats18_TCIA08_218_1_flair.nii.gz',\n",
              "  'seg': 'HGG/Brats18_TCIA08_218_1/Brats18_TCIA08_218_1_seg.nii.gz',\n",
              "  't1': 'HGG/Brats18_TCIA08_218_1/Brats18_TCIA08_218_1_t1.nii.gz',\n",
              "  't1ce': 'HGG/Brats18_TCIA08_218_1/Brats18_TCIA08_218_1_t1ce.nii.gz',\n",
              "  't2': 'HGG/Brats18_TCIA08_218_1/Brats18_TCIA08_218_1_t2.nii.gz'},\n",
              " {'flair': 'HGG/Brats18_TCIA08_205_1/Brats18_TCIA08_205_1_flair.nii.gz',\n",
              "  'seg': 'HGG/Brats18_TCIA08_205_1/Brats18_TCIA08_205_1_seg.nii.gz',\n",
              "  't1': 'HGG/Brats18_TCIA08_205_1/Brats18_TCIA08_205_1_t1.nii.gz',\n",
              "  't1ce': 'HGG/Brats18_TCIA08_205_1/Brats18_TCIA08_205_1_t1ce.nii.gz',\n",
              "  't2': 'HGG/Brats18_TCIA08_205_1/Brats18_TCIA08_205_1_t2.nii.gz'},\n",
              " {'flair': 'HGG/Brats18_TCIA08_406_1/Brats18_TCIA08_406_1_flair.nii.gz',\n",
              "  'seg': 'HGG/Brats18_TCIA08_406_1/Brats18_TCIA08_406_1_seg.nii.gz',\n",
              "  't1': 'HGG/Brats18_TCIA08_406_1/Brats18_TCIA08_406_1_t1.nii.gz',\n",
              "  't1ce': 'HGG/Brats18_TCIA08_406_1/Brats18_TCIA08_406_1_t1ce.nii.gz',\n",
              "  't2': 'HGG/Brats18_TCIA08_406_1/Brats18_TCIA08_406_1_t2.nii.gz'},\n",
              " {'flair': 'HGG/Brats18_CBICA_AQR_1/Brats18_CBICA_AQR_1_flair.nii.gz',\n",
              "  'seg': 'HGG/Brats18_CBICA_AQR_1/Brats18_CBICA_AQR_1_seg.nii.gz',\n",
              "  't1': 'HGG/Brats18_CBICA_AQR_1/Brats18_CBICA_AQR_1_t1.nii.gz',\n",
              "  't1ce': 'HGG/Brats18_CBICA_AQR_1/Brats18_CBICA_AQR_1_t1ce.nii.gz',\n",
              "  't2': 'HGG/Brats18_CBICA_AQR_1/Brats18_CBICA_AQR_1_t2.nii.gz'},\n",
              " {'flair': 'HGG/Brats18_TCIA03_199_1/Brats18_TCIA03_199_1_flair.nii.gz',\n",
              "  'seg': 'HGG/Brats18_TCIA03_199_1/Brats18_TCIA03_199_1_seg.nii.gz',\n",
              "  't1': 'HGG/Brats18_TCIA03_199_1/Brats18_TCIA03_199_1_t1.nii.gz',\n",
              "  't1ce': 'HGG/Brats18_TCIA03_199_1/Brats18_TCIA03_199_1_t1ce.nii.gz',\n",
              "  't2': 'HGG/Brats18_TCIA03_199_1/Brats18_TCIA03_199_1_t2.nii.gz'},\n",
              " {'flair': 'HGG/Brats18_2013_14_1/Brats18_2013_14_1_flair.nii.gz',\n",
              "  'seg': 'HGG/Brats18_2013_14_1/Brats18_2013_14_1_seg.nii.gz',\n",
              "  't1': 'HGG/Brats18_2013_14_1/Brats18_2013_14_1_t1.nii.gz',\n",
              "  't1ce': 'HGG/Brats18_2013_14_1/Brats18_2013_14_1_t1ce.nii.gz',\n",
              "  't2': 'HGG/Brats18_2013_14_1/Brats18_2013_14_1_t2.nii.gz'},\n",
              " {'flair': 'HGG/Brats18_TCIA08_280_1/Brats18_TCIA08_280_1_flair.nii.gz',\n",
              "  'seg': 'HGG/Brats18_TCIA08_280_1/Brats18_TCIA08_280_1_seg.nii.gz',\n",
              "  't1': 'HGG/Brats18_TCIA08_280_1/Brats18_TCIA08_280_1_t1.nii.gz',\n",
              "  't1ce': 'HGG/Brats18_TCIA08_280_1/Brats18_TCIA08_280_1_t1ce.nii.gz',\n",
              "  't2': 'HGG/Brats18_TCIA08_280_1/Brats18_TCIA08_280_1_t2.nii.gz'},\n",
              " {'flair': 'HGG/Brats18_CBICA_ANP_1/Brats18_CBICA_ANP_1_flair.nii.gz',\n",
              "  'seg': 'HGG/Brats18_CBICA_ANP_1/Brats18_CBICA_ANP_1_seg.nii.gz',\n",
              "  't1': 'HGG/Brats18_CBICA_ANP_1/Brats18_CBICA_ANP_1_t1.nii.gz',\n",
              "  't1ce': 'HGG/Brats18_CBICA_ANP_1/Brats18_CBICA_ANP_1_t1ce.nii.gz',\n",
              "  't2': 'HGG/Brats18_CBICA_ANP_1/Brats18_CBICA_ANP_1_t2.nii.gz'},\n",
              " {'flair': 'HGG/Brats18_CBICA_AVG_1/Brats18_CBICA_AVG_1_flair.nii.gz',\n",
              "  'seg': 'HGG/Brats18_CBICA_AVG_1/Brats18_CBICA_AVG_1_seg.nii.gz',\n",
              "  't1': 'HGG/Brats18_CBICA_AVG_1/Brats18_CBICA_AVG_1_t1.nii.gz',\n",
              "  't1ce': 'HGG/Brats18_CBICA_AVG_1/Brats18_CBICA_AVG_1_t1ce.nii.gz',\n",
              "  't2': 'HGG/Brats18_CBICA_AVG_1/Brats18_CBICA_AVG_1_t2.nii.gz'},\n",
              " {'flair': 'HGG/Brats18_TCIA02_608_1/Brats18_TCIA02_608_1_flair.nii.gz',\n",
              "  'seg': 'HGG/Brats18_TCIA02_608_1/Brats18_TCIA02_608_1_seg.nii.gz',\n",
              "  't1': 'HGG/Brats18_TCIA02_608_1/Brats18_TCIA02_608_1_t1.nii.gz',\n",
              "  't1ce': 'HGG/Brats18_TCIA02_608_1/Brats18_TCIA02_608_1_t1ce.nii.gz',\n",
              "  't2': 'HGG/Brats18_TCIA02_608_1/Brats18_TCIA02_608_1_t2.nii.gz'},\n",
              " {'flair': 'HGG/Brats18_TCIA03_419_1/Brats18_TCIA03_419_1_flair.nii.gz',\n",
              "  'seg': 'HGG/Brats18_TCIA03_419_1/Brats18_TCIA03_419_1_seg.nii.gz',\n",
              "  't1': 'HGG/Brats18_TCIA03_419_1/Brats18_TCIA03_419_1_t1.nii.gz',\n",
              "  't1ce': 'HGG/Brats18_TCIA03_419_1/Brats18_TCIA03_419_1_t1ce.nii.gz',\n",
              "  't2': 'HGG/Brats18_TCIA03_419_1/Brats18_TCIA03_419_1_t2.nii.gz'},\n",
              " {'flair': 'HGG/Brats18_TCIA02_290_1/Brats18_TCIA02_290_1_flair.nii.gz',\n",
              "  'seg': 'HGG/Brats18_TCIA02_290_1/Brats18_TCIA02_290_1_seg.nii.gz',\n",
              "  't1': 'HGG/Brats18_TCIA02_290_1/Brats18_TCIA02_290_1_t1.nii.gz',\n",
              "  't1ce': 'HGG/Brats18_TCIA02_290_1/Brats18_TCIA02_290_1_t1ce.nii.gz',\n",
              "  't2': 'HGG/Brats18_TCIA02_290_1/Brats18_TCIA02_290_1_t2.nii.gz'},\n",
              " {'flair': 'HGG/Brats18_TCIA08_234_1/Brats18_TCIA08_234_1_flair.nii.gz',\n",
              "  'seg': 'HGG/Brats18_TCIA08_234_1/Brats18_TCIA08_234_1_seg.nii.gz',\n",
              "  't1': 'HGG/Brats18_TCIA08_234_1/Brats18_TCIA08_234_1_t1.nii.gz',\n",
              "  't1ce': 'HGG/Brats18_TCIA08_234_1/Brats18_TCIA08_234_1_t1ce.nii.gz',\n",
              "  't2': 'HGG/Brats18_TCIA08_234_1/Brats18_TCIA08_234_1_t2.nii.gz'},\n",
              " {'flair': 'HGG/Brats18_CBICA_AYA_1/Brats18_CBICA_AYA_1_flair.nii.gz',\n",
              "  'seg': 'HGG/Brats18_CBICA_AYA_1/Brats18_CBICA_AYA_1_seg.nii.gz',\n",
              "  't1': 'HGG/Brats18_CBICA_AYA_1/Brats18_CBICA_AYA_1_t1.nii.gz',\n",
              "  't1ce': 'HGG/Brats18_CBICA_AYA_1/Brats18_CBICA_AYA_1_t1ce.nii.gz',\n",
              "  't2': 'HGG/Brats18_CBICA_AYA_1/Brats18_CBICA_AYA_1_t2.nii.gz'},\n",
              " {'flair': 'HGG/Brats18_TCIA02_171_1/Brats18_TCIA02_171_1_flair.nii.gz',\n",
              "  'seg': 'HGG/Brats18_TCIA02_171_1/Brats18_TCIA02_171_1_seg.nii.gz',\n",
              "  't1': 'HGG/Brats18_TCIA02_171_1/Brats18_TCIA02_171_1_t1.nii.gz',\n",
              "  't1ce': 'HGG/Brats18_TCIA02_171_1/Brats18_TCIA02_171_1_t1ce.nii.gz',\n",
              "  't2': 'HGG/Brats18_TCIA02_171_1/Brats18_TCIA02_171_1_t2.nii.gz'},\n",
              " {'flair': 'HGG/Brats18_TCIA01_147_1/Brats18_TCIA01_147_1_flair.nii.gz',\n",
              "  'seg': 'HGG/Brats18_TCIA01_147_1/Brats18_TCIA01_147_1_seg.nii.gz',\n",
              "  't1': 'HGG/Brats18_TCIA01_147_1/Brats18_TCIA01_147_1_t1.nii.gz',\n",
              "  't1ce': 'HGG/Brats18_TCIA01_147_1/Brats18_TCIA01_147_1_t1ce.nii.gz',\n",
              "  't2': 'HGG/Brats18_TCIA01_147_1/Brats18_TCIA01_147_1_t2.nii.gz'},\n",
              " {'flair': 'HGG/Brats18_TCIA02_274_1/Brats18_TCIA02_274_1_flair.nii.gz',\n",
              "  'seg': 'HGG/Brats18_TCIA02_274_1/Brats18_TCIA02_274_1_seg.nii.gz',\n",
              "  't1': 'HGG/Brats18_TCIA02_274_1/Brats18_TCIA02_274_1_t1.nii.gz',\n",
              "  't1ce': 'HGG/Brats18_TCIA02_274_1/Brats18_TCIA02_274_1_t1ce.nii.gz',\n",
              "  't2': 'HGG/Brats18_TCIA02_274_1/Brats18_TCIA02_274_1_t2.nii.gz'},\n",
              " {'flair': 'HGG/Brats18_TCIA01_180_1/Brats18_TCIA01_180_1_flair.nii.gz',\n",
              "  'seg': 'HGG/Brats18_TCIA01_180_1/Brats18_TCIA01_180_1_seg.nii.gz',\n",
              "  't1': 'HGG/Brats18_TCIA01_180_1/Brats18_TCIA01_180_1_t1.nii.gz',\n",
              "  't1ce': 'HGG/Brats18_TCIA01_180_1/Brats18_TCIA01_180_1_t1ce.nii.gz',\n",
              "  't2': 'HGG/Brats18_TCIA01_180_1/Brats18_TCIA01_180_1_t2.nii.gz'},\n",
              " {'flair': 'HGG/Brats18_2013_18_1/Brats18_2013_18_1_flair.nii.gz',\n",
              "  'seg': 'HGG/Brats18_2013_18_1/Brats18_2013_18_1_seg.nii.gz',\n",
              "  't1': 'HGG/Brats18_2013_18_1/Brats18_2013_18_1_t1.nii.gz',\n",
              "  't1ce': 'HGG/Brats18_2013_18_1/Brats18_2013_18_1_t1ce.nii.gz',\n",
              "  't2': 'HGG/Brats18_2013_18_1/Brats18_2013_18_1_t2.nii.gz'},\n",
              " {'flair': 'LGG/Brats18_TCIA10_266_1/Brats18_TCIA10_266_1_flair.nii.gz',\n",
              "  'seg': 'LGG/Brats18_TCIA10_266_1/Brats18_TCIA10_266_1_seg.nii.gz',\n",
              "  't1': 'LGG/Brats18_TCIA10_266_1/Brats18_TCIA10_266_1_t1.nii.gz',\n",
              "  't1ce': 'LGG/Brats18_TCIA10_266_1/Brats18_TCIA10_266_1_t1ce.nii.gz',\n",
              "  't2': 'LGG/Brats18_TCIA10_266_1/Brats18_TCIA10_266_1_t2.nii.gz'},\n",
              " {'flair': 'LGG/Brats18_TCIA13_624_1/Brats18_TCIA13_624_1_flair.nii.gz',\n",
              "  'seg': 'LGG/Brats18_TCIA13_624_1/Brats18_TCIA13_624_1_seg.nii.gz',\n",
              "  't1': 'LGG/Brats18_TCIA13_624_1/Brats18_TCIA13_624_1_t1.nii.gz',\n",
              "  't1ce': 'LGG/Brats18_TCIA13_624_1/Brats18_TCIA13_624_1_t1ce.nii.gz',\n",
              "  't2': 'LGG/Brats18_TCIA13_624_1/Brats18_TCIA13_624_1_t2.nii.gz'},\n",
              " {'flair': 'LGG/Brats18_TCIA10_410_1/Brats18_TCIA10_410_1_flair.nii.gz',\n",
              "  'seg': 'LGG/Brats18_TCIA10_410_1/Brats18_TCIA10_410_1_seg.nii.gz',\n",
              "  't1': 'LGG/Brats18_TCIA10_410_1/Brats18_TCIA10_410_1_t1.nii.gz',\n",
              "  't1ce': 'LGG/Brats18_TCIA10_410_1/Brats18_TCIA10_410_1_t1ce.nii.gz',\n",
              "  't2': 'LGG/Brats18_TCIA10_410_1/Brats18_TCIA10_410_1_t2.nii.gz'},\n",
              " {'flair': 'LGG/Brats18_TCIA09_493_1/Brats18_TCIA09_493_1_flair.nii.gz',\n",
              "  'seg': 'LGG/Brats18_TCIA09_493_1/Brats18_TCIA09_493_1_seg.nii.gz',\n",
              "  't1': 'LGG/Brats18_TCIA09_493_1/Brats18_TCIA09_493_1_t1.nii.gz',\n",
              "  't1ce': 'LGG/Brats18_TCIA09_493_1/Brats18_TCIA09_493_1_t1ce.nii.gz',\n",
              "  't2': 'LGG/Brats18_TCIA09_493_1/Brats18_TCIA09_493_1_t2.nii.gz'},\n",
              " {'flair': 'LGG/Brats18_TCIA10_282_1/Brats18_TCIA10_282_1_flair.nii.gz',\n",
              "  'seg': 'LGG/Brats18_TCIA10_282_1/Brats18_TCIA10_282_1_seg.nii.gz',\n",
              "  't1': 'LGG/Brats18_TCIA10_282_1/Brats18_TCIA10_282_1_t1.nii.gz',\n",
              "  't1ce': 'LGG/Brats18_TCIA10_282_1/Brats18_TCIA10_282_1_t1ce.nii.gz',\n",
              "  't2': 'LGG/Brats18_TCIA10_282_1/Brats18_TCIA10_282_1_t2.nii.gz'},\n",
              " {'flair': 'LGG/Brats18_TCIA13_630_1/Brats18_TCIA13_630_1_flair.nii.gz',\n",
              "  'seg': 'LGG/Brats18_TCIA13_630_1/Brats18_TCIA13_630_1_seg.nii.gz',\n",
              "  't1': 'LGG/Brats18_TCIA13_630_1/Brats18_TCIA13_630_1_t1.nii.gz',\n",
              "  't1ce': 'LGG/Brats18_TCIA13_630_1/Brats18_TCIA13_630_1_t1ce.nii.gz',\n",
              "  't2': 'LGG/Brats18_TCIA13_630_1/Brats18_TCIA13_630_1_t2.nii.gz'},\n",
              " {'flair': 'LGG/Brats18_TCIA10_202_1/Brats18_TCIA10_202_1_flair.nii.gz',\n",
              "  'seg': 'LGG/Brats18_TCIA10_202_1/Brats18_TCIA10_202_1_seg.nii.gz',\n",
              "  't1': 'LGG/Brats18_TCIA10_202_1/Brats18_TCIA10_202_1_t1.nii.gz',\n",
              "  't1ce': 'LGG/Brats18_TCIA10_202_1/Brats18_TCIA10_202_1_t1ce.nii.gz',\n",
              "  't2': 'LGG/Brats18_TCIA10_202_1/Brats18_TCIA10_202_1_t2.nii.gz'},\n",
              " {'flair': 'LGG/Brats18_2013_1_1/Brats18_2013_1_1_flair.nii.gz',\n",
              "  'seg': 'LGG/Brats18_2013_1_1/Brats18_2013_1_1_seg.nii.gz',\n",
              "  't1': 'LGG/Brats18_2013_1_1/Brats18_2013_1_1_t1.nii.gz',\n",
              "  't1ce': 'LGG/Brats18_2013_1_1/Brats18_2013_1_1_t1ce.nii.gz',\n",
              "  't2': 'LGG/Brats18_2013_1_1/Brats18_2013_1_1_t2.nii.gz'},\n",
              " {'flair': 'LGG/Brats18_TCIA13_653_1/Brats18_TCIA13_653_1_flair.nii.gz',\n",
              "  'seg': 'LGG/Brats18_TCIA13_653_1/Brats18_TCIA13_653_1_seg.nii.gz',\n",
              "  't1': 'LGG/Brats18_TCIA13_653_1/Brats18_TCIA13_653_1_t1.nii.gz',\n",
              "  't1ce': 'LGG/Brats18_TCIA13_653_1/Brats18_TCIA13_653_1_t1ce.nii.gz',\n",
              "  't2': 'LGG/Brats18_TCIA13_653_1/Brats18_TCIA13_653_1_t2.nii.gz'},\n",
              " {'flair': 'LGG/Brats18_TCIA09_402_1/Brats18_TCIA09_402_1_flair.nii.gz',\n",
              "  'seg': 'LGG/Brats18_TCIA09_402_1/Brats18_TCIA09_402_1_seg.nii.gz',\n",
              "  't1': 'LGG/Brats18_TCIA09_402_1/Brats18_TCIA09_402_1_t1.nii.gz',\n",
              "  't1ce': 'LGG/Brats18_TCIA09_402_1/Brats18_TCIA09_402_1_t1ce.nii.gz',\n",
              "  't2': 'LGG/Brats18_TCIA09_402_1/Brats18_TCIA09_402_1_t2.nii.gz'},\n",
              " {'flair': 'LGG/Brats18_2013_0_1/Brats18_2013_0_1_flair.nii.gz',\n",
              "  'seg': 'LGG/Brats18_2013_0_1/Brats18_2013_0_1_seg.nii.gz',\n",
              "  't1': 'LGG/Brats18_2013_0_1/Brats18_2013_0_1_t1.nii.gz',\n",
              "  't1ce': 'LGG/Brats18_2013_0_1/Brats18_2013_0_1_t1ce.nii.gz',\n",
              "  't2': 'LGG/Brats18_2013_0_1/Brats18_2013_0_1_t2.nii.gz'},\n",
              " {'flair': 'LGG/Brats18_2013_8_1/Brats18_2013_8_1_flair.nii.gz',\n",
              "  'seg': 'LGG/Brats18_2013_8_1/Brats18_2013_8_1_seg.nii.gz',\n",
              "  't1': 'LGG/Brats18_2013_8_1/Brats18_2013_8_1_t1.nii.gz',\n",
              "  't1ce': 'LGG/Brats18_2013_8_1/Brats18_2013_8_1_t1ce.nii.gz',\n",
              "  't2': 'LGG/Brats18_2013_8_1/Brats18_2013_8_1_t2.nii.gz'},\n",
              " {'flair': 'LGG/Brats18_TCIA13_615_1/Brats18_TCIA13_615_1_flair.nii.gz',\n",
              "  'seg': 'LGG/Brats18_TCIA13_615_1/Brats18_TCIA13_615_1_seg.nii.gz',\n",
              "  't1': 'LGG/Brats18_TCIA13_615_1/Brats18_TCIA13_615_1_t1.nii.gz',\n",
              "  't1ce': 'LGG/Brats18_TCIA13_615_1/Brats18_TCIA13_615_1_t1ce.nii.gz',\n",
              "  't2': 'LGG/Brats18_TCIA13_615_1/Brats18_TCIA13_615_1_t2.nii.gz'},\n",
              " {'flair': 'LGG/Brats18_TCIA09_312_1/Brats18_TCIA09_312_1_flair.nii.gz',\n",
              "  'seg': 'LGG/Brats18_TCIA09_312_1/Brats18_TCIA09_312_1_seg.nii.gz',\n",
              "  't1': 'LGG/Brats18_TCIA09_312_1/Brats18_TCIA09_312_1_t1.nii.gz',\n",
              "  't1ce': 'LGG/Brats18_TCIA09_312_1/Brats18_TCIA09_312_1_t1ce.nii.gz',\n",
              "  't2': 'LGG/Brats18_TCIA09_312_1/Brats18_TCIA09_312_1_t2.nii.gz'},\n",
              " {'flair': 'LGG/Brats18_TCIA10_639_1/Brats18_TCIA10_639_1_flair.nii.gz',\n",
              "  'seg': 'LGG/Brats18_TCIA10_639_1/Brats18_TCIA10_639_1_seg.nii.gz',\n",
              "  't1': 'LGG/Brats18_TCIA10_639_1/Brats18_TCIA10_639_1_t1.nii.gz',\n",
              "  't1ce': 'LGG/Brats18_TCIA10_639_1/Brats18_TCIA10_639_1_t1ce.nii.gz',\n",
              "  't2': 'LGG/Brats18_TCIA10_639_1/Brats18_TCIA10_639_1_t2.nii.gz'},\n",
              " {'flair': 'LGG/Brats18_TCIA09_428_1/Brats18_TCIA09_428_1_flair.nii.gz',\n",
              "  'seg': 'LGG/Brats18_TCIA09_428_1/Brats18_TCIA09_428_1_seg.nii.gz',\n",
              "  't1': 'LGG/Brats18_TCIA09_428_1/Brats18_TCIA09_428_1_t1.nii.gz',\n",
              "  't1ce': 'LGG/Brats18_TCIA09_428_1/Brats18_TCIA09_428_1_t1ce.nii.gz',\n",
              "  't2': 'LGG/Brats18_TCIA09_428_1/Brats18_TCIA09_428_1_t2.nii.gz'},\n",
              " {'flair': 'LGG/Brats18_TCIA10_261_1/Brats18_TCIA10_261_1_flair.nii.gz',\n",
              "  'seg': 'LGG/Brats18_TCIA10_261_1/Brats18_TCIA10_261_1_seg.nii.gz',\n",
              "  't1': 'LGG/Brats18_TCIA10_261_1/Brats18_TCIA10_261_1_t1.nii.gz',\n",
              "  't1ce': 'LGG/Brats18_TCIA10_261_1/Brats18_TCIA10_261_1_t1ce.nii.gz',\n",
              "  't2': 'LGG/Brats18_TCIA10_261_1/Brats18_TCIA10_261_1_t2.nii.gz'},\n",
              " {'flair': 'LGG/Brats18_2013_9_1/Brats18_2013_9_1_flair.nii.gz',\n",
              "  'seg': 'LGG/Brats18_2013_9_1/Brats18_2013_9_1_seg.nii.gz',\n",
              "  't1': 'LGG/Brats18_2013_9_1/Brats18_2013_9_1_t1.nii.gz',\n",
              "  't1ce': 'LGG/Brats18_2013_9_1/Brats18_2013_9_1_t1ce.nii.gz',\n",
              "  't2': 'LGG/Brats18_2013_9_1/Brats18_2013_9_1_t2.nii.gz'},\n",
              " {'flair': 'LGG/Brats18_TCIA09_451_1/Brats18_TCIA09_451_1_flair.nii.gz',\n",
              "  'seg': 'LGG/Brats18_TCIA09_451_1/Brats18_TCIA09_451_1_seg.nii.gz',\n",
              "  't1': 'LGG/Brats18_TCIA09_451_1/Brats18_TCIA09_451_1_t1.nii.gz',\n",
              "  't1ce': 'LGG/Brats18_TCIA09_451_1/Brats18_TCIA09_451_1_t1ce.nii.gz',\n",
              "  't2': 'LGG/Brats18_TCIA09_451_1/Brats18_TCIA09_451_1_t2.nii.gz'},\n",
              " {'flair': 'LGG/Brats18_TCIA10_644_1/Brats18_TCIA10_644_1_flair.nii.gz',\n",
              "  'seg': 'LGG/Brats18_TCIA10_644_1/Brats18_TCIA10_644_1_seg.nii.gz',\n",
              "  't1': 'LGG/Brats18_TCIA10_644_1/Brats18_TCIA10_644_1_t1.nii.gz',\n",
              "  't1ce': 'LGG/Brats18_TCIA10_644_1/Brats18_TCIA10_644_1_t1ce.nii.gz',\n",
              "  't2': 'LGG/Brats18_TCIA10_644_1/Brats18_TCIA10_644_1_t2.nii.gz'},\n",
              " {'flair': 'LGG/Brats18_TCIA10_241_1/Brats18_TCIA10_241_1_flair.nii.gz',\n",
              "  'seg': 'LGG/Brats18_TCIA10_241_1/Brats18_TCIA10_241_1_seg.nii.gz',\n",
              "  't1': 'LGG/Brats18_TCIA10_241_1/Brats18_TCIA10_241_1_t1.nii.gz',\n",
              "  't1ce': 'LGG/Brats18_TCIA10_241_1/Brats18_TCIA10_241_1_t1ce.nii.gz',\n",
              "  't2': 'LGG/Brats18_TCIA10_241_1/Brats18_TCIA10_241_1_t2.nii.gz'},\n",
              " {'flair': 'LGG/Brats18_TCIA10_413_1/Brats18_TCIA10_413_1_flair.nii.gz',\n",
              "  'seg': 'LGG/Brats18_TCIA10_413_1/Brats18_TCIA10_413_1_seg.nii.gz',\n",
              "  't1': 'LGG/Brats18_TCIA10_413_1/Brats18_TCIA10_413_1_t1.nii.gz',\n",
              "  't1ce': 'LGG/Brats18_TCIA10_413_1/Brats18_TCIA10_413_1_t1ce.nii.gz',\n",
              "  't2': 'LGG/Brats18_TCIA10_413_1/Brats18_TCIA10_413_1_t2.nii.gz'},\n",
              " {'flair': 'LGG/Brats18_TCIA10_152_1/Brats18_TCIA10_152_1_flair.nii.gz',\n",
              "  'seg': 'LGG/Brats18_TCIA10_152_1/Brats18_TCIA10_152_1_seg.nii.gz',\n",
              "  't1': 'LGG/Brats18_TCIA10_152_1/Brats18_TCIA10_152_1_t1.nii.gz',\n",
              "  't1ce': 'LGG/Brats18_TCIA10_152_1/Brats18_TCIA10_152_1_t1ce.nii.gz',\n",
              "  't2': 'LGG/Brats18_TCIA10_152_1/Brats18_TCIA10_152_1_t2.nii.gz'},\n",
              " {'flair': 'LGG/Brats18_TCIA10_420_1/Brats18_TCIA10_420_1_flair.nii.gz',\n",
              "  'seg': 'LGG/Brats18_TCIA10_420_1/Brats18_TCIA10_420_1_seg.nii.gz',\n",
              "  't1': 'LGG/Brats18_TCIA10_420_1/Brats18_TCIA10_420_1_t1.nii.gz',\n",
              "  't1ce': 'LGG/Brats18_TCIA10_420_1/Brats18_TCIA10_420_1_t1ce.nii.gz',\n",
              "  't2': 'LGG/Brats18_TCIA10_420_1/Brats18_TCIA10_420_1_t2.nii.gz'},\n",
              " {'flair': 'LGG/Brats18_TCIA09_141_1/Brats18_TCIA09_141_1_flair.nii.gz',\n",
              "  'seg': 'LGG/Brats18_TCIA09_141_1/Brats18_TCIA09_141_1_seg.nii.gz',\n",
              "  't1': 'LGG/Brats18_TCIA09_141_1/Brats18_TCIA09_141_1_t1.nii.gz',\n",
              "  't1ce': 'LGG/Brats18_TCIA09_141_1/Brats18_TCIA09_141_1_t1ce.nii.gz',\n",
              "  't2': 'LGG/Brats18_TCIA09_141_1/Brats18_TCIA09_141_1_t2.nii.gz'},\n",
              " {'flair': 'LGG/Brats18_TCIA10_346_1/Brats18_TCIA10_346_1_flair.nii.gz',\n",
              "  'seg': 'LGG/Brats18_TCIA10_346_1/Brats18_TCIA10_346_1_seg.nii.gz',\n",
              "  't1': 'LGG/Brats18_TCIA10_346_1/Brats18_TCIA10_346_1_t1.nii.gz',\n",
              "  't1ce': 'LGG/Brats18_TCIA10_346_1/Brats18_TCIA10_346_1_t1ce.nii.gz',\n",
              "  't2': 'LGG/Brats18_TCIA10_346_1/Brats18_TCIA10_346_1_t2.nii.gz'},\n",
              " {'flair': 'LGG/Brats18_TCIA10_449_1/Brats18_TCIA10_449_1_flair.nii.gz',\n",
              "  'seg': 'LGG/Brats18_TCIA10_449_1/Brats18_TCIA10_449_1_seg.nii.gz',\n",
              "  't1': 'LGG/Brats18_TCIA10_449_1/Brats18_TCIA10_449_1_t1.nii.gz',\n",
              "  't1ce': 'LGG/Brats18_TCIA10_449_1/Brats18_TCIA10_449_1_t1ce.nii.gz',\n",
              "  't2': 'LGG/Brats18_TCIA10_449_1/Brats18_TCIA10_449_1_t2.nii.gz'},\n",
              " {'flair': 'LGG/Brats18_2013_16_1/Brats18_2013_16_1_flair.nii.gz',\n",
              "  'seg': 'LGG/Brats18_2013_16_1/Brats18_2013_16_1_seg.nii.gz',\n",
              "  't1': 'LGG/Brats18_2013_16_1/Brats18_2013_16_1_t1.nii.gz',\n",
              "  't1ce': 'LGG/Brats18_2013_16_1/Brats18_2013_16_1_t1ce.nii.gz',\n",
              "  't2': 'LGG/Brats18_2013_16_1/Brats18_2013_16_1_t2.nii.gz'},\n",
              " {'flair': 'LGG/Brats18_TCIA10_640_1/Brats18_TCIA10_640_1_flair.nii.gz',\n",
              "  'seg': 'LGG/Brats18_TCIA10_640_1/Brats18_TCIA10_640_1_seg.nii.gz',\n",
              "  't1': 'LGG/Brats18_TCIA10_640_1/Brats18_TCIA10_640_1_t1.nii.gz',\n",
              "  't1ce': 'LGG/Brats18_TCIA10_640_1/Brats18_TCIA10_640_1_t1ce.nii.gz',\n",
              "  't2': 'LGG/Brats18_TCIA10_640_1/Brats18_TCIA10_640_1_t2.nii.gz'},\n",
              " {'flair': 'LGG/Brats18_TCIA13_618_1/Brats18_TCIA13_618_1_flair.nii.gz',\n",
              "  'seg': 'LGG/Brats18_TCIA13_618_1/Brats18_TCIA13_618_1_seg.nii.gz',\n",
              "  't1': 'LGG/Brats18_TCIA13_618_1/Brats18_TCIA13_618_1_t1.nii.gz',\n",
              "  't1ce': 'LGG/Brats18_TCIA13_618_1/Brats18_TCIA13_618_1_t1ce.nii.gz',\n",
              "  't2': 'LGG/Brats18_TCIA13_618_1/Brats18_TCIA13_618_1_t2.nii.gz'},\n",
              " {'flair': 'LGG/Brats18_TCIA10_130_1/Brats18_TCIA10_130_1_flair.nii.gz',\n",
              "  'seg': 'LGG/Brats18_TCIA10_130_1/Brats18_TCIA10_130_1_seg.nii.gz',\n",
              "  't1': 'LGG/Brats18_TCIA10_130_1/Brats18_TCIA10_130_1_t1.nii.gz',\n",
              "  't1ce': 'LGG/Brats18_TCIA10_130_1/Brats18_TCIA10_130_1_t1ce.nii.gz',\n",
              "  't2': 'LGG/Brats18_TCIA10_130_1/Brats18_TCIA10_130_1_t2.nii.gz'},\n",
              " {'flair': 'LGG/Brats18_TCIA13_650_1/Brats18_TCIA13_650_1_flair.nii.gz',\n",
              "  'seg': 'LGG/Brats18_TCIA13_650_1/Brats18_TCIA13_650_1_seg.nii.gz',\n",
              "  't1': 'LGG/Brats18_TCIA13_650_1/Brats18_TCIA13_650_1_t1.nii.gz',\n",
              "  't1ce': 'LGG/Brats18_TCIA13_650_1/Brats18_TCIA13_650_1_t1ce.nii.gz',\n",
              "  't2': 'LGG/Brats18_TCIA13_650_1/Brats18_TCIA13_650_1_t2.nii.gz'},\n",
              " {'flair': 'LGG/Brats18_TCIA10_109_1/Brats18_TCIA10_109_1_flair.nii.gz',\n",
              "  'seg': 'LGG/Brats18_TCIA10_109_1/Brats18_TCIA10_109_1_seg.nii.gz',\n",
              "  't1': 'LGG/Brats18_TCIA10_109_1/Brats18_TCIA10_109_1_t1.nii.gz',\n",
              "  't1ce': 'LGG/Brats18_TCIA10_109_1/Brats18_TCIA10_109_1_t1ce.nii.gz',\n",
              "  't2': 'LGG/Brats18_TCIA10_109_1/Brats18_TCIA10_109_1_t2.nii.gz'},\n",
              " {'flair': 'LGG/Brats18_TCIA10_632_1/Brats18_TCIA10_632_1_flair.nii.gz',\n",
              "  'seg': 'LGG/Brats18_TCIA10_632_1/Brats18_TCIA10_632_1_seg.nii.gz',\n",
              "  't1': 'LGG/Brats18_TCIA10_632_1/Brats18_TCIA10_632_1_t1.nii.gz',\n",
              "  't1ce': 'LGG/Brats18_TCIA10_632_1/Brats18_TCIA10_632_1_t1ce.nii.gz',\n",
              "  't2': 'LGG/Brats18_TCIA10_632_1/Brats18_TCIA10_632_1_t2.nii.gz'},\n",
              " {'flair': 'LGG/Brats18_TCIA13_634_1/Brats18_TCIA13_634_1_flair.nii.gz',\n",
              "  'seg': 'LGG/Brats18_TCIA13_634_1/Brats18_TCIA13_634_1_seg.nii.gz',\n",
              "  't1': 'LGG/Brats18_TCIA13_634_1/Brats18_TCIA13_634_1_t1.nii.gz',\n",
              "  't1ce': 'LGG/Brats18_TCIA13_634_1/Brats18_TCIA13_634_1_t1ce.nii.gz',\n",
              "  't2': 'LGG/Brats18_TCIA13_634_1/Brats18_TCIA13_634_1_t2.nii.gz'},\n",
              " {'flair': 'LGG/Brats18_TCIA13_645_1/Brats18_TCIA13_645_1_flair.nii.gz',\n",
              "  'seg': 'LGG/Brats18_TCIA13_645_1/Brats18_TCIA13_645_1_seg.nii.gz',\n",
              "  't1': 'LGG/Brats18_TCIA13_645_1/Brats18_TCIA13_645_1_t1.nii.gz',\n",
              "  't1ce': 'LGG/Brats18_TCIA13_645_1/Brats18_TCIA13_645_1_t1ce.nii.gz',\n",
              "  't2': 'LGG/Brats18_TCIA13_645_1/Brats18_TCIA13_645_1_t2.nii.gz'},\n",
              " {'flair': 'LGG/Brats18_TCIA10_490_1/Brats18_TCIA10_490_1_flair.nii.gz',\n",
              "  'seg': 'LGG/Brats18_TCIA10_490_1/Brats18_TCIA10_490_1_seg.nii.gz',\n",
              "  't1': 'LGG/Brats18_TCIA10_490_1/Brats18_TCIA10_490_1_t1.nii.gz',\n",
              "  't1ce': 'LGG/Brats18_TCIA10_490_1/Brats18_TCIA10_490_1_t1ce.nii.gz',\n",
              "  't2': 'LGG/Brats18_TCIA10_490_1/Brats18_TCIA10_490_1_t2.nii.gz'},\n",
              " {'flair': 'LGG/Brats18_TCIA12_298_1/Brats18_TCIA12_298_1_flair.nii.gz',\n",
              "  'seg': 'LGG/Brats18_TCIA12_298_1/Brats18_TCIA12_298_1_seg.nii.gz',\n",
              "  't1': 'LGG/Brats18_TCIA12_298_1/Brats18_TCIA12_298_1_t1.nii.gz',\n",
              "  't1ce': 'LGG/Brats18_TCIA12_298_1/Brats18_TCIA12_298_1_t1ce.nii.gz',\n",
              "  't2': 'LGG/Brats18_TCIA12_298_1/Brats18_TCIA12_298_1_t2.nii.gz'},\n",
              " {'flair': 'LGG/Brats18_TCIA13_633_1/Brats18_TCIA13_633_1_flair.nii.gz',\n",
              "  'seg': 'LGG/Brats18_TCIA13_633_1/Brats18_TCIA13_633_1_seg.nii.gz',\n",
              "  't1': 'LGG/Brats18_TCIA13_633_1/Brats18_TCIA13_633_1_t1.nii.gz',\n",
              "  't1ce': 'LGG/Brats18_TCIA13_633_1/Brats18_TCIA13_633_1_t1ce.nii.gz',\n",
              "  't2': 'LGG/Brats18_TCIA13_633_1/Brats18_TCIA13_633_1_t2.nii.gz'},\n",
              " {'flair': 'LGG/Brats18_TCIA12_101_1/Brats18_TCIA12_101_1_flair.nii.gz',\n",
              "  'seg': 'LGG/Brats18_TCIA12_101_1/Brats18_TCIA12_101_1_seg.nii.gz',\n",
              "  't1': 'LGG/Brats18_TCIA12_101_1/Brats18_TCIA12_101_1_t1.nii.gz',\n",
              "  't1ce': 'LGG/Brats18_TCIA12_101_1/Brats18_TCIA12_101_1_t1ce.nii.gz',\n",
              "  't2': 'LGG/Brats18_TCIA12_101_1/Brats18_TCIA12_101_1_t2.nii.gz'},\n",
              " {'flair': 'LGG/Brats18_TCIA09_255_1/Brats18_TCIA09_255_1_flair.nii.gz',\n",
              "  'seg': 'LGG/Brats18_TCIA09_255_1/Brats18_TCIA09_255_1_seg.nii.gz',\n",
              "  't1': 'LGG/Brats18_TCIA09_255_1/Brats18_TCIA09_255_1_t1.nii.gz',\n",
              "  't1ce': 'LGG/Brats18_TCIA09_255_1/Brats18_TCIA09_255_1_t1ce.nii.gz',\n",
              "  't2': 'LGG/Brats18_TCIA09_255_1/Brats18_TCIA09_255_1_t2.nii.gz'},\n",
              " {'flair': 'LGG/Brats18_TCIA10_175_1/Brats18_TCIA10_175_1_flair.nii.gz',\n",
              "  'seg': 'LGG/Brats18_TCIA10_175_1/Brats18_TCIA10_175_1_seg.nii.gz',\n",
              "  't1': 'LGG/Brats18_TCIA10_175_1/Brats18_TCIA10_175_1_t1.nii.gz',\n",
              "  't1ce': 'LGG/Brats18_TCIA10_175_1/Brats18_TCIA10_175_1_t1ce.nii.gz',\n",
              "  't2': 'LGG/Brats18_TCIA10_175_1/Brats18_TCIA10_175_1_t2.nii.gz'},\n",
              " {'flair': 'LGG/Brats18_TCIA10_393_1/Brats18_TCIA10_393_1_flair.nii.gz',\n",
              "  'seg': 'LGG/Brats18_TCIA10_393_1/Brats18_TCIA10_393_1_seg.nii.gz',\n",
              "  't1': 'LGG/Brats18_TCIA10_393_1/Brats18_TCIA10_393_1_t1.nii.gz',\n",
              "  't1ce': 'LGG/Brats18_TCIA10_393_1/Brats18_TCIA10_393_1_t1ce.nii.gz',\n",
              "  't2': 'LGG/Brats18_TCIA10_393_1/Brats18_TCIA10_393_1_t2.nii.gz'},\n",
              " {'flair': 'LGG/Brats18_2013_15_1/Brats18_2013_15_1_flair.nii.gz',\n",
              "  'seg': 'LGG/Brats18_2013_15_1/Brats18_2013_15_1_seg.nii.gz',\n",
              "  't1': 'LGG/Brats18_2013_15_1/Brats18_2013_15_1_t1.nii.gz',\n",
              "  't1ce': 'LGG/Brats18_2013_15_1/Brats18_2013_15_1_t1ce.nii.gz',\n",
              "  't2': 'LGG/Brats18_2013_15_1/Brats18_2013_15_1_t2.nii.gz'},\n",
              " {'flair': 'LGG/Brats18_TCIA09_254_1/Brats18_TCIA09_254_1_flair.nii.gz',\n",
              "  'seg': 'LGG/Brats18_TCIA09_254_1/Brats18_TCIA09_254_1_seg.nii.gz',\n",
              "  't1': 'LGG/Brats18_TCIA09_254_1/Brats18_TCIA09_254_1_t1.nii.gz',\n",
              "  't1ce': 'LGG/Brats18_TCIA09_254_1/Brats18_TCIA09_254_1_t1ce.nii.gz',\n",
              "  't2': 'LGG/Brats18_TCIA09_254_1/Brats18_TCIA09_254_1_t2.nii.gz'},\n",
              " {'flair': 'LGG/Brats18_TCIA10_637_1/Brats18_TCIA10_637_1_flair.nii.gz',\n",
              "  'seg': 'LGG/Brats18_TCIA10_637_1/Brats18_TCIA10_637_1_seg.nii.gz',\n",
              "  't1': 'LGG/Brats18_TCIA10_637_1/Brats18_TCIA10_637_1_t1.nii.gz',\n",
              "  't1ce': 'LGG/Brats18_TCIA10_637_1/Brats18_TCIA10_637_1_t1ce.nii.gz',\n",
              "  't2': 'LGG/Brats18_TCIA10_637_1/Brats18_TCIA10_637_1_t2.nii.gz'},\n",
              " {'flair': 'LGG/Brats18_TCIA13_621_1/Brats18_TCIA13_621_1_flair.nii.gz',\n",
              "  'seg': 'LGG/Brats18_TCIA13_621_1/Brats18_TCIA13_621_1_seg.nii.gz',\n",
              "  't1': 'LGG/Brats18_TCIA13_621_1/Brats18_TCIA13_621_1_t1.nii.gz',\n",
              "  't1ce': 'LGG/Brats18_TCIA13_621_1/Brats18_TCIA13_621_1_t1ce.nii.gz',\n",
              "  't2': 'LGG/Brats18_TCIA13_621_1/Brats18_TCIA13_621_1_t2.nii.gz'},\n",
              " {'flair': 'LGG/Brats18_TCIA13_623_1/Brats18_TCIA13_623_1_flair.nii.gz',\n",
              "  'seg': 'LGG/Brats18_TCIA13_623_1/Brats18_TCIA13_623_1_seg.nii.gz',\n",
              "  't1': 'LGG/Brats18_TCIA13_623_1/Brats18_TCIA13_623_1_t1.nii.gz',\n",
              "  't1ce': 'LGG/Brats18_TCIA13_623_1/Brats18_TCIA13_623_1_t1ce.nii.gz',\n",
              "  't2': 'LGG/Brats18_TCIA13_623_1/Brats18_TCIA13_623_1_t2.nii.gz'},\n",
              " {'flair': 'LGG/Brats18_2013_29_1/Brats18_2013_29_1_flair.nii.gz',\n",
              "  'seg': 'LGG/Brats18_2013_29_1/Brats18_2013_29_1_seg.nii.gz',\n",
              "  't1': 'LGG/Brats18_2013_29_1/Brats18_2013_29_1_t1.nii.gz',\n",
              "  't1ce': 'LGG/Brats18_2013_29_1/Brats18_2013_29_1_t1ce.nii.gz',\n",
              "  't2': 'LGG/Brats18_2013_29_1/Brats18_2013_29_1_t2.nii.gz'},\n",
              " {'flair': 'LGG/Brats18_TCIA10_629_1/Brats18_TCIA10_629_1_flair.nii.gz',\n",
              "  'seg': 'LGG/Brats18_TCIA10_629_1/Brats18_TCIA10_629_1_seg.nii.gz',\n",
              "  't1': 'LGG/Brats18_TCIA10_629_1/Brats18_TCIA10_629_1_t1.nii.gz',\n",
              "  't1ce': 'LGG/Brats18_TCIA10_629_1/Brats18_TCIA10_629_1_t1ce.nii.gz',\n",
              "  't2': 'LGG/Brats18_TCIA10_629_1/Brats18_TCIA10_629_1_t2.nii.gz'},\n",
              " {'flair': 'LGG/Brats18_TCIA10_330_1/Brats18_TCIA10_330_1_flair.nii.gz',\n",
              "  'seg': 'LGG/Brats18_TCIA10_330_1/Brats18_TCIA10_330_1_seg.nii.gz',\n",
              "  't1': 'LGG/Brats18_TCIA10_330_1/Brats18_TCIA10_330_1_t1.nii.gz',\n",
              "  't1ce': 'LGG/Brats18_TCIA10_330_1/Brats18_TCIA10_330_1_t1ce.nii.gz',\n",
              "  't2': 'LGG/Brats18_TCIA10_330_1/Brats18_TCIA10_330_1_t2.nii.gz'},\n",
              " {'flair': 'LGG/Brats18_2013_24_1/Brats18_2013_24_1_flair.nii.gz',\n",
              "  'seg': 'LGG/Brats18_2013_24_1/Brats18_2013_24_1_seg.nii.gz',\n",
              "  't1': 'LGG/Brats18_2013_24_1/Brats18_2013_24_1_t1.nii.gz',\n",
              "  't1ce': 'LGG/Brats18_2013_24_1/Brats18_2013_24_1_t1ce.nii.gz',\n",
              "  't2': 'LGG/Brats18_2013_24_1/Brats18_2013_24_1_t2.nii.gz'},\n",
              " {'flair': 'LGG/Brats18_TCIA10_299_1/Brats18_TCIA10_299_1_flair.nii.gz',\n",
              "  'seg': 'LGG/Brats18_TCIA10_299_1/Brats18_TCIA10_299_1_seg.nii.gz',\n",
              "  't1': 'LGG/Brats18_TCIA10_299_1/Brats18_TCIA10_299_1_t1.nii.gz',\n",
              "  't1ce': 'LGG/Brats18_TCIA10_299_1/Brats18_TCIA10_299_1_t1ce.nii.gz',\n",
              "  't2': 'LGG/Brats18_TCIA10_299_1/Brats18_TCIA10_299_1_t2.nii.gz'},\n",
              " {'flair': 'LGG/Brats18_TCIA10_625_1/Brats18_TCIA10_625_1_flair.nii.gz',\n",
              "  'seg': 'LGG/Brats18_TCIA10_625_1/Brats18_TCIA10_625_1_seg.nii.gz',\n",
              "  't1': 'LGG/Brats18_TCIA10_625_1/Brats18_TCIA10_625_1_t1.nii.gz',\n",
              "  't1ce': 'LGG/Brats18_TCIA10_625_1/Brats18_TCIA10_625_1_t1ce.nii.gz',\n",
              "  't2': 'LGG/Brats18_TCIA10_625_1/Brats18_TCIA10_625_1_t2.nii.gz'},\n",
              " {'flair': 'LGG/Brats18_2013_28_1/Brats18_2013_28_1_flair.nii.gz',\n",
              "  'seg': 'LGG/Brats18_2013_28_1/Brats18_2013_28_1_seg.nii.gz',\n",
              "  't1': 'LGG/Brats18_2013_28_1/Brats18_2013_28_1_t1.nii.gz',\n",
              "  't1ce': 'LGG/Brats18_2013_28_1/Brats18_2013_28_1_t1ce.nii.gz',\n",
              "  't2': 'LGG/Brats18_2013_28_1/Brats18_2013_28_1_t2.nii.gz'},\n",
              " {'flair': 'LGG/Brats18_TCIA10_307_1/Brats18_TCIA10_307_1_flair.nii.gz',\n",
              "  'seg': 'LGG/Brats18_TCIA10_307_1/Brats18_TCIA10_307_1_seg.nii.gz',\n",
              "  't1': 'LGG/Brats18_TCIA10_307_1/Brats18_TCIA10_307_1_t1.nii.gz',\n",
              "  't1ce': 'LGG/Brats18_TCIA10_307_1/Brats18_TCIA10_307_1_t1ce.nii.gz',\n",
              "  't2': 'LGG/Brats18_TCIA10_307_1/Brats18_TCIA10_307_1_t2.nii.gz'},\n",
              " {'flair': 'LGG/Brats18_2013_6_1/Brats18_2013_6_1_flair.nii.gz',\n",
              "  'seg': 'LGG/Brats18_2013_6_1/Brats18_2013_6_1_seg.nii.gz',\n",
              "  't1': 'LGG/Brats18_2013_6_1/Brats18_2013_6_1_t1.nii.gz',\n",
              "  't1ce': 'LGG/Brats18_2013_6_1/Brats18_2013_6_1_t1ce.nii.gz',\n",
              "  't2': 'LGG/Brats18_2013_6_1/Brats18_2013_6_1_t2.nii.gz'},\n",
              " {'flair': 'LGG/Brats18_TCIA10_351_1/Brats18_TCIA10_351_1_flair.nii.gz',\n",
              "  'seg': 'LGG/Brats18_TCIA10_351_1/Brats18_TCIA10_351_1_seg.nii.gz',\n",
              "  't1': 'LGG/Brats18_TCIA10_351_1/Brats18_TCIA10_351_1_t1.nii.gz',\n",
              "  't1ce': 'LGG/Brats18_TCIA10_351_1/Brats18_TCIA10_351_1_t1ce.nii.gz',\n",
              "  't2': 'LGG/Brats18_TCIA10_351_1/Brats18_TCIA10_351_1_t2.nii.gz'},\n",
              " {'flair': 'LGG/Brats18_TCIA12_470_1/Brats18_TCIA12_470_1_flair.nii.gz',\n",
              "  'seg': 'LGG/Brats18_TCIA12_470_1/Brats18_TCIA12_470_1_seg.nii.gz',\n",
              "  't1': 'LGG/Brats18_TCIA12_470_1/Brats18_TCIA12_470_1_t1.nii.gz',\n",
              "  't1ce': 'LGG/Brats18_TCIA12_470_1/Brats18_TCIA12_470_1_t1ce.nii.gz',\n",
              "  't2': 'LGG/Brats18_TCIA12_470_1/Brats18_TCIA12_470_1_t2.nii.gz'},\n",
              " {'flair': 'LGG/Brats18_TCIA13_642_1/Brats18_TCIA13_642_1_flair.nii.gz',\n",
              "  'seg': 'LGG/Brats18_TCIA13_642_1/Brats18_TCIA13_642_1_seg.nii.gz',\n",
              "  't1': 'LGG/Brats18_TCIA13_642_1/Brats18_TCIA13_642_1_t1.nii.gz',\n",
              "  't1ce': 'LGG/Brats18_TCIA13_642_1/Brats18_TCIA13_642_1_t1ce.nii.gz',\n",
              "  't2': 'LGG/Brats18_TCIA13_642_1/Brats18_TCIA13_642_1_t2.nii.gz'},\n",
              " {'flair': 'LGG/Brats18_TCIA12_249_1/Brats18_TCIA12_249_1_flair.nii.gz',\n",
              "  'seg': 'LGG/Brats18_TCIA12_249_1/Brats18_TCIA12_249_1_seg.nii.gz',\n",
              "  't1': 'LGG/Brats18_TCIA12_249_1/Brats18_TCIA12_249_1_t1.nii.gz',\n",
              "  't1ce': 'LGG/Brats18_TCIA12_249_1/Brats18_TCIA12_249_1_t1ce.nii.gz',\n",
              "  't2': 'LGG/Brats18_TCIA12_249_1/Brats18_TCIA12_249_1_t2.nii.gz'},\n",
              " {'flair': 'LGG/Brats18_TCIA13_654_1/Brats18_TCIA13_654_1_flair.nii.gz',\n",
              "  'seg': 'LGG/Brats18_TCIA13_654_1/Brats18_TCIA13_654_1_seg.nii.gz',\n",
              "  't1': 'LGG/Brats18_TCIA13_654_1/Brats18_TCIA13_654_1_t1.nii.gz',\n",
              "  't1ce': 'LGG/Brats18_TCIA13_654_1/Brats18_TCIA13_654_1_t1ce.nii.gz',\n",
              "  't2': 'LGG/Brats18_TCIA13_654_1/Brats18_TCIA13_654_1_t2.nii.gz'},\n",
              " {'flair': 'LGG/Brats18_TCIA12_480_1/Brats18_TCIA12_480_1_flair.nii.gz',\n",
              "  'seg': 'LGG/Brats18_TCIA12_480_1/Brats18_TCIA12_480_1_seg.nii.gz',\n",
              "  't1': 'LGG/Brats18_TCIA12_480_1/Brats18_TCIA12_480_1_t1.nii.gz',\n",
              "  't1ce': 'LGG/Brats18_TCIA12_480_1/Brats18_TCIA12_480_1_t1ce.nii.gz',\n",
              "  't2': 'LGG/Brats18_TCIA12_480_1/Brats18_TCIA12_480_1_t2.nii.gz'},\n",
              " {'flair': 'LGG/Brats18_TCIA09_177_1/Brats18_TCIA09_177_1_flair.nii.gz',\n",
              "  'seg': 'LGG/Brats18_TCIA09_177_1/Brats18_TCIA09_177_1_seg.nii.gz',\n",
              "  't1': 'LGG/Brats18_TCIA09_177_1/Brats18_TCIA09_177_1_t1.nii.gz',\n",
              "  't1ce': 'LGG/Brats18_TCIA09_177_1/Brats18_TCIA09_177_1_t1ce.nii.gz',\n",
              "  't2': 'LGG/Brats18_TCIA09_177_1/Brats18_TCIA09_177_1_t2.nii.gz'},\n",
              " {'flair': 'LGG/Brats18_TCIA10_325_1/Brats18_TCIA10_325_1_flair.nii.gz',\n",
              "  'seg': 'LGG/Brats18_TCIA10_325_1/Brats18_TCIA10_325_1_seg.nii.gz',\n",
              "  't1': 'LGG/Brats18_TCIA10_325_1/Brats18_TCIA10_325_1_t1.nii.gz',\n",
              "  't1ce': 'LGG/Brats18_TCIA10_325_1/Brats18_TCIA10_325_1_t1ce.nii.gz',\n",
              "  't2': 'LGG/Brats18_TCIA10_325_1/Brats18_TCIA10_325_1_t2.nii.gz'},\n",
              " {'flair': 'LGG/Brats18_TCIA12_466_1/Brats18_TCIA12_466_1_flair.nii.gz',\n",
              "  'seg': 'LGG/Brats18_TCIA12_466_1/Brats18_TCIA12_466_1_seg.nii.gz',\n",
              "  't1': 'LGG/Brats18_TCIA12_466_1/Brats18_TCIA12_466_1_t1.nii.gz',\n",
              "  't1ce': 'LGG/Brats18_TCIA12_466_1/Brats18_TCIA12_466_1_t1ce.nii.gz',\n",
              "  't2': 'LGG/Brats18_TCIA12_466_1/Brats18_TCIA12_466_1_t2.nii.gz'},\n",
              " {'flair': 'LGG/Brats18_TCIA09_620_1/Brats18_TCIA09_620_1_flair.nii.gz',\n",
              "  'seg': 'LGG/Brats18_TCIA09_620_1/Brats18_TCIA09_620_1_seg.nii.gz',\n",
              "  't1': 'LGG/Brats18_TCIA09_620_1/Brats18_TCIA09_620_1_t1.nii.gz',\n",
              "  't1ce': 'LGG/Brats18_TCIA09_620_1/Brats18_TCIA09_620_1_t1ce.nii.gz',\n",
              "  't2': 'LGG/Brats18_TCIA09_620_1/Brats18_TCIA09_620_1_t2.nii.gz'},\n",
              " {'flair': 'LGG/Brats18_TCIA10_628_1/Brats18_TCIA10_628_1_flair.nii.gz',\n",
              "  'seg': 'LGG/Brats18_TCIA10_628_1/Brats18_TCIA10_628_1_seg.nii.gz',\n",
              "  't1': 'LGG/Brats18_TCIA10_628_1/Brats18_TCIA10_628_1_t1.nii.gz',\n",
              "  't1ce': 'LGG/Brats18_TCIA10_628_1/Brats18_TCIA10_628_1_t1ce.nii.gz',\n",
              "  't2': 'LGG/Brats18_TCIA10_628_1/Brats18_TCIA10_628_1_t2.nii.gz'},\n",
              " {'flair': 'LGG/Brats18_TCIA10_408_1/Brats18_TCIA10_408_1_flair.nii.gz',\n",
              "  'seg': 'LGG/Brats18_TCIA10_408_1/Brats18_TCIA10_408_1_seg.nii.gz',\n",
              "  't1': 'LGG/Brats18_TCIA10_408_1/Brats18_TCIA10_408_1_t1.nii.gz',\n",
              "  't1ce': 'LGG/Brats18_TCIA10_408_1/Brats18_TCIA10_408_1_t1ce.nii.gz',\n",
              "  't2': 'LGG/Brats18_TCIA10_408_1/Brats18_TCIA10_408_1_t2.nii.gz'},\n",
              " {'flair': 'LGG/Brats18_TCIA10_103_1/Brats18_TCIA10_103_1_flair.nii.gz',\n",
              "  'seg': 'LGG/Brats18_TCIA10_103_1/Brats18_TCIA10_103_1_seg.nii.gz',\n",
              "  't1': 'LGG/Brats18_TCIA10_103_1/Brats18_TCIA10_103_1_t1.nii.gz',\n",
              "  't1ce': 'LGG/Brats18_TCIA10_103_1/Brats18_TCIA10_103_1_t1ce.nii.gz',\n",
              "  't2': 'LGG/Brats18_TCIA10_103_1/Brats18_TCIA10_103_1_t2.nii.gz'},\n",
              " {'flair': 'LGG/Brats18_TCIA10_387_1/Brats18_TCIA10_387_1_flair.nii.gz',\n",
              "  'seg': 'LGG/Brats18_TCIA10_387_1/Brats18_TCIA10_387_1_seg.nii.gz',\n",
              "  't1': 'LGG/Brats18_TCIA10_387_1/Brats18_TCIA10_387_1_t1.nii.gz',\n",
              "  't1ce': 'LGG/Brats18_TCIA10_387_1/Brats18_TCIA10_387_1_t1ce.nii.gz',\n",
              "  't2': 'LGG/Brats18_TCIA10_387_1/Brats18_TCIA10_387_1_t2.nii.gz'},\n",
              " {'flair': 'LGG/Brats18_TCIA10_276_1/Brats18_TCIA10_276_1_flair.nii.gz',\n",
              "  'seg': 'LGG/Brats18_TCIA10_276_1/Brats18_TCIA10_276_1_seg.nii.gz',\n",
              "  't1': 'LGG/Brats18_TCIA10_276_1/Brats18_TCIA10_276_1_t1.nii.gz',\n",
              "  't1ce': 'LGG/Brats18_TCIA10_276_1/Brats18_TCIA10_276_1_t1ce.nii.gz',\n",
              "  't2': 'LGG/Brats18_TCIA10_276_1/Brats18_TCIA10_276_1_t2.nii.gz'},\n",
              " {'flair': 'LGG/Brats18_TCIA10_442_1/Brats18_TCIA10_442_1_flair.nii.gz',\n",
              "  'seg': 'LGG/Brats18_TCIA10_442_1/Brats18_TCIA10_442_1_seg.nii.gz',\n",
              "  't1': 'LGG/Brats18_TCIA10_442_1/Brats18_TCIA10_442_1_t1.nii.gz',\n",
              "  't1ce': 'LGG/Brats18_TCIA10_442_1/Brats18_TCIA10_442_1_t1ce.nii.gz',\n",
              "  't2': 'LGG/Brats18_TCIA10_442_1/Brats18_TCIA10_442_1_t2.nii.gz'},\n",
              " {'flair': 'LGG/Brats18_TCIA10_310_1/Brats18_TCIA10_310_1_flair.nii.gz',\n",
              "  'seg': 'LGG/Brats18_TCIA10_310_1/Brats18_TCIA10_310_1_seg.nii.gz',\n",
              "  't1': 'LGG/Brats18_TCIA10_310_1/Brats18_TCIA10_310_1_t1.nii.gz',\n",
              "  't1ce': 'LGG/Brats18_TCIA10_310_1/Brats18_TCIA10_310_1_t1ce.nii.gz',\n",
              "  't2': 'LGG/Brats18_TCIA10_310_1/Brats18_TCIA10_310_1_t2.nii.gz'},\n",
              " {'flair': 'LGG/Brats18_TCIA09_462_1/Brats18_TCIA09_462_1_flair.nii.gz',\n",
              "  'seg': 'LGG/Brats18_TCIA09_462_1/Brats18_TCIA09_462_1_seg.nii.gz',\n",
              "  't1': 'LGG/Brats18_TCIA09_462_1/Brats18_TCIA09_462_1_t1.nii.gz',\n",
              "  't1ce': 'LGG/Brats18_TCIA09_462_1/Brats18_TCIA09_462_1_t1ce.nii.gz',\n",
              "  't2': 'LGG/Brats18_TCIA09_462_1/Brats18_TCIA09_462_1_t2.nii.gz'}]"
            ]
          },
          "metadata": {
            "tags": []
          },
          "execution_count": 33
        }
      ]
    },
    {
      "cell_type": "code",
      "metadata": {
        "id": "aQU0PWpZc58_",
        "colab": {
          "base_uri": "https://localhost:8080/",
          "height": 34
        },
        "outputId": "04a48824-0a05-45a7-eb84-49ce6a9e3500"
      },
      "source": [
        "len(data_paths)"
      ],
      "execution_count": null,
      "outputs": [
        {
          "output_type": "execute_result",
          "data": {
            "text/plain": [
              "285"
            ]
          },
          "metadata": {
            "tags": []
          },
          "execution_count": 34
        }
      ]
    },
    {
      "cell_type": "markdown",
      "metadata": {
        "id": "wHqqrbnH0n2E"
      },
      "source": [
        "## Load the data in a Numpy array\n",
        "Creating an empty Numpy array beforehand and then filling up the data helps you gauge beforehand if the data fits in your memory.\n",
        "\n"
      ]
    },
    {
      "cell_type": "markdown",
      "metadata": {
        "id": "tBgbr-R-7Zat"
      },
      "source": [
        "_Loading only the first 4 images here, to save time._"
      ]
    },
    {
      "cell_type": "code",
      "metadata": {
        "id": "nvbbddauz8ij"
      },
      "source": [
        "input_shape = (4, 80, 96, 64)\n",
        "output_channels = 3\n",
        "data = np.empty((len(data_paths),) + input_shape, dtype=np.float32)\n",
        "labels = np.empty((len(data_paths), output_channels) + input_shape[1:], dtype=np.uint8)"
      ],
      "execution_count": null,
      "outputs": []
    },
    {
      "cell_type": "code",
      "metadata": {
        "id": "G4u_yrMf30k4",
        "colab": {
          "base_uri": "https://localhost:8080/",
          "height": 34
        },
        "outputId": "2ec5ecda-929f-42dd-83ea-57e889bff1f6"
      },
      "source": [
        "import math\n",
        "\n",
        "# Parameters for the progress bar\n",
        "total = len(data_paths)\n",
        "step = 25 / total\n",
        "\n",
        "for i, imgs in enumerate(data_paths):\n",
        "    try:\n",
        "        data[i] = np.array([preprocess(read_img(imgs[m]), input_shape[1:]) for m in ['t1', 't2', 't1ce', 'flair']], dtype=np.float32)\n",
        "        labels[i] = preprocess_label(read_img(imgs['seg']), input_shape[1:])[None, ...]\n",
        "        \n",
        "        # Print the progress bar\n",
        "        print('\\r' + f'Progress: '\n",
        "            f\"[{'=' * int((i+1) * step) + ' ' * (24 - int((i+1) * step))}]\"\n",
        "            f\"({math.ceil((i+1) * 100 / (total))} %)\",\n",
        "            end='')\n",
        "    except Exception as e:\n",
        "        print(f'Something went wrong with {imgs[\"t1\"]}, skipping...\\n Exception:\\n{str(e)}')\n",
        "        continue"
      ],
      "execution_count": null,
      "outputs": [
        {
          "output_type": "stream",
          "text": [
            "Progress: [=========================](100 %)"
          ],
          "name": "stdout"
        }
      ]
    },
    {
      "cell_type": "code",
      "metadata": {
        "id": "tx1Qe0BgFPLB",
        "colab": {
          "base_uri": "https://localhost:8080/",
          "height": 34
        },
        "outputId": "d3536934-0fb0-4134-9b0e-76ffaf2e81a7"
      },
      "source": [
        "seg[4]"
      ],
      "execution_count": null,
      "outputs": [
        {
          "output_type": "execute_result",
          "data": {
            "text/plain": [
              "'HGG/Brats18_CBICA_AMH_1/Brats18_CBICA_AMH_1_seg.nii.gz'"
            ]
          },
          "metadata": {
            "tags": []
          },
          "execution_count": 19
        }
      ]
    },
    {
      "cell_type": "code",
      "metadata": {
        "id": "atMV_47CAMUl",
        "colab": {
          "base_uri": "https://localhost:8080/",
          "height": 337
        },
        "outputId": "05d4be9a-0308-43da-d7bf-edfffabbe083"
      },
      "source": [
        "import matplotlib.pyplot as plt\n",
        "img = (read_img(seg[4])[100] == 2).astype(np.uint8)\n",
        "#what is 100, why not 154, which is the lenght of read_img(seg[0])\n",
        "print(img.shape)\n",
        "print(np.unique(img))\n",
        "print(img.sum())\n",
        "img\n",
        "#plt.imsave(\"first.jpg\",\"/gdrive/My Drive\")\n",
        "plt.imshow(img)\n",
        "#cv2_imshow(img)"
      ],
      "execution_count": null,
      "outputs": [
        {
          "output_type": "stream",
          "text": [
            "(240, 240)\n",
            "[0 1]\n",
            "1551\n"
          ],
          "name": "stdout"
        },
        {
          "output_type": "execute_result",
          "data": {
            "text/plain": [
              "<matplotlib.image.AxesImage at 0x7f737be2a8d0>"
            ]
          },
          "metadata": {
            "tags": []
          },
          "execution_count": 20
        },
        {
          "output_type": "display_data",
          "data": {
            "image/png": "[encoded data removed]",
            "text/plain": [
              "<Figure size 432x288 with 1 Axes>"
            ]
          },
          "metadata": {
            "tags": []
          }
        }
      ]
    },
    {
      "cell_type": "markdown",
      "metadata": {
        "id": "Ojc7YgwC305t"
      },
      "source": [
        "## Model"
      ]
    },
    {
      "cell_type": "markdown",
      "metadata": {
        "id": "uR_SDmgn4Lrd"
      },
      "source": [
        "build the model"
      ]
    },
    {
      "cell_type": "code",
      "metadata": {
        "id": "vI53S6yZJN2V"
      },
      "source": [
        "model = build_model(input_shape=input_shape, output_channels=3)"
      ],
      "execution_count": null,
      "outputs": []
    },
    {
      "cell_type": "markdown",
      "metadata": {
        "id": "s1u107O74NOP"
      },
      "source": [
        "Train the model"
      ]
    },
    {
      "cell_type": "code",
      "metadata": {
        "id": "5JhlBCPr3xYX"
      },
      "source": [
        "# Define the Keras TensorBoard callback.\n",
        "logdir=\"logs/fit/\" + datetime.now().strftime(\"%Y%m%d-%H%M%S\")\n",
        "tensorboard_callback = keras.callbacks.TensorBoard(log_dir=logdir)"
      ],
      "execution_count": null,
      "outputs": []
    },
    {
      "cell_type": "code",
      "metadata": {
        "id": "b0y7NfU4JBgi",
        "colab": {
          "base_uri": "https://localhost:8080/",
          "height": 72
        },
        "outputId": "dcc0feba-12ae-49d0-ce43-a042f1951851"
      },
      "source": [
        "model.fit(data, labels, batch_size=1, epochs=1)"
      ],
      "execution_count": null,
      "outputs": [
        {
          "output_type": "stream",
          "text": [
            "Epoch 1/1\n",
            "285/285 [==============================] - 275s 965ms/step - loss: 0.2558 - dice_coefficient: 0.0053\n"
          ],
          "name": "stdout"
        },
        {
          "output_type": "execute_result",
          "data": {
            "text/plain": [
              "<keras.callbacks.History at 0x7ff0d98a6278>"
            ]
          },
          "metadata": {
            "tags": []
          },
          "execution_count": 40
        }
      ]
    },
    {
      "cell_type": "markdown",
      "metadata": {
        "id": "VlrqEF7m7ist"
      },
      "source": [
        "That's it!"
      ]
    },
    {
      "cell_type": "markdown",
      "metadata": {
        "id": "ZKerVpLQTRck"
      },
      "source": [
        "## Closing Regards"
      ]
    },
    {
      "cell_type": "markdown",
      "metadata": {
        "id": "bkSxJbRx4SsO"
      },
      "source": [
        "If you are resizing the segmentation mask, the resized segmentation mask retains the overall shape, but loses a lot of pixels and becomes somewhat 'grainy'. See the illustration below."
      ]
    },
    {
      "cell_type": "code",
      "metadata": {
        "id": "u3tNnC2Vuz09"
      },
      "source": [
        "from google.colab.patches import cv2_imshow\n",
        "from PIL import Image"
      ],
      "execution_count": null,
      "outputs": []
    },
    {
      "cell_type": "markdown",
      "metadata": {
        "id": "eAau6Z7hznFC"
      },
      "source": [
        "1. Original segmentation mask:"
      ]
    },
    {
      "cell_type": "code",
      "metadata": {
        "id": "CXRW65_hkL9n",
        "colab": {
          "base_uri": "https://localhost:8080/",
          "height": 337
        },
        "outputId": "f0e8042c-b849-4659-90e2-9fe687a4a528"
      },
      "source": [
        "import matplotlib.pyplot as plt\n",
        "img = (read_img(seg[4])[100] == 2).astype(np.uint8)\n",
        "#what is 100, why not 154, which is the lenght of read_img(seg[0])\n",
        "print(img.shape)\n",
        "print(np.unique(img))\n",
        "print(img.sum())\n",
        "img\n",
        "#plt.imsave(\"first.jpg\",\"/gdrive/My Drive\")\n",
        "plt.imshow(img, cmap='Greys_r')\n",
        "#cv2_imshow(img)"
      ],
      "execution_count": null,
      "outputs": [
        {
          "output_type": "stream",
          "text": [
            "(240, 240)\n",
            "[0 1]\n",
            "1551\n"
          ],
          "name": "stdout"
        },
        {
          "output_type": "execute_result",
          "data": {
            "text/plain": [
              "<matplotlib.image.AxesImage at 0x7faef73396a0>"
            ]
          },
          "metadata": {
            "tags": []
          },
          "execution_count": 18
        },
        {
          "output_type": "display_data",
          "data": {
            "image/png": "[encoded data removed]",
            "text/plain": [
              "<Figure size 432x288 with 1 Axes>"
            ]
          },
          "metadata": {
            "tags": []
          }
        }
      ]
    },
    {
      "cell_type": "code",
      "metadata": {
        "id": "FLYWeXAZLb5M",
        "colab": {
          "base_uri": "https://localhost:8080/",
          "height": 34
        },
        "outputId": "8f3bfee5-90ac-45a9-fa4d-d08d86b9e270"
      },
      "source": [
        "print(seg[0])"
      ],
      "execution_count": null,
      "outputs": [
        {
          "output_type": "stream",
          "text": [
            "HGG/Brats18_TCIA02_370_1/Brats18_TCIA02_370_1_seg.nii.gz\n"
          ],
          "name": "stdout"
        }
      ]
    },
    {
      "cell_type": "code",
      "metadata": {
        "id": "J8vfJ80eQNdR",
        "colab": {
          "base_uri": "https://localhost:8080/",
          "height": 1000
        },
        "outputId": "55162270-d9f1-480c-e178-2462b65bc739"
      },
      "source": [
        "seg"
      ],
      "execution_count": null,
      "outputs": [
        {
          "output_type": "execute_result",
          "data": {
            "text/plain": [
              "['LGG/Brats18_TCIA10_629_1/Brats18_TCIA10_629_1_seg.nii.gz',\n",
              " 'LGG/Brats18_TCIA10_442_1/Brats18_TCIA10_442_1_seg.nii.gz',\n",
              " 'LGG/Brats18_TCIA10_276_1/Brats18_TCIA10_276_1_seg.nii.gz',\n",
              " 'LGG/Brats18_TCIA10_632_1/Brats18_TCIA10_632_1_seg.nii.gz',\n",
              " 'LGG/Brats18_TCIA13_654_1/Brats18_TCIA13_654_1_seg.nii.gz',\n",
              " 'LGG/Brats18_TCIA09_312_1/Brats18_TCIA09_312_1_seg.nii.gz',\n",
              " 'LGG/Brats18_TCIA10_299_1/Brats18_TCIA10_299_1_seg.nii.gz',\n",
              " 'LGG/Brats18_2013_6_1/Brats18_2013_6_1_seg.nii.gz',\n",
              " 'LGG/Brats18_TCIA10_625_1/Brats18_TCIA10_625_1_seg.nii.gz',\n",
              " 'LGG/Brats18_TCIA10_202_1/Brats18_TCIA10_202_1_seg.nii.gz',\n",
              " 'LGG/Brats18_TCIA10_640_1/Brats18_TCIA10_640_1_seg.nii.gz',\n",
              " 'LGG/Brats18_TCIA10_413_1/Brats18_TCIA10_413_1_seg.nii.gz',\n",
              " 'LGG/Brats18_TCIA09_255_1/Brats18_TCIA09_255_1_seg.nii.gz',\n",
              " 'LGG/Brats18_TCIA13_615_1/Brats18_TCIA13_615_1_seg.nii.gz',\n",
              " 'LGG/Brats18_TCIA10_628_1/Brats18_TCIA10_628_1_seg.nii.gz',\n",
              " 'LGG/Brats18_TCIA09_177_1/Brats18_TCIA09_177_1_seg.nii.gz',\n",
              " 'LGG/Brats18_TCIA09_451_1/Brats18_TCIA09_451_1_seg.nii.gz',\n",
              " 'LGG/Brats18_TCIA09_254_1/Brats18_TCIA09_254_1_seg.nii.gz',\n",
              " 'LGG/Brats18_TCIA12_470_1/Brats18_TCIA12_470_1_seg.nii.gz',\n",
              " 'LGG/Brats18_2013_0_1/Brats18_2013_0_1_seg.nii.gz',\n",
              " 'LGG/Brats18_TCIA10_410_1/Brats18_TCIA10_410_1_seg.nii.gz',\n",
              " 'LGG/Brats18_TCIA13_621_1/Brats18_TCIA13_621_1_seg.nii.gz',\n",
              " 'LGG/Brats18_TCIA10_351_1/Brats18_TCIA10_351_1_seg.nii.gz',\n",
              " 'LGG/Brats18_TCIA10_637_1/Brats18_TCIA10_637_1_seg.nii.gz',\n",
              " 'LGG/Brats18_TCIA10_152_1/Brats18_TCIA10_152_1_seg.nii.gz',\n",
              " 'LGG/Brats18_TCIA13_653_1/Brats18_TCIA13_653_1_seg.nii.gz',\n",
              " 'LGG/Brats18_TCIA10_639_1/Brats18_TCIA10_639_1_seg.nii.gz',\n",
              " 'LGG/Brats18_TCIA09_462_1/Brats18_TCIA09_462_1_seg.nii.gz',\n",
              " 'LGG/Brats18_TCIA10_103_1/Brats18_TCIA10_103_1_seg.nii.gz',\n",
              " 'LGG/Brats18_2013_8_1/Brats18_2013_8_1_seg.nii.gz',\n",
              " 'LGG/Brats18_TCIA12_466_1/Brats18_TCIA12_466_1_seg.nii.gz',\n",
              " 'LGG/Brats18_TCIA10_175_1/Brats18_TCIA10_175_1_seg.nii.gz',\n",
              " 'LGG/Brats18_TCIA10_241_1/Brats18_TCIA10_241_1_seg.nii.gz',\n",
              " 'LGG/Brats18_TCIA13_630_1/Brats18_TCIA13_630_1_seg.nii.gz',\n",
              " 'LGG/Brats18_TCIA10_282_1/Brats18_TCIA10_282_1_seg.nii.gz',\n",
              " 'LGG/Brats18_TCIA10_644_1/Brats18_TCIA10_644_1_seg.nii.gz',\n",
              " 'LGG/Brats18_2013_1_1/Brats18_2013_1_1_seg.nii.gz',\n",
              " 'LGG/Brats18_TCIA12_101_1/Brats18_TCIA12_101_1_seg.nii.gz',\n",
              " 'LGG/Brats18_TCIA13_634_1/Brats18_TCIA13_634_1_seg.nii.gz',\n",
              " 'LGG/Brats18_TCIA10_449_1/Brats18_TCIA10_449_1_seg.nii.gz',\n",
              " 'LGG/Brats18_2013_15_1/Brats18_2013_15_1_seg.nii.gz',\n",
              " 'LGG/Brats18_TCIA10_310_1/Brats18_TCIA10_310_1_seg.nii.gz',\n",
              " 'LGG/Brats18_TCIA12_249_1/Brats18_TCIA12_249_1_seg.nii.gz',\n",
              " 'LGG/Brats18_TCIA10_109_1/Brats18_TCIA10_109_1_seg.nii.gz',\n",
              " 'LGG/Brats18_TCIA10_420_1/Brats18_TCIA10_420_1_seg.nii.gz',\n",
              " 'LGG/Brats18_TCIA10_325_1/Brats18_TCIA10_325_1_seg.nii.gz',\n",
              " 'LGG/Brats18_TCIA10_130_1/Brats18_TCIA10_130_1_seg.nii.gz',\n",
              " 'LGG/Brats18_TCIA10_307_1/Brats18_TCIA10_307_1_seg.nii.gz',\n",
              " 'LGG/Brats18_TCIA10_408_1/Brats18_TCIA10_408_1_seg.nii.gz',\n",
              " 'LGG/Brats18_2013_29_1/Brats18_2013_29_1_seg.nii.gz',\n",
              " 'LGG/Brats18_TCIA10_330_1/Brats18_TCIA10_330_1_seg.nii.gz',\n",
              " 'LGG/Brats18_TCIA09_141_1/Brats18_TCIA09_141_1_seg.nii.gz',\n",
              " 'LGG/Brats18_TCIA09_493_1/Brats18_TCIA09_493_1_seg.nii.gz',\n",
              " 'LGG/Brats18_TCIA09_620_1/Brats18_TCIA09_620_1_seg.nii.gz',\n",
              " 'LGG/Brats18_TCIA13_645_1/Brats18_TCIA13_645_1_seg.nii.gz',\n",
              " 'LGG/Brats18_TCIA12_298_1/Brats18_TCIA12_298_1_seg.nii.gz',\n",
              " 'LGG/Brats18_TCIA13_624_1/Brats18_TCIA13_624_1_seg.nii.gz',\n",
              " 'LGG/Brats18_2013_24_1/Brats18_2013_24_1_seg.nii.gz',\n",
              " 'LGG/Brats18_2013_9_1/Brats18_2013_9_1_seg.nii.gz',\n",
              " 'LGG/Brats18_TCIA09_428_1/Brats18_TCIA09_428_1_seg.nii.gz',\n",
              " 'LGG/Brats18_TCIA13_623_1/Brats18_TCIA13_623_1_seg.nii.gz',\n",
              " 'LGG/Brats18_TCIA13_650_1/Brats18_TCIA13_650_1_seg.nii.gz',\n",
              " 'LGG/Brats18_TCIA10_387_1/Brats18_TCIA10_387_1_seg.nii.gz',\n",
              " 'LGG/Brats18_TCIA09_402_1/Brats18_TCIA09_402_1_seg.nii.gz',\n",
              " 'LGG/Brats18_TCIA12_480_1/Brats18_TCIA12_480_1_seg.nii.gz',\n",
              " 'LGG/Brats18_TCIA13_642_1/Brats18_TCIA13_642_1_seg.nii.gz',\n",
              " 'LGG/Brats18_TCIA10_266_1/Brats18_TCIA10_266_1_seg.nii.gz',\n",
              " 'LGG/Brats18_TCIA10_346_1/Brats18_TCIA10_346_1_seg.nii.gz',\n",
              " 'LGG/Brats18_TCIA13_618_1/Brats18_TCIA13_618_1_seg.nii.gz',\n",
              " 'LGG/Brats18_2013_16_1/Brats18_2013_16_1_seg.nii.gz',\n",
              " 'LGG/Brats18_TCIA10_261_1/Brats18_TCIA10_261_1_seg.nii.gz',\n",
              " 'LGG/Brats18_TCIA13_633_1/Brats18_TCIA13_633_1_seg.nii.gz',\n",
              " 'LGG/Brats18_TCIA10_393_1/Brats18_TCIA10_393_1_seg.nii.gz',\n",
              " 'LGG/Brats18_2013_28_1/Brats18_2013_28_1_seg.nii.gz',\n",
              " 'LGG/Brats18_TCIA10_490_1/Brats18_TCIA10_490_1_seg.nii.gz',\n",
              " 'HGG/Brats18_TCIA01_150_1/Brats18_TCIA01_150_1_seg.nii.gz',\n",
              " 'HGG/Brats18_CBICA_AXQ_1/Brats18_CBICA_AXQ_1_seg.nii.gz',\n",
              " 'HGG/Brats18_TCIA03_199_1/Brats18_TCIA03_199_1_seg.nii.gz',\n",
              " 'HGG/Brats18_CBICA_ARF_1/Brats18_CBICA_ARF_1_seg.nii.gz',\n",
              " 'HGG/Brats18_TCIA06_603_1/Brats18_TCIA06_603_1_seg.nii.gz',\n",
              " 'HGG/Brats18_CBICA_ANP_1/Brats18_CBICA_ANP_1_seg.nii.gz',\n",
              " 'HGG/Brats18_TCIA01_411_1/Brats18_TCIA01_411_1_seg.nii.gz',\n",
              " 'HGG/Brats18_CBICA_AOZ_1/Brats18_CBICA_AOZ_1_seg.nii.gz',\n",
              " 'HGG/Brats18_TCIA02_473_1/Brats18_TCIA02_473_1_seg.nii.gz',\n",
              " 'HGG/Brats18_2013_23_1/Brats18_2013_23_1_seg.nii.gz',\n",
              " 'HGG/Brats18_CBICA_AQO_1/Brats18_CBICA_AQO_1_seg.nii.gz',\n",
              " 'HGG/Brats18_CBICA_AQT_1/Brats18_CBICA_AQT_1_seg.nii.gz',\n",
              " 'HGG/Brats18_TCIA02_471_1/Brats18_TCIA02_471_1_seg.nii.gz',\n",
              " 'HGG/Brats18_TCIA01_235_1/Brats18_TCIA01_235_1_seg.nii.gz',\n",
              " 'HGG/Brats18_CBICA_ASE_1/Brats18_CBICA_ASE_1_seg.nii.gz',\n",
              " 'HGG/Brats18_CBICA_ABB_1/Brats18_CBICA_ABB_1_seg.nii.gz',\n",
              " 'HGG/Brats18_TCIA02_309_1/Brats18_TCIA02_309_1_seg.nii.gz',\n",
              " 'HGG/Brats18_TCIA03_257_1/Brats18_TCIA03_257_1_seg.nii.gz',\n",
              " 'HGG/Brats18_CBICA_AXM_1/Brats18_CBICA_AXM_1_seg.nii.gz',\n",
              " 'HGG/Brats18_CBICA_ABO_1/Brats18_CBICA_ABO_1_seg.nii.gz',\n",
              " 'HGG/Brats18_TCIA08_278_1/Brats18_TCIA08_278_1_seg.nii.gz',\n",
              " 'HGG/Brats18_TCIA03_498_1/Brats18_TCIA03_498_1_seg.nii.gz',\n",
              " 'HGG/Brats18_CBICA_APZ_1/Brats18_CBICA_APZ_1_seg.nii.gz',\n",
              " 'HGG/Brats18_TCIA06_409_1/Brats18_TCIA06_409_1_seg.nii.gz',\n",
              " 'HGG/Brats18_CBICA_AWH_1/Brats18_CBICA_AWH_1_seg.nii.gz',\n",
              " 'HGG/Brats18_TCIA08_469_1/Brats18_TCIA08_469_1_seg.nii.gz',\n",
              " 'HGG/Brats18_TCIA05_478_1/Brats18_TCIA05_478_1_seg.nii.gz',\n",
              " 'HGG/Brats18_2013_14_1/Brats18_2013_14_1_seg.nii.gz',\n",
              " 'HGG/Brats18_TCIA02_226_1/Brats18_TCIA02_226_1_seg.nii.gz',\n",
              " 'HGG/Brats18_CBICA_AQQ_1/Brats18_CBICA_AQQ_1_seg.nii.gz',\n",
              " 'HGG/Brats18_CBICA_AUN_1/Brats18_CBICA_AUN_1_seg.nii.gz',\n",
              " 'HGG/Brats18_TCIA02_377_1/Brats18_TCIA02_377_1_seg.nii.gz',\n",
              " 'HGG/Brats18_CBICA_APY_1/Brats18_CBICA_APY_1_seg.nii.gz',\n",
              " 'HGG/Brats18_CBICA_ATD_1/Brats18_CBICA_ATD_1_seg.nii.gz',\n",
              " 'HGG/Brats18_CBICA_ANZ_1/Brats18_CBICA_ANZ_1_seg.nii.gz',\n",
              " 'HGG/Brats18_TCIA04_328_1/Brats18_TCIA04_328_1_seg.nii.gz',\n",
              " 'HGG/Brats18_CBICA_AQA_1/Brats18_CBICA_AQA_1_seg.nii.gz',\n",
              " 'HGG/Brats18_TCIA05_396_1/Brats18_TCIA05_396_1_seg.nii.gz',\n",
              " 'HGG/Brats18_TCIA06_247_1/Brats18_TCIA06_247_1_seg.nii.gz',\n",
              " 'HGG/Brats18_TCIA08_167_1/Brats18_TCIA08_167_1_seg.nii.gz',\n",
              " 'HGG/Brats18_2013_10_1/Brats18_2013_10_1_seg.nii.gz',\n",
              " 'HGG/Brats18_TCIA08_242_1/Brats18_TCIA08_242_1_seg.nii.gz',\n",
              " 'HGG/Brats18_CBICA_AVJ_1/Brats18_CBICA_AVJ_1_seg.nii.gz',\n",
              " 'HGG/Brats18_TCIA02_370_1/Brats18_TCIA02_370_1_seg.nii.gz',\n",
              " 'HGG/Brats18_TCIA01_131_1/Brats18_TCIA01_131_1_seg.nii.gz',\n",
              " 'HGG/Brats18_TCIA02_222_1/Brats18_TCIA02_222_1_seg.nii.gz',\n",
              " 'HGG/Brats18_TCIA08_205_1/Brats18_TCIA08_205_1_seg.nii.gz',\n",
              " 'HGG/Brats18_TCIA02_179_1/Brats18_TCIA02_179_1_seg.nii.gz',\n",
              " 'HGG/Brats18_CBICA_AQU_1/Brats18_CBICA_AQU_1_seg.nii.gz',\n",
              " 'HGG/Brats18_2013_25_1/Brats18_2013_25_1_seg.nii.gz',\n",
              " 'HGG/Brats18_TCIA06_372_1/Brats18_TCIA06_372_1_seg.nii.gz',\n",
              " 'HGG/Brats18_CBICA_AAL_1/Brats18_CBICA_AAL_1_seg.nii.gz',\n",
              " 'HGG/Brats18_CBICA_AXO_1/Brats18_CBICA_AXO_1_seg.nii.gz',\n",
              " 'HGG/Brats18_TCIA02_607_1/Brats18_TCIA02_607_1_seg.nii.gz',\n",
              " 'HGG/Brats18_TCIA01_203_1/Brats18_TCIA01_203_1_seg.nii.gz',\n",
              " 'HGG/Brats18_TCIA03_474_1/Brats18_TCIA03_474_1_seg.nii.gz',\n",
              " 'HGG/Brats18_2013_21_1/Brats18_2013_21_1_seg.nii.gz',\n",
              " 'HGG/Brats18_CBICA_BHK_1/Brats18_CBICA_BHK_1_seg.nii.gz',\n",
              " 'HGG/Brats18_CBICA_AXW_1/Brats18_CBICA_AXW_1_seg.nii.gz',\n",
              " 'HGG/Brats18_TCIA06_165_1/Brats18_TCIA06_165_1_seg.nii.gz',\n",
              " 'HGG/Brats18_TCIA02_168_1/Brats18_TCIA02_168_1_seg.nii.gz',\n",
              " 'HGG/Brats18_CBICA_AUQ_1/Brats18_CBICA_AUQ_1_seg.nii.gz',\n",
              " 'HGG/Brats18_2013_22_1/Brats18_2013_22_1_seg.nii.gz',\n",
              " 'HGG/Brats18_CBICA_AXN_1/Brats18_CBICA_AXN_1_seg.nii.gz',\n",
              " 'HGG/Brats18_TCIA03_133_1/Brats18_TCIA03_133_1_seg.nii.gz',\n",
              " 'HGG/Brats18_CBICA_BFB_1/Brats18_CBICA_BFB_1_seg.nii.gz',\n",
              " 'HGG/Brats18_TCIA03_338_1/Brats18_TCIA03_338_1_seg.nii.gz',\n",
              " 'HGG/Brats18_CBICA_ATP_1/Brats18_CBICA_ATP_1_seg.nii.gz',\n",
              " 'HGG/Brats18_TCIA04_437_1/Brats18_TCIA04_437_1_seg.nii.gz',\n",
              " 'HGG/Brats18_TCIA03_296_1/Brats18_TCIA03_296_1_seg.nii.gz',\n",
              " 'HGG/Brats18_TCIA08_406_1/Brats18_TCIA08_406_1_seg.nii.gz',\n",
              " 'HGG/Brats18_CBICA_ASU_1/Brats18_CBICA_ASU_1_seg.nii.gz',\n",
              " 'HGG/Brats18_TCIA01_201_1/Brats18_TCIA01_201_1_seg.nii.gz',\n",
              " 'HGG/Brats18_CBICA_AYU_1/Brats18_CBICA_AYU_1_seg.nii.gz',\n",
              " 'HGG/Brats18_CBICA_AWG_1/Brats18_CBICA_AWG_1_seg.nii.gz',\n",
              " 'HGG/Brats18_CBICA_AUR_1/Brats18_CBICA_AUR_1_seg.nii.gz',\n",
              " 'HGG/Brats18_CBICA_AQD_1/Brats18_CBICA_AQD_1_seg.nii.gz',\n",
              " 'HGG/Brats18_CBICA_AMH_1/Brats18_CBICA_AMH_1_seg.nii.gz',\n",
              " 'HGG/Brats18_TCIA04_343_1/Brats18_TCIA04_343_1_seg.nii.gz',\n",
              " 'HGG/Brats18_CBICA_AQJ_1/Brats18_CBICA_AQJ_1_seg.nii.gz',\n",
              " 'HGG/Brats18_2013_17_1/Brats18_2013_17_1_seg.nii.gz',\n",
              " 'HGG/Brats18_TCIA01_190_1/Brats18_TCIA01_190_1_seg.nii.gz',\n",
              " 'HGG/Brats18_CBICA_APR_1/Brats18_CBICA_APR_1_seg.nii.gz',\n",
              " 'HGG/Brats18_TCIA08_280_1/Brats18_TCIA08_280_1_seg.nii.gz',\n",
              " 'HGG/Brats18_TCIA05_444_1/Brats18_TCIA05_444_1_seg.nii.gz',\n",
              " 'HGG/Brats18_CBICA_BFP_1/Brats18_CBICA_BFP_1_seg.nii.gz',\n",
              " 'HGG/Brats18_TCIA04_192_1/Brats18_TCIA04_192_1_seg.nii.gz',\n",
              " 'HGG/Brats18_TCIA02_290_1/Brats18_TCIA02_290_1_seg.nii.gz',\n",
              " 'HGG/Brats18_TCIA01_378_1/Brats18_TCIA01_378_1_seg.nii.gz',\n",
              " 'HGG/Brats18_TCIA08_436_1/Brats18_TCIA08_436_1_seg.nii.gz',\n",
              " 'HGG/Brats18_2013_5_1/Brats18_2013_5_1_seg.nii.gz',\n",
              " 'HGG/Brats18_TCIA01_460_1/Brats18_TCIA01_460_1_seg.nii.gz',\n",
              " 'HGG/Brats18_TCIA08_319_1/Brats18_TCIA08_319_1_seg.nii.gz',\n",
              " 'HGG/Brats18_CBICA_ATF_1/Brats18_CBICA_ATF_1_seg.nii.gz',\n",
              " 'HGG/Brats18_TCIA02_606_1/Brats18_TCIA02_606_1_seg.nii.gz',\n",
              " 'HGG/Brats18_TCIA04_361_1/Brats18_TCIA04_361_1_seg.nii.gz',\n",
              " 'HGG/Brats18_TCIA01_335_1/Brats18_TCIA01_335_1_seg.nii.gz',\n",
              " 'HGG/Brats18_TCIA02_151_1/Brats18_TCIA02_151_1_seg.nii.gz',\n",
              " 'HGG/Brats18_2013_4_1/Brats18_2013_4_1_seg.nii.gz',\n",
              " 'HGG/Brats18_TCIA01_147_1/Brats18_TCIA01_147_1_seg.nii.gz',\n",
              " 'HGG/Brats18_CBICA_AQP_1/Brats18_CBICA_AQP_1_seg.nii.gz',\n",
              " 'HGG/Brats18_TCIA03_419_1/Brats18_TCIA03_419_1_seg.nii.gz',\n",
              " 'HGG/Brats18_CBICA_AOH_1/Brats18_CBICA_AOH_1_seg.nii.gz',\n",
              " 'HGG/Brats18_CBICA_AWI_1/Brats18_CBICA_AWI_1_seg.nii.gz',\n",
              " 'HGG/Brats18_TCIA02_455_1/Brats18_TCIA02_455_1_seg.nii.gz',\n",
              " 'HGG/Brats18_CBICA_ATV_1/Brats18_CBICA_ATV_1_seg.nii.gz',\n",
              " 'HGG/Brats18_CBICA_AVG_1/Brats18_CBICA_AVG_1_seg.nii.gz',\n",
              " 'HGG/Brats18_CBICA_ASN_1/Brats18_CBICA_ASN_1_seg.nii.gz',\n",
              " 'HGG/Brats18_TCIA01_412_1/Brats18_TCIA01_412_1_seg.nii.gz',\n",
              " 'HGG/Brats18_2013_3_1/Brats18_2013_3_1_seg.nii.gz',\n",
              " 'HGG/Brats18_TCIA08_234_1/Brats18_TCIA08_234_1_seg.nii.gz',\n",
              " 'HGG/Brats18_TCIA03_375_1/Brats18_TCIA03_375_1_seg.nii.gz',\n",
              " 'HGG/Brats18_CBICA_ALX_1/Brats18_CBICA_ALX_1_seg.nii.gz',\n",
              " 'HGG/Brats18_CBICA_ASW_1/Brats18_CBICA_ASW_1_seg.nii.gz',\n",
              " 'HGG/Brats18_TCIA08_105_1/Brats18_TCIA08_105_1_seg.nii.gz',\n",
              " 'HGG/Brats18_2013_27_1/Brats18_2013_27_1_seg.nii.gz',\n",
              " 'HGG/Brats18_CBICA_ABY_1/Brats18_CBICA_ABY_1_seg.nii.gz',\n",
              " 'HGG/Brats18_CBICA_AZD_1/Brats18_CBICA_AZD_1_seg.nii.gz',\n",
              " 'HGG/Brats18_CBICA_AAP_1/Brats18_CBICA_AAP_1_seg.nii.gz',\n",
              " 'HGG/Brats18_TCIA02_135_1/Brats18_TCIA02_135_1_seg.nii.gz',\n",
              " 'HGG/Brats18_CBICA_ALU_1/Brats18_CBICA_ALU_1_seg.nii.gz',\n",
              " 'HGG/Brats18_CBICA_ABN_1/Brats18_CBICA_ABN_1_seg.nii.gz',\n",
              " 'HGG/Brats18_CBICA_AQG_1/Brats18_CBICA_AQG_1_seg.nii.gz',\n",
              " 'HGG/Brats18_TCIA08_162_1/Brats18_TCIA08_162_1_seg.nii.gz',\n",
              " 'HGG/Brats18_TCIA02_314_1/Brats18_TCIA02_314_1_seg.nii.gz',\n",
              " 'HGG/Brats18_CBICA_ATX_1/Brats18_CBICA_ATX_1_seg.nii.gz',\n",
              " 'HGG/Brats18_CBICA_ASK_1/Brats18_CBICA_ASK_1_seg.nii.gz',\n",
              " 'HGG/Brats18_TCIA01_401_1/Brats18_TCIA01_401_1_seg.nii.gz',\n",
              " 'HGG/Brats18_CBICA_ASY_1/Brats18_CBICA_ASY_1_seg.nii.gz',\n",
              " 'HGG/Brats18_TCIA04_111_1/Brats18_TCIA04_111_1_seg.nii.gz',\n",
              " 'HGG/Brats18_2013_12_1/Brats18_2013_12_1_seg.nii.gz',\n",
              " 'HGG/Brats18_CBICA_ATB_1/Brats18_CBICA_ATB_1_seg.nii.gz',\n",
              " 'HGG/Brats18_TCIA06_184_1/Brats18_TCIA06_184_1_seg.nii.gz',\n",
              " 'HGG/Brats18_TCIA01_180_1/Brats18_TCIA01_180_1_seg.nii.gz',\n",
              " 'HGG/Brats18_2013_11_1/Brats18_2013_11_1_seg.nii.gz',\n",
              " 'HGG/Brats18_TCIA02_322_1/Brats18_TCIA02_322_1_seg.nii.gz',\n",
              " 'HGG/Brats18_TCIA02_608_1/Brats18_TCIA02_608_1_seg.nii.gz',\n",
              " 'HGG/Brats18_CBICA_AYI_1/Brats18_CBICA_AYI_1_seg.nii.gz',\n",
              " 'HGG/Brats18_CBICA_ANI_1/Brats18_CBICA_ANI_1_seg.nii.gz',\n",
              " 'HGG/Brats18_CBICA_ASH_1/Brats18_CBICA_ASH_1_seg.nii.gz',\n",
              " 'HGG/Brats18_TCIA05_277_1/Brats18_TCIA05_277_1_seg.nii.gz',\n",
              " 'HGG/Brats18_TCIA01_231_1/Brats18_TCIA01_231_1_seg.nii.gz',\n",
              " 'HGG/Brats18_TCIA04_149_1/Brats18_TCIA04_149_1_seg.nii.gz',\n",
              " 'HGG/Brats18_CBICA_AOP_1/Brats18_CBICA_AOP_1_seg.nii.gz',\n",
              " 'HGG/Brats18_2013_19_1/Brats18_2013_19_1_seg.nii.gz',\n",
              " 'HGG/Brats18_TCIA02_283_1/Brats18_TCIA02_283_1_seg.nii.gz',\n",
              " 'HGG/Brats18_CBICA_ANG_1/Brats18_CBICA_ANG_1_seg.nii.gz',\n",
              " 'HGG/Brats18_TCIA03_121_1/Brats18_TCIA03_121_1_seg.nii.gz',\n",
              " 'HGG/Brats18_CBICA_BHB_1/Brats18_CBICA_BHB_1_seg.nii.gz',\n",
              " 'HGG/Brats18_CBICA_ARW_1/Brats18_CBICA_ARW_1_seg.nii.gz',\n",
              " 'HGG/Brats18_CBICA_AXL_1/Brats18_CBICA_AXL_1_seg.nii.gz',\n",
              " 'HGG/Brats18_TCIA02_605_1/Brats18_TCIA02_605_1_seg.nii.gz',\n",
              " 'HGG/Brats18_TCIA02_430_1/Brats18_TCIA02_430_1_seg.nii.gz',\n",
              " 'HGG/Brats18_TCIA01_186_1/Brats18_TCIA01_186_1_seg.nii.gz',\n",
              " 'HGG/Brats18_2013_26_1/Brats18_2013_26_1_seg.nii.gz',\n",
              " 'HGG/Brats18_TCIA06_211_1/Brats18_TCIA06_211_1_seg.nii.gz',\n",
              " 'HGG/Brats18_TCIA01_390_1/Brats18_TCIA01_390_1_seg.nii.gz',\n",
              " 'HGG/Brats18_CBICA_AQZ_1/Brats18_CBICA_AQZ_1_seg.nii.gz',\n",
              " 'HGG/Brats18_TCIA02_368_1/Brats18_TCIA02_368_1_seg.nii.gz',\n",
              " 'HGG/Brats18_CBICA_AAG_1/Brats18_CBICA_AAG_1_seg.nii.gz',\n",
              " 'HGG/Brats18_TCIA02_491_1/Brats18_TCIA02_491_1_seg.nii.gz',\n",
              " 'HGG/Brats18_CBICA_AXJ_1/Brats18_CBICA_AXJ_1_seg.nii.gz',\n",
              " 'HGG/Brats18_TCIA02_118_1/Brats18_TCIA02_118_1_seg.nii.gz',\n",
              " 'HGG/Brats18_CBICA_ASG_1/Brats18_CBICA_ASG_1_seg.nii.gz',\n",
              " 'HGG/Brats18_TCIA08_113_1/Brats18_TCIA08_113_1_seg.nii.gz',\n",
              " 'HGG/Brats18_TCIA02_331_1/Brats18_TCIA02_331_1_seg.nii.gz',\n",
              " 'HGG/Brats18_2013_7_1/Brats18_2013_7_1_seg.nii.gz',\n",
              " 'HGG/Brats18_TCIA02_300_1/Brats18_TCIA02_300_1_seg.nii.gz',\n",
              " 'HGG/Brats18_CBICA_BHM_1/Brats18_CBICA_BHM_1_seg.nii.gz',\n",
              " 'HGG/Brats18_TCIA01_499_1/Brats18_TCIA01_499_1_seg.nii.gz',\n",
              " 'HGG/Brats18_2013_13_1/Brats18_2013_13_1_seg.nii.gz',\n",
              " 'HGG/Brats18_CBICA_ASV_1/Brats18_CBICA_ASV_1_seg.nii.gz',\n",
              " 'HGG/Brats18_CBICA_AAB_1/Brats18_CBICA_AAB_1_seg.nii.gz',\n",
              " 'HGG/Brats18_CBICA_AVV_1/Brats18_CBICA_AVV_1_seg.nii.gz',\n",
              " 'HGG/Brats18_2013_18_1/Brats18_2013_18_1_seg.nii.gz',\n",
              " 'HGG/Brats18_TCIA06_332_1/Brats18_TCIA06_332_1_seg.nii.gz',\n",
              " 'HGG/Brats18_TCIA04_479_1/Brats18_TCIA04_479_1_seg.nii.gz',\n",
              " 'HGG/Brats18_CBICA_AOD_1/Brats18_CBICA_AOD_1_seg.nii.gz',\n",
              " 'HGG/Brats18_TCIA02_171_1/Brats18_TCIA02_171_1_seg.nii.gz',\n",
              " 'HGG/Brats18_TCIA03_138_1/Brats18_TCIA03_138_1_seg.nii.gz',\n",
              " 'HGG/Brats18_TCIA01_221_1/Brats18_TCIA01_221_1_seg.nii.gz',\n",
              " 'HGG/Brats18_CBICA_AQN_1/Brats18_CBICA_AQN_1_seg.nii.gz',\n",
              " 'HGG/Brats18_CBICA_ABM_1/Brats18_CBICA_ABM_1_seg.nii.gz',\n",
              " 'HGG/Brats18_TCIA02_208_1/Brats18_TCIA02_208_1_seg.nii.gz',\n",
              " 'HGG/Brats18_TCIA03_265_1/Brats18_TCIA03_265_1_seg.nii.gz',\n",
              " 'HGG/Brats18_CBICA_AZH_1/Brats18_CBICA_AZH_1_seg.nii.gz',\n",
              " 'HGG/Brats18_TCIA08_218_1/Brats18_TCIA08_218_1_seg.nii.gz',\n",
              " 'HGG/Brats18_CBICA_ASA_1/Brats18_CBICA_ASA_1_seg.nii.gz',\n",
              " 'HGG/Brats18_CBICA_AME_1/Brats18_CBICA_AME_1_seg.nii.gz',\n",
              " 'HGG/Brats18_TCIA01_448_1/Brats18_TCIA01_448_1_seg.nii.gz',\n",
              " 'HGG/Brats18_TCIA02_198_1/Brats18_TCIA02_198_1_seg.nii.gz',\n",
              " 'HGG/Brats18_2013_2_1/Brats18_2013_2_1_seg.nii.gz',\n",
              " 'HGG/Brats18_CBICA_ASO_1/Brats18_CBICA_ASO_1_seg.nii.gz',\n",
              " 'HGG/Brats18_TCIA01_425_1/Brats18_TCIA01_425_1_seg.nii.gz',\n",
              " 'HGG/Brats18_TCIA02_274_1/Brats18_TCIA02_274_1_seg.nii.gz',\n",
              " 'HGG/Brats18_CBICA_AYA_1/Brats18_CBICA_AYA_1_seg.nii.gz',\n",
              " 'HGG/Brats18_CBICA_AYW_1/Brats18_CBICA_AYW_1_seg.nii.gz',\n",
              " 'HGG/Brats18_CBICA_AQR_1/Brats18_CBICA_AQR_1_seg.nii.gz',\n",
              " 'HGG/Brats18_CBICA_AQV_1/Brats18_CBICA_AQV_1_seg.nii.gz',\n",
              " 'HGG/Brats18_CBICA_ABE_1/Brats18_CBICA_ABE_1_seg.nii.gz',\n",
              " 'HGG/Brats18_TCIA02_374_1/Brats18_TCIA02_374_1_seg.nii.gz',\n",
              " 'HGG/Brats18_TCIA02_394_1/Brats18_TCIA02_394_1_seg.nii.gz',\n",
              " 'HGG/Brats18_CBICA_AQY_1/Brats18_CBICA_AQY_1_seg.nii.gz',\n",
              " 'HGG/Brats18_TCIA02_117_1/Brats18_TCIA02_117_1_seg.nii.gz',\n",
              " 'HGG/Brats18_TCIA02_321_1/Brats18_TCIA02_321_1_seg.nii.gz',\n",
              " 'HGG/Brats18_CBICA_AOO_1/Brats18_CBICA_AOO_1_seg.nii.gz',\n",
              " 'HGG/Brats18_2013_20_1/Brats18_2013_20_1_seg.nii.gz',\n",
              " 'HGG/Brats18_CBICA_ARZ_1/Brats18_CBICA_ARZ_1_seg.nii.gz',\n",
              " 'HGG/Brats18_TCIA01_429_1/Brats18_TCIA01_429_1_seg.nii.gz',\n",
              " 'HGG/Brats18_CBICA_ALN_1/Brats18_CBICA_ALN_1_seg.nii.gz']"
            ]
          },
          "metadata": {
            "tags": []
          },
          "execution_count": 50
        }
      ]
    },
    {
      "cell_type": "code",
      "metadata": {
        "id": "yoU4ClWAQPx4"
      },
      "source": [
        "import matplotlib.pyplot as plt\n",
        "for i in range(len(seg)):\n",
        "  img = (read_img(seg[i])[100] == 2).astype(np.uint8)\n",
        "  #what is 100, why not 154, which is the lenght of read_img(seg[0])\n",
        "  # print(img.shape)\n",
        "  # print(np.unique(img))\n",
        "  # print(img.sum())\n",
        "  # img\n",
        "  plt.imsave(\"/gdrive/My Drive/SEG/{}.jpg\".format(i), img)\n",
        "  # plt.imshow(img, cmap='Greys_r')\n",
        "#cv2_imshow(img)"
      ],
      "execution_count": null,
      "outputs": []
    },
    {
      "cell_type": "code",
      "metadata": {
        "id": "j7NcTS8ZY4SO"
      },
      "source": [
        "import matplotlib.pyplot as plt\n",
        "for i in range(len(t1)):\n",
        "  img = (read_img(t1[i])[100] == 2).astype(np.uint8)\n",
        "  #what is 100, why not 154, which is the lenght of read_img(seg[0])\n",
        "  # print(img.shape)\n",
        "  # print(np.unique(img))\n",
        "  # print(img.sum())\n",
        "  # img\n",
        "  plt.imsave(\"/gdrive/My Drive/t1/{}.jpg\".format(i), img)\n",
        "  # plt.imshow(img, cmap='Greys_r')\n",
        "#cv2_imshow(img)"
      ],
      "execution_count": null,
      "outputs": []
    },
    {
      "cell_type": "code",
      "metadata": {
        "id": "lrzHrBuoZNKY"
      },
      "source": [
        "import matplotlib.pyplot as plt\n",
        "for i in range(len(t2)):\n",
        "  img = (read_img(t2[i])[100] == 2).astype(np.uint8)\n",
        "  #what is 100, why not 154, which is the lenght of read_img(seg[0])\n",
        "  # print(img.shape)\n",
        "  # print(np.unique(img))\n",
        "  # print(img.sum())\n",
        "  # img\n",
        "  plt.imsave(\"/gdrive/My Drive/t2/{}.jpg\".format(i), img)\n",
        "  # plt.imshow(img, cmap='Greys_r')\n",
        "#cv2_imshow(img)"
      ],
      "execution_count": null,
      "outputs": []
    },
    {
      "cell_type": "code",
      "metadata": {
        "id": "5IuORE4xZali"
      },
      "source": [
        "import matplotlib.pyplot as plt\n",
        "for i in range(len(flair)):\n",
        "  img = (read_img(flair[i])[100] == 2).astype(np.uint8)\n",
        "  #what is 100, why not 154, which is the lenght of read_img(seg[0])\n",
        "  # print(img.shape)\n",
        "  # print(np.unique(img))\n",
        "  # print(img.sum())\n",
        "  # img\n",
        "  plt.imsave(\"/gdrive/My Drive/flair/{}.jpg\".format(i), img)\n",
        "  # plt.imshow(img, cmap='Greys_r')\n",
        "#cv2_imshow(img)"
      ],
      "execution_count": null,
      "outputs": []
    },
    {
      "cell_type": "code",
      "metadata": {
        "id": "TnpzuJ0_Z5NC"
      },
      "source": [
        "import matplotlib.pyplot as plt\n",
        "for i in range(len(t1ce)):\n",
        "  img = (read_img(t1ce[i])[100] == 2).astype(np.uint8)\n",
        "  #what is 100, why not 154, which is the lenght of read_img(seg[0])\n",
        "  # print(img.shape)\n",
        "  # print(np.unique(img))\n",
        "  # print(img.sum())\n",
        "  # img\n",
        "  plt.imsave(\"/gdrive/My Drive/t1ce/{}.jpg\".format(i), img)\n",
        "  # plt.imshow(img, cmap='Greys_r')\n",
        "#cv2_imshow(img)"
      ],
      "execution_count": null,
      "outputs": []
    },
    {
      "cell_type": "code",
      "metadata": {
        "id": "mHZBLTxG0-PM"
      },
      "source": [
        "img = PIL.Image.fromarray(img)"
      ],
      "execution_count": null,
      "outputs": []
    },
    {
      "cell_type": "code",
      "metadata": {
        "id": "-0oOLeZm1IP3"
      },
      "source": [
        "type(img)\n",
        "img.show()"
      ],
      "execution_count": null,
      "outputs": []
    },
    {
      "cell_type": "code",
      "metadata": {
        "id": "Wwlx1BKJ1acg",
        "colab": {
          "base_uri": "https://localhost:8080/",
          "height": 850
        },
        "outputId": "89dfea7b-21da-4b8c-f5c5-4b92b082c2b4"
      },
      "source": [
        "read_img(seg[0])"
      ],
      "execution_count": null,
      "outputs": [
        {
          "output_type": "execute_result",
          "data": {
            "text/plain": [
              "array([[[0, 0, 0, ..., 0, 0, 0],\n",
              "        [0, 0, 0, ..., 0, 0, 0],\n",
              "        [0, 0, 0, ..., 0, 0, 0],\n",
              "        ...,\n",
              "        [0, 0, 0, ..., 0, 0, 0],\n",
              "        [0, 0, 0, ..., 0, 0, 0],\n",
              "        [0, 0, 0, ..., 0, 0, 0]],\n",
              "\n",
              "       [[0, 0, 0, ..., 0, 0, 0],\n",
              "        [0, 0, 0, ..., 0, 0, 0],\n",
              "        [0, 0, 0, ..., 0, 0, 0],\n",
              "        ...,\n",
              "        [0, 0, 0, ..., 0, 0, 0],\n",
              "        [0, 0, 0, ..., 0, 0, 0],\n",
              "        [0, 0, 0, ..., 0, 0, 0]],\n",
              "\n",
              "       [[0, 0, 0, ..., 0, 0, 0],\n",
              "        [0, 0, 0, ..., 0, 0, 0],\n",
              "        [0, 0, 0, ..., 0, 0, 0],\n",
              "        ...,\n",
              "        [0, 0, 0, ..., 0, 0, 0],\n",
              "        [0, 0, 0, ..., 0, 0, 0],\n",
              "        [0, 0, 0, ..., 0, 0, 0]],\n",
              "\n",
              "       ...,\n",
              "\n",
              "       [[0, 0, 0, ..., 0, 0, 0],\n",
              "        [0, 0, 0, ..., 0, 0, 0],\n",
              "        [0, 0, 0, ..., 0, 0, 0],\n",
              "        ...,\n",
              "        [0, 0, 0, ..., 0, 0, 0],\n",
              "        [0, 0, 0, ..., 0, 0, 0],\n",
              "        [0, 0, 0, ..., 0, 0, 0]],\n",
              "\n",
              "       [[0, 0, 0, ..., 0, 0, 0],\n",
              "        [0, 0, 0, ..., 0, 0, 0],\n",
              "        [0, 0, 0, ..., 0, 0, 0],\n",
              "        ...,\n",
              "        [0, 0, 0, ..., 0, 0, 0],\n",
              "        [0, 0, 0, ..., 0, 0, 0],\n",
              "        [0, 0, 0, ..., 0, 0, 0]],\n",
              "\n",
              "       [[0, 0, 0, ..., 0, 0, 0],\n",
              "        [0, 0, 0, ..., 0, 0, 0],\n",
              "        [0, 0, 0, ..., 0, 0, 0],\n",
              "        ...,\n",
              "        [0, 0, 0, ..., 0, 0, 0],\n",
              "        [0, 0, 0, ..., 0, 0, 0],\n",
              "        [0, 0, 0, ..., 0, 0, 0]]], dtype=uint8)"
            ]
          },
          "metadata": {
            "tags": []
          },
          "execution_count": 113
        }
      ]
    },
    {
      "cell_type": "code",
      "metadata": {
        "id": "yuI-yvN4vxHJ"
      },
      "source": [
        "new_im = Image.fromarray(img)\n",
        "new_im.save(\"numpy_altered_sample2.png\")\n"
      ],
      "execution_count": null,
      "outputs": []
    },
    {
      "cell_type": "code",
      "metadata": {
        "id": "dFhbZTI6xTra",
        "colab": {
          "base_uri": "https://localhost:8080/",
          "height": 257
        },
        "outputId": "206f9478-9210-4cbf-a270-3e8eb0ec4fc4"
      },
      "source": [
        "new_im"
      ],
      "execution_count": null,
      "outputs": [
        {
          "output_type": "execute_result",
          "data": {
            "image/png": "[encoded data removed]",
            "text/plain": [
              "<PIL.Image.Image image mode=L size=240x240 at 0x7F16163EF748>"
            ]
          },
          "metadata": {
            "tags": []
          },
          "execution_count": 97
        }
      ]
    },
    {
      "cell_type": "code",
      "metadata": {
        "id": "soJU16qCtSiM",
        "colab": {
          "base_uri": "https://localhost:8080/",
          "height": 286
        },
        "outputId": "6e04b88c-001b-4748-c6fc-3e094beb25a0"
      },
      "source": [
        "for i in range(3):\n",
        "  img = (read_img(seg[i])[100] == 2).astype(np.uint8)\n",
        "plt.imshow(img, cmap='Greys_r')"
      ],
      "execution_count": null,
      "outputs": [
        {
          "output_type": "execute_result",
          "data": {
            "text/plain": [
              "<matplotlib.image.AxesImage at 0x7f16161602b0>"
            ]
          },
          "metadata": {
            "tags": []
          },
          "execution_count": 100
        },
        {
          "output_type": "display_data",
          "data": {
            "image/png": "[encoded data removed]",
            "text/plain": [
              "<Figure size 432x288 with 1 Axes>"
            ]
          },
          "metadata": {
            "tags": []
          }
        }
      ]
    },
    {
      "cell_type": "code",
      "metadata": {
        "id": "L21_YHUHkbTZ"
      },
      "source": [
        "img = (read_img(seg[0])[100] == 2).astype(np.uint8)"
      ],
      "execution_count": null,
      "outputs": []
    },
    {
      "cell_type": "code",
      "metadata": {
        "id": "qdS_MhB5nFCj",
        "colab": {
          "base_uri": "https://localhost:8080/",
          "height": 34
        },
        "outputId": "4ab5ffed-88f0-4ce4-faf6-8882b49c96ba"
      },
      "source": [
        "len(read_img(seg[0]))"
      ],
      "execution_count": null,
      "outputs": [
        {
          "output_type": "execute_result",
          "data": {
            "text/plain": [
              "155"
            ]
          },
          "metadata": {
            "tags": []
          },
          "execution_count": 61
        }
      ]
    },
    {
      "cell_type": "code",
      "metadata": {
        "id": "taiBNAxUnTiZ",
        "colab": {
          "base_uri": "https://localhost:8080/",
          "height": 337
        },
        "outputId": "4c48ce6f-41bb-47db-bf14-cc4e52825137"
      },
      "source": [
        "import matplotlib.pyplot as plt\n",
        "img = (read_img(t1[0])[100] == 2).astype(np.uint8)\n",
        "#what is 100, why not 154\n",
        "print(img.shape)\n",
        "print(np.unique(img))\n",
        "print(img.sum())\n",
        "plt.imshow(img)"
      ],
      "execution_count": null,
      "outputs": [
        {
          "output_type": "stream",
          "text": [
            "(240, 240)\n",
            "[0]\n",
            "0\n"
          ],
          "name": "stdout"
        },
        {
          "output_type": "execute_result",
          "data": {
            "text/plain": [
              "<matplotlib.image.AxesImage at 0x7f1616009748>"
            ]
          },
          "metadata": {
            "tags": []
          },
          "execution_count": 114
        },
        {
          "output_type": "display_data",
          "data": {
            "image/png": "[encoded data removed]",
            "text/plain": [
              "<Figure size 432x288 with 1 Axes>"
            ]
          },
          "metadata": {
            "tags": []
          }
        }
      ]
    },
    {
      "cell_type": "code",
      "metadata": {
        "id": "eEipumpamKxf",
        "colab": {
          "base_uri": "https://localhost:8080/",
          "height": 286
        },
        "outputId": "453f6241-56e9-4510-ad6f-bab2a5bb95ea"
      },
      "source": [
        "plt.imshow(img, cmap='Greys_r')"
      ],
      "execution_count": null,
      "outputs": [
        {
          "output_type": "execute_result",
          "data": {
            "text/plain": [
              "<matplotlib.image.AxesImage at 0x7f1615f58a90>"
            ]
          },
          "metadata": {
            "tags": []
          },
          "execution_count": 115
        },
        {
          "output_type": "display_data",
          "data": {
            "image/png": "[encoded data removed]",
            "text/plain": [
              "<Figure size 432x288 with 1 Axes>"
            ]
          },
          "metadata": {
            "tags": []
          }
        }
      ]
    },
    {
      "cell_type": "markdown",
      "metadata": {
        "id": "soDTIJFn5CE9"
      },
      "source": [
        "After resizing to (80, 96, 64)"
      ]
    },
    {
      "cell_type": "code",
      "metadata": {
        "id": "-kmgpXjsAMzj",
        "colab": {
          "base_uri": "https://localhost:8080/",
          "height": 336
        },
        "outputId": "500cf165-5046-4b64-d0a4-d60a20e01ff3"
      },
      "source": [
        "img = preprocess_label(read_img(seg[0]), out_shape=(80, 96, 64), mode='nearest')[1][50]\n",
        "print(img.shape)\n",
        "print(np.unique(img))\n",
        "print(img.sum())\n",
        "plt.imshow(img, cmap='Greys_r')"
      ],
      "execution_count": null,
      "outputs": [
        {
          "output_type": "stream",
          "text": [
            "(96, 64)\n",
            "[0 1]\n",
            "20\n"
          ],
          "name": "stdout"
        },
        {
          "output_type": "execute_result",
          "data": {
            "text/plain": [
              "<matplotlib.image.AxesImage at 0x7f16244aac88>"
            ]
          },
          "metadata": {
            "tags": []
          },
          "execution_count": 26
        },
        {
          "output_type": "display_data",
          "data": {
            "image/png": "[encoded data removed]",
            "text/plain": [
              "<Figure size 432x288 with 1 Axes>"
            ]
          },
          "metadata": {
            "tags": []
          }
        }
      ]
    },
    {
      "cell_type": "markdown",
      "metadata": {
        "id": "FiGSgdqA5LGd"
      },
      "source": [
        "One can clearly notice that there are now a lot of black pixels in the region where there should have been only white pixels. This can potentially hurt our model. So, it is best to not resize the image too much. But, due to computational constraints and the model requirements, it is unavoidable. \n",
        "\n",
        "However, given below are a few things one could try to reduce the downsampling noise as much as possible."
      ]
    },
    {
      "cell_type": "code",
      "metadata": {
        "id": "01FtsxQi6dts"
      },
      "source": [
        "import cv2"
      ],
      "execution_count": null,
      "outputs": []
    },
    {
      "cell_type": "markdown",
      "metadata": {
        "id": "vbflvVYqz2yu"
      },
      "source": [
        "- Original Image > preprocess_label > Morphological Closing"
      ]
    },
    {
      "cell_type": "code",
      "metadata": {
        "id": "vFn6tiXPsUdl",
        "colab": {
          "base_uri": "https://localhost:8080/",
          "height": 319
        },
        "outputId": "dcc21159-34df-436a-8fd5-85be159194b3"
      },
      "source": [
        "kernel = np.ones((3, 3))\n",
        "img_closed = cv2.morphologyEx(img, cv2.MORPH_CLOSE, kernel, iterations=3)\n",
        "print(np.unique(img_closed))\n",
        "print(img_closed.sum())\n",
        "plt.imshow(img_closed, cmap='Greys_r')"
      ],
      "execution_count": null,
      "outputs": [
        {
          "output_type": "stream",
          "text": [
            "[0 1]\n",
            "50\n"
          ],
          "name": "stdout"
        },
        {
          "output_type": "execute_result",
          "data": {
            "text/plain": [
              "<matplotlib.image.AxesImage at 0x7f1624460160>"
            ]
          },
          "metadata": {
            "tags": []
          },
          "execution_count": 28
        },
        {
          "output_type": "display_data",
          "data": {
            "image/png": "[encoded data removed]",
            "text/plain": [
              "<Figure size 432x288 with 1 Axes>"
            ]
          },
          "metadata": {
            "tags": []
          }
        }
      ]
    },
    {
      "cell_type": "markdown",
      "metadata": {
        "id": "17CKK5zQz7hs"
      },
      "source": [
        "- Original Image > preprocess_label > Morphological Dilation"
      ]
    },
    {
      "cell_type": "code",
      "metadata": {
        "id": "bxhKa3kKtCLZ",
        "colab": {
          "base_uri": "https://localhost:8080/",
          "height": 319
        },
        "outputId": "0259615e-e25c-4258-ff4e-9e3f01f951b9"
      },
      "source": [
        "kernel = np.ones((3, 3))\n",
        "img_dilated = cv2.dilate(img, kernel, iterations=1)\n",
        "print(np.unique(img_dilated))\n",
        "print(img_dilated.sum())\n",
        "plt.imshow(img_dilated, cmap='Greys_r')"
      ],
      "execution_count": null,
      "outputs": [
        {
          "output_type": "stream",
          "text": [
            "[0 1]\n",
            "84\n"
          ],
          "name": "stdout"
        },
        {
          "output_type": "execute_result",
          "data": {
            "text/plain": [
              "<matplotlib.image.AxesImage at 0x7f1624343588>"
            ]
          },
          "metadata": {
            "tags": []
          },
          "execution_count": 29
        },
        {
          "output_type": "display_data",
          "data": {
            "image/png": "[encoded data removed]",
            "text/plain": [
              "<Figure size 432x288 with 1 Axes>"
            ]
          },
          "metadata": {
            "tags": []
          }
        }
      ]
    },
    {
      "cell_type": "markdown",
      "metadata": {
        "id": "gG3vfTyS0BVe"
      },
      "source": [
        "You could try these things to get even better results."
      ]
    },
    {
      "cell_type": "markdown",
      "metadata": {
        "id": "CX6Cj1VO6vrZ"
      },
      "source": [
        "## Feedback"
      ]
    },
    {
      "cell_type": "markdown",
      "metadata": {
        "id": "ZPt_15Ps6vO1"
      },
      "source": [
        "If you have any feedback, queries, bug reports to send, please feel free to [raise an issue](https://github.com/IAmSuyogJadhav/3d-mri-brain-tumor-segmentation-using-autoencoder-regularization/issues/new) on github. It would be really helpful!"
      ]
    }
  ]
}