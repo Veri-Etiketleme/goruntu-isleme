{
 "cells": [
  {
   "cell_type": "code",
   "execution_count": null,
   "metadata": {
    "collapsed": false
   },
   "outputs": [],
   "source": [
    "%matplotlib inline\n",
    "import matplotlib\n",
    "import matplotlib.pyplot as plt\n",
    "import pickle\n",
    "import gzip\n",
    "import pandas as pd\n",
    "import numpy as np\n",
    "# from hmmlearn import hmm\n",
    "import warnings\n",
    "warnings.filterwarnings('ignore')\n",
    "matplotlib.rcParams.update({'font.size': 14})"
   ]
  },
  {
   "cell_type": "code",
   "execution_count": null,
   "metadata": {
    "collapsed": false
   },
   "outputs": [],
   "source": [
    "# def convertPklz(filename):\n",
    "#     inF = gzip.open(\"%s.pklz\"%filename, 'rb')\n",
    "#     outF = open(\"%s.pickle\"%filename, 'wb')\n",
    "#     outF.write(inF.read())\n",
    "#     inF.close()\n",
    "#     outF.close()\n",
    "#     df = pd.read_pickle(\"%s.pickle\"%filename)\n",
    "#     df.to_pickle(\"%s.pickle\"%filename)\n",
    "#     print \"Convert %s.pklz to %s.pickle\"%(filename,filename)\n",
    "# convertPklz('obs_seq_list_lanechange')\n",
    "# # convertPklz('obs_seq_list_lanekeep')"
   ]
  },
  {
   "cell_type": "code",
   "execution_count": null,
   "metadata": {
    "collapsed": false
   },
   "outputs": [],
   "source": [
    "# # Load Observatoin List\n",
    "# with gzip.open('obs_seq_list_lanechange.pklz','rb') as f:\n",
    "#     obs_seq_list_lc = pickle.load(f)\n",
    "# with gzip.open('obs_seq_list_lanekeep.pklz','rb') as f:\n",
    "#     obs_seq_list_lk = pickle.load(f)"
   ]
  },
  {
   "cell_type": "code",
   "execution_count": null,
   "metadata": {
    "collapsed": true
   },
   "outputs": [],
   "source": [
    "# Load observation sequence\n",
    "obs_seq_list_lc = pd.read_pickle(\"data/obs_seq_list_lanechange.pickle\")\n",
    "obs_seq_list_lk = pd.read_pickle(\"data/obs_seq_list_lanekeep_new.pickle\")"
   ]
  },
  {
   "cell_type": "code",
   "execution_count": null,
   "metadata": {
    "collapsed": false
   },
   "outputs": [],
   "source": [
    "# # Load the trained hmms\n",
    "# # filename = 'hmms_4.pklz'\n",
    "# filename = 'hmms_4_2.pklz'\n",
    "# with gzip.open(filename,'rb') as f:\n",
    "#     hmms = pickle.load(f)\n",
    "hmms_lc = pd.read_pickle(\"data/hmm_lc_4.pickle\")\n",
    "hmms_lk = pd.read_pickle(\"data/hmm_lk_2.pickle\")\n",
    "hmms = {'lc': hmms_lc ,'lk': hmms_lk}"
   ]
  },
  {
   "cell_type": "code",
   "execution_count": null,
   "metadata": {
    "collapsed": true
   },
   "outputs": [],
   "source": [
    "def getLCLikelyhoodData(hmms,obs_seq,window_size):\n",
    "    likelyhood_lc = list()\n",
    "    likelyhood_lk = list()\n",
    "    index_list = list()\n",
    "    for i in range(window_size,len(obs_seq)):\n",
    "        start_index = max(i - window_size,0)\n",
    "        end_index = i\n",
    "        index_list.append((i-60)*.1)\n",
    "        lc = hmms['lc'].score(obs_seq[start_index:end_index])\n",
    "        lk = hmms['lk'].score(obs_seq[start_index:end_index])\n",
    "        likelyhood_lc.append(lc/abs(lc+lk))\n",
    "        likelyhood_lk.append(lk/abs(lc+lk))\n",
    "    return (index_list, likelyhood_lc, likelyhood_lk)\n",
    "\n",
    "def getLCLikelyhoodFig(index_list, likelyhood_lc, likelyhood_lk):\n",
    "    fig = plt.figure()\n",
    "    plt.plot(index_list,1+np.array(likelyhood_lc),'r',label='Lane-changing')\n",
    "    plt.plot(index_list,1+np.array(likelyhood_lk),'b',label='Lane-keeping')\n",
    "    plt.ylim([0,1.0])\n",
    "    plt.ylabel('Relative Likelyhood')\n",
    "    plt.xlabel('Relative time to lane-change (sec)')\n",
    "    plt.legend(loc='upper left',fontsize=14)\n",
    "    return fig\n",
    "\n",
    "def getLCDetectionTimeList(index_list,likelyhood_lc,threshold):\n",
    "    bool_array = np.insert((np.array(likelyhood_lc) > threshold),0,False)\n",
    "    diff_array = np.diff(bool_array.astype(float))\n",
    "    index_array = np.array(index_list)\n",
    "    detection_time_list = index_array[diff_array == 1.0]\n",
    "    return detection_time_list\n",
    "\n",
    "def getPerformanceTupleList(hmms,obs_seq_list,window_size):\n",
    "    # Gather performance data\n",
    "    data_tuple_list = list()\n",
    "    for obs_seq in obs_seq_list:\n",
    "        data_tuple_list.append(getLCLikelyhoodData(hmms,obs_seq,window_size))\n",
    "    return data_tuple_list"
   ]
  },
  {
   "cell_type": "code",
   "execution_count": null,
   "metadata": {
    "collapsed": false
   },
   "outputs": [],
   "source": [
    "# %prun dd = getLCLikelyhoodData(hmms,obs_seq_list_lc[90],100)"
   ]
  },
  {
   "cell_type": "code",
   "execution_count": null,
   "metadata": {
    "collapsed": false
   },
   "outputs": [],
   "source": [
    "# Select observation sequency list used for performance evaluation\n",
    "obs_seq_list_for_lc = obs_seq_list_lc[500:1000]\n",
    "obs_seq_list_for_lk = [obs[0:101] for obs in obs_seq_list_lk[500:1000]]\n",
    "\n",
    "def getDataTupleLists(window_size):\n",
    "    # Get detection data for lc\n",
    "    data_tuple_list_lc = getPerformanceTupleList(hmms,obs_seq_list_for_lc,window_size)\n",
    "    # Get deteciton data for lk\n",
    "    data_tuple_list_lk = getPerformanceTupleList(hmms,obs_seq_list_for_lk,window_size)\n",
    "    return (data_tuple_list_lc,data_tuple_list_lk)"
   ]
  },
  {
   "cell_type": "code",
   "execution_count": null,
   "metadata": {
    "collapsed": false
   },
   "outputs": [],
   "source": [
    "print len(obs_seq_list_for_lc[0])\n",
    "print len(obs_seq_list_for_lk[0])"
   ]
  },
  {
   "cell_type": "code",
   "execution_count": null,
   "metadata": {
    "collapsed": false
   },
   "outputs": [],
   "source": [
    "# Get data tuple for lc an lk of differenent window sizes\n",
    "window_size_list = [5,10,15,20]\n",
    "data_tuple_dict_winsize = dict()\n",
    "for window_size in window_size_list:\n",
    "    data_tuple_list_lc,data_tuple_list_lk = getDataTupleLists(window_size)\n",
    "    data_tuple_dict_winsize[window_size] = (data_tuple_list_lc,data_tuple_list_lk)\n",
    "    print(\"Window Size %s Done.\"%(window_size))"
   ]
  },
  {
   "cell_type": "code",
   "execution_count": null,
   "metadata": {
    "collapsed": false
   },
   "outputs": [],
   "source": [
    "def getDetectionTimeData(data_tuple_list, threshold):\n",
    "# Process performance data\n",
    "    detection_time_data = list()\n",
    "    for data_tuple in data_tuple_list:\n",
    "        detection_time_data.append(getLCDetectionTimeList(data_tuple[0],data_tuple[1],threshold))\n",
    "    return detection_time_data\n",
    "\n",
    "def getDetectionTimeArray(detection_time_data):\n",
    "    # Get detection time\n",
    "    max_det_time_list = list()\n",
    "    for det_time_array in detection_time_data:\n",
    "        det_time = 0.0\n",
    "        if len(det_time_array) > 0:\n",
    "            det_time = det_time_array.max()\n",
    "        max_det_time_list.append(det_time)\n",
    "    return np.array(max_det_time_list)"
   ]
  },
  {
   "cell_type": "code",
   "execution_count": null,
   "metadata": {
    "collapsed": false
   },
   "outputs": [],
   "source": [
    "# Example of detection performance measurment for one lane-change\n",
    "(index_list, likelyhood_lc, likelyhood_lk) = getLCLikelyhoodData(hmms,obs_seq_list_lc[556],10)\n",
    "print \"Predicted at %s sec\" %(getLCDetectionTimeList(index_list,likelyhood_lc,-0.4))\n",
    "fig = getLCLikelyhoodFig(index_list, likelyhood_lc, likelyhood_lk)\n",
    "fig.set_size_inches(10,4)\n",
    "# fig.savefig('relative_likelyhood_traj.pdf')\n",
    "print len(index_list)"
   ]
  },
  {
   "cell_type": "code",
   "execution_count": null,
   "metadata": {
    "collapsed": false
   },
   "outputs": [],
   "source": [
    "(index_list, likelyhood_lc, likelyhood_lk) = getLCLikelyhoodData(hmms,obs_seq_list_for_lk[4],10)\n",
    "# print \"Predicted at %s sec\" %(getLCDetectionTimeList(index_list,likelyhood_lc,-0.4))\n",
    "fig = getLCLikelyhoodFig(index_list, likelyhood_lc, likelyhood_lk)\n",
    "fig.set_size_inches(10,4)\n",
    "print len(index_list)\n",
    "ax = fig.axes[0]\n",
    "ax.set_xlabel('Relative time (sec)')\n",
    "# fig.savefig('relative_likelyhood_traj_lk.pdf')"
   ]
  },
  {
   "cell_type": "code",
   "execution_count": null,
   "metadata": {
    "collapsed": false
   },
   "outputs": [],
   "source": [
    "# Plot detection time histogram\n",
    "max_det_time_array = getDetectionTimeArray(getDetectionTimeData(data_tuple_dict_winsize[10][0],-0.4))\n",
    "fig = plt.figure(figsize=(10,4))\n",
    "plt.hist(max_det_time_array,bins=20)\n",
    "plt.xlabel('Lane-change detection time (s)')\n",
    "plt.ylabel('Number of times (Out of 500)')\n",
    "print \"mean: %s std: %s\"%(max_det_time_array.mean(),max_det_time_array.std())\n",
    "# fig.savefig('lc_detection_histo.pdf')"
   ]
  },
  {
   "cell_type": "code",
   "execution_count": null,
   "metadata": {
    "collapsed": false
   },
   "outputs": [],
   "source": [
    "data_tuple_list_lc,data_tuple_list_lk = data_tuple_dict_winsize[10]\n",
    "false_times_array = getDetectionTimeData(data_tuple_list_lk,-0.4)\n",
    "false_times_count = np.array([len(array) for array in false_times_array])\n",
    "fig = plt.figure(figsize=(10,4))\n",
    "plt.hist(false_times_count,bins=20)\n",
    "plt.xlabel('Number of false detection per trajectory')\n",
    "plt.ylabel('Number of times (Out of 500)')\n",
    "# fig.savefig('lk_detection_histo.pdf')"
   ]
  },
  {
   "cell_type": "code",
   "execution_count": null,
   "metadata": {
    "collapsed": false
   },
   "outputs": [],
   "source": [
    "data_tuple_list_lc,data_tuple_list_lk = data_tuple_dict_winsize[10]\n",
    "# tol_list = np.arange(-0.5,-0.1,0.02)\n",
    "tol_list = np.arange(-0.5,-0.09,0.01)\n",
    "\n",
    "def get_mean_and_std(tol_list,data_tuple_list_lc,data_tuple_list_lk):\n",
    "    det_array_list = list()\n",
    "    false_array_list = list()\n",
    "    for tol in tol_list:\n",
    "        det_array_list.append(getDetectionTimeArray(getDetectionTimeData(data_tuple_list_lc,tol)))\n",
    "        false_times_array = getDetectionTimeData(data_tuple_list_lk,tol)\n",
    "        false_array_list.append(np.array([len(array) for array in false_times_array]))\n",
    "\n",
    "    det_time_mean_list = [det_array.mean() for det_array in det_array_list]\n",
    "    det_time_std_list = [det_array.std() for det_array in det_array_list]\n",
    "    false_mean_list = [false_array.mean() for false_array in false_array_list]\n",
    "    false_std_list = [false_array.std() for false_array in false_array_list]\n",
    "    return (det_time_mean_list,det_time_std_list,false_mean_list,false_std_list)\n",
    "\n",
    "det_time_mean_list,det_time_std_list,false_mean_list,false_std_list = get_mean_and_std(tol_list,data_tuple_list_lc,data_tuple_list_lk)\n",
    "\n",
    "fig = plt.figure()\n",
    "ax1 = plt.subplot(2,1,1)\n",
    "fig.set_size_inches(10,8)\n",
    "plt.errorbar(1+np.array(tol_list),det_time_mean_list,yerr=det_time_std_list, fmt='o')\n",
    "# plt.xlabel(\"Relative Likelyhood Threshold\")\n",
    "# plt.xlim((0.5,0.9))\n",
    "plt.ylabel(\"Lane-change detection time (s)\")\n",
    "\n",
    "# fig_2 = plt.figure()\n",
    "# fig_2.set_size_inches(10,4)\n",
    "plt.subplot(2,1,2,sharex=ax1)\n",
    "plt.errorbar(1+np.array(tol_list),false_mean_list,yerr=false_std_list,fmt='o')\n",
    "plt.xlim((0.5,0.9))\n",
    "plt.xlabel(\"Relative Likelyhood Threshold\")\n",
    "plt.ylabel(\"Avg. Num. of false detection\")\n",
    "\n",
    "# fig.savefig('false_detection_and_time_vs_threshold.pdf')"
   ]
  },
  {
   "cell_type": "code",
   "execution_count": null,
   "metadata": {
    "collapsed": false
   },
   "outputs": [],
   "source": [
    "tol_list = np.arange(-0.5,-0.09,0.01)\n",
    "tol_list[10]"
   ]
  },
  {
   "cell_type": "code",
   "execution_count": null,
   "metadata": {
    "collapsed": false
   },
   "outputs": [],
   "source": [
    "# 2-axis plot\n",
    "fig = plt.figure()\n",
    "fig.set_size_inches(10,8)\n",
    "\n",
    "color_list = ['r','g','b','c']\n",
    "tol_list = np.arange(-0.5,-0.09,0.01)\n",
    "for i,window_size in enumerate([5,10,15,20]):\n",
    "    data_tuple_list_lc,data_tuple_list_lk = data_tuple_dict_winsize[window_size]\n",
    "    det_time_mean_list,det_time_std_list,false_mean_list,false_std_list = get_mean_and_std(tol_list,data_tuple_list_lc,data_tuple_list_lk)\n",
    "    plt.plot(false_mean_list,det_time_mean_list,'%so-'%(color_list[i]),label='Num of Observations: %s'%(window_size),linewidth=2.0)\n",
    "    if True:\n",
    "        ax = plt.gca()\n",
    "#         print (false_mean_list[-1],det_time_mean_list[-1])\n",
    "        if i > 0:\n",
    "            ax.annotate('threshold = %s'%(1+tol_list[-1]), xy=(false_mean_list[-1],det_time_mean_list[-1]),  xycoords='data',\n",
    "                        xytext=(0.25,1.5), textcoords='data',\n",
    "                        bbox=dict(boxstyle=\"round\", fc=\"0.8\"),\n",
    "                        arrowprops=dict(arrowstyle=\"->\",shrinkA=0,shrinkB=10,connectionstyle=\"arc3,rad=0\",color=color_list[i]))\n",
    "#         print (false_mean_list[0],det_time_mean_list[0])\n",
    "        ax.annotate('threshold = %s'%(1+tol_list[0]), xy=(false_mean_list[0],det_time_mean_list[0]),  xycoords='data',\n",
    "                    xytext=(1,-3.75), textcoords='data',\n",
    "                    bbox=dict(boxstyle=\"round\", fc=\"0.8\"),\n",
    "                    arrowprops=dict(arrowstyle=\"->\",shrinkA=0,shrinkB=10,connectionstyle=\"arc3,rad=0\",color=color_list[i]))\n",
    "        ax.annotate('threshold = %s'%(1+tol_list[10]), xy=(false_mean_list[10],det_time_mean_list[10]),  xycoords='data',\n",
    "            xytext=(0.5,-1), textcoords='data',\n",
    "            bbox=dict(boxstyle=\"round\", fc=\"0.8\"),\n",
    "            arrowprops=dict(arrowstyle=\"->\",shrinkA=0,shrinkB=10,connectionstyle=\"arc3,rad=0\",color=color_list[i]))\n",
    "\n",
    "plt.xlabel(\"Avg. num. of false detection (out of 500)\")\n",
    "plt.ylabel(\"Lane-change Detection Time (s)\")\n",
    "plt.xlim([-0.1,2.0])\n",
    "plt.legend()\n",
    "\n",
    "# fig.savefig('different_window_size.pdf')"
   ]
  },
  {
   "cell_type": "code",
   "execution_count": null,
   "metadata": {
    "collapsed": true
   },
   "outputs": [],
   "source": []
  }
 ],
 "metadata": {
  "kernelspec": {
   "display_name": "Python 2",
   "language": "python",
   "name": "python2"
  },
  "language_info": {
   "codemirror_mode": {
    "name": "ipython",
    "version": 2
   },
   "file_extension": ".py",
   "mimetype": "text/x-python",
   "name": "python",
   "nbconvert_exporter": "python",
   "pygments_lexer": "ipython2",
   "version": "2.7.11+"
  }
 },
 "nbformat": 4,
 "nbformat_minor": 0
}
