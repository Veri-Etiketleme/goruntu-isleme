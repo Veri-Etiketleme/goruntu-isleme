{
 "cells": [
  {
   "cell_type": "code",
   "execution_count": null,
   "metadata": {
    "collapsed": false
   },
   "outputs": [],
   "source": [
    "%matplotlib inline\n",
    "import matplotlib.pyplot as plt\n",
    "import pickle\n",
    "import pandas as pd\n",
    "import numpy as np\n",
    "from hmmlearn import hmm\n",
    "import warnings\n",
    "warnings.filterwarnings('ignore')"
   ]
  },
  {
   "cell_type": "code",
   "execution_count": null,
   "metadata": {
    "collapsed": false
   },
   "outputs": [],
   "source": [
    "# Read lane-change data\n",
    "lc_dict = pd.read_pickle('data/lane_change_dict.pickle')"
   ]
  },
  {
   "cell_type": "code",
   "execution_count": null,
   "metadata": {
    "collapsed": false
   },
   "outputs": [],
   "source": [
    "# Set lane_pair_list to plot\n",
    "lane_pair_list = [(1, 2), (2, 3), (3, 4), (4, 5), (5, 6), (6, 5), (5, 4), (4, 3), (3, 2), (2, 1)]"
   ]
  },
  {
   "cell_type": "code",
   "execution_count": null,
   "metadata": {
    "collapsed": false
   },
   "outputs": [],
   "source": [
    "# Extact lateral displacements and velocities\n",
    "x_seq_list = list()\n",
    "v_seq_list = list()\n",
    "lc_time_list = list()\n",
    "\n",
    "for key in lane_pair_list:\n",
    "    flip = 1.0\n",
    "    if key[0] > key[1]:\n",
    "        flip = -1.0\n",
    "    \n",
    "    lc_df_list = lc_dict[key]\n",
    "    for ll in lc_df_list:\n",
    "        x_seq = np.atleast_2d(ll.local_x_normalized.tolist()).T\n",
    "        v_seq = np.atleast_2d(ll.vel_x.tolist()).T\n",
    "        if (not np.isnan(x_seq).any()) and (not np.isnan(v_seq).any()):\n",
    "            lc_time_list.append(0.1*ll.lc_frame_index)\n",
    "            x_seq_list.append(x_seq)\n",
    "            v_seq_list.append(flip*v_seq)"
   ]
  },
  {
   "cell_type": "code",
   "execution_count": null,
   "metadata": {
    "collapsed": false
   },
   "outputs": [],
   "source": [
    "# Stack the observations\n",
    "obs_seq_list = list()\n",
    "for i in range(len(x_seq_list)):\n",
    "    obs = np.hstack([x_seq_list[i],v_seq_list[i]])\n",
    "    obs_seq_list.append(obs)"
   ]
  },
  {
   "cell_type": "code",
   "execution_count": null,
   "metadata": {
    "collapsed": false
   },
   "outputs": [],
   "source": [
    "# Save the observation sequence list\n",
    "# with open('obs_seq_list_lanechange.pickle','wb') as f:\n",
    "#     pickle.dump(obs_seq_list, f)"
   ]
  },
  {
   "cell_type": "code",
   "execution_count": null,
   "metadata": {
    "collapsed": true
   },
   "outputs": [],
   "source": [
    "# Load from pickle file\n",
    "# obs_seq_list = pd.read_pickle('obs_seq_list_lanechange.pickle')"
   ]
  },
  {
   "cell_type": "code",
   "execution_count": null,
   "metadata": {
    "collapsed": false
   },
   "outputs": [],
   "source": [
    "# Create GaussianHMM model\n",
    "# model_fit = hmm.GMMHMM(n_components=3,n_mix=1,n_iter=1000)\n",
    "model_fit = hmm.GaussianHMM(n_components=4, n_iter=100, covariance_type='full')"
   ]
  },
  {
   "cell_type": "code",
   "execution_count": null,
   "metadata": {
    "collapsed": false
   },
   "outputs": [],
   "source": [
    "# Extract and convert training set\n",
    "obs_train_list = obs_seq_list[:500]\n",
    "seq_length_list = list()\n",
    "num_of_sample = 0\n",
    "for obs in obs_train_list:\n",
    "    seq_length = obs.shape[0]\n",
    "    num_of_sample = seq_length + num_of_sample\n",
    "    seq_length_list.append(seq_length)\n",
    "obs_array = np.vstack(obs_train_list)"
   ]
  },
  {
   "cell_type": "code",
   "execution_count": null,
   "metadata": {
    "collapsed": false
   },
   "outputs": [],
   "source": [
    "# Train the GHMM\n",
    "model_fit.fit(obs_array,seq_length_list)"
   ]
  },
  {
   "cell_type": "code",
   "execution_count": null,
   "metadata": {
    "collapsed": true
   },
   "outputs": [],
   "source": [
    "with open('data/hmm_lc_4.pickle', 'wb') as handle:\n",
    "  pickle.dump(model_fit, handle)"
   ]
  },
  {
   "cell_type": "code",
   "execution_count": null,
   "metadata": {
    "collapsed": false
   },
   "outputs": [],
   "source": [
    "# Plot emission distribution\n",
    "fig = plt.figure(figsize=(8,6))\n",
    "colorlist = 'rgbcym'\n",
    "for g_index in range(len(model_fit.means_)):\n",
    "    # Sample each emission distribution for visualization     \n",
    "    gmm = hmm.GMM(n_components=1,covariance_type='full')\n",
    "    gmm.weights_ = np.array([1])\n",
    "    gmm.means_ = np.array([model_fit.means_[g_index]])\n",
    "    gmm.covars_ = np.array([model_fit.covars_[g_index]])\n",
    "    gmm_sample = gmm.sample(2000)\n",
    "    plt.plot(gmm_sample[:,0],gmm_sample[:,1],'%so' %(colorlist[g_index]),alpha=0.2)\n",
    "    mean_point = model_fit.means_[g_index] \n",
    "    plt.text(mean_point[0],mean_point[1],'%s' %(g_index),size=17, bbox=dict(alpha=1.0, facecolor='w'))\n",
    "    \n",
    "plt.xlabel('Normalized Lateral Displacement')\n",
    "plt.ylabel('Lateral velocity')"
   ]
  },
  {
   "cell_type": "code",
   "execution_count": null,
   "metadata": {
    "collapsed": false
   },
   "outputs": [],
   "source": [
    "# Transition matrix\n",
    "model_fit.transmat_"
   ]
  },
  {
   "cell_type": "code",
   "execution_count": null,
   "metadata": {
    "collapsed": false
   },
   "outputs": [],
   "source": [
    "# Evaluate most likely transition trajectory and liklihood\n",
    "obs_seq = obs_seq_list[1050]\n",
    "plt.plot(obs_seq[:,0],obs_seq[:,1],'-k',linewidth=3)\n",
    "log_likelyhood, state_seq = model_fit.decode(obs_seq)\n",
    "print \"State transition sequence: %s\" %(state_seq)\n",
    "print \"Log probability of state trajectory: %s\" %(log_likelyhood)\n",
    "print \"Score under model: %s\" %(model_fit.score(obs_seq))\n",
    "print \"Score under model and prior: %s\" %(model_fit.score_samples(obs_seq)[0])\n",
    "\n",
    "for index, point in enumerate(obs_seq):\n",
    "    state_index = state_seq[index]\n",
    "    plt.plot(point[0],point[1],'%so' %(colorlist[state_index]), markeredgewidth=3,markersize=10)"
   ]
  },
  {
   "cell_type": "markdown",
   "metadata": {},
   "source": [
    "# Train Lane-keeping HMM #"
   ]
  },
  {
   "cell_type": "code",
   "execution_count": null,
   "metadata": {
    "collapsed": false
   },
   "outputs": [],
   "source": [
    "# Train hmm for lane-keeping\n",
    "# lk_obs_list = pd.read_pickle('data/lane_keeping_obs_seq_list.pickle')\n",
    "lk_obs_list = pd.read_pickle('data/obs_seq_list_lanekeep_new.pickle')"
   ]
  },
  {
   "cell_type": "code",
   "execution_count": null,
   "metadata": {
    "collapsed": true
   },
   "outputs": [],
   "source": [
    "model_fit_lk = hmm.GaussianHMM(n_components=2, n_iter=100, covariance_type='full')"
   ]
  },
  {
   "cell_type": "code",
   "execution_count": null,
   "metadata": {
    "collapsed": true
   },
   "outputs": [],
   "source": [
    "# Extract and convert training set\n",
    "obs_train_list = lk_obs_list[:500]\n",
    "seq_length_list = list()\n",
    "num_of_sample = 0\n",
    "for obs in obs_train_list:\n",
    "    seq_length = obs.shape[0]\n",
    "    num_of_sample = seq_length + num_of_sample\n",
    "    seq_length_list.append(seq_length)\n",
    "obs_array = np.vstack(obs_train_list)"
   ]
  },
  {
   "cell_type": "code",
   "execution_count": null,
   "metadata": {
    "collapsed": false
   },
   "outputs": [],
   "source": [
    "model_fit_lk.fit(obs_array,seq_length_list)"
   ]
  },
  {
   "cell_type": "code",
   "execution_count": null,
   "metadata": {
    "collapsed": false
   },
   "outputs": [],
   "source": [
    "# Plot emission distribution\n",
    "fig = plt.figure(figsize=(8,6))\n",
    "colorlist = 'rgbcym'\n",
    "for g_index in range(len(model_fit_lk.means_)):\n",
    "    # Sample each emission distribution for visualization     \n",
    "    gmm = hmm.GMM(n_components=1,covariance_type='full')\n",
    "    gmm.weights_ = np.array([1])\n",
    "    gmm.means_ = np.array([model_fit_lk.means_[g_index]])\n",
    "    gmm.covars_ = np.array([model_fit_lk.covars_[g_index]])\n",
    "    gmm_sample = gmm.sample(2000)\n",
    "    plt.plot(gmm_sample[:,0],gmm_sample[:,1],'%so' %(colorlist[g_index]),alpha=0.2)\n",
    "    mean_point = model_fit_lk.means_[g_index] \n",
    "    plt.text(mean_point[0],mean_point[1],'%s' %(g_index),size=17, bbox=dict(alpha=1.0, facecolor='w'))\n",
    "    \n",
    "plt.xlabel('Normalized Lateral Displacement')\n",
    "plt.ylabel('Lateral velocity')"
   ]
  },
  {
   "cell_type": "code",
   "execution_count": null,
   "metadata": {
    "collapsed": true
   },
   "outputs": [],
   "source": [
    "with open('data/hmm_lk_2.pickle', 'wb') as handle:\n",
    "  pickle.dump(model_fit_lk, handle)"
   ]
  },
  {
   "cell_type": "code",
   "execution_count": null,
   "metadata": {
    "collapsed": true
   },
   "outputs": [],
   "source": []
  }
 ],
 "metadata": {
  "kernelspec": {
   "display_name": "Python 2",
   "language": "python",
   "name": "python2"
  },
  "language_info": {
   "codemirror_mode": {
    "name": "ipython",
    "version": 2
   },
   "file_extension": ".py",
   "mimetype": "text/x-python",
   "name": "python",
   "nbconvert_exporter": "python",
   "pygments_lexer": "ipython2",
   "version": "2.7.6"
  }
 },
 "nbformat": 4,
 "nbformat_minor": 0
}
