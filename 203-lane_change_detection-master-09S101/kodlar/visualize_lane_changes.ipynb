{
 "cells": [
  {
   "cell_type": "code",
   "execution_count": null,
   "metadata": {
    "collapsed": true
   },
   "outputs": [],
   "source": [
    "%matplotlib inline\n",
    "import matplotlib\n",
    "import matplotlib.pyplot as plt\n",
    "import pandas as pd\n",
    "import numpy as np\n",
    "import pickle"
   ]
  },
  {
   "cell_type": "code",
   "execution_count": null,
   "metadata": {
    "collapsed": true
   },
   "outputs": [],
   "source": [
    "# Load lane change data from pickle file\n",
    "lane_change_dict = pd.read_pickle('data/lane_change_dict.pickle')"
   ]
  },
  {
   "cell_type": "code",
   "execution_count": null,
   "metadata": {
    "collapsed": true
   },
   "outputs": [],
   "source": [
    "## Utility functions to get means and stds of fields\n",
    "def get_mean_and_std(groups,field_name):\n",
    "    mean_list = list()\n",
    "    std_list = list()\n",
    "    lc_frame_index_list = list()\n",
    "    for lc_frame_index, group_df in groups:\n",
    "        mean_list.append(group_df[field_name].mean())\n",
    "        std_list.append(group_df[field_name].std())\n",
    "        lc_frame_index_list.append(lc_frame_index)\n",
    "    return lc_frame_index_list, mean_list, std_list\n",
    "\n",
    "def plot_mean_and_std(groups,field_name):\n",
    "    lc_frame_index_list,mean_list, std_list = get_mean_and_std(groups,field_name)\n",
    "    plt.plot(np.array(lc_frame_index_list)*0.1,mean_list)\n",
    "    std_array = np.array(std_list)\n",
    "    mean_array = np.array(mean_list)\n",
    "    plt.fill_between(np.array(lc_frame_index_list)*0.1, mean_array - std_array, mean_array + std_array, alpha=0.25, color='b')"
   ]
  },
  {
   "cell_type": "code",
   "execution_count": null,
   "metadata": {
    "collapsed": false
   },
   "outputs": [],
   "source": [
    "# Prepare data for plotting\n",
    "matplotlib.rcParams.update({'font.size': 14})\n",
    "lane_pairs_list = [(6,5),(5,4),(4,3),(3,2),(2,1)]\n",
    "lane_change_range_all_list = []\n",
    "for lane_pair in lane_pairs_list:\n",
    "    lane_change_range_all_list.extend(lane_change_dict[lane_pair])\n",
    "    \n",
    "lc_range_all_df = pd.concat(lane_change_range_all_list)\n",
    "lc_range_all_df.vel_x = lc_range_all_df.vel_x*(-1.0)\n",
    "total_lc =  len(lane_change_range_all_list)\n",
    "lane_pairs_list_temp = lane_pairs_list\n",
    "\n",
    "lane_pairs_list = [(1,2),(2,3),(3,4),(4,5),(5,6)]\n",
    "lane_change_range_all_list = []\n",
    "for lane_pair in lane_pairs_list:\n",
    "    lane_change_range_all_list.extend(lane_change_dict[lane_pair])\n",
    "total_lc = total_lc + len(lane_change_range_all_list)\n",
    "lc_range_all_df_temp = pd.concat(lane_change_range_all_list)\n",
    "lc_range_all_df = pd.concat([lc_range_all_df,lc_range_all_df_temp])\n",
    "\n",
    "groups = lc_range_all_df.groupby('lc_frame_index')\n",
    "lane_pairs_list.extend(lane_pairs_list_temp)\n",
    "print lane_pairs_list"
   ]
  },
  {
   "cell_type": "code",
   "execution_count": null,
   "metadata": {
    "collapsed": false
   },
   "outputs": [],
   "source": [
    "# Generate lateral pos figures\n",
    "fig = plt.figure(figsize=(15,5))\n",
    "lc_count = 0\n",
    "for lane_pair in lane_pairs_list:\n",
    "    lc_df_list = lane_change_dict[lane_pair]\n",
    "    for ll in lc_df_list:\n",
    "#         plt.subplot(2,1,1)\n",
    "        plt.plot(np.array(ll.lc_frame_index)*0.1,ll.local_x_normalized,alpha=0.1)\n",
    "        lc_count = lc_count + 1\n",
    "print \"Number of lane changes: %s\" %lc_count\n",
    "plt.ylabel(\"Normalized Lateral Position\")\n",
    "plt.xlabel(\"Relative Time to Lane-change (sec)\")\n",
    "# ylim = plt.gca().get_ylim()\n",
    "plt.ylim([-0.5,1.5])\n",
    "# plt.savefig('lanechange_pos_all.pdf')\n",
    "\n",
    "fig = plt.figure(figsize=(15,5))\n",
    "# plt.subplot(2,1,2)\n",
    "plot_mean_and_std(groups,'local_x_normalized')\n",
    "plt.ylim([-0.5,1.5])\n",
    "plt.ylabel(\"Normalized Lateral Position\")\n",
    "plt.xlabel(\"Relative Time to Lane-change (sec)\")\n",
    "# plt.savefig('lanechange_pos_avg.pdf')"
   ]
  },
  {
   "cell_type": "code",
   "execution_count": null,
   "metadata": {
    "collapsed": false
   },
   "outputs": [],
   "source": [
    "# Generate lateral vel figures\n",
    "fig = plt.figure(figsize=(15,5))\n",
    "lc_count = 0\n",
    "for lane_pair in lane_pairs_list:\n",
    "    lc_df_list = lane_change_dict[lane_pair]\n",
    "    for ll in lc_df_list:\n",
    "        if lane_pair[0] > lane_pair[1]:\n",
    "            plt.plot(np.array(ll.lc_frame_index)*0.1,-1.0*ll.vel_x,alpha=0.1)\n",
    "        else:\n",
    "            plt.plot(np.array(ll.lc_frame_index)*0.1,ll.vel_x,alpha=0.1)\n",
    "        lc_count = lc_count + 1\n",
    "print \"Number of lane changes: %s\" %lc_count\n",
    "plt.ylabel(\"Lateral Velocity (Feet/sec)\")\n",
    "plt.xlabel(\"Relative Time to Lane-change (sec)\")\n",
    "# ylim = plt.gca().get_ylim()\n",
    "plt.ylim([-10,60])\n",
    "plt.savefig('lanechange_vel_x_all.pdf')\n",
    "\n",
    "fig = plt.figure(figsize=(15,5))\n",
    "# plt.subplot(2,1,2)\n",
    "plot_mean_and_std(groups,'vel_x')\n",
    "plt.ylim([-10,60])\n",
    "plt.ylabel(\"Lateral Velocity (Feet/sec)\")\n",
    "plt.xlabel(\"Relative Time to Lane-change (sec)\")\n",
    "plt.savefig('lanechange_vel_x_avg.pdf')"
   ]
  },
  {
   "cell_type": "code",
   "execution_count": null,
   "metadata": {
    "collapsed": false
   },
   "outputs": [],
   "source": [
    "# Generate longditudinal velocity\n",
    "fig = plt.figure(figsize=(15,5))\n",
    "lc_count = 0\n",
    "for lane_pair in lane_pairs_list:\n",
    "    lc_df_list = lane_change_dict[lane_pair]\n",
    "    for ll in lc_df_list:\n",
    "        vel_start = ll.veh_vel.head(1).squeeze()\n",
    "        vel_max = max(ll.veh_vel.tolist())\n",
    "        plt.plot(np.array(ll.lc_frame_index)*0.1,(ll.veh_vel-vel_start)/vel_max,alpha=.1)\n",
    "        lc_count = lc_count + 1\n",
    "print \"Number of lane changes: %s\" %lc_count\n",
    "plt.ylabel(\"Normalized Variation \\n in Longditudinal Velocity\")\n",
    "plt.xlabel(\"Relative Time to Lane-change (sec)\")\n",
    "ylim = plt.gca().get_ylim()\n",
    "# plt.ylim([-10,60])\n",
    "plt.savefig('lanechange_vel_y_all.pdf')\n",
    "\n",
    "fig = plt.figure(figsize=(15,5))\n",
    "# plt.subplot(2,1,2)\n",
    "plot_mean_and_std(groups,'veh_vel_normalized')\n",
    "plt.ylabel(\"Normalized Variation \\n in Longditudinal Velocity\")\n",
    "plt.xlabel(\"Relative Time to Lane-change (sec)\")\n",
    "plt.ylim(ylim)\n",
    "# plt.savefig('lanechange_vel_y_avg.pdf')"
   ]
  }
 ],
 "metadata": {
  "kernelspec": {
   "display_name": "Python 2",
   "language": "python",
   "name": "python2"
  },
  "language_info": {
   "codemirror_mode": {
    "name": "ipython",
    "version": 2
   },
   "file_extension": ".py",
   "mimetype": "text/x-python",
   "name": "python",
   "nbconvert_exporter": "python",
   "pygments_lexer": "ipython2",
   "version": "2.7.6"
  }
 },
 "nbformat": 4,
 "nbformat_minor": 0
}
