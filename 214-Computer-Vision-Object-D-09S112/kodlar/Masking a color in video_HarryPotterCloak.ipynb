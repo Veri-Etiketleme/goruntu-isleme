{
 "cells": [
  {
   "cell_type": "markdown",
   "metadata": {},
   "source": [
    "## <p style=\"text-align: center;\"> Harry Potter - Invisible Cloak  </p>"
   ]
  },
  {
   "cell_type": "markdown",
   "metadata": {},
   "source": [
    "<div class=\"alert alert-block alert-info\">\n",
    "<b>Harry Potter Cloak:</b> Get the invisble cloak for free *Offer till stocks last**\n",
    "</div>"
   ]
  },
  {
   "cell_type": "markdown",
   "metadata": {},
   "source": [
    "### Author: Venkatesh Chandra"
   ]
  },
  {
   "cell_type": "markdown",
   "metadata": {},
   "source": [
    "#### Description"
   ]
  },
  {
   "cell_type": "markdown",
   "metadata": {},
   "source": [
    "This code masks a particular color from the video captured with the background"
   ]
  },
  {
   "cell_type": "markdown",
   "metadata": {},
   "source": [
    "#### Imports"
   ]
  },
  {
   "cell_type": "code",
   "execution_count": 15,
   "metadata": {},
   "outputs": [],
   "source": [
    "import cv2\n",
    "import numpy as np\n",
    "import time"
   ]
  },
  {
   "cell_type": "markdown",
   "metadata": {},
   "source": [
    "#### Get a reference to webcam"
   ]
  },
  {
   "cell_type": "code",
   "execution_count": 16,
   "metadata": {},
   "outputs": [],
   "source": [
    "video_capture = cv2.VideoCapture(0)"
   ]
  },
  {
   "cell_type": "markdown",
   "metadata": {},
   "source": [
    "#### Define the output of the video"
   ]
  },
  {
   "cell_type": "code",
   "execution_count": 17,
   "metadata": {},
   "outputs": [],
   "source": [
    "fourcc = cv2.VideoWriter_fourcc('m','p','4','v')# note the lower case\n",
    "frame_width = int(video_capture.get(3))\n",
    "frame_height = int(video_capture.get(4))\n",
    "out = cv2.VideoWriter('Harry_Potter.mp4',fourcc , 10, (frame_width,frame_height), True)"
   ]
  },
  {
   "cell_type": "markdown",
   "metadata": {},
   "source": [
    "#### Wait time for the webcam to fire up"
   ]
  },
  {
   "cell_type": "code",
   "execution_count": 18,
   "metadata": {},
   "outputs": [],
   "source": [
    "time.sleep(3)\n",
    "background = 0"
   ]
  },
  {
   "cell_type": "markdown",
   "metadata": {},
   "source": [
    "#### Capture environment as usual"
   ]
  },
  {
   "cell_type": "code",
   "execution_count": 19,
   "metadata": {},
   "outputs": [],
   "source": [
    "for k in range(45):\n",
    "    ret,background = video_capture.read()\n",
    "background = np.flip(background,axis=1)"
   ]
  },
  {
   "cell_type": "markdown",
   "metadata": {},
   "source": [
    "#### Main loop"
   ]
  },
  {
   "cell_type": "code",
   "execution_count": 20,
   "metadata": {},
   "outputs": [],
   "source": [
    "while(video_capture.isOpened()):\n",
    "    ret, image = video_capture.read()\n",
    "    if not ret:\n",
    "        break\n",
    "    image = np.flip(image,axis=1)\n",
    "    \n",
    "    # Change to HSV\n",
    "    hsv = cv2.cvtColor(image, cv2.COLOR_BGR2HSV)\n",
    "\n",
    "    #Create masks with coordinates to detect the color\n",
    "    lower_blue = np.array([94, 80, 2])\n",
    "    upper_blue = np.array([126, 255, 255])\n",
    "    mask_all = cv2.inRange(hsv,lower_blue,upper_blue)\n",
    "\n",
    "\n",
    "    mask_all = cv2.morphologyEx(mask_all, cv2.MORPH_OPEN, np.ones((3,3),np.uint8))\n",
    "    mask_all = cv2.morphologyEx(mask_all, cv2.MORPH_DILATE, np.ones((3,3),np.uint8))\n",
    " \n",
    " \n",
    "    #Hide the blue part away\n",
    "    mask2 = cv2.bitwise_not(mask_all)\n",
    " \n",
    "    streamA = cv2.bitwise_and(image,image,mask=mask2)\n",
    "\n",
    "    #Copy the masked area's original part\n",
    "    streamB = cv2.bitwise_and(background, background, mask = mask_all)\n",
    " \n",
    " \n",
    "    #Write the video in the file specified in the previous block\n",
    "    output = cv2.addWeighted(streamA,1,streamB,1,0)\n",
    "    out.write(output)\n",
    "    cv2.imshow(\"cloak_trick\",output)\n",
    "    if cv2.waitKey(25) == 13:\n",
    "        break"
   ]
  },
  {
   "cell_type": "markdown",
   "metadata": {},
   "source": [
    "#### Release handle to the webcam"
   ]
  },
  {
   "cell_type": "code",
   "execution_count": 21,
   "metadata": {},
   "outputs": [],
   "source": [
    "video_capture.release()\n",
    "out.release()\n",
    "cv2.destroyAllWindows()"
   ]
  },
  {
   "cell_type": "markdown",
   "metadata": {},
   "source": [
    "## Notes for adding colors"
   ]
  },
  {
   "cell_type": "markdown",
   "metadata": {},
   "source": [
    "###### Red color\n",
    "low_red = np.array([161, 155, 84])\n",
    "high_red = np.array([179, 255, 255])\n",
    "red_mask = cv2.inRange(hsv_frame, low_red, high_red)\n",
    "red = cv2.bitwise_and(frame, frame, mask=red_mask)\n",
    "\n",
    "###### Blue color\n",
    "low_blue = np.array([94, 80, 2])\n",
    "high_blue = np.array([126, 255, 255])\n",
    "blue_mask = cv2.inRange(hsv_frame, low_blue, high_blue)\n",
    "blue = cv2.bitwise_and(frame, frame, mask=blue_mask)\n",
    "\n",
    "###### Green color\n",
    "low_green = np.array([25, 52, 72])\n",
    "high_green = np.array([102, 255, 255])\n",
    "green_mask = cv2.inRange(hsv_frame, low_green, high_green)\n",
    "green = cv2.bitwise_and(frame, frame, mask=green_mask)\n",
    "\n",
    "###### Every color except white\n",
    "low = np.array([0, 42, 0])\n",
    "high = np.array([179, 255, 255])\n",
    "mask = cv2.inRange(hsv_frame, low, high)\n",
    "result = cv2.bitwise_and(frame, frame, mask=mask)"
   ]
  }
 ],
 "metadata": {
  "kernelspec": {
   "display_name": "Python 3",
   "language": "python",
   "name": "python3"
  },
  "language_info": {
   "codemirror_mode": {
    "name": "ipython",
    "version": 3
   },
   "file_extension": ".py",
   "mimetype": "text/x-python",
   "name": "python",
   "nbconvert_exporter": "python",
   "pygments_lexer": "ipython3",
   "version": "3.7.3"
  }
 },
 "nbformat": 4,
 "nbformat_minor": 2
}
