{
 "cells": [
  {
   "cell_type": "markdown",
   "metadata": {},
   "source": [
    "## <p style=\"text-align: center;\"> Pathing using OpenCV in Python - Ants example</p>"
   ]
  },
  {
   "cell_type": "markdown",
   "metadata": {},
   "source": [
    "### Author: Venkatesh Chandra"
   ]
  },
  {
   "cell_type": "markdown",
   "metadata": {},
   "source": [
    "<div class=\"alert alert-block alert-info\">\n",
    "<b>Motion Detection:</b> Detect and Track the motion of ants\n",
    "</div>"
   ]
  },
  {
   "cell_type": "markdown",
   "metadata": {},
   "source": [
    "#### Description"
   ]
  },
  {
   "cell_type": "markdown",
   "metadata": {},
   "source": [
    "This code detects objects and tracks their path"
   ]
  },
  {
   "cell_type": "markdown",
   "metadata": {},
   "source": [
    "#### Import the necessary packages"
   ]
  },
  {
   "cell_type": "code",
   "execution_count": 10,
   "metadata": {},
   "outputs": [],
   "source": [
    "import cv2\n",
    "import math\n",
    "import copy\n",
    "import numpy as np\n",
    "from collections import deque\n",
    "import numpy as np\n",
    "import argparse\n",
    "import imutils"
   ]
  },
  {
   "cell_type": "markdown",
   "metadata": {},
   "source": [
    "#### Check the neighbours and combine them"
   ]
  },
  {
   "cell_type": "code",
   "execution_count": 11,
   "metadata": {},
   "outputs": [],
   "source": [
    "def check_neighbour(cnt1,cnt2):\n",
    "    row1,row2 = cnt1.shape[0],cnt2.shape[0]\n",
    "    for i in range(row1):\n",
    "        for j in range(row2):\n",
    "            dist = np.linalg.norm(cnt1[i]-cnt2[j])\n",
    "            if abs(dist) < 50 :\n",
    "                return True\n",
    "            elif i==row1-1 and j==row2-1:\n",
    "                return False"
   ]
  },
  {
   "cell_type": "markdown",
   "metadata": {},
   "source": [
    "#### Specify the color range in HSV code"
   ]
  },
  {
   "cell_type": "code",
   "execution_count": 12,
   "metadata": {},
   "outputs": [],
   "source": [
    "blackLower = np.array([0,0,0])\n",
    "blackUpper = np.array([180, 255, 30])\n",
    "\n",
    "\n",
    "points = deque(maxlen=32)\n",
    "counter = 0"
   ]
  },
  {
   "cell_type": "markdown",
   "metadata": {},
   "source": [
    "#### Define the output of the video\n",
    "<br> Pick up any video from royalty free websites that has ants in black color (or specify the color range) in a contrasting background"
   ]
  },
  {
   "cell_type": "code",
   "execution_count": 13,
   "metadata": {},
   "outputs": [],
   "source": [
    "video_capture = cv2.VideoCapture(r\"C:\\Users\\vchan\\OneDrive - McGill University\\Image-Processing-master/Ants3_input.mp4\")\n",
    "\n",
    "fourcc = cv2.VideoWriter_fourcc('m','p','4','v')# note the lower case\n",
    "frame_width = int(video_capture.get(3))\n",
    "frame_height = int(video_capture.get(4))\n",
    "out = cv2.VideoWriter('Ants_tracking_output.mp4',fourcc , 10, (frame_width,frame_height), True)\n",
    "\n",
    "captured_frame = []\n",
    "captured_frame.append(deque())\n",
    "frameIndex = 0"
   ]
  },
  {
   "cell_type": "markdown",
   "metadata": {},
   "source": [
    "#### Main Loop"
   ]
  },
  {
   "cell_type": "code",
   "execution_count": 14,
   "metadata": {},
   "outputs": [
    {
     "name": "stderr",
     "output_type": "stream",
     "text": [
      "C:\\Users\\vchan\\Anaconda3\\lib\\site-packages\\ipykernel_launcher.py:41: FutureWarning: arrays to stack must be passed as a \"sequence\" type such as list or tuple. Support for non-sequence iterables such as generators is deprecated as of NumPy 1.16 and will raise an error in the future.\n"
     ]
    }
   ],
   "source": [
    "while True:\n",
    "    # start reading the camera\n",
    "    ret, image = video_capture.read()\n",
    "    if not ret:\n",
    "        break\n",
    "\n",
    "    # Change to HSV\n",
    "    hsv = cv2.cvtColor(image, cv2.COLOR_BGR2HSV)\n",
    "    \n",
    "    #Create masks with coordinates to detect the color\n",
    "    mask = cv2.inRange(hsv,blackLower,blackUpper)\n",
    "    \n",
    "    counts = cv2.findContours(mask.copy(), cv2.RETR_EXTERNAL,\n",
    "                            cv2.CHAIN_APPROX_SIMPLE)[-2]\n",
    "\n",
    "    center = None\n",
    "    \n",
    "    #Check if we have one contour, and then proceed\n",
    "    if len(counts) > 0:\n",
    "\n",
    "        LENGTH = len(counts)\n",
    "        zeros_array = np.zeros((LENGTH, 1))\n",
    "        for i, count1 in enumerate(counts):\n",
    "            x = i\n",
    "            if i != LENGTH - 1:\n",
    "                for j, count2 in enumerate(counts[i + 1:]):\n",
    "                    x = x + 1\n",
    "                    distance = check_neighbour(count1, count2)\n",
    "                    if distance == True:\n",
    "                        val = min(zeros_array[i], zeros_array[x])\n",
    "                        zeros_array[x] = zeros_array[i] = val\n",
    "                    else:\n",
    "                        if zeros_array[x] == zeros_array[i]:\n",
    "                            zeros_array[x] = i + 1\n",
    "\n",
    "        unified = []\n",
    "        maximum = int(zeros_array.max()) + 1\n",
    "        for i in range(maximum):\n",
    "            pos = np.where(zeros_array == i)[0]\n",
    "            if pos.size != 0:\n",
    "                c = np.vstack(counts[i] for i in pos)\n",
    "                hull = cv2.convexHull(c)\n",
    "                unified.append(hull)\n",
    "\n",
    "            ((x, y), radius) = cv2.minEnclosingCircle(c)\n",
    "            M = cv2.moments(c)\n",
    "            circle_appears= \"no\"\n",
    "            if(len(counts) >2):\n",
    "                if(M[\"m00\"] >0):\n",
    "                    center = (int(M[\"m10\"] / M[\"m00\"]), int(M[\"m01\"] / M[\"m00\"]))\n",
    "                    circle_appears = \"yes\"\n",
    "                else:\n",
    "                    center = (counts[0][:, 0][0, 0], counts[0][:, 0][0, 1])\n",
    "            else:\n",
    "                center =(counts[0][:,0][0,0],counts[0][:,0][0,1])\n",
    "\n",
    "            if(circle_appears is \"yes\"):\n",
    "                cricle1 = cv2.circle(image, (int(x), int(y)), int(50),\n",
    "                           (0, 255, 255), 2)\n",
    "\n",
    "                points.appendleft((int(x), int(y)))\n",
    "                if captured_frame is not None:\n",
    "                    captured_frame[frameIndex].appendleft(copy.deepcopy((int(x), int(y))))\n",
    "\n",
    "    if frameIndex > 0:\n",
    "        for j in range(0, frameIndex):\n",
    "            if len(captured_frame[j]) < len(captured_frame[j - 1]):\n",
    "                min1 = len(captured_frame[j])\n",
    "            else:\n",
    "                min1 = len(captured_frame[j - 1])\n",
    "            for i in np.arange(0, min1):\n",
    "\n",
    "                if j >0 and len(captured_frame[j])>0 :\n",
    "                    distance = math.hypot(captured_frame[j][i][0] - captured_frame[j-1][i][0], captured_frame[j][i][1] - captured_frame[j-1][i][1])\n",
    "                    if distance <35:\n",
    "                        cv2.line(image, captured_frame[j-1][i], captured_frame[j][i], (0, 0, 255), 5)\n",
    "\n",
    "    if len(captured_frame[frameIndex]) > 0:\n",
    "        captured_frame.append(deque())\n",
    "        frameIndex += 1\n",
    "\n",
    "    cv2.namedWindow('Frame', cv2.WINDOW_NORMAL)\n",
    "    cv2.resizeWindow('Frame', 500, 500)\n",
    "    cv2.imshow(\"Frame\", image)\n",
    "    name = r\"C:\\Users\\vchan\\OneDrive - McGill University\\Image-Processing-master/Frames/frameoutput%d.jpg\" % counter\n",
    "    cv2.imwrite(name, image)\n",
    "    \n",
    "    counter += 1\n",
    "\n",
    "    if cv2.waitKey(25) == 13:\n",
    "        break\n",
    "        \n",
    "#Release the video handle\n",
    "video_capture.release()\n",
    "cv2.destroyAllWindows()"
   ]
  },
  {
   "cell_type": "markdown",
   "metadata": {},
   "source": [
    "#### Now you have the frames saved as images in the folder specified. Next, we run a loop to convert the frames to a video"
   ]
  },
  {
   "cell_type": "code",
   "execution_count": 15,
   "metadata": {},
   "outputs": [],
   "source": [
    "for m in range(0,236):\n",
    "    out.write(cv2.imread(r\"C:\\Users\\vchan\\OneDrive - McGill University\\Image-Processing-master/Frames/frameoutput%d.jpg\" % m))"
   ]
  },
  {
   "cell_type": "markdown",
   "metadata": {},
   "source": [
    "#### Release all handles"
   ]
  },
  {
   "cell_type": "code",
   "execution_count": 16,
   "metadata": {},
   "outputs": [],
   "source": [
    "out.release()\n",
    "cv2.destroyAllWindows()"
   ]
  },
  {
   "cell_type": "markdown",
   "metadata": {},
   "source": [
    "## Notes for adding colors"
   ]
  },
  {
   "cell_type": "markdown",
   "metadata": {},
   "source": [
    "###### Red color\n",
    "low_red = np.array([161, 155, 84])\n",
    "high_red = np.array([179, 255, 255])\n",
    "red_mask = cv2.inRange(hsv_frame, low_red, high_red)\n",
    "red = cv2.bitwise_and(frame, frame, mask=red_mask)\n",
    "\n",
    "###### Blue color\n",
    "low_blue = np.array([94, 80, 2])\n",
    "high_blue = np.array([126, 255, 255])\n",
    "blue_mask = cv2.inRange(hsv_frame, low_blue, high_blue)\n",
    "blue = cv2.bitwise_and(frame, frame, mask=blue_mask)\n",
    "\n",
    "###### Green color\n",
    "low_green = np.array([25, 52, 72])\n",
    "high_green = np.array([102, 255, 255])\n",
    "green_mask = cv2.inRange(hsv_frame, low_green, high_green)\n",
    "green = cv2.bitwise_and(frame, frame, mask=green_mask)\n",
    "\n",
    "###### Every color except white\n",
    "low = np.array([0, 42, 0])\n",
    "high = np.array([179, 255, 255])\n",
    "mask = cv2.inRange(hsv_frame, low, high)\n",
    "result = cv2.bitwise_and(frame, frame, mask=mask)"
   ]
  }
 ],
 "metadata": {
  "kernelspec": {
   "display_name": "Python 3",
   "language": "python",
   "name": "python3"
  },
  "language_info": {
   "codemirror_mode": {
    "name": "ipython",
    "version": 3
   },
   "file_extension": ".py",
   "mimetype": "text/x-python",
   "name": "python",
   "nbconvert_exporter": "python",
   "pygments_lexer": "ipython3",
   "version": "3.7.3"
  }
 },
 "nbformat": 4,
 "nbformat_minor": 2
}
