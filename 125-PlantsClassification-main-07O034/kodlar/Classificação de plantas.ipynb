{
 "cells": [
  {
   "cell_type": "code",
   "execution_count": 4,
   "metadata": {},
   "outputs": [
    {
     "name": "stdout",
     "output_type": "stream",
     "text": [
      "    Flor  Fruta  Raizes  Semente  Planta classificação\n",
      "0      0      1       1        1       1  Angiospermas\n",
      "1      0      0       1        1       1  Gimnospermas\n",
      "2      0      0       0        0       1     Briofitas\n",
      "3      0      0       0        0       0           NaN\n",
      "4      1      1       1        1       1  Angiospermas\n",
      "5      1      0       1        1       1  Gimnospermas\n",
      "6      0      1       1        1       1  Angiospermas\n",
      "7      0      0       1        0       1  Pteridófilas\n",
      "8      0      0       0        0       1     Briofitas\n",
      "9      0      0       0        0       0           NaN\n",
      "10     1      1       1        1       1  Angiospermas\n",
      "11     1      0       1        1       1  Gimnospermas\n",
      "12     0      0       1        1       1  Gimnospermas\n",
      "13     0      0       0        0       1     Briofitas\n",
      "14     0      1       1        1       1  Angiospermas\n",
      "15     0      0       1        0       1  Pteridófilas\n",
      "16     1      0       1        1       1  Gimnospermas\n",
      "17     0      0       0        0       1     Briofitas\n",
      "18     0      0       1        0       1  Pteridófilas\n",
      "19     0      0       0        0       0           NaN\n",
      "20     0      0       0        0       1     Briofitas\n",
      "21     0      0       1        0       1  Pteridófilas\n",
      "22     0      1       1        1       1  Angiospermas\n",
      "23     1      0       1        1       1  Gimnospermas\n",
      "24     0      0       1        0       1  Pteridófilas\n",
      "25     0      1       1        1       1  Angiospermas\n",
      "26     0      0       1        1       1  Gimnospermas\n",
      "27     0      0       0        0       1     Briofitas\n",
      "28     0      0       1        0       1  Pteridófilas\n",
      "29     0      0       1        0       1  Pteridófilas\n"
     ]
    }
   ],
   "source": [
    "#importar a biblioteca pandas para ler o arquivo\n",
    "import pandas as pd\n",
    "dados = pd.read_excel('B:/arvore.xlsx')\n",
    "print(dados)"
   ]
  },
  {
   "cell_type": "code",
   "execution_count": 5,
   "metadata": {},
   "outputs": [
    {
     "name": "stdout",
     "output_type": "stream",
     "text": [
      "    Flor  Fruta  Raizes  Semente  Planta classificação\n",
      "0      0      1       1        1       1  Angiospermas\n",
      "1      0      0       1        1       1  Gimnospermas\n",
      "2      0      0       0        0       1     Briofitas\n",
      "3      0      0       0        0       0        Nenhum\n",
      "4      1      1       1        1       1  Angiospermas\n",
      "5      1      0       1        1       1  Gimnospermas\n",
      "6      0      1       1        1       1  Angiospermas\n",
      "7      0      0       1        0       1  Pteridófilas\n",
      "8      0      0       0        0       1     Briofitas\n",
      "9      0      0       0        0       0        Nenhum\n",
      "10     1      1       1        1       1  Angiospermas\n",
      "11     1      0       1        1       1  Gimnospermas\n",
      "12     0      0       1        1       1  Gimnospermas\n",
      "13     0      0       0        0       1     Briofitas\n",
      "14     0      1       1        1       1  Angiospermas\n",
      "15     0      0       1        0       1  Pteridófilas\n",
      "16     1      0       1        1       1  Gimnospermas\n",
      "17     0      0       0        0       1     Briofitas\n",
      "18     0      0       1        0       1  Pteridófilas\n",
      "19     0      0       0        0       0        Nenhum\n",
      "20     0      0       0        0       1     Briofitas\n",
      "21     0      0       1        0       1  Pteridófilas\n",
      "22     0      1       1        1       1  Angiospermas\n",
      "23     1      0       1        1       1  Gimnospermas\n",
      "24     0      0       1        0       1  Pteridófilas\n",
      "25     0      1       1        1       1  Angiospermas\n",
      "26     0      0       1        1       1  Gimnospermas\n",
      "27     0      0       0        0       1     Briofitas\n",
      "28     0      0       1        0       1  Pteridófilas\n",
      "29     0      0       1        0       1  Pteridófilas\n"
     ]
    }
   ],
   "source": [
    "#Remover dados faltantes\n",
    "dados['classificação'] = dados['classificação'].fillna('Nenhum')\n",
    "print(dados)"
   ]
  },
  {
   "cell_type": "code",
   "execution_count": 6,
   "metadata": {
    "collapsed": true
   },
   "outputs": [],
   "source": [
    "#Substituir especies em String para número\n",
    "dados['classificação'] = dados['classificação'].replace('Nenhum', 0)\n",
    "dados['classificação'] = dados['classificação'].replace('Angiospermas', 1)\n",
    "dados['classificação'] = dados['classificação'].replace('Gimnospermas', 2)\n",
    "dados['classificação'] = dados['classificação'].replace('Briofitas', 3)\n",
    "dados['classificação'] = dados['classificação'].replace('Pteridófilas', 4)"
   ]
  },
  {
   "cell_type": "code",
   "execution_count": 10,
   "metadata": {
    "collapsed": true
   },
   "outputs": [],
   "source": [
    "#Separando em dois grupos (classificação e resto da tabela)\n",
    "y = dados['classificação']\n",
    "x = dados.drop('classificação', axis = 1)\n",
    "#Essa biblioteca separa os dados em teste e treino\n",
    "from sklearn.model_selection import train_test_split\n",
    "x_treino, x_teste, y_treino, y_teste = train_test_split(x, y, test_size = 0.5)"
   ]
  },
  {
   "cell_type": "code",
   "execution_count": 11,
   "metadata": {},
   "outputs": [
    {
     "name": "stdout",
     "output_type": "stream",
     "text": [
      "Acuracia:  100.0 %\n"
     ]
    }
   ],
   "source": [
    "#Bilioteca para criar arvore de dados\n",
    "from sklearn.ensemble import ExtraTreesClassifier\n",
    "#Criação do modelo\n",
    "modelo = ExtraTreesClassifier()\n",
    "modelo.fit(x_treino, y_treino)\n",
    "#Imprimindo resultados\n",
    "resultado = modelo.score(x_teste, y_teste)\n",
    "print('Acuracia: ', resultado*100, \"%\")"
   ]
  },
  {
   "cell_type": "code",
   "execution_count": 12,
   "metadata": {},
   "outputs": [
    {
     "name": "stdout",
     "output_type": "stream",
     "text": [
      "Previsão:  [2 3 4 4 3]\n"
     ]
    }
   ],
   "source": [
    "#Agora que o modelo já foi treinado e testado, podemos usa-lo\n",
    "previsao = modelo.predict(x_teste[0:5])\n",
    "print('Previsão: ', previsao)"
   ]
  },
  {
   "cell_type": "code",
   "execution_count": null,
   "metadata": {
    "collapsed": true
   },
   "outputs": [],
   "source": []
  }
 ],
 "metadata": {
  "kernelspec": {
   "display_name": "Python 3",
   "language": "python",
   "name": "python3"
  },
  "language_info": {
   "codemirror_mode": {
    "name": "ipython",
    "version": 3
   },
   "file_extension": ".py",
   "mimetype": "text/x-python",
   "name": "python",
   "nbconvert_exporter": "python",
   "pygments_lexer": "ipython3",
   "version": "3.6.1"
  }
 },
 "nbformat": 4,
 "nbformat_minor": 2
}
