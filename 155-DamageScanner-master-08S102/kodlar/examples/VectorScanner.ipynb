{
 "cells": [
  {
   "cell_type": "markdown",
   "metadata": {},
   "source": [
    "### Load Damagescanner package"
   ]
  },
  {
   "cell_type": "code",
   "execution_count": 1,
   "metadata": {},
   "outputs": [],
   "source": [
    "import os\n",
    "import numpy\n",
    "import pandas\n",
    "from damagescanner.core import VectorScanner \n",
    "\n",
    "data_path = '..'"
   ]
  },
  {
   "cell_type": "markdown",
   "metadata": {},
   "source": [
    "### Read input data"
   ]
  },
  {
   "cell_type": "code",
   "execution_count": 2,
   "metadata": {},
   "outputs": [],
   "source": [
    "inun_map = os.path.join(data_path,'data','inundation','inundation_map.tif')\n",
    "landuse = os.path.join(data_path,'data','landuse','landuse.shp')"
   ]
  },
  {
   "cell_type": "markdown",
   "metadata": {},
   "source": [
    "### Create dummy maximum damage dictionary and curves DataFrame"
   ]
  },
  {
   "cell_type": "code",
   "execution_count": 3,
   "metadata": {},
   "outputs": [],
   "source": [
    "maxdam = {\"grass\":5,\n",
    "        \"forest\":10,\n",
    "        \"orchard\":50,\n",
    "        \"residential\":200,\n",
    "        \"industrial\":300,\n",
    "        \"retail\":300,\n",
    "        \"farmland\":10,\n",
    "        \"cemetery\":15,\n",
    "        \"construction\":10,\n",
    "        \"meadow\":5,\n",
    "        \"farmyard\":5,\n",
    "        \"scrub\":5,\n",
    "        \"allotments\":10,\n",
    "        \"reservoir\":5,\n",
    "        \"static_caravan\":100,\n",
    "        \"commercial\":300}"
   ]
  },
  {
   "cell_type": "code",
   "execution_count": 4,
   "metadata": {},
   "outputs": [],
   "source": [
    "curves = numpy.array(\n",
    "            [[0,0],\n",
    "            [50,0.2],\n",
    "            [100,0.4],\n",
    "            [150,0.6],\n",
    "            [200,0.8],\n",
    "            [250,1]])  \n",
    "    \n",
    "curves = numpy.concatenate((curves,\n",
    "                            numpy.transpose(numpy.array([curves[:,1]]*(len(maxdam)-1)))),\n",
    "                           axis=1)\n",
    "\n",
    "curves = pandas.DataFrame(curves)\n",
    "curves.columns = ['depth']+list(maxdam.keys())\n",
    "curves.set_index('depth',inplace=True)    "
   ]
  },
  {
   "cell_type": "markdown",
   "metadata": {},
   "source": [
    "### Run the RasterScanner"
   ]
  },
  {
   "cell_type": "code",
   "execution_count": 5,
   "metadata": {},
   "outputs": [
    {
     "name": "stderr",
     "output_type": "stream",
     "text": [
      "Get unique shapes: 100%|██████████████████████████████████████████████████████████| 3848/3848 [00:28<00:00, 135.87it/s]\n",
      "Estimate damages: 100%|█████████████████████████████████████████████████████████| 9773/9773 [00:00<00:00, 13083.56it/s]\n",
      "Damage per object: 100%|██████████████████████████████████████████████████████████| 6615/6615 [00:31<00:00, 211.64it/s]\n"
     ]
    },
    {
     "name": "stdout",
     "output_type": "stream",
     "text": [
      "Wall time: 1min 12s\n"
     ]
    }
   ],
   "source": [
    "%%time\n",
    "# run the VectorScanner and return the landuse map with damage values\n",
    "loss_df = VectorScanner(landuse,inun_map,curves,maxdam)"
   ]
  },
  {
   "cell_type": "code",
   "execution_count": null,
   "metadata": {},
   "outputs": [],
   "source": []
  },
  {
   "cell_type": "code",
   "execution_count": null,
   "metadata": {},
   "outputs": [],
   "source": []
  }
 ],
 "metadata": {
  "kernelspec": {
   "display_name": "Python 3",
   "language": "python",
   "name": "python3"
  },
  "language_info": {
   "codemirror_mode": {
    "name": "ipython",
    "version": 3
   },
   "file_extension": ".py",
   "mimetype": "text/x-python",
   "name": "python",
   "nbconvert_exporter": "python",
   "pygments_lexer": "ipython3",
   "version": "3.7.1"
  }
 },
 "nbformat": 4,
 "nbformat_minor": 2
}
