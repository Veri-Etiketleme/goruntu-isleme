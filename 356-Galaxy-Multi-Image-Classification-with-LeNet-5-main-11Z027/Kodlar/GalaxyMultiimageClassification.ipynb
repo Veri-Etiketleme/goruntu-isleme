{
  "nbformat": 4,
  "nbformat_minor": 0,
  "metadata": {
    "colab": {
      "name": "GalaxyMultiimageClassification.ipynb",
      "provenance": []
    },
    "kernelspec": {
      "name": "python3",
      "display_name": "Python 3"
    },
    "language_info": {
      "name": "python"
    }
  },
  "cells": [
    {
      "cell_type": "markdown",
      "metadata": {
        "id": "lpNbjNG1ePQI"
      },
      "source": [
        "### This machine learning model has been developed from the following link\n",
        "### https://towardsdatascience.com/galaxy-multi-image-classification-with-lenet-5-1bc2f66d3cfc\n",
        "### How to build a machine learning model that classifies galaxies!"
      ]
    },
    {
      "cell_type": "code",
      "metadata": {
        "colab": {
          "base_uri": "https://localhost:8080/"
        },
        "id": "ZWQyX1V78Z69",
        "outputId": "b6441243-d662-4989-c23d-f2b06f09f451"
      },
      "source": [
        "! pip install astroNN\n",
        "import tensorflow as tf\n",
        "import matplotlib.pyplot as plt\n",
        "import pandas as pd\n",
        "import seaborn as sns\n",
        "import numpy as np\n",
        "from tensorflow import keras\n",
        "\n",
        "from keras.models import Sequential\n",
        "from keras.layers import Conv2D, AveragePooling2D, Flatten, Dense, Dropout\n",
        "from keras.callbacks import ReduceLROnPlateau\n",
        "from keras.optimizers import Adam\n",
        "\n",
        "import sklearn\n",
        "from sklearn.model_selection import train_test_split\n",
        "from sklearn.metrics import classification_report,confusion_matrix\n",
        "from tensorflow.keras import utils\n",
        "\n",
        "from astroNN.datasets import galaxy10\n",
        "from astroNN.datasets.galaxy10 import galaxy10cls_lookup"
      ],
      "execution_count": 1,
      "outputs": [
        {
          "output_type": "stream",
          "text": [
            "Collecting astroNN\n",
            "\u001b[?25l  Downloading https://files.pythonhosted.org/packages/0b/a6/5a0dfea08413801774dd599a08298ed80cae66d106d1831b9791d61dcb36/astroNN-1.0.1.tar.gz (9.3MB)\n",
            "\u001b[K     |████████████████████████████████| 9.3MB 6.7MB/s \n",
            "\u001b[?25hRequirement already satisfied: numpy in /usr/local/lib/python3.7/dist-packages (from astroNN) (1.19.5)\n",
            "Requirement already satisfied: astropy in /usr/local/lib/python3.7/dist-packages (from astroNN) (4.2.1)\n",
            "Requirement already satisfied: h5py in /usr/local/lib/python3.7/dist-packages (from astroNN) (3.1.0)\n",
            "Requirement already satisfied: matplotlib in /usr/local/lib/python3.7/dist-packages (from astroNN) (3.2.2)\n",
            "Collecting astroquery\n",
            "\u001b[?25l  Downloading https://files.pythonhosted.org/packages/3e/de/3591b576540914cfd2ae0c3e99e6da4c545852698feffb7af05552c9fb33/astroquery-0.4.2-py3-none-any.whl (3.9MB)\n",
            "\u001b[K     |████████████████████████████████| 3.9MB 38.9MB/s \n",
            "\u001b[?25hRequirement already satisfied: pandas in /usr/local/lib/python3.7/dist-packages (from astroNN) (1.1.5)\n",
            "Requirement already satisfied: seaborn in /usr/local/lib/python3.7/dist-packages (from astroNN) (0.11.1)\n",
            "Requirement already satisfied: scikit-learn in /usr/local/lib/python3.7/dist-packages (from astroNN) (0.22.2.post1)\n",
            "Requirement already satisfied: tqdm in /usr/local/lib/python3.7/dist-packages (from astroNN) (4.41.1)\n",
            "Requirement already satisfied: packaging in /usr/local/lib/python3.7/dist-packages (from astroNN) (20.9)\n",
            "Requirement already satisfied: pyerfa in /usr/local/lib/python3.7/dist-packages (from astropy->astroNN) (2.0.0)\n",
            "Requirement already satisfied: cached-property; python_version < \"3.8\" in /usr/local/lib/python3.7/dist-packages (from h5py->astroNN) (1.5.2)\n",
            "Requirement already satisfied: cycler>=0.10 in /usr/local/lib/python3.7/dist-packages (from matplotlib->astroNN) (0.10.0)\n",
            "Requirement already satisfied: python-dateutil>=2.1 in /usr/local/lib/python3.7/dist-packages (from matplotlib->astroNN) (2.8.1)\n",
            "Requirement already satisfied: kiwisolver>=1.0.1 in /usr/local/lib/python3.7/dist-packages (from matplotlib->astroNN) (1.3.1)\n",
            "Requirement already satisfied: pyparsing!=2.0.4,!=2.1.2,!=2.1.6,>=2.0.1 in /usr/local/lib/python3.7/dist-packages (from matplotlib->astroNN) (2.4.7)\n",
            "Requirement already satisfied: html5lib>=0.999 in /usr/local/lib/python3.7/dist-packages (from astroquery->astroNN) (1.0.1)\n",
            "Collecting pyvo>=1.1\n",
            "\u001b[?25l  Downloading https://files.pythonhosted.org/packages/9b/7f/f593e8ca1b2e24106165c6ecb47b4416afe346b5ff158f559cb3dd4e8d88/pyvo-1.1.tar.gz (804kB)\n",
            "\u001b[K     |████████████████████████████████| 808kB 38.9MB/s \n",
            "\u001b[?25hCollecting keyring>=4.0\n",
            "  Downloading https://files.pythonhosted.org/packages/26/f9/41230ac47f738f1ba66676dc8d3b30ca5b1f9eb0230fc204bcd9836c4ae9/keyring-23.0.1-py3-none-any.whl\n",
            "Requirement already satisfied: beautifulsoup4>=4.3.2 in /usr/local/lib/python3.7/dist-packages (from astroquery->astroNN) (4.6.3)\n",
            "Requirement already satisfied: requests>=2.4.3 in /usr/local/lib/python3.7/dist-packages (from astroquery->astroNN) (2.23.0)\n",
            "Requirement already satisfied: six in /usr/local/lib/python3.7/dist-packages (from astroquery->astroNN) (1.15.0)\n",
            "Requirement already satisfied: pytz>=2017.2 in /usr/local/lib/python3.7/dist-packages (from pandas->astroNN) (2018.9)\n",
            "Requirement already satisfied: scipy>=1.0 in /usr/local/lib/python3.7/dist-packages (from seaborn->astroNN) (1.4.1)\n",
            "Requirement already satisfied: joblib>=0.11 in /usr/local/lib/python3.7/dist-packages (from scikit-learn->astroNN) (1.0.1)\n",
            "Requirement already satisfied: webencodings in /usr/local/lib/python3.7/dist-packages (from html5lib>=0.999->astroquery->astroNN) (0.5.1)\n",
            "Collecting mimeparse\n",
            "  Downloading https://files.pythonhosted.org/packages/38/0c/7b02c30765658744acc51876781c580234cb1110296b231a3a524722f9c7/mimeparse-0.1.3.tar.gz\n",
            "Collecting SecretStorage>=3.2; sys_platform == \"linux\"\n",
            "  Downloading https://files.pythonhosted.org/packages/d9/1e/29cd69fdac7391aa51510dfd42aa70b4e6a826c8cd019ee2a8ab9ec0777f/SecretStorage-3.3.1-py3-none-any.whl\n",
            "Requirement already satisfied: importlib-metadata>=3.6 in /usr/local/lib/python3.7/dist-packages (from keyring>=4.0->astroquery->astroNN) (4.0.1)\n",
            "Collecting jeepney>=0.4.2; sys_platform == \"linux\"\n",
            "\u001b[?25l  Downloading https://files.pythonhosted.org/packages/51/b0/a6ea72741aaac3f37fb96d195e4ee576a103c4c04e279bc6b446a70960e1/jeepney-0.6.0-py3-none-any.whl (45kB)\n",
            "\u001b[K     |████████████████████████████████| 51kB 6.3MB/s \n",
            "\u001b[?25hRequirement already satisfied: idna<3,>=2.5 in /usr/local/lib/python3.7/dist-packages (from requests>=2.4.3->astroquery->astroNN) (2.10)\n",
            "Requirement already satisfied: urllib3!=1.25.0,!=1.25.1,<1.26,>=1.21.1 in /usr/local/lib/python3.7/dist-packages (from requests>=2.4.3->astroquery->astroNN) (1.24.3)\n",
            "Requirement already satisfied: certifi>=2017.4.17 in /usr/local/lib/python3.7/dist-packages (from requests>=2.4.3->astroquery->astroNN) (2020.12.5)\n",
            "Requirement already satisfied: chardet<4,>=3.0.2 in /usr/local/lib/python3.7/dist-packages (from requests>=2.4.3->astroquery->astroNN) (3.0.4)\n",
            "Collecting cryptography>=2.0\n",
            "\u001b[?25l  Downloading https://files.pythonhosted.org/packages/b2/26/7af637e6a7e87258b963f1731c5982fb31cd507f0d90d91836e446955d02/cryptography-3.4.7-cp36-abi3-manylinux2014_x86_64.whl (3.2MB)\n",
            "\u001b[K     |████████████████████████████████| 3.2MB 40.5MB/s \n",
            "\u001b[?25hRequirement already satisfied: typing-extensions>=3.6.4; python_version < \"3.8\" in /usr/local/lib/python3.7/dist-packages (from importlib-metadata>=3.6->keyring>=4.0->astroquery->astroNN) (3.7.4.3)\n",
            "Requirement already satisfied: zipp>=0.5 in /usr/local/lib/python3.7/dist-packages (from importlib-metadata>=3.6->keyring>=4.0->astroquery->astroNN) (3.4.1)\n",
            "Requirement already satisfied: cffi>=1.12 in /usr/local/lib/python3.7/dist-packages (from cryptography>=2.0->SecretStorage>=3.2; sys_platform == \"linux\"->keyring>=4.0->astroquery->astroNN) (1.14.5)\n",
            "Requirement already satisfied: pycparser in /usr/local/lib/python3.7/dist-packages (from cffi>=1.12->cryptography>=2.0->SecretStorage>=3.2; sys_platform == \"linux\"->keyring>=4.0->astroquery->astroNN) (2.20)\n",
            "Building wheels for collected packages: astroNN, pyvo, mimeparse\n",
            "  Building wheel for astroNN (setup.py) ... \u001b[?25l\u001b[?25hdone\n",
            "  Created wheel for astroNN: filename=astroNN-1.0.1-cp37-none-any.whl size=9284594 sha256=c21ba39deda48c80378ef81837e6e91f35bf40e979c603b4e8ae5dedf08238c0\n",
            "  Stored in directory: /root/.cache/pip/wheels/22/48/89/bcbab7475e4bff84e86a914145ea3ba907b6afb63f9fbe04b0\n",
            "  Building wheel for pyvo (setup.py) ... \u001b[?25l\u001b[?25hdone\n",
            "  Created wheel for pyvo: filename=pyvo-1.1-cp37-none-any.whl size=801573 sha256=e2d5384d74e1822eda559a7d3a003f4d22af881ace2f8b81b5ee6c71e3b1567f\n",
            "  Stored in directory: /root/.cache/pip/wheels/d9/00/df/656aac56938f1c83dfcb361346f74101ce1f8c849fc93b18dc\n",
            "  Building wheel for mimeparse (setup.py) ... \u001b[?25l\u001b[?25hdone\n",
            "  Created wheel for mimeparse: filename=mimeparse-0.1.3-cp37-none-any.whl size=3864 sha256=26d2509a15ad0e4de6823f41e5914f7526e1d672cbf760bf2ca0ccbd0b186f1f\n",
            "  Stored in directory: /root/.cache/pip/wheels/54/ca/c7/3db47cc5c748286db22a7fab43ccf985903d2b9ca119de16ab\n",
            "Successfully built astroNN pyvo mimeparse\n",
            "Installing collected packages: mimeparse, pyvo, cryptography, jeepney, SecretStorage, keyring, astroquery, astroNN\n",
            "Successfully installed SecretStorage-3.3.1 astroNN-1.0.1 astroquery-0.4.2 cryptography-3.4.7 jeepney-0.6.0 keyring-23.0.1 mimeparse-0.1.3 pyvo-1.1\n",
            "WARNING! APOGEE environment variable SDSS_LOCAL_SAS_MIRROR not set\n",
            "WARNING! Gaia environment variable GAIA_TOOLS_DATA not set\n"
          ],
          "name": "stdout"
        }
      ]
    },
    {
      "cell_type": "code",
      "metadata": {
        "colab": {
          "base_uri": "https://localhost:8080/"
        },
        "id": "ZfOxA-168xyP",
        "outputId": "bb4bc6cf-4717-4837-b8ed-7a8fc1c24df9"
      },
      "source": [
        "images, labels = galaxy10.load_data()"
      ],
      "execution_count": 2,
      "outputs": [
        {
          "output_type": "stream",
          "text": [
            "Galaxy10.h5:  99%|█████████▉| 208M/210M [00:02<00:00, 80.8MB/s]"
          ],
          "name": "stderr"
        },
        {
          "output_type": "stream",
          "text": [
            "Downloaded Galaxy10 successfully to /root/.astroNN/datasets/Galaxy10.h5\n"
          ],
          "name": "stdout"
        },
        {
          "output_type": "stream",
          "text": [
            "\rGalaxy10.h5: 210MB [00:03, 57.8MB/s]                           \n"
          ],
          "name": "stderr"
        }
      ]
    },
    {
      "cell_type": "code",
      "metadata": {
        "colab": {
          "base_uri": "https://localhost:8080/"
        },
        "id": "OPO5zs_v82B8",
        "outputId": "b4c8d79c-5065-4df3-c79b-5e0c0d526a1b"
      },
      "source": [
        "images"
      ],
      "execution_count": 3,
      "outputs": [
        {
          "output_type": "execute_result",
          "data": {
            "text/plain": [
              "array([[[[16, 18, 15],\n",
              "         [18, 20, 15],\n",
              "         [16, 17, 12],\n",
              "         ...,\n",
              "         [ 6,  6,  4],\n",
              "         [ 9,  9,  7],\n",
              "         [ 6,  6,  4]],\n",
              "\n",
              "        [[19, 24, 20],\n",
              "         [23, 25, 20],\n",
              "         [17, 18, 13],\n",
              "         ...,\n",
              "         [ 8,  5,  3],\n",
              "         [10,  8,  6],\n",
              "         [ 6,  6,  4]],\n",
              "\n",
              "        [[17, 22, 18],\n",
              "         [21, 24, 19],\n",
              "         [17, 18, 13],\n",
              "         ...,\n",
              "         [ 8,  4,  3],\n",
              "         [11,  8,  7],\n",
              "         [ 7,  6,  4]],\n",
              "\n",
              "        ...,\n",
              "\n",
              "        [[17, 14,  7],\n",
              "         [18, 17,  9],\n",
              "         [15, 14,  7],\n",
              "         ...,\n",
              "         [ 2,  4,  0],\n",
              "         [ 3,  5,  0],\n",
              "         [ 5,  7,  2]],\n",
              "\n",
              "        [[22, 14, 11],\n",
              "         [19, 14,  8],\n",
              "         [12,  9,  3],\n",
              "         ...,\n",
              "         [ 4,  7,  0],\n",
              "         [ 6,  9,  2],\n",
              "         [ 7, 10,  3]],\n",
              "\n",
              "        [[30, 12, 11],\n",
              "         [31, 14,  8],\n",
              "         [24,  9,  2],\n",
              "         ...,\n",
              "         [ 8, 11,  3],\n",
              "         [11, 14,  6],\n",
              "         [12, 15,  7]]],\n",
              "\n",
              "\n",
              "       [[[ 1,  3,  0],\n",
              "         [ 1,  1,  1],\n",
              "         [ 1,  1,  1],\n",
              "         ...,\n",
              "         [ 5,  7,  4],\n",
              "         [ 3,  5,  2],\n",
              "         [ 4,  6,  3]],\n",
              "\n",
              "        [[ 1,  2,  0],\n",
              "         [ 1,  1,  0],\n",
              "         [ 0,  0,  0],\n",
              "         ...,\n",
              "         [ 3,  7,  3],\n",
              "         [ 2,  6,  2],\n",
              "         [ 2,  6,  3]],\n",
              "\n",
              "        [[ 3,  3,  1],\n",
              "         [ 1,  1,  0],\n",
              "         [ 0,  0,  0],\n",
              "         ...,\n",
              "         [ 1,  3,  0],\n",
              "         [ 2,  4,  1],\n",
              "         [ 2,  4,  1]],\n",
              "\n",
              "        ...,\n",
              "\n",
              "        [[ 5,  7,  4],\n",
              "         [ 5,  7,  4],\n",
              "         [ 3,  5,  2],\n",
              "         ...,\n",
              "         [ 2,  4,  1],\n",
              "         [ 1,  3,  1],\n",
              "         [ 1,  3,  0]],\n",
              "\n",
              "        [[ 4,  6,  3],\n",
              "         [ 3,  5,  2],\n",
              "         [ 2,  4,  1],\n",
              "         ...,\n",
              "         [ 1,  3,  0],\n",
              "         [ 0,  2,  0],\n",
              "         [ 1,  3,  0]],\n",
              "\n",
              "        [[ 2,  4,  1],\n",
              "         [ 0,  2,  0],\n",
              "         [ 1,  3,  0],\n",
              "         ...,\n",
              "         [ 1,  3,  0],\n",
              "         [ 2,  4,  1],\n",
              "         [ 2,  4,  1]]],\n",
              "\n",
              "\n",
              "       [[[ 7, 10,  7],\n",
              "         [ 2,  5,  2],\n",
              "         [ 2,  5,  1],\n",
              "         ...,\n",
              "         [ 3,  3,  1],\n",
              "         [ 1,  1,  0],\n",
              "         [ 0,  0,  0]],\n",
              "\n",
              "        [[ 4,  5,  3],\n",
              "         [ 4,  6,  3],\n",
              "         [ 2,  4,  1],\n",
              "         ...,\n",
              "         [ 5,  5,  4],\n",
              "         [ 2,  2,  1],\n",
              "         [ 2,  2,  0]],\n",
              "\n",
              "        [[ 3,  3,  1],\n",
              "         [ 3,  3,  1],\n",
              "         [ 1,  1,  0],\n",
              "         ...,\n",
              "         [ 8,  8,  6],\n",
              "         [ 6,  6,  4],\n",
              "         [ 4,  4,  2]],\n",
              "\n",
              "        ...,\n",
              "\n",
              "        [[ 4,  4,  4],\n",
              "         [ 2,  2,  2],\n",
              "         [ 2,  2,  0],\n",
              "         ...,\n",
              "         [ 1,  1,  0],\n",
              "         [ 1,  1,  0],\n",
              "         [ 1,  1,  0]],\n",
              "\n",
              "        [[ 5,  5,  5],\n",
              "         [ 4,  4,  3],\n",
              "         [ 4,  4,  3],\n",
              "         ...,\n",
              "         [ 3,  3,  1],\n",
              "         [ 1,  1,  0],\n",
              "         [ 0,  0,  0]],\n",
              "\n",
              "        [[ 4,  4,  4],\n",
              "         [ 5,  5,  6],\n",
              "         [ 9,  9,  9],\n",
              "         ...,\n",
              "         [ 7,  7,  5],\n",
              "         [ 3,  3,  2],\n",
              "         [ 2,  2,  0]]],\n",
              "\n",
              "\n",
              "       ...,\n",
              "\n",
              "\n",
              "       [[[ 7,  7,  5],\n",
              "         [ 7,  9,  6],\n",
              "         [ 7,  9,  6],\n",
              "         ...,\n",
              "         [ 3,  4,  2],\n",
              "         [ 7,  9,  6],\n",
              "         [ 8, 10,  7]],\n",
              "\n",
              "        [[ 5,  7,  4],\n",
              "         [ 4,  5,  3],\n",
              "         [ 7,  8,  6],\n",
              "         ...,\n",
              "         [ 7,  9,  6],\n",
              "         [ 3,  5,  3],\n",
              "         [ 4,  6,  3]],\n",
              "\n",
              "        [[ 5,  6,  4],\n",
              "         [ 2,  3,  1],\n",
              "         [ 3,  3,  1],\n",
              "         ...,\n",
              "         [ 7,  9,  6],\n",
              "         [ 4,  6,  3],\n",
              "         [ 4,  6,  3]],\n",
              "\n",
              "        ...,\n",
              "\n",
              "        [[ 3,  5,  2],\n",
              "         [ 9, 10,  8],\n",
              "         [11, 11, 10],\n",
              "         ...,\n",
              "         [ 4,  5,  3],\n",
              "         [ 1,  3,  1],\n",
              "         [ 1,  3,  0]],\n",
              "\n",
              "        [[ 2,  4,  1],\n",
              "         [ 6,  7,  5],\n",
              "         [ 6,  6,  5],\n",
              "         ...,\n",
              "         [ 3,  5,  2],\n",
              "         [ 1,  3,  1],\n",
              "         [ 3,  5,  2]],\n",
              "\n",
              "        [[ 3,  5,  2],\n",
              "         [ 3,  4,  2],\n",
              "         [ 2,  2,  1],\n",
              "         ...,\n",
              "         [ 3,  5,  2],\n",
              "         [ 1,  3,  1],\n",
              "         [ 2,  4,  1]]],\n",
              "\n",
              "\n",
              "       [[[ 4,  4,  3],\n",
              "         [ 9,  9,  7],\n",
              "         [ 6,  6,  5],\n",
              "         ...,\n",
              "         [11, 12, 14],\n",
              "         [ 4,  6,  5],\n",
              "         [ 6,  7,  3]],\n",
              "\n",
              "        [[ 5,  5,  4],\n",
              "         [ 7,  7,  5],\n",
              "         [ 3,  3,  1],\n",
              "         ...,\n",
              "         [ 4,  5,  4],\n",
              "         [ 3,  4,  2],\n",
              "         [ 5,  5,  3]],\n",
              "\n",
              "        [[ 5,  5,  3],\n",
              "         [ 5,  5,  3],\n",
              "         [ 2,  2,  0],\n",
              "         ...,\n",
              "         [ 6,  6,  4],\n",
              "         [ 2,  2,  1],\n",
              "         [ 5,  5,  3]],\n",
              "\n",
              "        ...,\n",
              "\n",
              "        [[ 4,  4,  2],\n",
              "         [ 2,  2,  0],\n",
              "         [ 1,  1,  0],\n",
              "         ...,\n",
              "         [ 3,  3,  1],\n",
              "         [ 2,  2,  0],\n",
              "         [ 3,  3,  1]],\n",
              "\n",
              "        [[12, 12, 10],\n",
              "         [ 5,  5,  3],\n",
              "         [ 3,  2,  0],\n",
              "         ...,\n",
              "         [ 3,  3,  1],\n",
              "         [ 4,  4,  2],\n",
              "         [ 4,  4,  2]],\n",
              "\n",
              "        [[ 7,  7,  6],\n",
              "         [ 6,  4,  3],\n",
              "         [ 6,  3,  2],\n",
              "         ...,\n",
              "         [ 2,  2,  0],\n",
              "         [ 4,  4,  2],\n",
              "         [ 3,  3,  1]]],\n",
              "\n",
              "\n",
              "       [[[11, 12,  7],\n",
              "         [12, 15,  6],\n",
              "         [21, 24, 13],\n",
              "         ...,\n",
              "         [ 6,  2,  0],\n",
              "         [ 5,  1,  0],\n",
              "         [ 7,  2,  0]],\n",
              "\n",
              "        [[ 7, 10,  4],\n",
              "         [11, 14,  7],\n",
              "         [21, 24, 16],\n",
              "         ...,\n",
              "         [10,  6,  3],\n",
              "         [ 7,  3,  0],\n",
              "         [ 8,  3,  1]],\n",
              "\n",
              "        [[ 3,  6,  0],\n",
              "         [ 4,  7,  2],\n",
              "         [11, 13,  8],\n",
              "         ...,\n",
              "         [15, 10,  7],\n",
              "         [10,  6,  3],\n",
              "         [ 9,  4,  1]],\n",
              "\n",
              "        ...,\n",
              "\n",
              "        [[ 8,  8,  6],\n",
              "         [ 6,  6,  4],\n",
              "         [ 5,  5,  3],\n",
              "         ...,\n",
              "         [ 8,  4,  3],\n",
              "         [ 4,  1,  0],\n",
              "         [ 5,  1,  0]],\n",
              "\n",
              "        [[ 6,  6,  4],\n",
              "         [ 3,  3,  1],\n",
              "         [ 3,  3,  1],\n",
              "         ...,\n",
              "         [ 7,  3,  2],\n",
              "         [ 4,  0,  0],\n",
              "         [ 4,  0,  0]],\n",
              "\n",
              "        [[ 3,  3,  1],\n",
              "         [ 2,  2,  0],\n",
              "         [ 2,  2,  0],\n",
              "         ...,\n",
              "         [ 5,  1,  0],\n",
              "         [ 4,  0,  0],\n",
              "         [ 4,  0,  0]]]], dtype=uint8)"
            ]
          },
          "metadata": {
            "tags": []
          },
          "execution_count": 3
        }
      ]
    },
    {
      "cell_type": "code",
      "metadata": {
        "colab": {
          "base_uri": "https://localhost:8080/"
        },
        "id": "h5vHiUXy854M",
        "outputId": "ee484e42-36d7-49d6-b07c-ec13ac81a4aa"
      },
      "source": [
        "labels"
      ],
      "execution_count": 4,
      "outputs": [
        {
          "output_type": "execute_result",
          "data": {
            "text/plain": [
              "array([2, 2, 4, ..., 2, 9, 2], dtype=uint8)"
            ]
          },
          "metadata": {
            "tags": []
          },
          "execution_count": 4
        }
      ]
    },
    {
      "cell_type": "code",
      "metadata": {
        "id": "A62QO-Qr87gk"
      },
      "source": [
        "x_train, x_test, y_train, y_test = train_test_split(images, labels, test_size=0.2)"
      ],
      "execution_count": 5,
      "outputs": []
    },
    {
      "cell_type": "code",
      "metadata": {
        "id": "n29iNI7Z8-rn"
      },
      "source": [
        "features = ['Disk, Face-on, No Spiral', 'Smooth, Completely round', 'Smooth, in-between round', 'Smooth, Cigar shaped', 'Disk, Edge-on, Rounded Bulge', 'Disk, Edge-on, Boxy Bulge', \n",
        "            'Disk, Edge-on, No Bulge','Disk, Face-on, Tight Spiral', 'Disk, Face-on, Medium Spiral', 'Disk, Face-on, Loose Spiral']"
      ],
      "execution_count": 8,
      "outputs": []
    },
    {
      "cell_type": "code",
      "metadata": {
        "id": "FCEUbSZU9c22"
      },
      "source": [
        "x_train = x_train / 255.0\n",
        "x_test = x_test / 255.0"
      ],
      "execution_count": 9,
      "outputs": []
    },
    {
      "cell_type": "code",
      "metadata": {
        "colab": {
          "base_uri": "https://localhost:8080/"
        },
        "id": "dq0TBGqd9eql",
        "outputId": "abe3053b-c822-4e28-a25d-86e209bdb192"
      },
      "source": [
        "x_train.shape"
      ],
      "execution_count": 10,
      "outputs": [
        {
          "output_type": "execute_result",
          "data": {
            "text/plain": [
              "(17428, 69, 69, 3)"
            ]
          },
          "metadata": {
            "tags": []
          },
          "execution_count": 10
        }
      ]
    },
    {
      "cell_type": "code",
      "metadata": {
        "colab": {
          "base_uri": "https://localhost:8080/"
        },
        "id": "vat2tVkm9iOX",
        "outputId": "90c87290-1c71-4abb-f56e-28139298d161"
      },
      "source": [
        "x_test.shape"
      ],
      "execution_count": 11,
      "outputs": [
        {
          "output_type": "execute_result",
          "data": {
            "text/plain": [
              "(4357, 69, 69, 3)"
            ]
          },
          "metadata": {
            "tags": []
          },
          "execution_count": 11
        }
      ]
    },
    {
      "cell_type": "code",
      "metadata": {
        "colab": {
          "base_uri": "https://localhost:8080/",
          "height": 34
        },
        "id": "qf-oqx059kOJ",
        "outputId": "d80f1b5a-8196-4aba-ddd2-bf3ac28c1afb"
      },
      "source": [
        "fig = plt.figure(figsize=(20,20)) \n"
      ],
      "execution_count": 12,
      "outputs": [
        {
          "output_type": "display_data",
          "data": {
            "text/plain": [
              "<Figure size 1440x1440 with 0 Axes>"
            ]
          },
          "metadata": {
            "tags": []
          }
        }
      ]
    },
    {
      "cell_type": "code",
      "metadata": {
        "colab": {
          "base_uri": "https://localhost:8080/",
          "height": 281
        },
        "id": "UfyNMw389zso",
        "outputId": "3f59685c-d0b7-4861-9b3e-58438b331f4f"
      },
      "source": [
        "for i in range(25):\n",
        "    plt.subplot(5,5,i+1)    \n",
        "    plt.imshow(x_train[i])\n",
        "    plt.title(features[y_train[i]])\n",
        "    fig.tight_layout(pad=3.0)\n",
        "    \n",
        "plt.show()"
      ],
      "execution_count": 13,
      "outputs": [
        {
          "output_type": "display_data",
          "data": {
            "image/png": "[encoded data removed]",
            "text/plain": [
              "<Figure size 432x288 with 25 Axes>"
            ]
          },
          "metadata": {
            "tags": [],
            "needs_background": "light"
          }
        }
      ]
    },
    {
      "cell_type": "code",
      "metadata": {
        "colab": {
          "base_uri": "https://localhost:8080/"
        },
        "id": "z1jAaB3694_d",
        "outputId": "87efe85f-a2a8-4384-8fc9-3f91ed9dfc5a"
      },
      "source": [
        "df = pd.DataFrame(data=labels)\n",
        "\n",
        "counts = df.value_counts().sort_index()\n",
        "print(counts)"
      ],
      "execution_count": 14,
      "outputs": [
        {
          "output_type": "stream",
          "text": [
            "0    3461\n",
            "1    6997\n",
            "2    6292\n",
            "3     349\n",
            "4    1534\n",
            "5      17\n",
            "6     589\n",
            "7    1121\n",
            "8     906\n",
            "9     519\n",
            "dtype: int64\n"
          ],
          "name": "stdout"
        }
      ]
    },
    {
      "cell_type": "code",
      "metadata": {
        "colab": {
          "base_uri": "https://localhost:8080/",
          "height": 406
        },
        "id": "XzxKtRU8-EAP",
        "outputId": "0ac4575c-6833-4859-b2ad-7d6a99b7701a"
      },
      "source": [
        "def class_distribution(x, y, labels):\n",
        "    fig, ax = plt.subplots()\n",
        "    ax.bar(x, y)\n",
        "    ax.set_xticklabels(labels, rotation=90)\n",
        "    plt.show()\n",
        "    \n",
        "class_distribution(features, counts, features)"
      ],
      "execution_count": 15,
      "outputs": [
        {
          "output_type": "display_data",
          "data": {
            "image/png": "[encoded data removed]",
            "text/plain": [
              "<Figure size 432x288 with 1 Axes>"
            ]
          },
          "metadata": {
            "tags": [],
            "needs_background": "light"
          }
        }
      ]
    },
    {
      "cell_type": "code",
      "metadata": {
        "id": "m3KHP-yr-He8"
      },
      "source": [
        "model = Sequential()"
      ],
      "execution_count": 16,
      "outputs": []
    },
    {
      "cell_type": "code",
      "metadata": {
        "id": "RjhCuEjfZ2MB"
      },
      "source": [
        "# Baseline model to compare to LeNet-5\n",
        "model.add(Flatten(input_shape=(69, 69, 3)))\n",
        "model.add(Dense(128, activation='relu'))\n",
        "model.add(Dense(10, activation='softmax'))"
      ],
      "execution_count": 17,
      "outputs": []
    },
    {
      "cell_type": "code",
      "metadata": {
        "colab": {
          "base_uri": "https://localhost:8080/"
        },
        "id": "cxCO1-C0Z4Qd",
        "outputId": "503d20bf-cf1d-4327-fb49-8c508230c052"
      },
      "source": [
        "model_optimizer = Adam(lr=0.001)"
      ],
      "execution_count": 18,
      "outputs": [
        {
          "output_type": "stream",
          "text": [
            "/usr/local/lib/python3.7/dist-packages/tensorflow/python/keras/optimizer_v2/optimizer_v2.py:375: UserWarning: The `lr` argument is deprecated, use `learning_rate` instead.\n",
            "  \"The `lr` argument is deprecated, use `learning_rate` instead.\")\n"
          ],
          "name": "stderr"
        }
      ]
    },
    {
      "cell_type": "code",
      "metadata": {
        "colab": {
          "base_uri": "https://localhost:8080/"
        },
        "id": "VSqJ1byoZ7Sc",
        "outputId": "eb6bdb5e-eaf2-47d7-f570-6a588d680bcc"
      },
      "source": [
        "model.compile(optimizer=model_optimizer, loss='sparse_categorical_crossentropy', metrics=[\"accuracy\"])\n",
        "reduceLR = ReduceLROnPlateau(monitor='accuracy', factor=.001, patience=1, min_delta=0.01, mode=\"auto\")\n",
        "lol = model.fit(x_train, y_train, epochs=10, callbacks=[reduceLR])"
      ],
      "execution_count": 19,
      "outputs": [
        {
          "output_type": "stream",
          "text": [
            "Epoch 1/10\n",
            "545/545 [==============================] - 23s 15ms/step - loss: 1.6734 - accuracy: 0.3610\n",
            "Epoch 2/10\n",
            "545/545 [==============================] - 8s 15ms/step - loss: 1.1675 - accuracy: 0.5759\n",
            "Epoch 3/10\n",
            "545/545 [==============================] - 8s 15ms/step - loss: 0.9985 - accuracy: 0.6461\n",
            "Epoch 4/10\n",
            "545/545 [==============================] - 8s 15ms/step - loss: 0.9428 - accuracy: 0.6637\n",
            "Epoch 5/10\n",
            "545/545 [==============================] - 8s 15ms/step - loss: 0.8893 - accuracy: 0.6849\n",
            "Epoch 6/10\n",
            "545/545 [==============================] - 8s 15ms/step - loss: 0.8502 - accuracy: 0.6971\n",
            "Epoch 7/10\n",
            "545/545 [==============================] - 8s 15ms/step - loss: 0.8203 - accuracy: 0.7133\n",
            "Epoch 8/10\n",
            "545/545 [==============================] - 8s 15ms/step - loss: 0.8054 - accuracy: 0.7120\n",
            "Epoch 9/10\n",
            "545/545 [==============================] - 8s 15ms/step - loss: 0.7942 - accuracy: 0.7267\n",
            "Epoch 10/10\n",
            "545/545 [==============================] - 8s 14ms/step - loss: 0.7598 - accuracy: 0.7303\n"
          ],
          "name": "stdout"
        }
      ]
    },
    {
      "cell_type": "code",
      "metadata": {
        "id": "CrQmDJLWZ9QR"
      },
      "source": [
        "model2 = Sequential()"
      ],
      "execution_count": 20,
      "outputs": []
    },
    {
      "cell_type": "code",
      "metadata": {
        "id": "pm5UJAoAa4Z1"
      },
      "source": [
        "# LeNet-5 conv-net architecture\n",
        "model2.add(Conv2D(filters=6, kernel_size=(5,5), strides=(1,1), activation='tanh', input_shape=(69,69,3)))\n",
        "model2.add(AveragePooling2D(pool_size=(2,2), strides=(2,2)))\n",
        "model2.add(Conv2D(filters=16, kernel_size=(5,5), strides=(1,1), activation='tanh'))\n",
        "model2.add(AveragePooling2D(pool_size=(2,2), strides=(2,2)))"
      ],
      "execution_count": 21,
      "outputs": []
    },
    {
      "cell_type": "code",
      "metadata": {
        "id": "5cSMpD7Ka6AI"
      },
      "source": [
        "model2.add(Flatten())\n",
        "model2.add(Dense(units=120, activation='tanh'))\n",
        "model2.add(Dense(units=84, activation='tanh'))\n",
        "model2.add(Dense(units=10, activation='softmax'))"
      ],
      "execution_count": 22,
      "outputs": []
    },
    {
      "cell_type": "code",
      "metadata": {
        "colab": {
          "base_uri": "https://localhost:8080/"
        },
        "id": "-AtsBlsga8GL",
        "outputId": "93e51a4b-62cf-44a8-8176-8759a6216863"
      },
      "source": [
        "model_optimizer = Adam(lr=0.001)"
      ],
      "execution_count": 23,
      "outputs": [
        {
          "output_type": "stream",
          "text": [
            "/usr/local/lib/python3.7/dist-packages/tensorflow/python/keras/optimizer_v2/optimizer_v2.py:375: UserWarning: The `lr` argument is deprecated, use `learning_rate` instead.\n",
            "  \"The `lr` argument is deprecated, use `learning_rate` instead.\")\n"
          ],
          "name": "stderr"
        }
      ]
    },
    {
      "cell_type": "code",
      "metadata": {
        "id": "GI5qJ9jga9_S"
      },
      "source": [
        "reduceLR = ReduceLROnPlateau(monitor='accuracy', factor=.001, patience=1, min_delta=0.01, mode=\"auto\")"
      ],
      "execution_count": 24,
      "outputs": []
    },
    {
      "cell_type": "code",
      "metadata": {
        "colab": {
          "base_uri": "https://localhost:8080/"
        },
        "id": "pIFI-cwga_8b",
        "outputId": "3ad6d7b5-3ac3-430a-d079-dc1e0cb53e4b"
      },
      "source": [
        "model2.compile(optimizer=model_optimizer, loss='sparse_categorical_crossentropy', metrics=[\"accuracy\"])\n",
        "model2.fit(x_train, y_train, epochs=10, callbacks=[reduceLR])"
      ],
      "execution_count": 25,
      "outputs": [
        {
          "output_type": "stream",
          "text": [
            "Epoch 1/10\n",
            "545/545 [==============================] - 71s 127ms/step - loss: 1.5192 - accuracy: 0.4059\n",
            "Epoch 2/10\n",
            "545/545 [==============================] - 69s 127ms/step - loss: 0.9124 - accuracy: 0.6737\n",
            "Epoch 3/10\n",
            "545/545 [==============================] - 69s 127ms/step - loss: 0.7729 - accuracy: 0.7146\n",
            "Epoch 4/10\n",
            "545/545 [==============================] - 69s 127ms/step - loss: 0.6675 - accuracy: 0.7533\n",
            "Epoch 5/10\n",
            "545/545 [==============================] - 69s 127ms/step - loss: 0.5824 - accuracy: 0.7937\n",
            "Epoch 6/10\n",
            "545/545 [==============================] - 69s 127ms/step - loss: 0.5257 - accuracy: 0.8104\n",
            "Epoch 7/10\n",
            "545/545 [==============================] - 69s 127ms/step - loss: 0.4497 - accuracy: 0.8405\n",
            "Epoch 8/10\n",
            "545/545 [==============================] - 69s 127ms/step - loss: 0.3861 - accuracy: 0.8632\n",
            "Epoch 9/10\n",
            "545/545 [==============================] - 69s 127ms/step - loss: 0.3365 - accuracy: 0.8812\n",
            "Epoch 10/10\n",
            "545/545 [==============================] - 69s 127ms/step - loss: 0.2677 - accuracy: 0.9149\n"
          ],
          "name": "stdout"
        },
        {
          "output_type": "execute_result",
          "data": {
            "text/plain": [
              "<keras.callbacks.History at 0x7f63dfa36f50>"
            ]
          },
          "metadata": {
            "tags": []
          },
          "execution_count": 25
        }
      ]
    },
    {
      "cell_type": "code",
      "metadata": {
        "colab": {
          "base_uri": "https://localhost:8080/"
        },
        "id": "MuLB30IAbBei",
        "outputId": "3927e7e5-9567-4987-bb86-4a54a7ff76e8"
      },
      "source": [
        "predict = model2.predict(x_test).argmax(axis=1)\n",
        "\n",
        "for i in range(10):\n",
        "    print(\"Actual:\", features[y_test[i]])\n",
        "    print(\"Prediction:\", features[np.argmax(predict[i])])\n",
        "    print(\"-----\")\n",
        "    print()"
      ],
      "execution_count": 26,
      "outputs": [
        {
          "output_type": "stream",
          "text": [
            "Actual: Smooth, in-between round\n",
            "Prediction: Disk, Face-on, No Spiral\n",
            "-----\n",
            "\n",
            "Actual: Disk, Face-on, No Spiral\n",
            "Prediction: Disk, Face-on, No Spiral\n",
            "-----\n",
            "\n",
            "Actual: Smooth, in-between round\n",
            "Prediction: Disk, Face-on, No Spiral\n",
            "-----\n",
            "\n",
            "Actual: Disk, Edge-on, Rounded Bulge\n",
            "Prediction: Disk, Face-on, No Spiral\n",
            "-----\n",
            "\n",
            "Actual: Smooth, in-between round\n",
            "Prediction: Disk, Face-on, No Spiral\n",
            "-----\n",
            "\n",
            "Actual: Smooth, in-between round\n",
            "Prediction: Disk, Face-on, No Spiral\n",
            "-----\n",
            "\n",
            "Actual: Smooth, in-between round\n",
            "Prediction: Disk, Face-on, No Spiral\n",
            "-----\n",
            "\n",
            "Actual: Smooth, in-between round\n",
            "Prediction: Disk, Face-on, No Spiral\n",
            "-----\n",
            "\n",
            "Actual: Smooth, Cigar shaped\n",
            "Prediction: Disk, Face-on, No Spiral\n",
            "-----\n",
            "\n",
            "Actual: Smooth, in-between round\n",
            "Prediction: Disk, Face-on, No Spiral\n",
            "-----\n",
            "\n"
          ],
          "name": "stdout"
        }
      ]
    },
    {
      "cell_type": "code",
      "metadata": {
        "colab": {
          "base_uri": "https://localhost:8080/",
          "height": 156
        },
        "id": "gnz3f78_d-r7",
        "outputId": "27a19be9-a611-47c9-cd12-7d329dd2cdb0"
      },
      "source": [
        "classification_report(y_test, predict)"
      ],
      "execution_count": 27,
      "outputs": [
        {
          "output_type": "stream",
          "text": [
            "/usr/local/lib/python3.7/dist-packages/sklearn/metrics/_classification.py:1272: UndefinedMetricWarning: Precision and F-score are ill-defined and being set to 0.0 in labels with no predicted samples. Use `zero_division` parameter to control this behavior.\n",
            "  _warn_prf(average, modifier, msg_start, len(result))\n"
          ],
          "name": "stderr"
        },
        {
          "output_type": "execute_result",
          "data": {
            "application/vnd.google.colaboratory.intrinsic+json": {
              "type": "string"
            },
            "text/plain": [
              "'              precision    recall  f1-score   support\\n\\n           0       0.45      0.59      0.51       679\\n           1       0.90      0.87      0.88      1428\\n           2       0.84      0.82      0.83      1269\\n           3       0.52      0.57      0.54        60\\n           4       0.79      0.79      0.79       315\\n           5       0.00      0.00      0.00         3\\n           6       0.67      0.72      0.70       122\\n           7       0.43      0.26      0.33       212\\n           8       0.48      0.30      0.37       180\\n           9       0.32      0.37      0.34        89\\n\\n    accuracy                           0.73      4357\\n   macro avg       0.54      0.53      0.53      4357\\nweighted avg       0.74      0.73      0.73      4357\\n'"
            ]
          },
          "metadata": {
            "tags": []
          },
          "execution_count": 27
        }
      ]
    },
    {
      "cell_type": "code",
      "metadata": {
        "colab": {
          "base_uri": "https://localhost:8080/",
          "height": 312
        },
        "id": "K0vB5H1FeEeX",
        "outputId": "f72d292f-648b-4e11-86f9-1fcb03e31a70"
      },
      "source": [
        "matrix = confusion_matrix(y_test, predict)\n",
        "sns.heatmap(matrix, annot=True)\n",
        "plt.title('Galaxy Confusion Matrix')\n",
        "plt.xlabel('Predicted class')\n",
        "plt.ylabel('True class')"
      ],
      "execution_count": 28,
      "outputs": [
        {
          "output_type": "execute_result",
          "data": {
            "text/plain": [
              "Text(33.0, 0.5, 'True class')"
            ]
          },
          "metadata": {
            "tags": []
          },
          "execution_count": 28
        },
        {
          "output_type": "display_data",
          "data": {
            "image/png": "[encoded data removed]",
            "text/plain": [
              "<Figure size 432x288 with 2 Axes>"
            ]
          },
          "metadata": {
            "tags": [],
            "needs_background": "light"
          }
        }
      ]
    },
    {
      "cell_type": "code",
      "metadata": {
        "id": "Vb4R8UrJeJM6"
      },
      "source": [
        ""
      ],
      "execution_count": null,
      "outputs": []
    }
  ]
}